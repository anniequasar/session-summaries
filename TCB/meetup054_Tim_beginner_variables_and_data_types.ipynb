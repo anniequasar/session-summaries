{
  "nbformat": 4,
  "nbformat_minor": 0,
  "metadata": {
    "colab": {
      "name": "meetup054_Tim_beginner_variables_and_data_types.ipynb",
      "provenance": [],
      "private_outputs": true,
      "collapsed_sections": []
    },
    "kernelspec": {
      "name": "python3",
      "display_name": "Python 3"
    }
  },
  "cells": [
    {
      "cell_type": "markdown",
      "metadata": {
        "id": "aNyzhEZx_o-_",
        "colab_type": "text"
      },
      "source": [
        "# MeetUp 054 - Beginners' Python and Machine Learning - 07 Apr 2020 - Getting Started 1\n",
        "\n",
        "Learning objectives:\n",
        "- Interactive python\n",
        "- Data types: int, float, str, list\n",
        "- Variables: create, assign, update\n",
        "- Scripting python\n",
        "- Program structures: scripts, conditionals, loops\n",
        "\n",
        "@author D Tim Cummings\n",
        "\n",
        "Challenge 1: Install Software\n",
        "- Use a Google account to go to https://colab.research.google.com\n",
        " - Doesn't need Python installed on your computer\n",
        " - Great for interactive use and data science\n",
        " - Not so good for scripting and building apps\n",
        "- Install Python 3 from https://www.python.org/downloads/\n",
        " - necessary for running python on your computer\n",
        " - alternatively can install anaconda which includes many third party libraries\n",
        "- PyCharm Community Edition 2019.3.4 from https://www.jetbrains.com/pycharm/download/\n",
        " - Integrated Development Environment (IDE)\n",
        " - Easier to write programs\n",
        "\n",
        "For those interested in my children's Python coding course see https://pythonator.com (makes Python coders out of gamers). This course would be good for adults too if they could play Minecraft or Minetest as well as the children! It requires the EduTools plugin for PyCharm https://www.jetbrains.com/help/education/install-edutools-plugin.html?section=PyCharm \n"
      ]
    },
    {
      "cell_type": "markdown",
      "metadata": {
        "id": "CsBEXrITDVcm",
        "colab_type": "text"
      },
      "source": [
        "# Using Google Colab / Jupyter Notebooks / IPython\n",
        "\n",
        "- type into a cell\n",
        "- press `<shift><enter>` to execute the cell\n",
        "- cells can be python code or markdown text\n",
        "- use ? or Help menu for help\n",
        "- see Tools menu > Keyboard shortcuts"
      ]
    },
    {
      "cell_type": "code",
      "metadata": {
        "id": "tk-NGO8DB0ym",
        "colab_type": "code",
        "colab": {}
      },
      "source": [
        "# comments in code cells start with a '#'\n",
        "# try executing ? to bring up IPython help\n",
        "?"
      ],
      "execution_count": 0,
      "outputs": []
    },
    {
      "cell_type": "markdown",
      "metadata": {
        "id": "dE0KqIHmDCY5",
        "colab_type": "text"
      },
      "source": [
        "# Variables\n",
        "Variables are memory locations to store data. \n",
        "You can name them anything you like as long as you don't use a Python keyword. \n",
        "Name must start with a letter but can include numbers.\n",
        "Can't include special characters except underscore _"
      ]
    },
    {
      "cell_type": "code",
      "metadata": {
        "id": "jfj15EEBEnuC",
        "colab_type": "code",
        "colab": {}
      },
      "source": [
        "# to store a number in a variable use equals (=) \n",
        "a = 3"
      ],
      "execution_count": 0,
      "outputs": []
    },
    {
      "cell_type": "code",
      "metadata": {
        "id": "QsEpY1jdGEz-",
        "colab_type": "code",
        "colab": {}
      },
      "source": [
        "# to see the value of the variable in Python you can print it\n",
        "print(a)"
      ],
      "execution_count": 0,
      "outputs": []
    },
    {
      "cell_type": "code",
      "metadata": {
        "id": "11nH_seKGQZb",
        "colab_type": "code",
        "colab": {}
      },
      "source": [
        "# to see the value of a variable in IPython just type the variable name\n",
        "a"
      ],
      "execution_count": 0,
      "outputs": []
    },
    {
      "cell_type": "code",
      "metadata": {
        "id": "37rgJSqRGWZZ",
        "colab_type": "code",
        "colab": {}
      },
      "source": [
        "# to see the value of an expression in IPython, just type the expression\n",
        "a + 4"
      ],
      "execution_count": 0,
      "outputs": []
    },
    {
      "cell_type": "code",
      "metadata": {
        "id": "XB_n7mJjHJrT",
        "colab_type": "code",
        "colab": {}
      },
      "source": [
        "# to store the result of an expression use equals (=)\n",
        "b = (a +15) / 4\n",
        "b"
      ],
      "execution_count": 0,
      "outputs": []
    },
    {
      "cell_type": "code",
      "metadata": {
        "id": "BRsldcIw_2D9",
        "colab_type": "code",
        "colab": {}
      },
      "source": [
        "# Advanced: to see the list of python keywords\n",
        "import keyword\n",
        "print(keyword.kwlist)"
      ],
      "execution_count": 0,
      "outputs": []
    },
    {
      "cell_type": "code",
      "metadata": {
        "id": "9pF5x5AGlb6s",
        "colab_type": "code",
        "colab": {}
      },
      "source": [
        "a_long_variable_name = 345\n",
        "a_long_variable_name"
      ],
      "execution_count": 0,
      "outputs": []
    },
    {
      "cell_type": "markdown",
      "metadata": {
        "id": "f-7mCrmBLeEc",
        "colab_type": "text"
      },
      "source": [
        "# Data types"
      ]
    },
    {
      "cell_type": "code",
      "metadata": {
        "id": "MF2KTT15Hhto",
        "colab_type": "code",
        "colab": {}
      },
      "source": [
        "# use type() to see the data type of a value\n",
        "type(a)"
      ],
      "execution_count": 0,
      "outputs": []
    },
    {
      "cell_type": "code",
      "metadata": {
        "id": "y9blcNP_lyXy",
        "colab_type": "code",
        "colab": {}
      },
      "source": [
        "type(456)"
      ],
      "execution_count": 0,
      "outputs": []
    },
    {
      "cell_type": "code",
      "metadata": {
        "id": "b46XTVZuHsLt",
        "colab_type": "code",
        "colab": {}
      },
      "source": [
        "# ints are integers or whole numbers\n",
        "# floats are floating point numbers, ie numbers with a fractional part represented by a decimal point\n",
        "type(b)"
      ],
      "execution_count": 0,
      "outputs": []
    },
    {
      "cell_type": "code",
      "metadata": {
        "id": "69m63HafHttt",
        "colab_type": "code",
        "colab": {}
      },
      "source": [
        "# floating point numbers are stored with a mantissa and an exponent making it \n",
        "# possible to store very large or very small numbers in a small amount of memory.\n",
        "# The position of the decimal point \"floats\" through the number depending on the \n",
        "# value of the exponent\n",
        "12345678901234567890.0"
      ],
      "execution_count": 0,
      "outputs": []
    },
    {
      "cell_type": "code",
      "metadata": {
        "id": "r_Lwn5N6IL37",
        "colab_type": "code",
        "colab": {}
      },
      "source": [
        "0.00000000000001234567890123456789"
      ],
      "execution_count": 0,
      "outputs": []
    },
    {
      "cell_type": "code",
      "metadata": {
        "id": "irihWzZfJH06",
        "colab_type": "code",
        "colab": {}
      },
      "source": [
        "# Text is stored as strings of unicode characters (in Python 3) or bytes (in Python 2).\n",
        "# Use quotes to denote strings\n",
        "s1 = 'A str in single quotes can have embedded \"double\" quotes'\n",
        "s2 = \"A str in double quotes can have embedded 'single' quotes\"\n",
        "s3 = '''A str in triple single quotes can have embedded \n",
        "line feeds and 'single' and \"double\" quotes'''\n",
        "s4 = \"\"\"A str in triple single quotes can have embedded \n",
        "        line feeds and 'single' and \"double\" quotes\"\"\"\n",
        "print(s1)\n",
        "print(s2)\n",
        "print(s3)\n",
        "print(s4)\n",
        "type(s1)"
      ],
      "execution_count": 0,
      "outputs": []
    },
    {
      "cell_type": "code",
      "metadata": {
        "id": "ZrvTrRHvpTIR",
        "colab_type": "code",
        "colab": {}
      },
      "source": [
        "# Advanced: Special characters can be added to strings using the backslash \\\n",
        "sc1 = '\\n'  # new line\n",
        "sc2 = '\\r'  # carriage return\n",
        "sc3 = '\\''  # single quote (useful if str denoted by single quotes)\n",
        "sc4 = \"\\\"\"  # double quote (useful if str denoted by double quotes)\n",
        "sc5 = '\\\\'  # backslash\n",
        "print(1, sc1, 2, sc2, 3, sc3, 4, sc4, 5, sc5)  # prints each value separated by a space"
      ],
      "execution_count": 0,
      "outputs": []
    },
    {
      "cell_type": "code",
      "metadata": {
        "id": "ZGu6S2cQrbd6",
        "colab_type": "code",
        "colab": {}
      },
      "source": [
        "# Advanced: Strings can have prefixes before the first quote to make it easier to define\n",
        "pu = u\"A unicode str. Default in Python 3 but prefix required in Python 2\"\n",
        "pb = b\"A byte string. Default in Python 2 but prefix required in Python 3\"\n",
        "pr = r\"A raw str where backslash \\ is just a backslash \\  \\n \\r \\t \\\\ \\' \\\" \"\n",
        "pf = f\"A format string to include values and expressions {a} + {b} = {a + b}\" \n",
        "print(pu)\n",
        "print(pb)\n",
        "print(pr)\n",
        "print(pf)"
      ],
      "execution_count": 0,
      "outputs": []
    },
    {
      "cell_type": "markdown",
      "metadata": {
        "id": "o7Ozm7-WszU1",
        "colab_type": "text"
      },
      "source": [
        "# Operators\n",
        "\n",
        "Create expressions using operators between variables or values"
      ]
    },
    {
      "cell_type": "code",
      "metadata": {
        "id": "HZWTOR5zuiTr",
        "colab_type": "code",
        "colab": {}
      },
      "source": [
        "# Integer operators\n",
        "a = 27\n",
        "b = 5\n",
        "print(f\"{a} +  {b} returns {a + b}   addition\")\n",
        "print(f\"{a} -  {b} returns {a - b}   subtraction\")\n",
        "print(f\"{a} *  {b} returns {a * b}  multiplication\")\n",
        "print(f\"{a} // {b} returns {a // b}    integer division\")\n",
        "print(f\"{a} %  {b} returns {a % b}    modulo\")\n",
        "print(f\"{a} ** {b} returns {a ** b}  power\")"
      ],
      "execution_count": 0,
      "outputs": []
    },
    {
      "cell_type": "code",
      "metadata": {
        "id": "0C0vDhqPvMwN",
        "colab_type": "code",
        "colab": {}
      },
      "source": [
        "# Floating point operators if either or both values is a float\n",
        "a = 27.0\n",
        "b = 5\n",
        "print(f\"{a} +  {b} returns {a + b}  addition\")\n",
        "print(f\"{a} -  {b} returns {a - b}  subtraction\")\n",
        "print(f\"{a} *  {b} returns {a * b}  multiplication\")\n",
        "print(f\"{a} /  {b} returns {a / b}  floating point division\")\n",
        "print(f\"{a} // {b} returns {a // b}  whole number division\")\n",
        "print(f\"{a} %  {b} returns {a % b}  modulo\")\n",
        "print(f\"{a} ** {b} =returns {a ** b}  power\")"
      ],
      "execution_count": 0,
      "outputs": []
    },
    {
      "cell_type": "code",
      "metadata": {
        "id": "7RYTS1Grvjdi",
        "colab_type": "code",
        "colab": {}
      },
      "source": [
        "# Advanced: Bitwise operators work on binary numbers\n",
        "a = 10\n",
        "b = 3\n",
        "print(f\"{a} |  3 returns {a | 3:>2} : {a:4b} | {3:0>4b} returns {a | b:4b}  bitwise OR\")\n",
        "print(f\"{a} &  3 returns {a & 3:>2} : {a:4b} & {3:0>4b} returns {a & b:0>4b}  bitwise AND\")\n",
        "print(f\"{a} ^  3 returns {a ^ 3:>2} : {a:4b} ^ {3:0>4b} returns {a ^ b:0>4b}  bitwise XOR\")\n",
        "print(f\" 3 << 2 returns {b << 2:>2} : {b:0>4b} << {2:>3} returns {b << 2:0>4b}  shift left\")\n",
        "print(f\"{a+b} >> 2 returns {(a + b) >> 2:>2} : {a+b:4b} >> {2:>3} returns {a+b >> 2:0>4b}  shift right\")"
      ],
      "execution_count": 0,
      "outputs": []
    },
    {
      "cell_type": "code",
      "metadata": {
        "id": "vcf2uoQl3fT9",
        "colab_type": "code",
        "colab": {}
      },
      "source": [
        "# str operators + *\n",
        "\"well, \" * 3 + \"three holes in the ground\""
      ],
      "execution_count": 0,
      "outputs": []
    },
    {
      "cell_type": "code",
      "metadata": {
        "id": "668Eboaj30kC",
        "colab_type": "code",
        "colab": {}
      },
      "source": [
        "# adjacent strs don't even need the +\n",
        "\"one \" 'two ' \"\"\"three \"\"\" '''four'''"
      ],
      "execution_count": 0,
      "outputs": []
    },
    {
      "cell_type": "markdown",
      "metadata": {
        "id": "AvyyyUAB3aVP",
        "colab_type": "text"
      },
      "source": [
        "# Interesting side effects"
      ]
    },
    {
      "cell_type": "code",
      "metadata": {
        "id": "bzVL0Imuw_st",
        "colab_type": "code",
        "colab": {}
      },
      "source": [
        "# ints can have more significant digits than floats (floats are limited to about 17)\n",
        "e = 250000000000000000000000000000000\n",
        "print(f\"25 / 7 returns {25 / 7}\")\n",
        "print(f\"250000000000000000000000000000000 // 7 returns {250000000000000000000000000000000 // 7}\")"
      ],
      "execution_count": 0,
      "outputs": []
    },
    {
      "cell_type": "code",
      "metadata": {
        "id": "1sObbCej2kRv",
        "colab_type": "code",
        "colab": {}
      },
      "source": [
        "# floats can't store decimal numbers exactly so good for science but not for accounting\n",
        "# (use cents in int or dollars in Decimal for accounting)\n",
        "print(f\"1.1 + 2.2 returns {1.1 + 2.2}  (floats don't store decimal numbers exactly)\")"
      ],
      "execution_count": 0,
      "outputs": []
    },
    {
      "cell_type": "markdown",
      "metadata": {
        "id": "QU8aWKPQJCbK",
        "colab_type": "text"
      },
      "source": [
        "# Challenge 2"
      ]
    },
    {
      "cell_type": "code",
      "metadata": {
        "id": "ITfkkT9fJFq3",
        "colab_type": "code",
        "colab": {}
      },
      "source": [
        "# Add 123 to 456 and display the result"
      ],
      "execution_count": 0,
      "outputs": []
    },
    {
      "cell_type": "code",
      "metadata": {
        "id": "96hKz_buJRtg",
        "colab_type": "code",
        "colab": {}
      },
      "source": [
        "123+456"
      ],
      "execution_count": 0,
      "outputs": []
    },
    {
      "cell_type": "code",
      "metadata": {
        "id": "mql2r9fGJSim",
        "colab_type": "code",
        "colab": {}
      },
      "source": [
        "# Find the quotient and remainder when dividing 666666 by 235"
      ],
      "execution_count": 0,
      "outputs": []
    },
    {
      "cell_type": "code",
      "metadata": {
        "id": "W9jie8llJdwO",
        "colab_type": "code",
        "colab": {}
      },
      "source": [
        "666666 // 235, 666666 % 235"
      ],
      "execution_count": 0,
      "outputs": []
    },
    {
      "cell_type": "code",
      "metadata": {
        "id": "qG7KLlGCJesd",
        "colab_type": "code",
        "colab": {}
      },
      "source": [
        "# Calculate 2 to the power 10"
      ],
      "execution_count": 0,
      "outputs": []
    },
    {
      "cell_type": "code",
      "metadata": {
        "id": "etO_11QmJlu1",
        "colab_type": "code",
        "colab": {}
      },
      "source": [
        "2**10"
      ],
      "execution_count": 0,
      "outputs": []
    },
    {
      "cell_type": "code",
      "metadata": {
        "id": "ODrykQg2JmBO",
        "colab_type": "code",
        "colab": {}
      },
      "source": [
        "# Find the decimal quotient of 666666 divided by 235"
      ],
      "execution_count": 0,
      "outputs": []
    },
    {
      "cell_type": "code",
      "metadata": {
        "id": "pNkPt08PJ0bU",
        "colab_type": "code",
        "colab": {}
      },
      "source": [
        "666666/235"
      ],
      "execution_count": 0,
      "outputs": []
    },
    {
      "cell_type": "code",
      "metadata": {
        "id": "2mB2UxaIKj7x",
        "colab_type": "code",
        "colab": {}
      },
      "source": [
        "# Store in a variable the name of your favourite programming language as a str\n",
        "# Construct a new str that starts with \"Programming in \", finishes with \" is fun\" \n",
        "# and includes the value of the variable in the middle."
      ],
      "execution_count": 0,
      "outputs": []
    },
    {
      "cell_type": "code",
      "metadata": {
        "id": "8E2peA7rLWMA",
        "colab_type": "code",
        "colab": {}
      },
      "source": [
        "favourite_language = \"Jupyter Notebooks\"\n",
        "\"Programming in \" + favourite_language + \" is fun\""
      ],
      "execution_count": 0,
      "outputs": []
    },
    {
      "cell_type": "code",
      "metadata": {
        "id": "r2n9Qg3qtHzK",
        "colab_type": "code",
        "colab": {}
      },
      "source": [
        "f'Programming in {favourite_language} is fun'"
      ],
      "execution_count": 0,
      "outputs": []
    },
    {
      "cell_type": "code",
      "metadata": {
        "id": "jUXdVxYCJ00S",
        "colab_type": "code",
        "colab": {}
      },
      "source": [
        "# Solutions\n",
        "print(f\"123 + 456 returns {123 + 456}\")\n",
        "print(f\"666666 // 235 returns integer quotient {666666 // 235}, 666666 % 234 returns integer remainder {666666 % 235}\")\n",
        "print(f\"2**10 returns {2**10}\")\n",
        "print(f\"666666 / 235 returns {666666 / 235}\")\n",
        "c1 = \"Python\"\n",
        "c2 = \"Programming in \" + c1 + \" is fun\"\n",
        "print(c2)"
      ],
      "execution_count": 0,
      "outputs": []
    },
    {
      "cell_type": "markdown",
      "metadata": {
        "id": "K0tydffDRimi",
        "colab_type": "text"
      },
      "source": [
        "# Data type bool\n",
        "- Boolean data types store `True` or `False`\n",
        "- They are the result of using a conditional operator `==, !=, <, >, <=, >=, in, or, and, not, is`"
      ]
    },
    {
      "cell_type": "code",
      "metadata": {
        "id": "2Uyc7vRY36Zd",
        "colab_type": "code",
        "colab": {}
      },
      "source": [
        "type(True), type(False)"
      ],
      "execution_count": 0,
      "outputs": []
    },
    {
      "cell_type": "code",
      "metadata": {
        "id": "X8ApHS4bRjox",
        "colab_type": "code",
        "colab": {}
      },
      "source": [
        "3 == 5 - 2"
      ],
      "execution_count": 0,
      "outputs": []
    },
    {
      "cell_type": "code",
      "metadata": {
        "id": "yvDmK3vpR4Vv",
        "colab_type": "code",
        "colab": {}
      },
      "source": [
        "45 > 23"
      ],
      "execution_count": 0,
      "outputs": []
    },
    {
      "cell_type": "code",
      "metadata": {
        "id": "-4whU0d7R3s3",
        "colab_type": "code",
        "colab": {}
      },
      "source": [
        "-10 < -20"
      ],
      "execution_count": 0,
      "outputs": []
    },
    {
      "cell_type": "code",
      "metadata": {
        "id": "FRJSbp6xSEM8",
        "colab_type": "code",
        "colab": {}
      },
      "source": [
        "c1 == \"Python\""
      ],
      "execution_count": 0,
      "outputs": []
    },
    {
      "cell_type": "markdown",
      "metadata": {
        "id": "ac9ahDlXLloA",
        "colab_type": "text"
      },
      "source": [
        "# Challenge 3: Predict the outcome of the following boolean expressions"
      ]
    },
    {
      "cell_type": "code",
      "metadata": {
        "id": "92CuJf7WSMZ6",
        "colab_type": "code",
        "colab": {}
      },
      "source": [
        "# Boolean expressions are embedded in format strs to make output understandable\n",
        "# In IPython you could also type the expression alone in a cell and execute\n",
        "print(f\"c1 == 'python' returns {c1 == 'python'} because c1 is '{c1}'\")\n",
        "print(f\"c1 != 'python' returns {c1 != 'python'}\")\n",
        "print(f\"253 >= 1518 / 6 returns {253 >= 1518 / 6}\")\n",
        "print(f\"253 <= {1518 / 6} returns {253 >= 1518 / 6}\")\n",
        "import math\n",
        "print(f\"{math.e} < {math.pi} returns {math.e < math.pi}\")\n",
        "print(f\"{math.e} < {math.pi * 2} < {math.tau} returns {math.e < math.pi * 2 < math.tau}\")\n",
        "print(f\"'a' < 'c' returns {'a' < 'c'} because compares on unicode value\")\n",
        "print(f\"'a' < 'C' returns {'a' < 'C'} because upper case characters appear before lower case in unicode\")\n",
        "print(f\"'UPPER' < 'lower' returns {'UPPER' < 'lower'}\")\n",
        "print(f\"'catch' < 'carriage' returns {'catch' < 'carriage'}\")\n",
        "print(f\"[5, 1, 2] >= [6, 0, 3] returns {[5, 1, 2] >= [6, 0, 3]} because list elements are compared left to right\")\n",
        "print(f\"'at' in 'catch' returns {'at' in 'catch'}\")\n",
        "print(f\"'ac' in 'catch' returns {'ac' in 'catch'}\")\n",
        "print(f\"'ta' in 'catch' returns {'ta' in 'catch'}\")\n",
        "print(f\"[2, 6] not in [5, 1, 2, 6] returns {[2, 6] not in [5, 1, 2, 6] } because only one element of a list can be checked with 'in' at a time\")\n",
        "print(f\"True or False returns {True or False}\")\n",
        "print(f\"True and False returns {True and False}\")\n",
        "print(f\"True or False and False returns {True or False and False} because 'and' has precedence over 'or'\")\n",
        "print(f\"{1 > 2} and {3 > 5} or {6 < 8} returns {1 > 2 and 3 > 5 or 6 < 8}\")\n",
        "c2 = c1\n",
        "print(f\"c1 is c2 returns {c1 is c2} because they refer to the same location in memory\")"
      ],
      "execution_count": 0,
      "outputs": []
    },
    {
      "cell_type": "markdown",
      "metadata": {
        "id": "qfluyv7R21w3",
        "colab_type": "text"
      },
      "source": [
        "# More complicated data types - list"
      ]
    },
    {
      "cell_type": "code",
      "metadata": {
        "id": "Y6KPHM4q4b2t",
        "colab_type": "code",
        "colab": {}
      },
      "source": [
        "# define a list with square brackets and a comma separated list of any data types\n",
        "lst = [\"six\", 5, 4.0, \"3\", \"two\", \"one\", \"zero\"]\n",
        "print(lst)"
      ],
      "execution_count": 0,
      "outputs": []
    },
    {
      "cell_type": "code",
      "metadata": {
        "id": "j3WALMlB4nR0",
        "colab_type": "code",
        "colab": {}
      },
      "source": [
        "# lists are zero indexed. Refer to each element using numerical index in square brackets\n",
        "lst[0]"
      ],
      "execution_count": 0,
      "outputs": []
    },
    {
      "cell_type": "code",
      "metadata": {
        "id": "Vzu1Uh7u5UnW",
        "colab_type": "code",
        "colab": {}
      },
      "source": [
        "lst[1]"
      ],
      "execution_count": 0,
      "outputs": []
    },
    {
      "cell_type": "code",
      "metadata": {
        "id": "Ci_oy2dl5V4d",
        "colab_type": "code",
        "colab": {}
      },
      "source": [
        "lst[6]"
      ],
      "execution_count": 0,
      "outputs": []
    },
    {
      "cell_type": "code",
      "metadata": {
        "id": "SnNHT4El5hA0",
        "colab_type": "code",
        "colab": {}
      },
      "source": [
        "# can also count index back from end\n",
        "lst[-1]"
      ],
      "execution_count": 0,
      "outputs": []
    },
    {
      "cell_type": "code",
      "metadata": {
        "id": "nsCPV1ag5pMj",
        "colab_type": "code",
        "colab": {}
      },
      "source": [
        "lst[-2]"
      ],
      "execution_count": 0,
      "outputs": []
    },
    {
      "cell_type": "code",
      "metadata": {
        "id": "Ks7BQq3Y57gm",
        "colab_type": "code",
        "colab": {}
      },
      "source": [
        "# use len() to find the length of a list\n",
        "len(lst)"
      ],
      "execution_count": 0,
      "outputs": []
    },
    {
      "cell_type": "code",
      "metadata": {
        "id": "a_QR0oKJ6CkF",
        "colab_type": "code",
        "colab": {}
      },
      "source": [
        "# slice a list using index values around a colon\n",
        "# example starts from index 2 up to but not including index 5  (will be 5 - 2 = 3 elements)\n",
        "lst[2:5]  "
      ],
      "execution_count": 0,
      "outputs": []
    },
    {
      "cell_type": "code",
      "metadata": {
        "id": "_7YOMSRj6NU1",
        "colab_type": "code",
        "colab": {}
      },
      "source": [
        "# slice from beginning up to but not including index 4\n",
        "lst[:4]"
      ],
      "execution_count": 0,
      "outputs": []
    },
    {
      "cell_type": "code",
      "metadata": {
        "id": "MFxckzGd64XX",
        "colab_type": "code",
        "colab": {}
      },
      "source": [
        "# slice from index 3 up to end\n",
        "lst[3:]"
      ],
      "execution_count": 0,
      "outputs": []
    },
    {
      "cell_type": "code",
      "metadata": {
        "id": "th5me2Q76_g2",
        "colab_type": "code",
        "colab": {}
      },
      "source": [
        "# slice from index 1 up to end stepping in 2s\n",
        "lst[1::2]"
      ],
      "execution_count": 0,
      "outputs": []
    },
    {
      "cell_type": "code",
      "metadata": {
        "id": "clTvy_mE7HK9",
        "colab_type": "code",
        "colab": {}
      },
      "source": [
        "# slice backwards from end back to but not including index 1 stepping in -1s\n",
        "lst[-1:1:-1]"
      ],
      "execution_count": 0,
      "outputs": []
    },
    {
      "cell_type": "code",
      "metadata": {
        "id": "UtW9ZneK7W2j",
        "colab_type": "code",
        "colab": {}
      },
      "source": [
        "lst"
      ],
      "execution_count": 0,
      "outputs": []
    },
    {
      "cell_type": "code",
      "metadata": {
        "id": "HkOdI-Vy7lw3",
        "colab_type": "code",
        "colab": {}
      },
      "source": [
        "# assign item at index 2 with a new value\n",
        "lst[2] = \"FOUR\"\n",
        "lst"
      ],
      "execution_count": 0,
      "outputs": []
    },
    {
      "cell_type": "code",
      "metadata": {
        "id": "nh86sIjp720U",
        "colab_type": "code",
        "colab": {}
      },
      "source": [
        "lst[-1] = \"Blast off\"\n",
        "lst"
      ],
      "execution_count": 0,
      "outputs": []
    },
    {
      "cell_type": "code",
      "metadata": {
        "id": "XfO6fIQh7-wU",
        "colab_type": "code",
        "colab": {}
      },
      "source": [
        "# strs can do many of the functions of lists for example slicing\n",
        "s = \"abcdefghij\"\n",
        "s[3:7]"
      ],
      "execution_count": 0,
      "outputs": []
    },
    {
      "cell_type": "markdown",
      "metadata": {
        "id": "-Qmj6BZU8Z8y",
        "colab_type": "text"
      },
      "source": [
        "# Challenge 4: What is something you can do in a list you can't do with a str?"
      ]
    },
    {
      "cell_type": "code",
      "metadata": {
        "id": "vVG7zA6fxSX-",
        "colab_type": "code",
        "colab": {}
      },
      "source": [
        "s[0]"
      ],
      "execution_count": 0,
      "outputs": []
    },
    {
      "cell_type": "code",
      "metadata": {
        "id": "snUurnOyxSEW",
        "colab_type": "code",
        "colab": {}
      },
      "source": [
        "s[:1:-1]"
      ],
      "execution_count": 0,
      "outputs": []
    },
    {
      "cell_type": "code",
      "metadata": {
        "id": "piF_QkQxxRn3",
        "colab_type": "code",
        "colab": {}
      },
      "source": [
        "s[3] = 'z'"
      ],
      "execution_count": 0,
      "outputs": []
    },
    {
      "cell_type": "code",
      "metadata": {
        "id": "CpYcif_rxRW-",
        "colab_type": "code",
        "colab": {}
      },
      "source": [
        ""
      ],
      "execution_count": 0,
      "outputs": []
    },
    {
      "cell_type": "code",
      "metadata": {
        "id": "YLeMFjCrxRJI",
        "colab_type": "code",
        "colab": {}
      },
      "source": [
        ""
      ],
      "execution_count": 0,
      "outputs": []
    },
    {
      "cell_type": "code",
      "metadata": {
        "id": "j2_lVLhZ8jU6",
        "colab_type": "code",
        "colab": {}
      },
      "source": [
        ""
      ],
      "execution_count": 0,
      "outputs": []
    },
    {
      "cell_type": "code",
      "metadata": {
        "id": "urqxDpYeL6jy",
        "colab_type": "code",
        "colab": {}
      },
      "source": [
        "# Solution\n",
        "s = \"6543210\"\n",
        "print(f\"s = {s}\")\n",
        "print(f\"s[0] returns {s[0]}\")\n",
        "print(f\"s[1] returns {s[1]}\")\n",
        "print(f\"s[6] returns {s[6]}\")\n",
        "print(f\"s[-1] returns {s[-1]}\")\n",
        "print(f\"s[-2] returns {s[-2]}\")\n",
        "print(f\"len(s) returns {len(s)}\")\n",
        "print(f\"s[2:5] returns {s[2:5]}\")\n",
        "print(f\"s[:4] returns {s[:4]}\")\n",
        "print(f\"s[3:] returns {s[3:]}\")\n",
        "print(f\"s[1::2] returns {s[1::2]}\")\n",
        "print(f\"s[:1:-1] returns {s[:1:-1]}\")\n",
        "print(f\"s[2] = 'F' returns TypeError: 'str' object does not support item assignment\")\n",
        "print(f\"s[-1] = 'Z' returns TypeError: 'str' object does not support item assignment\")\n"
      ],
      "execution_count": 0,
      "outputs": []
    },
    {
      "cell_type": "code",
      "metadata": {
        "id": "6VMxghS1MQas",
        "colab_type": "code",
        "colab": {}
      },
      "source": [
        ""
      ],
      "execution_count": 0,
      "outputs": []
    },
    {
      "cell_type": "code",
      "metadata": {
        "id": "lXj-CviPQdLi",
        "colab_type": "code",
        "colab": {}
      },
      "source": [
        "# Interesting fact - can convert str to a list using list()\n",
        "list_from_str = list(s)\n",
        "list_from_str"
      ],
      "execution_count": 0,
      "outputs": []
    },
    {
      "cell_type": "code",
      "metadata": {
        "id": "UjBWqddnymin",
        "colab_type": "code",
        "colab": {}
      },
      "source": [
        "int(5.4)\n",
        "float(3)\n",
        "str(345)"
      ],
      "execution_count": 0,
      "outputs": []
    },
    {
      "cell_type": "code",
      "metadata": {
        "id": "vrxnD2k3RKrq",
        "colab_type": "code",
        "colab": {}
      },
      "source": [
        "# To convert a str to a list use str() but it looks different to the original str\n",
        "str(list_from_str)"
      ],
      "execution_count": 0,
      "outputs": []
    },
    {
      "cell_type": "code",
      "metadata": {
        "id": "IC3p1X-fMRRE",
        "colab_type": "code",
        "colab": {}
      },
      "source": [
        "# Advanced: Can use join to return original str\n",
        "\"\".join(list_from_str)"
      ],
      "execution_count": 0,
      "outputs": []
    },
    {
      "cell_type": "markdown",
      "metadata": {
        "id": "BQPT9r4xROTf",
        "colab_type": "text"
      },
      "source": [
        "# Programming - `if`\n",
        "- up until now we have been using Python as a calculator\n",
        "- putting more than one line in a cell executes the lines in sequential order\n",
        "- sometimes we want to change which lines get executed depending on a condition\n",
        "- unlike other languages Python defines code blocks by indentation\n",
        "- colab indents by 2 spaces. Most Python indents by 4 spaces"
      ]
    },
    {
      "cell_type": "code",
      "metadata": {
        "id": "k7fjL3ItD4iN",
        "colab_type": "code",
        "colab": {}
      },
      "source": [
        "import random\n",
        "die_roll = random.randrange(6) + 1  # randrange(6) returns an int between 0 and 5 inclusive\n",
        "if die_roll % 2 == 0:\n",
        "  print(f\"You rolled {die_roll} which is an even number\")\n",
        "else:\n",
        "  print(f\"You rolled {die_roll} which is an odd number\")"
      ],
      "execution_count": 0,
      "outputs": []
    },
    {
      "cell_type": "code",
      "metadata": {
        "id": "3oFEA4hiEivb",
        "colab_type": "code",
        "colab": {}
      },
      "source": [
        "die_rolls = [random.randrange(6) + 1, random.randrange(6) + 1]\n",
        "print(f\"You rolled {die_rolls}. \", end=\" \")\n",
        "if die_rolls[0] == die_rolls[1]:\n",
        "  print(\"They are both equal\")\n",
        "elif die_rolls[0] < die_rolls[1]:\n",
        "  print(\"First roll is less than the second roll\")\n",
        "else:\n",
        "  print(\"First roll is greater than the second roll\")"
      ],
      "execution_count": 0,
      "outputs": []
    },
    {
      "cell_type": "markdown",
      "metadata": {
        "id": "8krS1HzdFgdf",
        "colab_type": "text"
      },
      "source": [
        "# Programming - `for` loop, `while` loop\n",
        "- sometimes we want to repeat the same code block many times so we use loops"
      ]
    },
    {
      "cell_type": "code",
      "metadata": {
        "id": "J5aZGk2lG1WV",
        "colab_type": "code",
        "colab": {}
      },
      "source": [
        "# a for loop repeats for every item in a iterable sequence such as a list or str\n",
        "for number in ['three', 'two', 'one']:\n",
        "  print(number)"
      ],
      "execution_count": 0,
      "outputs": []
    },
    {
      "cell_type": "code",
      "metadata": {
        "id": "FriSRLURHHVa",
        "colab_type": "code",
        "colab": {}
      },
      "source": [
        "# a while loop is like an if statement except it repeats the following code block \n",
        "# until the condition is no longer true\n",
        "counter = 0\n",
        "while counter < 10:\n",
        "  die_rolls = [random.randrange(6) + 1, random.randrange(6) + 1]\n",
        "  print(f\"{counter}: You rolled {die_rolls}. \", end=\" \")\n",
        "  if die_rolls[0] == die_rolls[1]:\n",
        "    print(\"They are both equal\")\n",
        "  elif die_rolls[0] < die_rolls[1]:\n",
        "    print(\"First roll is less than the second roll\")\n",
        "  else:\n",
        "    print(\"First roll is greater than the second roll\")\n",
        "  counter = counter + 1"
      ],
      "execution_count": 0,
      "outputs": []
    },
    {
      "cell_type": "code",
      "metadata": {
        "id": "mykGbZ211NRE",
        "colab_type": "code",
        "colab": {}
      },
      "source": [
        "print(\"Hello\", end='!!')\n",
        "print(\"pythonistas\", end='!!\\n')"
      ],
      "execution_count": 0,
      "outputs": []
    },
    {
      "cell_type": "markdown",
      "metadata": {
        "id": "8pmIhgXdNGrC",
        "colab_type": "text"
      },
      "source": [
        "# Challenge 5\n",
        "Write a program which prints every number from 0 to 20 as digits and its name \n",
        "in words as well as whether it is even or odd\n"
      ]
    },
    {
      "cell_type": "code",
      "metadata": {
        "id": "Q8JgOajEIIKm",
        "colab_type": "code",
        "colab": {}
      },
      "source": [
        "# Use the following list \n",
        "numbers = [\"zero\", \"one\", \"two\", \"three\", \"four\", \"five\", \"six\", \"seven\", \"eight\", \"nine\", \"ten\",\n",
        "           \"eleven\", \"twelve\", \"thirteen\", \"fourteen\", \"fifteen\", \"sixteen\", \"seventeen\", \"eighteen\",\n",
        "           \"nineteen\", \"twenty\"]"
      ],
      "execution_count": 0,
      "outputs": []
    },
    {
      "cell_type": "code",
      "metadata": {
        "id": "AFH3Knp82Kw8",
        "colab_type": "code",
        "colab": {}
      },
      "source": [
        "numbers.index(\"three\")"
      ],
      "execution_count": 0,
      "outputs": []
    },
    {
      "cell_type": "code",
      "metadata": {
        "id": "c0Dk4aYwJHb6",
        "colab_type": "code",
        "colab": {}
      },
      "source": [
        "for number in numbers:\n",
        "  print(numbers.index(number), number, \"odd\" if numbers.index(number) % 2 else \"even\")"
      ],
      "execution_count": 0,
      "outputs": []
    },
    {
      "cell_type": "code",
      "metadata": {
        "id": "A3JaI4erJIPT",
        "colab_type": "code",
        "colab": {}
      },
      "source": [
        "# Solution\n",
        "i = 0\n",
        "while i < len(numbers):\n",
        "  if i % 2 == 0:\n",
        "    category = \"even\"\n",
        "  else:\n",
        "    category = \"odd \"\n",
        "  print(i, category, numbers[i])\n",
        "  i += 1"
      ],
      "execution_count": 0,
      "outputs": []
    },
    {
      "cell_type": "code",
      "metadata": {
        "id": "9_bg-n8rJW8C",
        "colab_type": "code",
        "colab": {}
      },
      "source": [
        ""
      ],
      "execution_count": 0,
      "outputs": []
    }
  ]
}