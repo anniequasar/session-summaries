{
  "nbformat": 4,
  "nbformat_minor": 0,
  "metadata": {
    "kernelspec": {
      "display_name": "Python 3",
      "language": "python",
      "name": "python3"
    },
    "language_info": {
      "codemirror_mode": {
        "name": "ipython",
        "version": 3
      },
      "file_extension": ".py",
      "mimetype": "text/x-python",
      "name": "python",
      "nbconvert_exporter": "python",
      "pygments_lexer": "ipython3",
      "version": "3.7.6"
    },
    "colab": {
      "name": "meetup064_Arun_nonlinear_models.ipynb",
      "provenance": []
    }
  },
  "cells": [
    {
      "cell_type": "code",
      "metadata": {
        "id": "_EZ3Jk3Bejyv",
        "colab_type": "code",
        "colab": {}
      },
      "source": [
        "import torch"
      ],
      "execution_count": 0,
      "outputs": []
    },
    {
      "cell_type": "code",
      "metadata": {
        "id": "q28btwwKejyy",
        "colab_type": "code",
        "colab": {}
      },
      "source": [
        "import matplotlib.pyplot as plt\n",
        "%matplotlib inline"
      ],
      "execution_count": 0,
      "outputs": []
    },
    {
      "cell_type": "code",
      "metadata": {
        "id": "29w9oHAoejy1",
        "colab_type": "code",
        "colab": {},
        "outputId": "878be76e-2987-4b15-9798-9b307cf025cc"
      },
      "source": [
        "torch.linspace(-20,20,100)"
      ],
      "execution_count": 0,
      "outputs": [
        {
          "output_type": "execute_result",
          "data": {
            "text/plain": [
              "tensor([-20.0000, -19.5960, -19.1919, -18.7879, -18.3838, -17.9798, -17.5758,\n",
              "        -17.1717, -16.7677, -16.3636, -15.9596, -15.5556, -15.1515, -14.7475,\n",
              "        -14.3434, -13.9394, -13.5354, -13.1313, -12.7273, -12.3232, -11.9192,\n",
              "        -11.5152, -11.1111, -10.7071, -10.3030,  -9.8990,  -9.4949,  -9.0909,\n",
              "         -8.6869,  -8.2828,  -7.8788,  -7.4747,  -7.0707,  -6.6667,  -6.2626,\n",
              "         -5.8586,  -5.4545,  -5.0505,  -4.6465,  -4.2424,  -3.8384,  -3.4343,\n",
              "         -3.0303,  -2.6263,  -2.2222,  -1.8182,  -1.4141,  -1.0101,  -0.6061,\n",
              "         -0.2020,   0.2020,   0.6061,   1.0101,   1.4141,   1.8182,   2.2222,\n",
              "          2.6263,   3.0303,   3.4343,   3.8384,   4.2424,   4.6465,   5.0505,\n",
              "          5.4545,   5.8586,   6.2626,   6.6667,   7.0707,   7.4747,   7.8788,\n",
              "          8.2828,   8.6869,   9.0909,   9.4949,   9.8990,  10.3030,  10.7071,\n",
              "         11.1111,  11.5152,  11.9192,  12.3232,  12.7273,  13.1313,  13.5354,\n",
              "         13.9394,  14.3434,  14.7475,  15.1515,  15.5556,  15.9596,  16.3636,\n",
              "         16.7677,  17.1717,  17.5758,  17.9798,  18.3838,  18.7879,  19.1919,\n",
              "         19.5960,  20.0000])"
            ]
          },
          "metadata": {
            "tags": []
          },
          "execution_count": 3
        }
      ]
    },
    {
      "cell_type": "code",
      "metadata": {
        "id": "X35POUSyejy3",
        "colab_type": "code",
        "colab": {}
      },
      "source": [
        "x = torch.linspace(-20,20,100)"
      ],
      "execution_count": 0,
      "outputs": []
    },
    {
      "cell_type": "code",
      "metadata": {
        "id": "a6pWvZfxejy5",
        "colab_type": "code",
        "colab": {},
        "outputId": "b27cad57-a28e-472f-a1d1-442ffeda4ee6"
      },
      "source": [
        "plt.plot(x,torch.tanh(x))"
      ],
      "execution_count": 0,
      "outputs": [
        {
          "output_type": "execute_result",
          "data": {
            "text/plain": [
              "[<matplotlib.lines.Line2D at 0x7f5dd83c58d0>]"
            ]
          },
          "metadata": {
            "tags": []
          },
          "execution_count": 5
        },
        {
          "output_type": "display_data",
          "data": {
            "image/png": "[encoded data removed]",
            "text/plain": [
              "<Figure size 432x288 with 1 Axes>"
            ]
          },
          "metadata": {
            "tags": [],
            "needs_background": "light"
          }
        }
      ]
    },
    {
      "cell_type": "code",
      "metadata": {
        "id": "7PiEgOAkejy7",
        "colab_type": "code",
        "colab": {},
        "outputId": "3cfb78e5-8aea-49a3-f094-cd92987bd8f9"
      },
      "source": [
        "plt.plot(x,torch.sigmoid(x))"
      ],
      "execution_count": 0,
      "outputs": [
        {
          "output_type": "execute_result",
          "data": {
            "text/plain": [
              "[<matplotlib.lines.Line2D at 0x7f5d5fcd7090>]"
            ]
          },
          "metadata": {
            "tags": []
          },
          "execution_count": 6
        },
        {
          "output_type": "display_data",
          "data": {
            "image/png": "[encoded data removed]",
            "text/plain": [
              "<Figure size 432x288 with 1 Axes>"
            ]
          },
          "metadata": {
            "tags": [],
            "needs_background": "light"
          }
        }
      ]
    },
    {
      "cell_type": "code",
      "metadata": {
        "id": "sK30N1Kyejy9",
        "colab_type": "code",
        "colab": {},
        "outputId": "e8b94605-7c90-4bd3-c128-f6790afb74f9"
      },
      "source": [
        "torch.sigmoid(torch.tensor(4.))"
      ],
      "execution_count": 0,
      "outputs": [
        {
          "output_type": "execute_result",
          "data": {
            "text/plain": [
              "tensor(0.9820)"
            ]
          },
          "metadata": {
            "tags": []
          },
          "execution_count": 9
        }
      ]
    },
    {
      "cell_type": "code",
      "metadata": {
        "id": "PeD8EfdBejzB",
        "colab_type": "code",
        "colab": {},
        "outputId": "90763831-f1df-4acc-9c99-5dd642ef1cf8"
      },
      "source": [
        "plt.plot(x)"
      ],
      "execution_count": 0,
      "outputs": [
        {
          "output_type": "execute_result",
          "data": {
            "text/plain": [
              "[<matplotlib.lines.Line2D at 0x7f5d5fc4b4d0>]"
            ]
          },
          "metadata": {
            "tags": []
          },
          "execution_count": 10
        },
        {
          "output_type": "display_data",
          "data": {
            "image/png": "[encoded data removed]",
            "text/plain": [
              "<Figure size 432x288 with 1 Axes>"
            ]
          },
          "metadata": {
            "tags": [],
            "needs_background": "light"
          }
        }
      ]
    },
    {
      "cell_type": "code",
      "metadata": {
        "id": "tHueVPB-ejzD",
        "colab_type": "code",
        "colab": {},
        "outputId": "9ffa9d18-23cf-4d9d-8652-df77b134ca37"
      },
      "source": [
        "plt.plot(x,torch.relu(x))"
      ],
      "execution_count": 0,
      "outputs": [
        {
          "output_type": "execute_result",
          "data": {
            "text/plain": [
              "[<matplotlib.lines.Line2D at 0x7f5d5eb8f5d0>]"
            ]
          },
          "metadata": {
            "tags": []
          },
          "execution_count": 11
        },
        {
          "output_type": "display_data",
          "data": {
            "image/png": "[encoded data removed]",
            "text/plain": [
              "<Figure size 432x288 with 1 Axes>"
            ]
          },
          "metadata": {
            "tags": [],
            "needs_background": "light"
          }
        }
      ]
    },
    {
      "cell_type": "code",
      "metadata": {
        "id": "TuKC8oRdejzF",
        "colab_type": "code",
        "colab": {},
        "outputId": "6fad6daa-787b-4c2e-99a9-297635b177e1"
      },
      "source": [
        "plt.plot(x,torch.nn.functional.leaky_relu(x))\n",
        "plt.plot(x,x*0)"
      ],
      "execution_count": 0,
      "outputs": [
        {
          "output_type": "execute_result",
          "data": {
            "text/plain": [
              "[<matplotlib.lines.Line2D at 0x7f5d5eec0e10>]"
            ]
          },
          "metadata": {
            "tags": []
          },
          "execution_count": 14
        },
        {
          "output_type": "display_data",
          "data": {
            "image/png": "[encoded data removed]",
            "text/plain": [
              "<Figure size 432x288 with 1 Axes>"
            ]
          },
          "metadata": {
            "tags": [],
            "needs_background": "light"
          }
        }
      ]
    },
    {
      "cell_type": "code",
      "metadata": {
        "id": "I-55cRY2ejzH",
        "colab_type": "code",
        "colab": {}
      },
      "source": [
        "a = torch.tanh(2*x + 0.78)\n",
        "b = torch.tanh(-5*x + 3)\n",
        "c = torch.tanh(-3*x + 8)"
      ],
      "execution_count": 0,
      "outputs": []
    },
    {
      "cell_type": "code",
      "metadata": {
        "id": "00RnhjR1ejzI",
        "colab_type": "code",
        "colab": {},
        "outputId": "f548ece2-cad6-4ec9-ba08-3160eeccb37b"
      },
      "source": [
        "plt.plot(x, a+b+c)"
      ],
      "execution_count": 0,
      "outputs": [
        {
          "output_type": "execute_result",
          "data": {
            "text/plain": [
              "[<matplotlib.lines.Line2D at 0x7f5d5d4c0090>]"
            ]
          },
          "metadata": {
            "tags": []
          },
          "execution_count": 16
        },
        {
          "output_type": "display_data",
          "data": {
            "image/png": "[encoded data removed]",
            "text/plain": [
              "<Figure size 432x288 with 1 Axes>"
            ]
          },
          "metadata": {
            "tags": [],
            "needs_background": "light"
          }
        }
      ]
    },
    {
      "cell_type": "code",
      "metadata": {
        "id": "LSfyqNPeejzK",
        "colab_type": "code",
        "colab": {},
        "outputId": "56bbde45-420b-4ce9-9ac0-8128db945dd5"
      },
      "source": [
        "plt.plot(x, a*b*c)"
      ],
      "execution_count": 0,
      "outputs": [
        {
          "output_type": "execute_result",
          "data": {
            "text/plain": [
              "[<matplotlib.lines.Line2D at 0x7f5d5dd47c50>]"
            ]
          },
          "metadata": {
            "tags": []
          },
          "execution_count": 17
        },
        {
          "output_type": "display_data",
          "data": {
            "image/png": "[encoded data removed]",
            "text/plain": [
              "<Figure size 432x288 with 1 Axes>"
            ]
          },
          "metadata": {
            "tags": [],
            "needs_background": "light"
          }
        }
      ]
    },
    {
      "cell_type": "code",
      "metadata": {
        "id": "pUo-qw94ejzM",
        "colab_type": "code",
        "colab": {},
        "outputId": "34de188b-a784-4cd3-95f0-7f992666d5e4"
      },
      "source": [
        "plt.plot(x, a*b/c)"
      ],
      "execution_count": 0,
      "outputs": [
        {
          "output_type": "execute_result",
          "data": {
            "text/plain": [
              "[<matplotlib.lines.Line2D at 0x7f5d5dcdbe50>]"
            ]
          },
          "metadata": {
            "tags": []
          },
          "execution_count": 18
        },
        {
          "output_type": "display_data",
          "data": {
            "image/png": "[encoded data removed]",
            "text/plain": [
              "<Figure size 432x288 with 1 Axes>"
            ]
          },
          "metadata": {
            "tags": [],
            "needs_background": "light"
          }
        }
      ]
    },
    {
      "cell_type": "code",
      "metadata": {
        "id": "hG3x_QDgejzO",
        "colab_type": "code",
        "colab": {},
        "outputId": "cb36f55a-b806-4572-97b6-294394ae1aa1"
      },
      "source": [
        "plt.plot(x, a/b*c + a*b/c)"
      ],
      "execution_count": 0,
      "outputs": [
        {
          "output_type": "execute_result",
          "data": {
            "text/plain": [
              "[<matplotlib.lines.Line2D at 0x7f5d5d30b4d0>]"
            ]
          },
          "metadata": {
            "tags": []
          },
          "execution_count": 20
        },
        {
          "output_type": "display_data",
          "data": {
            "image/png": "[encoded data removed]",
            "text/plain": [
              "<Figure size 432x288 with 1 Axes>"
            ]
          },
          "metadata": {
            "tags": [],
            "needs_background": "light"
          }
        }
      ]
    },
    {
      "cell_type": "markdown",
      "metadata": {
        "id": "RVEP6-bcejzQ",
        "colab_type": "text"
      },
      "source": [
        "# Creating a deep learning model"
      ]
    },
    {
      "cell_type": "code",
      "metadata": {
        "id": "xfHmVvtQejzQ",
        "colab_type": "code",
        "colab": {},
        "outputId": "d583d437-28e5-419d-e49e-33834dc562f8"
      },
      "source": [
        "x = torch.linspace(1,100,200)\n",
        "x"
      ],
      "execution_count": 0,
      "outputs": [
        {
          "output_type": "execute_result",
          "data": {
            "text/plain": [
              "tensor([  1.0000,   1.4975,   1.9950,   2.4925,   2.9899,   3.4874,   3.9849,\n",
              "          4.4824,   4.9799,   5.4774,   5.9749,   6.4724,   6.9698,   7.4673,\n",
              "          7.9648,   8.4623,   8.9598,   9.4573,   9.9548,  10.4523,  10.9497,\n",
              "         11.4472,  11.9447,  12.4422,  12.9397,  13.4372,  13.9347,  14.4322,\n",
              "         14.9296,  15.4271,  15.9246,  16.4221,  16.9196,  17.4171,  17.9146,\n",
              "         18.4121,  18.9095,  19.4070,  19.9045,  20.4020,  20.8995,  21.3970,\n",
              "         21.8945,  22.3920,  22.8894,  23.3869,  23.8844,  24.3819,  24.8794,\n",
              "         25.3769,  25.8744,  26.3719,  26.8693,  27.3668,  27.8643,  28.3618,\n",
              "         28.8593,  29.3568,  29.8543,  30.3518,  30.8492,  31.3467,  31.8442,\n",
              "         32.3417,  32.8392,  33.3367,  33.8342,  34.3317,  34.8291,  35.3266,\n",
              "         35.8241,  36.3216,  36.8191,  37.3166,  37.8141,  38.3116,  38.8090,\n",
              "         39.3065,  39.8040,  40.3015,  40.7990,  41.2965,  41.7940,  42.2915,\n",
              "         42.7889,  43.2864,  43.7839,  44.2814,  44.7789,  45.2764,  45.7739,\n",
              "         46.2714,  46.7688,  47.2663,  47.7638,  48.2613,  48.7588,  49.2563,\n",
              "         49.7538,  50.2513,  50.7487,  51.2462,  51.7437,  52.2412,  52.7387,\n",
              "         53.2362,  53.7337,  54.2312,  54.7286,  55.2261,  55.7236,  56.2211,\n",
              "         56.7186,  57.2161,  57.7136,  58.2111,  58.7085,  59.2060,  59.7035,\n",
              "         60.2010,  60.6985,  61.1960,  61.6935,  62.1910,  62.6884,  63.1859,\n",
              "         63.6834,  64.1809,  64.6784,  65.1759,  65.6734,  66.1709,  66.6683,\n",
              "         67.1658,  67.6633,  68.1608,  68.6583,  69.1558,  69.6533,  70.1507,\n",
              "         70.6482,  71.1457,  71.6432,  72.1407,  72.6382,  73.1357,  73.6332,\n",
              "         74.1307,  74.6281,  75.1256,  75.6231,  76.1206,  76.6181,  77.1156,\n",
              "         77.6131,  78.1105,  78.6080,  79.1055,  79.6030,  80.1005,  80.5980,\n",
              "         81.0955,  81.5930,  82.0905,  82.5879,  83.0854,  83.5829,  84.0804,\n",
              "         84.5779,  85.0754,  85.5729,  86.0704,  86.5678,  87.0653,  87.5628,\n",
              "         88.0603,  88.5578,  89.0553,  89.5528,  90.0502,  90.5477,  91.0452,\n",
              "         91.5427,  92.0402,  92.5377,  93.0352,  93.5327,  94.0302,  94.5276,\n",
              "         95.0251,  95.5226,  96.0201,  96.5176,  97.0151,  97.5126,  98.0100,\n",
              "         98.5075,  99.0050,  99.5025, 100.0000])"
            ]
          },
          "metadata": {
            "tags": []
          },
          "execution_count": 21
        }
      ]
    },
    {
      "cell_type": "code",
      "metadata": {
        "id": "4espG3nqejzS",
        "colab_type": "code",
        "colab": {}
      },
      "source": [
        "y = x * 1.60934 + torch.randn(len(x)) * 2"
      ],
      "execution_count": 0,
      "outputs": []
    },
    {
      "cell_type": "code",
      "metadata": {
        "id": "ctW5zJ4GejzU",
        "colab_type": "code",
        "colab": {},
        "outputId": "1ba32614-f7c1-41bd-c1ee-08e19d4f9378"
      },
      "source": [
        "plt.plot(x,y,'.')"
      ],
      "execution_count": 0,
      "outputs": [
        {
          "output_type": "execute_result",
          "data": {
            "text/plain": [
              "[<matplotlib.lines.Line2D at 0x7f5d5d238b90>]"
            ]
          },
          "metadata": {
            "tags": []
          },
          "execution_count": 32
        },
        {
          "output_type": "display_data",
          "data": {
            "image/png": "[encoded data removed]",
            "text/plain": [
              "<Figure size 432x288 with 1 Axes>"
            ]
          },
          "metadata": {
            "tags": [],
            "needs_background": "light"
          }
        }
      ]
    },
    {
      "cell_type": "code",
      "metadata": {
        "id": "DvIjWKvnejzW",
        "colab_type": "code",
        "colab": {},
        "outputId": "c5123ac2-4e77-42f6-f03a-2ea073ca3822"
      },
      "source": [
        "torch.tensor([1.,2.,3.,4.])"
      ],
      "execution_count": 0,
      "outputs": [
        {
          "output_type": "execute_result",
          "data": {
            "text/plain": [
              "tensor([1., 2., 3., 4.])"
            ]
          },
          "metadata": {
            "tags": []
          },
          "execution_count": 33
        }
      ]
    },
    {
      "cell_type": "code",
      "metadata": {
        "id": "tmoyd9BZejzY",
        "colab_type": "code",
        "colab": {},
        "outputId": "168f804c-2ca3-4922-d1a7-2f940620124b"
      },
      "source": [
        "torch.tensor([1.,2.,3.,4.]).unsqueeze(1).shape"
      ],
      "execution_count": 0,
      "outputs": [
        {
          "output_type": "execute_result",
          "data": {
            "text/plain": [
              "torch.Size([4, 1])"
            ]
          },
          "metadata": {
            "tags": []
          },
          "execution_count": 36
        }
      ]
    },
    {
      "cell_type": "code",
      "metadata": {
        "id": "CsSwZT9gejza",
        "colab_type": "code",
        "colab": {},
        "outputId": "29cfb319-3487-4414-a32e-62c7ee9b0bf3"
      },
      "source": [
        "torch.tensor([1.,2.,3.,4.]).unsqueeze(1)"
      ],
      "execution_count": 0,
      "outputs": [
        {
          "output_type": "execute_result",
          "data": {
            "text/plain": [
              "tensor([[1.],\n",
              "        [2.],\n",
              "        [3.],\n",
              "        [4.]])"
            ]
          },
          "metadata": {
            "tags": []
          },
          "execution_count": 37
        }
      ]
    },
    {
      "cell_type": "code",
      "metadata": {
        "id": "WVj9wvqNejzc",
        "colab_type": "code",
        "colab": {},
        "outputId": "805f1221-79dc-47d0-eb32-3344b7e048ec"
      },
      "source": [
        "x.shape"
      ],
      "execution_count": 0,
      "outputs": [
        {
          "output_type": "execute_result",
          "data": {
            "text/plain": [
              "torch.Size([200])"
            ]
          },
          "metadata": {
            "tags": []
          },
          "execution_count": 38
        }
      ]
    },
    {
      "cell_type": "code",
      "metadata": {
        "id": "hf6_96ZVejzd",
        "colab_type": "code",
        "colab": {},
        "outputId": "06e4d344-e5d8-4525-90b9-2eb7f869555b"
      },
      "source": [
        "x = x.unsqueeze(1)\n",
        "x.shape"
      ],
      "execution_count": 0,
      "outputs": [
        {
          "output_type": "execute_result",
          "data": {
            "text/plain": [
              "torch.Size([200, 1])"
            ]
          },
          "metadata": {
            "tags": []
          },
          "execution_count": 40
        }
      ]
    },
    {
      "cell_type": "code",
      "metadata": {
        "id": "SqnaliAYejzf",
        "colab_type": "code",
        "colab": {},
        "outputId": "5e50ee69-2697-48c6-bc81-22c4a24c01ba"
      },
      "source": [
        "y = y.unsqueeze(1)\n",
        "y.shape"
      ],
      "execution_count": 0,
      "outputs": [
        {
          "output_type": "execute_result",
          "data": {
            "text/plain": [
              "torch.Size([200, 1])"
            ]
          },
          "metadata": {
            "tags": []
          },
          "execution_count": 41
        }
      ]
    },
    {
      "cell_type": "markdown",
      "metadata": {
        "id": "SxgndiRLejzj",
        "colab_type": "text"
      },
      "source": [
        "# nn.Linear"
      ]
    },
    {
      "cell_type": "code",
      "metadata": {
        "id": "Uf9Dk1l2ejzj",
        "colab_type": "code",
        "colab": {}
      },
      "source": [
        "import torch.nn as nn"
      ],
      "execution_count": 0,
      "outputs": []
    },
    {
      "cell_type": "code",
      "metadata": {
        "id": "n3boMTeIejzl",
        "colab_type": "code",
        "colab": {}
      },
      "source": [
        "model = nn.Linear(1,1, bias=False)"
      ],
      "execution_count": 0,
      "outputs": []
    },
    {
      "cell_type": "code",
      "metadata": {
        "id": "KyhrrWW3ejzn",
        "colab_type": "code",
        "colab": {},
        "outputId": "412b2649-478c-45e4-beb7-027b442226de"
      },
      "source": [
        "model"
      ],
      "execution_count": 0,
      "outputs": [
        {
          "output_type": "execute_result",
          "data": {
            "text/plain": [
              "Linear(in_features=1, out_features=1, bias=False)"
            ]
          },
          "metadata": {
            "tags": []
          },
          "execution_count": 66
        }
      ]
    },
    {
      "cell_type": "code",
      "metadata": {
        "id": "r9Ci71p8ejzp",
        "colab_type": "code",
        "colab": {}
      },
      "source": [
        "miles_x = torch.tensor([500.])"
      ],
      "execution_count": 0,
      "outputs": []
    },
    {
      "cell_type": "code",
      "metadata": {
        "id": "w8YN2bzLejzq",
        "colab_type": "code",
        "colab": {},
        "outputId": "f609cfee-88f1-4a87-ef6c-86f10ddabf25"
      },
      "source": [
        "list(model.parameters())"
      ],
      "execution_count": 0,
      "outputs": [
        {
          "output_type": "execute_result",
          "data": {
            "text/plain": [
              "[Parameter containing:\n",
              " tensor([[0.5386]], requires_grad=True)]"
            ]
          },
          "metadata": {
            "tags": []
          },
          "execution_count": 68
        }
      ]
    },
    {
      "cell_type": "code",
      "metadata": {
        "id": "6aRNJABAejzs",
        "colab_type": "code",
        "colab": {},
        "outputId": "86652a44-cf85-45d5-a65a-fc59ff5bcb82"
      },
      "source": [
        "model(miles_x)"
      ],
      "execution_count": 0,
      "outputs": [
        {
          "output_type": "execute_result",
          "data": {
            "text/plain": [
              "tensor([269.2768], grad_fn=<SqueezeBackward3>)"
            ]
          },
          "metadata": {
            "tags": []
          },
          "execution_count": 69
        }
      ]
    },
    {
      "cell_type": "code",
      "metadata": {
        "id": "SUpPpCIeejzu",
        "colab_type": "code",
        "colab": {},
        "outputId": "8a5db05b-6ad4-438e-8e98-a12fd2c62baa"
      },
      "source": [
        "500 * -0.6623 - 0.9010"
      ],
      "execution_count": 0,
      "outputs": [
        {
          "output_type": "execute_result",
          "data": {
            "text/plain": [
              "-332.051"
            ]
          },
          "metadata": {
            "tags": []
          },
          "execution_count": 70
        }
      ]
    },
    {
      "cell_type": "code",
      "metadata": {
        "id": "Ez6fLpRuejzv",
        "colab_type": "code",
        "colab": {}
      },
      "source": [
        "optimizer = torch.optim.SGD(model.parameters(), lr=0.0001)"
      ],
      "execution_count": 0,
      "outputs": []
    },
    {
      "cell_type": "code",
      "metadata": {
        "id": "7c-DMHneejzx",
        "colab_type": "code",
        "colab": {}
      },
      "source": [
        "criterion = nn.MSELoss()"
      ],
      "execution_count": 0,
      "outputs": []
    },
    {
      "cell_type": "code",
      "metadata": {
        "id": "VEqoONw7ejzy",
        "colab_type": "code",
        "colab": {},
        "outputId": "5bce9a03-e866-4c3d-c82c-c04a5fad02cf"
      },
      "source": [
        "for epoch in range(500):\n",
        "    pred = model(x)\n",
        "    loss = criterion(pred,y)\n",
        "    loss.backward()\n",
        "    optimizer.step()\n",
        "    optimizer.zero_grad()\n",
        "    print(loss.item())"
      ],
      "execution_count": 0,
      "outputs": [
        {
          "output_type": "stream",
          "text": [
            "3874.580322265625\n",
            "412.8849182128906\n",
            "47.336585998535156\n",
            "8.735440254211426\n",
            "4.6592488288879395\n",
            "4.228806018829346\n",
            "4.183352470397949\n",
            "4.178552627563477\n",
            "4.178045272827148\n",
            "4.177990913391113\n",
            "4.177985668182373\n",
            "4.177987098693848\n",
            "4.177984714508057\n",
            "4.1779866218566895\n",
            "4.177985191345215\n",
            "4.177985191345215\n",
            "4.177985191345215\n",
            "4.177985191345215\n",
            "4.177985191345215\n",
            "4.177985191345215\n",
            "4.177985191345215\n",
            "4.177985191345215\n",
            "4.177985191345215\n",
            "4.177985191345215\n",
            "4.177985191345215\n",
            "4.177985191345215\n",
            "4.177985191345215\n",
            "4.177985191345215\n",
            "4.177985191345215\n",
            "4.177985191345215\n",
            "4.177985191345215\n",
            "4.177985191345215\n",
            "4.177985191345215\n",
            "4.177985191345215\n",
            "4.177985191345215\n",
            "4.177985191345215\n",
            "4.177985191345215\n",
            "4.177985191345215\n",
            "4.177985191345215\n",
            "4.177985191345215\n",
            "4.177985191345215\n",
            "4.177985191345215\n",
            "4.177985191345215\n",
            "4.177985191345215\n",
            "4.177985191345215\n",
            "4.177985191345215\n",
            "4.177985191345215\n",
            "4.177985191345215\n",
            "4.177985191345215\n",
            "4.177985191345215\n",
            "4.177985191345215\n",
            "4.177985191345215\n",
            "4.177985191345215\n",
            "4.177985191345215\n",
            "4.177985191345215\n",
            "4.177985191345215\n",
            "4.177985191345215\n",
            "4.177985191345215\n",
            "4.177985191345215\n",
            "4.177985191345215\n",
            "4.177985191345215\n",
            "4.177985191345215\n",
            "4.177985191345215\n",
            "4.177985191345215\n",
            "4.177985191345215\n",
            "4.177985191345215\n",
            "4.177985191345215\n",
            "4.177985191345215\n",
            "4.177985191345215\n",
            "4.177985191345215\n",
            "4.177985191345215\n",
            "4.177985191345215\n",
            "4.177985191345215\n",
            "4.177985191345215\n",
            "4.177985191345215\n",
            "4.177985191345215\n",
            "4.177985191345215\n",
            "4.177985191345215\n",
            "4.177985191345215\n",
            "4.177985191345215\n",
            "4.177985191345215\n",
            "4.177985191345215\n",
            "4.177985191345215\n",
            "4.177985191345215\n",
            "4.177985191345215\n",
            "4.177985191345215\n",
            "4.177985191345215\n",
            "4.177985191345215\n",
            "4.177985191345215\n",
            "4.177985191345215\n",
            "4.177985191345215\n",
            "4.177985191345215\n",
            "4.177985191345215\n",
            "4.177985191345215\n",
            "4.177985191345215\n",
            "4.177985191345215\n",
            "4.177985191345215\n",
            "4.177985191345215\n",
            "4.177985191345215\n",
            "4.177985191345215\n",
            "4.177985191345215\n",
            "4.177985191345215\n",
            "4.177985191345215\n",
            "4.177985191345215\n",
            "4.177985191345215\n",
            "4.177985191345215\n",
            "4.177985191345215\n",
            "4.177985191345215\n",
            "4.177985191345215\n",
            "4.177985191345215\n",
            "4.177985191345215\n",
            "4.177985191345215\n",
            "4.177985191345215\n",
            "4.177985191345215\n",
            "4.177985191345215\n",
            "4.177985191345215\n",
            "4.177985191345215\n",
            "4.177985191345215\n",
            "4.177985191345215\n",
            "4.177985191345215\n",
            "4.177985191345215\n",
            "4.177985191345215\n",
            "4.177985191345215\n",
            "4.177985191345215\n",
            "4.177985191345215\n",
            "4.177985191345215\n",
            "4.177985191345215\n",
            "4.177985191345215\n",
            "4.177985191345215\n",
            "4.177985191345215\n",
            "4.177985191345215\n",
            "4.177985191345215\n",
            "4.177985191345215\n",
            "4.177985191345215\n",
            "4.177985191345215\n",
            "4.177985191345215\n",
            "4.177985191345215\n",
            "4.177985191345215\n",
            "4.177985191345215\n",
            "4.177985191345215\n",
            "4.177985191345215\n",
            "4.177985191345215\n",
            "4.177985191345215\n",
            "4.177985191345215\n",
            "4.177985191345215\n",
            "4.177985191345215\n",
            "4.177985191345215\n",
            "4.177985191345215\n",
            "4.177985191345215\n",
            "4.177985191345215\n",
            "4.177985191345215\n",
            "4.177985191345215\n",
            "4.177985191345215\n",
            "4.177985191345215\n",
            "4.177985191345215\n",
            "4.177985191345215\n",
            "4.177985191345215\n",
            "4.177985191345215\n",
            "4.177985191345215\n",
            "4.177985191345215\n",
            "4.177985191345215\n",
            "4.177985191345215\n",
            "4.177985191345215\n",
            "4.177985191345215\n",
            "4.177985191345215\n",
            "4.177985191345215\n",
            "4.177985191345215\n",
            "4.177985191345215\n",
            "4.177985191345215\n",
            "4.177985191345215\n",
            "4.177985191345215\n",
            "4.177985191345215\n",
            "4.177985191345215\n",
            "4.177985191345215\n",
            "4.177985191345215\n",
            "4.177985191345215\n",
            "4.177985191345215\n",
            "4.177985191345215\n",
            "4.177985191345215\n",
            "4.177985191345215\n",
            "4.177985191345215\n",
            "4.177985191345215\n",
            "4.177985191345215\n",
            "4.177985191345215\n",
            "4.177985191345215\n",
            "4.177985191345215\n",
            "4.177985191345215\n",
            "4.177985191345215\n",
            "4.177985191345215\n",
            "4.177985191345215\n",
            "4.177985191345215\n",
            "4.177985191345215\n",
            "4.177985191345215\n",
            "4.177985191345215\n",
            "4.177985191345215\n",
            "4.177985191345215\n",
            "4.177985191345215\n",
            "4.177985191345215\n",
            "4.177985191345215\n",
            "4.177985191345215\n",
            "4.177985191345215\n",
            "4.177985191345215\n",
            "4.177985191345215\n",
            "4.177985191345215\n",
            "4.177985191345215\n",
            "4.177985191345215\n",
            "4.177985191345215\n",
            "4.177985191345215\n",
            "4.177985191345215\n",
            "4.177985191345215\n",
            "4.177985191345215\n",
            "4.177985191345215\n",
            "4.177985191345215\n",
            "4.177985191345215\n",
            "4.177985191345215\n",
            "4.177985191345215\n",
            "4.177985191345215\n",
            "4.177985191345215\n",
            "4.177985191345215\n",
            "4.177985191345215\n",
            "4.177985191345215\n",
            "4.177985191345215\n",
            "4.177985191345215\n",
            "4.177985191345215\n",
            "4.177985191345215\n",
            "4.177985191345215\n",
            "4.177985191345215\n",
            "4.177985191345215\n",
            "4.177985191345215\n",
            "4.177985191345215\n",
            "4.177985191345215\n",
            "4.177985191345215\n",
            "4.177985191345215\n",
            "4.177985191345215\n",
            "4.177985191345215\n",
            "4.177985191345215\n",
            "4.177985191345215\n",
            "4.177985191345215\n",
            "4.177985191345215\n",
            "4.177985191345215\n",
            "4.177985191345215\n",
            "4.177985191345215\n",
            "4.177985191345215\n",
            "4.177985191345215\n",
            "4.177985191345215\n",
            "4.177985191345215\n",
            "4.177985191345215\n",
            "4.177985191345215\n",
            "4.177985191345215\n",
            "4.177985191345215\n",
            "4.177985191345215\n",
            "4.177985191345215\n",
            "4.177985191345215\n",
            "4.177985191345215\n",
            "4.177985191345215\n",
            "4.177985191345215\n",
            "4.177985191345215\n",
            "4.177985191345215\n",
            "4.177985191345215\n",
            "4.177985191345215\n",
            "4.177985191345215\n",
            "4.177985191345215\n",
            "4.177985191345215\n",
            "4.177985191345215\n",
            "4.177985191345215\n",
            "4.177985191345215\n",
            "4.177985191345215\n",
            "4.177985191345215\n",
            "4.177985191345215\n",
            "4.177985191345215\n",
            "4.177985191345215\n",
            "4.177985191345215\n",
            "4.177985191345215\n",
            "4.177985191345215\n",
            "4.177985191345215\n",
            "4.177985191345215\n",
            "4.177985191345215\n",
            "4.177985191345215\n",
            "4.177985191345215\n",
            "4.177985191345215\n",
            "4.177985191345215\n",
            "4.177985191345215\n",
            "4.177985191345215\n",
            "4.177985191345215\n",
            "4.177985191345215\n",
            "4.177985191345215\n",
            "4.177985191345215\n",
            "4.177985191345215\n",
            "4.177985191345215\n",
            "4.177985191345215\n",
            "4.177985191345215\n",
            "4.177985191345215\n",
            "4.177985191345215\n",
            "4.177985191345215\n",
            "4.177985191345215\n",
            "4.177985191345215\n",
            "4.177985191345215\n",
            "4.177985191345215\n",
            "4.177985191345215\n",
            "4.177985191345215\n",
            "4.177985191345215\n",
            "4.177985191345215\n",
            "4.177985191345215\n",
            "4.177985191345215\n",
            "4.177985191345215\n",
            "4.177985191345215\n",
            "4.177985191345215\n",
            "4.177985191345215\n",
            "4.177985191345215\n",
            "4.177985191345215\n",
            "4.177985191345215\n",
            "4.177985191345215\n",
            "4.177985191345215\n",
            "4.177985191345215\n",
            "4.177985191345215\n",
            "4.177985191345215\n",
            "4.177985191345215\n",
            "4.177985191345215\n",
            "4.177985191345215\n",
            "4.177985191345215\n",
            "4.177985191345215\n",
            "4.177985191345215\n",
            "4.177985191345215\n",
            "4.177985191345215\n",
            "4.177985191345215\n",
            "4.177985191345215\n",
            "4.177985191345215\n",
            "4.177985191345215\n",
            "4.177985191345215\n",
            "4.177985191345215\n",
            "4.177985191345215\n",
            "4.177985191345215\n",
            "4.177985191345215\n",
            "4.177985191345215\n",
            "4.177985191345215\n",
            "4.177985191345215\n",
            "4.177985191345215\n",
            "4.177985191345215\n",
            "4.177985191345215\n",
            "4.177985191345215\n",
            "4.177985191345215\n",
            "4.177985191345215\n",
            "4.177985191345215\n",
            "4.177985191345215\n",
            "4.177985191345215\n",
            "4.177985191345215\n",
            "4.177985191345215\n",
            "4.177985191345215\n",
            "4.177985191345215\n",
            "4.177985191345215\n",
            "4.177985191345215\n",
            "4.177985191345215\n",
            "4.177985191345215\n",
            "4.177985191345215\n",
            "4.177985191345215\n",
            "4.177985191345215\n",
            "4.177985191345215\n",
            "4.177985191345215\n",
            "4.177985191345215\n",
            "4.177985191345215\n",
            "4.177985191345215\n",
            "4.177985191345215\n",
            "4.177985191345215\n",
            "4.177985191345215\n",
            "4.177985191345215\n",
            "4.177985191345215\n",
            "4.177985191345215\n",
            "4.177985191345215\n",
            "4.177985191345215\n",
            "4.177985191345215\n",
            "4.177985191345215\n",
            "4.177985191345215\n",
            "4.177985191345215\n",
            "4.177985191345215\n",
            "4.177985191345215\n",
            "4.177985191345215\n",
            "4.177985191345215\n",
            "4.177985191345215\n",
            "4.177985191345215\n",
            "4.177985191345215\n",
            "4.177985191345215\n",
            "4.177985191345215\n",
            "4.177985191345215\n",
            "4.177985191345215\n",
            "4.177985191345215\n",
            "4.177985191345215\n",
            "4.177985191345215\n",
            "4.177985191345215\n",
            "4.177985191345215\n",
            "4.177985191345215\n",
            "4.177985191345215\n",
            "4.177985191345215\n",
            "4.177985191345215\n",
            "4.177985191345215\n",
            "4.177985191345215\n",
            "4.177985191345215\n",
            "4.177985191345215\n",
            "4.177985191345215\n",
            "4.177985191345215\n",
            "4.177985191345215\n",
            "4.177985191345215\n",
            "4.177985191345215\n",
            "4.177985191345215\n",
            "4.177985191345215\n",
            "4.177985191345215\n",
            "4.177985191345215\n",
            "4.177985191345215\n",
            "4.177985191345215\n",
            "4.177985191345215\n",
            "4.177985191345215\n",
            "4.177985191345215\n",
            "4.177985191345215\n",
            "4.177985191345215\n",
            "4.177985191345215\n",
            "4.177985191345215\n",
            "4.177985191345215\n",
            "4.177985191345215\n",
            "4.177985191345215\n",
            "4.177985191345215\n",
            "4.177985191345215\n",
            "4.177985191345215\n",
            "4.177985191345215\n",
            "4.177985191345215\n",
            "4.177985191345215\n",
            "4.177985191345215\n",
            "4.177985191345215\n",
            "4.177985191345215\n",
            "4.177985191345215\n",
            "4.177985191345215\n",
            "4.177985191345215\n",
            "4.177985191345215\n",
            "4.177985191345215\n",
            "4.177985191345215\n",
            "4.177985191345215\n",
            "4.177985191345215\n",
            "4.177985191345215\n",
            "4.177985191345215\n",
            "4.177985191345215\n",
            "4.177985191345215\n",
            "4.177985191345215\n",
            "4.177985191345215\n",
            "4.177985191345215\n",
            "4.177985191345215\n",
            "4.177985191345215\n",
            "4.177985191345215\n",
            "4.177985191345215\n",
            "4.177985191345215\n",
            "4.177985191345215\n",
            "4.177985191345215\n",
            "4.177985191345215\n",
            "4.177985191345215\n",
            "4.177985191345215\n",
            "4.177985191345215\n",
            "4.177985191345215\n",
            "4.177985191345215\n",
            "4.177985191345215\n",
            "4.177985191345215\n",
            "4.177985191345215\n",
            "4.177985191345215\n",
            "4.177985191345215\n",
            "4.177985191345215\n",
            "4.177985191345215\n",
            "4.177985191345215\n",
            "4.177985191345215\n",
            "4.177985191345215\n",
            "4.177985191345215\n",
            "4.177985191345215\n",
            "4.177985191345215\n",
            "4.177985191345215\n",
            "4.177985191345215\n",
            "4.177985191345215\n",
            "4.177985191345215\n",
            "4.177985191345215\n",
            "4.177985191345215\n",
            "4.177985191345215\n",
            "4.177985191345215\n",
            "4.177985191345215\n",
            "4.177985191345215\n",
            "4.177985191345215\n",
            "4.177985191345215\n",
            "4.177985191345215\n",
            "4.177985191345215\n",
            "4.177985191345215\n",
            "4.177985191345215\n",
            "4.177985191345215\n",
            "4.177985191345215\n",
            "4.177985191345215\n",
            "4.177985191345215\n",
            "4.177985191345215\n",
            "4.177985191345215\n",
            "4.177985191345215\n",
            "4.177985191345215\n",
            "4.177985191345215\n",
            "4.177985191345215\n",
            "4.177985191345215\n",
            "4.177985191345215\n",
            "4.177985191345215\n",
            "4.177985191345215\n",
            "4.177985191345215\n",
            "4.177985191345215\n"
          ],
          "name": "stdout"
        }
      ]
    },
    {
      "cell_type": "code",
      "metadata": {
        "id": "LHOWXvg8ejz0",
        "colab_type": "code",
        "colab": {},
        "outputId": "5931a30f-a715-49bf-d01a-47be13ed2fda"
      },
      "source": [
        "model(miles_x)"
      ],
      "execution_count": 0,
      "outputs": [
        {
          "output_type": "execute_result",
          "data": {
            "text/plain": [
              "tensor([804.7007], grad_fn=<SqueezeBackward3>)"
            ]
          },
          "metadata": {
            "tags": []
          },
          "execution_count": 74
        }
      ]
    },
    {
      "cell_type": "code",
      "metadata": {
        "id": "cT3VVAU8ejz1",
        "colab_type": "code",
        "colab": {},
        "outputId": "54660f06-3090-4a0b-87d6-abdf6bf5fb5e"
      },
      "source": [
        "list(model.parameters())"
      ],
      "execution_count": 0,
      "outputs": [
        {
          "output_type": "execute_result",
          "data": {
            "text/plain": [
              "[Parameter containing:\n",
              " tensor([[1.6094]], requires_grad=True)]"
            ]
          },
          "metadata": {
            "tags": []
          },
          "execution_count": 75
        }
      ]
    },
    {
      "cell_type": "markdown",
      "metadata": {
        "id": "oYUuITYxejz3",
        "colab_type": "text"
      },
      "source": [
        "# nn.Sequential"
      ]
    },
    {
      "cell_type": "code",
      "metadata": {
        "id": "Lh7wQeQYejz3",
        "colab_type": "code",
        "colab": {}
      },
      "source": [
        ""
      ],
      "execution_count": 0,
      "outputs": []
    },
    {
      "cell_type": "code",
      "metadata": {
        "id": "yR47GQyRejz5",
        "colab_type": "code",
        "colab": {}
      },
      "source": [
        "model = nn.Sequential(\n",
        "nn.Linear(1,10),\n",
        "nn.ReLU(),\n",
        "nn.Linear(10,1))"
      ],
      "execution_count": 0,
      "outputs": []
    },
    {
      "cell_type": "code",
      "metadata": {
        "id": "RU_sEbkAejz6",
        "colab_type": "code",
        "colab": {},
        "outputId": "4d1d0225-d00e-47e3-a0be-8b1f5e5146b9"
      },
      "source": [
        "model"
      ],
      "execution_count": 0,
      "outputs": [
        {
          "output_type": "execute_result",
          "data": {
            "text/plain": [
              "Sequential(\n",
              "  (0): Linear(in_features=1, out_features=10, bias=True)\n",
              "  (1): ReLU()\n",
              "  (2): Linear(in_features=10, out_features=1, bias=True)\n",
              ")"
            ]
          },
          "metadata": {
            "tags": []
          },
          "execution_count": 112
        }
      ]
    },
    {
      "cell_type": "code",
      "metadata": {
        "id": "N-BPK0ewejz8",
        "colab_type": "code",
        "colab": {}
      },
      "source": [
        "miles_x = torch.tensor([500.])"
      ],
      "execution_count": 0,
      "outputs": []
    },
    {
      "cell_type": "code",
      "metadata": {
        "id": "yldbPMqMejz-",
        "colab_type": "code",
        "colab": {},
        "outputId": "9cb92922-18b2-4c3c-fadc-6d243e9c41ad"
      },
      "source": [
        "list(model.parameters())"
      ],
      "execution_count": 0,
      "outputs": [
        {
          "output_type": "execute_result",
          "data": {
            "text/plain": [
              "[Parameter containing:\n",
              " tensor([[-0.5898],\n",
              "         [-0.3568],\n",
              "         [ 0.5161],\n",
              "         [ 0.2213],\n",
              "         [-0.8540],\n",
              "         [ 0.4979],\n",
              "         [-0.2126],\n",
              "         [ 0.7057],\n",
              "         [ 0.0815],\n",
              "         [-0.4678]], requires_grad=True),\n",
              " Parameter containing:\n",
              " tensor([-0.3970, -0.1921, -0.5602,  0.8594, -0.6063, -0.1593, -0.0708, -0.6269,\n",
              "         -0.5317,  0.3220], requires_grad=True),\n",
              " Parameter containing:\n",
              " tensor([[ 0.1794, -0.1784,  0.3139,  0.0756, -0.1610, -0.0412, -0.1824, -0.0100,\n",
              "           0.2236, -0.0056]], requires_grad=True),\n",
              " Parameter containing:\n",
              " tensor([0.3045], requires_grad=True)]"
            ]
          },
          "metadata": {
            "tags": []
          },
          "execution_count": 114
        }
      ]
    },
    {
      "cell_type": "code",
      "metadata": {
        "id": "BrJFR1RUej0A",
        "colab_type": "code",
        "colab": {},
        "outputId": "eb2a1a79-ffcc-4899-e050-c8fe0416816d"
      },
      "source": [
        "model(miles_x)"
      ],
      "execution_count": 0,
      "outputs": [
        {
          "output_type": "execute_result",
          "data": {
            "text/plain": [
              "tensor([84.7818], grad_fn=<AddBackward0>)"
            ]
          },
          "metadata": {
            "tags": []
          },
          "execution_count": 115
        }
      ]
    },
    {
      "cell_type": "code",
      "metadata": {
        "id": "e8LOFof1ej0C",
        "colab_type": "code",
        "colab": {}
      },
      "source": [
        "optimizer = torch.optim.Adam(model.parameters(), lr=0.01)"
      ],
      "execution_count": 0,
      "outputs": []
    },
    {
      "cell_type": "code",
      "metadata": {
        "id": "12qpOVWfej0D",
        "colab_type": "code",
        "colab": {}
      },
      "source": [
        "criterion = nn.MSELoss()"
      ],
      "execution_count": 0,
      "outputs": []
    },
    {
      "cell_type": "code",
      "metadata": {
        "id": "_x8WKhXOej0F",
        "colab_type": "code",
        "colab": {},
        "outputId": "6bb68968-07ad-4fd9-9672-8160fcbebc09"
      },
      "source": [
        "for epoch in range(500):\n",
        "    pred = model(x)\n",
        "    loss = criterion(pred,y)\n",
        "    loss.backward()\n",
        "    optimizer.step()\n",
        "    optimizer.zero_grad()\n",
        "    print(loss.item())"
      ],
      "execution_count": 0,
      "outputs": [
        {
          "output_type": "stream",
          "text": [
            "6990.4111328125\n",
            "6730.01416015625\n",
            "6472.4482421875\n",
            "6216.15380859375\n",
            "5960.05419921875\n",
            "5703.92822265625\n",
            "5447.60009765625\n",
            "5190.822265625\n",
            "4933.37158203125\n",
            "4675.19873046875\n",
            "4416.49951171875\n",
            "4157.6826171875\n",
            "3899.31591796875\n",
            "3642.0810546875\n",
            "3386.74365234375\n",
            "3134.137451171875\n",
            "2885.1513671875\n",
            "2640.719482421875\n",
            "2401.8193359375\n",
            "2169.454833984375\n",
            "1944.6485595703125\n",
            "1728.4306640625\n",
            "1521.822509765625\n",
            "1325.8221435546875\n",
            "1141.3837890625\n",
            "969.3980712890625\n",
            "810.6668701171875\n",
            "665.8816528320312\n",
            "535.5919799804688\n",
            "420.1830139160156\n",
            "319.846435546875\n",
            "234.55593872070312\n",
            "164.04727172851562\n",
            "107.80351257324219\n",
            "65.04861450195312\n",
            "34.75247573852539\n",
            "15.648695945739746\n",
            "6.266645431518555\n",
            "4.978307723999023\n",
            "10.0579252243042\n",
            "19.751937866210938\n",
            "32.35377502441406\n",
            "46.27760314941406\n",
            "60.124549865722656\n",
            "72.73485565185547\n",
            "83.22285461425781\n",
            "90.99006652832031\n",
            "95.71993255615234\n",
            "97.3525161743164\n",
            "96.04768371582031\n",
            "92.13705444335938\n",
            "86.07398223876953\n",
            "78.38235473632812\n",
            "69.61027526855469\n",
            "60.290794372558594\n",
            "50.9100227355957\n",
            "41.884666442871094\n",
            "33.54833984375\n",
            "26.145401000976562\n",
            "19.83167839050293\n",
            "14.680685997009277\n",
            "10.69363021850586\n",
            "7.811749458312988\n",
            "5.930364608764648\n",
            "4.912575721740723\n",
            "4.602567672729492\n",
            "4.837462425231934\n",
            "5.457463264465332\n",
            "6.313851356506348\n",
            "7.27507209777832\n",
            "8.230733871459961\n",
            "9.093703269958496\n",
            "9.800589561462402\n",
            "10.311047554016113\n",
            "10.605640411376953\n",
            "10.68320083618164\n",
            "10.557639122009277\n",
            "10.254386901855469\n",
            "9.806747436523438\n",
            "9.25268840789795\n",
            "8.631546974182129\n",
            "7.9814276695251465\n",
            "7.337055206298828\n",
            "6.727994918823242\n",
            "6.1777024269104\n",
            "5.702879428863525\n",
            "5.313438892364502\n",
            "5.012887001037598\n",
            "4.7990946769714355\n",
            "4.665183067321777\n",
            "4.600733280181885\n",
            "4.592950344085693\n",
            "4.627865791320801\n",
            "4.691407203674316\n",
            "4.7703471183776855\n",
            "4.852992057800293\n",
            "4.929742336273193\n",
            "4.993380069732666\n",
            "5.039118766784668\n",
            "5.0645341873168945\n",
            "5.069300651550293\n",
            "5.054865837097168\n",
            "5.02399206161499\n",
            "4.980314254760742\n",
            "4.927934169769287\n",
            "4.87100076675415\n",
            "4.813398838043213\n",
            "4.758478164672852\n",
            "4.708895683288574\n",
            "4.666543960571289\n",
            "4.6324992179870605\n",
            "4.607102394104004\n",
            "4.590044975280762\n",
            "4.58050537109375\n",
            "4.577279567718506\n",
            "4.578949451446533\n",
            "4.584020614624023\n",
            "4.5910420417785645\n",
            "4.5987043380737305\n",
            "4.605924606323242\n",
            "4.611871242523193\n",
            "4.615995407104492\n",
            "4.618007183074951\n",
            "4.617861270904541\n",
            "4.615726947784424\n",
            "4.611905574798584\n",
            "4.606802463531494\n",
            "4.6008734703063965\n",
            "4.594565391540527\n",
            "4.588306903839111\n",
            "4.582438945770264\n",
            "4.577235221862793\n",
            "4.572857856750488\n",
            "4.569400310516357\n",
            "4.5668559074401855\n",
            "4.565160274505615\n",
            "4.564182758331299\n",
            "4.5637736320495605\n",
            "4.563760757446289\n",
            "4.563975811004639\n",
            "4.564267635345459\n",
            "4.5644965171813965\n",
            "4.564575672149658\n",
            "4.5644354820251465\n",
            "4.5640549659729\n",
            "4.563416957855225\n",
            "4.562557697296143\n",
            "4.5615153312683105\n",
            "4.560335159301758\n",
            "4.559081554412842\n",
            "4.55780553817749\n",
            "4.556555271148682\n",
            "4.555367469787598\n",
            "4.5542707443237305\n",
            "4.553278923034668\n",
            "4.552388668060303\n",
            "4.551609039306641\n",
            "4.550909519195557\n",
            "4.550284385681152\n",
            "4.54970645904541\n",
            "4.54915714263916\n",
            "4.548612117767334\n",
            "4.548058986663818\n",
            "4.547492504119873\n",
            "4.546888828277588\n",
            "4.546258926391602\n",
            "4.545587062835693\n",
            "4.5448994636535645\n",
            "4.544179439544678\n",
            "4.54344367980957\n",
            "4.542708396911621\n",
            "4.541968822479248\n",
            "4.541227340698242\n",
            "4.540499687194824\n",
            "4.539786338806152\n",
            "4.53907585144043\n",
            "4.538384437561035\n",
            "4.5377020835876465\n",
            "4.537030220031738\n",
            "4.536367893218994\n",
            "4.535706043243408\n",
            "4.535041332244873\n",
            "4.534378528594971\n",
            "4.533708572387695\n",
            "4.53303861618042\n",
            "4.5323567390441895\n",
            "4.531677722930908\n",
            "4.530989646911621\n",
            "4.530295372009277\n",
            "4.529605388641357\n",
            "4.528905391693115\n",
            "4.528213024139404\n",
            "4.527512073516846\n",
            "4.526818752288818\n",
            "4.526121616363525\n",
            "4.525426387786865\n",
            "4.524735927581787\n",
            "4.5240397453308105\n",
            "4.52334451675415\n",
            "4.522649765014648\n",
            "4.521961688995361\n",
            "4.521266937255859\n",
            "4.520570278167725\n",
            "4.519871711730957\n",
            "4.5191755294799805\n",
            "4.518474578857422\n",
            "4.517776966094971\n",
            "4.517071723937988\n",
            "4.516369819641113\n",
            "4.515665054321289\n",
            "4.5149641036987305\n",
            "4.514254093170166\n",
            "4.513545513153076\n",
            "4.512838840484619\n",
            "4.5121331214904785\n",
            "4.5114264488220215\n",
            "4.510717868804932\n",
            "4.510006427764893\n",
            "4.509298801422119\n",
            "4.508587837219238\n",
            "4.50787878036499\n",
            "4.507166862487793\n",
            "4.506453514099121\n",
            "4.5057373046875\n",
            "4.505029201507568\n",
            "4.50431489944458\n",
            "4.503596305847168\n",
            "4.5028767585754395\n",
            "4.502162933349609\n",
            "4.501450538635254\n",
            "4.500729084014893\n",
            "4.500010013580322\n",
            "4.499297142028809\n",
            "4.498575210571289\n",
            "4.49785041809082\n",
            "4.497133731842041\n",
            "4.496411323547363\n",
            "4.49569034576416\n",
            "4.49496603012085\n",
            "4.494245529174805\n",
            "4.493523120880127\n",
            "4.492794990539551\n",
            "4.492074489593506\n",
            "4.491348743438721\n",
            "4.490625381469727\n",
            "4.489902496337891\n",
            "4.4891743659973145\n",
            "4.488449573516846\n",
            "4.48771858215332\n",
            "4.486993789672852\n",
            "4.486269950866699\n",
            "4.485536098480225\n",
            "4.484809398651123\n",
            "4.484081745147705\n",
            "4.483348369598389\n",
            "4.482620716094971\n",
            "4.4818902015686035\n",
            "4.481160640716553\n",
            "4.48042631149292\n",
            "4.4796953201293945\n",
            "4.478967666625977\n",
            "4.478232383728027\n",
            "4.477499485015869\n",
            "4.476771354675293\n",
            "4.476038455963135\n",
            "4.475306034088135\n",
            "4.474567413330078\n",
            "4.473834991455078\n",
            "4.473099231719971\n",
            "4.472364902496338\n",
            "4.471631050109863\n",
            "4.4708967208862305\n",
            "4.470160961151123\n",
            "4.469425201416016\n",
            "4.468693733215332\n",
            "4.467959403991699\n",
            "4.467220306396484\n",
            "4.466484546661377\n",
            "4.465747833251953\n",
            "4.465012073516846\n",
            "4.464275360107422\n",
            "4.463537693023682\n",
            "4.462802410125732\n",
            "4.462061405181885\n",
            "4.461325168609619\n",
            "4.460589408874512\n",
            "4.459848403930664\n",
            "4.459115028381348\n",
            "4.458375453948975\n",
            "4.457632064819336\n",
            "4.456900596618652\n",
            "4.456157207489014\n",
            "4.455420970916748\n",
            "4.454684734344482\n",
            "4.45394229888916\n",
            "4.4532012939453125\n",
            "4.452467441558838\n",
            "4.451728343963623\n",
            "4.450990676879883\n",
            "4.450247764587402\n",
            "4.449508190155029\n",
            "4.448768138885498\n",
            "4.4480299949646\n",
            "4.447294235229492\n",
            "4.446551322937012\n",
            "4.445812702178955\n",
            "4.445071220397949\n",
            "4.444335460662842\n",
            "4.4435954093933105\n",
            "4.442858695983887\n",
            "4.442120552062988\n",
            "4.441377639770508\n",
            "4.440642356872559\n",
            "4.439897537231445\n",
            "4.439160346984863\n",
            "4.4384260177612305\n",
            "4.437683582305908\n",
            "4.436944484710693\n",
            "4.436208724975586\n",
            "4.435464382171631\n",
            "4.434728145599365\n",
            "4.4339919090271\n",
            "4.433250427246094\n",
            "4.432510852813721\n",
            "4.431774139404297\n",
            "4.4310383796691895\n",
            "4.430296897888184\n",
            "4.429561138153076\n",
            "4.428825855255127\n",
            "4.4280877113342285\n",
            "4.427350997924805\n",
            "4.426608085632324\n",
            "4.425876617431641\n",
            "4.425136566162109\n",
            "4.4243998527526855\n",
            "4.4236650466918945\n",
            "4.422928333282471\n",
            "4.422192573547363\n",
            "4.421454429626465\n",
            "4.420714855194092\n",
            "4.419981479644775\n",
            "4.419248104095459\n",
            "4.418511390686035\n",
            "4.417778968811035\n",
            "4.417044162750244\n",
            "4.416308403015137\n",
            "4.415571212768555\n",
            "4.414839267730713\n",
            "4.414107322692871\n",
            "4.413371562957764\n",
            "4.412637710571289\n",
            "4.4119062423706055\n",
            "4.4111714363098145\n",
            "4.410440444946289\n",
            "4.409710884094238\n",
            "4.408975124359131\n",
            "4.408245086669922\n",
            "4.407514572143555\n",
            "4.406780242919922\n",
            "4.406047821044922\n",
            "4.40532112121582\n",
            "4.4045915603637695\n",
            "4.403859615325928\n",
            "4.403132915496826\n",
            "4.402403354644775\n",
            "4.401673793792725\n",
            "4.400941848754883\n",
            "4.400214672088623\n",
            "4.399492263793945\n",
            "4.39876127243042\n",
            "4.398035049438477\n",
            "4.397307872772217\n",
            "4.396580696105957\n",
            "4.395857334136963\n",
            "4.395127773284912\n",
            "4.394407749176025\n",
            "4.39368200302124\n",
            "4.392960071563721\n",
            "4.3922343254089355\n",
            "4.39150857925415\n",
            "4.390782356262207\n",
            "4.390064716339111\n",
            "4.389341354370117\n",
            "4.388620376586914\n",
            "4.387897968292236\n",
            "4.387182235717773\n",
            "4.386457443237305\n",
            "4.385735988616943\n",
            "4.385018348693848\n",
            "4.3842997550964355\n",
            "4.3835768699646\n",
            "4.3828630447387695\n",
            "4.382143974304199\n",
            "4.381425380706787\n",
            "4.380709171295166\n",
            "4.3799920082092285\n",
            "4.379272937774658\n",
            "4.378560543060303\n",
            "4.377847194671631\n",
            "4.377134799957275\n",
            "4.376418590545654\n",
            "4.37570333480835\n",
            "4.374992847442627\n",
            "4.374281406402588\n",
            "4.373571872711182\n",
            "4.372859477996826\n",
            "4.372145175933838\n",
            "4.3714375495910645\n",
            "4.370724678039551\n",
            "4.370020389556885\n",
            "4.369309902191162\n",
            "4.3686041831970215\n",
            "4.367895126342773\n",
            "4.367190361022949\n",
            "4.366481781005859\n",
            "4.365777492523193\n",
            "4.365070343017578\n",
            "4.364363670349121\n",
            "4.3636627197265625\n",
            "4.362955093383789\n",
            "4.362253665924072\n",
            "4.361553192138672\n",
            "4.360852241516113\n",
            "4.3601508140563965\n",
            "4.359452724456787\n",
            "4.358750820159912\n",
            "4.358050346374512\n",
            "4.357354640960693\n",
            "4.356654167175293\n",
            "4.355958461761475\n",
            "4.355260848999023\n",
            "4.354567527770996\n",
            "4.353869438171387\n",
            "4.353174686431885\n",
            "4.352474212646484\n",
            "4.351788520812988\n",
            "4.351089000701904\n",
            "4.350402355194092\n",
            "4.349711894989014\n",
            "4.349020481109619\n",
            "4.348329067230225\n",
            "4.347636699676514\n",
            "4.346948146820068\n",
            "4.346261024475098\n",
            "4.345571994781494\n",
            "4.3448920249938965\n",
            "4.344200134277344\n",
            "4.343514442443848\n",
            "4.342831134796143\n",
            "4.342148780822754\n",
            "4.341468334197998\n",
            "4.340777397155762\n",
            "4.340097427368164\n",
            "4.339416980743408\n",
            "4.338738918304443\n",
            "4.338059425354004\n",
            "4.337376594543457\n",
            "4.336699485778809\n",
            "4.336024761199951\n",
            "4.3353447914123535\n",
            "4.334667205810547\n",
            "4.333990097045898\n",
            "4.333319187164307\n",
            "4.332646369934082\n",
            "4.331965446472168\n",
            "4.331299304962158\n",
            "4.330629825592041\n",
            "4.329950332641602\n",
            "4.329283714294434\n",
            "4.328617095947266\n",
            "4.327945709228516\n",
            "4.327279090881348\n",
            "4.326611518859863\n",
            "4.325944900512695\n",
            "4.325277328491211\n",
            "4.324610710144043\n",
            "4.323949813842773\n",
            "4.323284149169922\n",
            "4.322620868682861\n",
            "4.321962833404541\n",
            "4.321299076080322\n",
            "4.3206377029418945\n",
            "4.319978713989258\n",
            "4.319321155548096\n",
            "4.318660736083984\n",
            "4.318007946014404\n",
            "4.317354679107666\n",
            "4.316692352294922\n",
            "4.3160400390625\n",
            "4.315390110015869\n",
            "4.314728736877441\n",
            "4.314080715179443\n",
            "4.31342887878418\n",
            "4.3127760887146\n",
            "4.312129974365234\n",
            "4.3114824295043945\n",
            "4.310828685760498\n",
            "4.310184001922607\n",
            "4.309540271759033\n",
            "4.308889865875244\n"
          ],
          "name": "stdout"
        }
      ]
    },
    {
      "cell_type": "code",
      "metadata": {
        "id": "R1DCNIN9ej0H",
        "colab_type": "code",
        "colab": {},
        "outputId": "1629ae3f-5d13-4c72-a0a9-a1cd7b10460d"
      },
      "source": [
        "model(miles_x)"
      ],
      "execution_count": 0,
      "outputs": [
        {
          "output_type": "execute_result",
          "data": {
            "text/plain": [
              "tensor([802.6452], grad_fn=<AddBackward0>)"
            ]
          },
          "metadata": {
            "tags": []
          },
          "execution_count": 119
        }
      ]
    },
    {
      "cell_type": "markdown",
      "metadata": {
        "id": "0gBwkenHej0J",
        "colab_type": "text"
      },
      "source": [
        "# nn.Module"
      ]
    },
    {
      "cell_type": "code",
      "metadata": {
        "id": "SKFsqP3Dej0K",
        "colab_type": "code",
        "colab": {}
      },
      "source": [
        "class Model(nn.Module):\n",
        "    def __init__(self):\n",
        "        super().__init__()\n",
        "        self.l1 = nn.Linear(1,10)\n",
        "        self.relu = nn.ReLU()\n",
        "        self.l2 = nn.Linear(10,1)\n",
        "    def forward(self,x):\n",
        "        x = self.relu(self.l1(x))\n",
        "        x = self.l2(x)\n",
        "        return x"
      ],
      "execution_count": 0,
      "outputs": []
    },
    {
      "cell_type": "code",
      "metadata": {
        "id": "A_GvDEPnej0L",
        "colab_type": "code",
        "colab": {},
        "outputId": "a3b678ac-d84c-4df5-9189-d0c4bd41e6c6"
      },
      "source": [
        "model = Model()\n",
        "model"
      ],
      "execution_count": 0,
      "outputs": [
        {
          "output_type": "execute_result",
          "data": {
            "text/plain": [
              "Model(\n",
              "  (l1): Linear(in_features=1, out_features=10, bias=True)\n",
              "  (relu): ReLU()\n",
              "  (l2): Linear(in_features=10, out_features=1, bias=True)\n",
              ")"
            ]
          },
          "metadata": {
            "tags": []
          },
          "execution_count": 121
        }
      ]
    },
    {
      "cell_type": "code",
      "metadata": {
        "id": "dpMG6Gssej0M",
        "colab_type": "code",
        "colab": {}
      },
      "source": [
        ""
      ],
      "execution_count": 0,
      "outputs": []
    },
    {
      "cell_type": "code",
      "metadata": {
        "id": "CdwTPoCSej0N",
        "colab_type": "code",
        "colab": {}
      },
      "source": [
        "miles_x = torch.tensor([500.])"
      ],
      "execution_count": 0,
      "outputs": []
    },
    {
      "cell_type": "code",
      "metadata": {
        "id": "oCVmlXlgej0P",
        "colab_type": "code",
        "colab": {},
        "outputId": "b94dc304-d3d6-472a-c3a8-580cc0c59ff8"
      },
      "source": [
        "list(model.parameters())"
      ],
      "execution_count": 0,
      "outputs": [
        {
          "output_type": "execute_result",
          "data": {
            "text/plain": [
              "[Parameter containing:\n",
              " tensor([[-0.5898],\n",
              "         [-0.3568],\n",
              "         [ 0.5161],\n",
              "         [ 0.2213],\n",
              "         [-0.8540],\n",
              "         [ 0.4979],\n",
              "         [-0.2126],\n",
              "         [ 0.7057],\n",
              "         [ 0.0815],\n",
              "         [-0.4678]], requires_grad=True),\n",
              " Parameter containing:\n",
              " tensor([-0.3970, -0.1921, -0.5602,  0.8594, -0.6063, -0.1593, -0.0708, -0.6269,\n",
              "         -0.5317,  0.3220], requires_grad=True),\n",
              " Parameter containing:\n",
              " tensor([[ 0.1794, -0.1784,  0.3139,  0.0756, -0.1610, -0.0412, -0.1824, -0.0100,\n",
              "           0.2236, -0.0056]], requires_grad=True),\n",
              " Parameter containing:\n",
              " tensor([0.3045], requires_grad=True)]"
            ]
          },
          "metadata": {
            "tags": []
          },
          "execution_count": 114
        }
      ]
    },
    {
      "cell_type": "code",
      "metadata": {
        "id": "76xZbMneej0R",
        "colab_type": "code",
        "colab": {},
        "outputId": "6f1473d5-3ab8-432f-9808-d012488e1a46"
      },
      "source": [
        "model(miles_x)"
      ],
      "execution_count": 0,
      "outputs": [
        {
          "output_type": "execute_result",
          "data": {
            "text/plain": [
              "tensor([84.7818], grad_fn=<AddBackward0>)"
            ]
          },
          "metadata": {
            "tags": []
          },
          "execution_count": 115
        }
      ]
    },
    {
      "cell_type": "code",
      "metadata": {
        "id": "h5dzOuTPej0T",
        "colab_type": "code",
        "colab": {}
      },
      "source": [
        "optimizer = torch.optim.Adam(model.parameters(), lr=0.01)"
      ],
      "execution_count": 0,
      "outputs": []
    },
    {
      "cell_type": "code",
      "metadata": {
        "id": "8MNlXbGpej0V",
        "colab_type": "code",
        "colab": {}
      },
      "source": [
        "criterion = nn.MSELoss()"
      ],
      "execution_count": 0,
      "outputs": []
    },
    {
      "cell_type": "code",
      "metadata": {
        "id": "rfGIJrY-ej0X",
        "colab_type": "code",
        "colab": {},
        "outputId": "2f23bc42-391b-4295-dfed-14cb5df58ff2"
      },
      "source": [
        "for epoch in range(500):\n",
        "    pred = model(x)\n",
        "    loss = criterion(pred,y)\n",
        "    loss.backward()\n",
        "    optimizer.step()\n",
        "    optimizer.zero_grad()\n",
        "    print(loss.item())"
      ],
      "execution_count": 0,
      "outputs": [
        {
          "output_type": "stream",
          "text": [
            "6990.4111328125\n",
            "6730.01416015625\n",
            "6472.4482421875\n",
            "6216.15380859375\n",
            "5960.05419921875\n",
            "5703.92822265625\n",
            "5447.60009765625\n",
            "5190.822265625\n",
            "4933.37158203125\n",
            "4675.19873046875\n",
            "4416.49951171875\n",
            "4157.6826171875\n",
            "3899.31591796875\n",
            "3642.0810546875\n",
            "3386.74365234375\n",
            "3134.137451171875\n",
            "2885.1513671875\n",
            "2640.719482421875\n",
            "2401.8193359375\n",
            "2169.454833984375\n",
            "1944.6485595703125\n",
            "1728.4306640625\n",
            "1521.822509765625\n",
            "1325.8221435546875\n",
            "1141.3837890625\n",
            "969.3980712890625\n",
            "810.6668701171875\n",
            "665.8816528320312\n",
            "535.5919799804688\n",
            "420.1830139160156\n",
            "319.846435546875\n",
            "234.55593872070312\n",
            "164.04727172851562\n",
            "107.80351257324219\n",
            "65.04861450195312\n",
            "34.75247573852539\n",
            "15.648695945739746\n",
            "6.266645431518555\n",
            "4.978307723999023\n",
            "10.0579252243042\n",
            "19.751937866210938\n",
            "32.35377502441406\n",
            "46.27760314941406\n",
            "60.124549865722656\n",
            "72.73485565185547\n",
            "83.22285461425781\n",
            "90.99006652832031\n",
            "95.71993255615234\n",
            "97.3525161743164\n",
            "96.04768371582031\n",
            "92.13705444335938\n",
            "86.07398223876953\n",
            "78.38235473632812\n",
            "69.61027526855469\n",
            "60.290794372558594\n",
            "50.9100227355957\n",
            "41.884666442871094\n",
            "33.54833984375\n",
            "26.145401000976562\n",
            "19.83167839050293\n",
            "14.680685997009277\n",
            "10.69363021850586\n",
            "7.811749458312988\n",
            "5.930364608764648\n",
            "4.912575721740723\n",
            "4.602567672729492\n",
            "4.837462425231934\n",
            "5.457463264465332\n",
            "6.313851356506348\n",
            "7.27507209777832\n",
            "8.230733871459961\n",
            "9.093703269958496\n",
            "9.800589561462402\n",
            "10.311047554016113\n",
            "10.605640411376953\n",
            "10.68320083618164\n",
            "10.557639122009277\n",
            "10.254386901855469\n",
            "9.806747436523438\n",
            "9.25268840789795\n",
            "8.631546974182129\n",
            "7.9814276695251465\n",
            "7.337055206298828\n",
            "6.727994918823242\n",
            "6.1777024269104\n",
            "5.702879428863525\n",
            "5.313438892364502\n",
            "5.012887001037598\n",
            "4.7990946769714355\n",
            "4.665183067321777\n",
            "4.600733280181885\n",
            "4.592950344085693\n",
            "4.627865791320801\n",
            "4.691407203674316\n",
            "4.7703471183776855\n",
            "4.852992057800293\n",
            "4.929742336273193\n",
            "4.993380069732666\n",
            "5.039118766784668\n",
            "5.0645341873168945\n",
            "5.069300651550293\n",
            "5.054865837097168\n",
            "5.02399206161499\n",
            "4.980314254760742\n",
            "4.927934169769287\n",
            "4.87100076675415\n",
            "4.813398838043213\n",
            "4.758478164672852\n",
            "4.708895683288574\n",
            "4.666543960571289\n",
            "4.6324992179870605\n",
            "4.607102394104004\n",
            "4.590044975280762\n",
            "4.58050537109375\n",
            "4.577279567718506\n",
            "4.578949451446533\n",
            "4.584020614624023\n",
            "4.5910420417785645\n",
            "4.5987043380737305\n",
            "4.605924606323242\n",
            "4.611871242523193\n",
            "4.615995407104492\n",
            "4.618007183074951\n",
            "4.617861270904541\n",
            "4.615726947784424\n",
            "4.611905574798584\n",
            "4.606802463531494\n",
            "4.6008734703063965\n",
            "4.594565391540527\n",
            "4.588306903839111\n",
            "4.582438945770264\n",
            "4.577235221862793\n",
            "4.572857856750488\n",
            "4.569400310516357\n",
            "4.5668559074401855\n",
            "4.565160274505615\n",
            "4.564182758331299\n",
            "4.5637736320495605\n",
            "4.563760757446289\n",
            "4.563975811004639\n",
            "4.564267635345459\n",
            "4.5644965171813965\n",
            "4.564575672149658\n",
            "4.5644354820251465\n",
            "4.5640549659729\n",
            "4.563416957855225\n",
            "4.562557697296143\n",
            "4.5615153312683105\n",
            "4.560335159301758\n",
            "4.559081554412842\n",
            "4.55780553817749\n",
            "4.556555271148682\n",
            "4.555367469787598\n",
            "4.5542707443237305\n",
            "4.553278923034668\n",
            "4.552388668060303\n",
            "4.551609039306641\n",
            "4.550909519195557\n",
            "4.550284385681152\n",
            "4.54970645904541\n",
            "4.54915714263916\n",
            "4.548612117767334\n",
            "4.548058986663818\n",
            "4.547492504119873\n",
            "4.546888828277588\n",
            "4.546258926391602\n",
            "4.545587062835693\n",
            "4.5448994636535645\n",
            "4.544179439544678\n",
            "4.54344367980957\n",
            "4.542708396911621\n",
            "4.541968822479248\n",
            "4.541227340698242\n",
            "4.540499687194824\n",
            "4.539786338806152\n",
            "4.53907585144043\n",
            "4.538384437561035\n",
            "4.5377020835876465\n",
            "4.537030220031738\n",
            "4.536367893218994\n",
            "4.535706043243408\n",
            "4.535041332244873\n",
            "4.534378528594971\n",
            "4.533708572387695\n",
            "4.53303861618042\n",
            "4.5323567390441895\n",
            "4.531677722930908\n",
            "4.530989646911621\n",
            "4.530295372009277\n",
            "4.529605388641357\n",
            "4.528905391693115\n",
            "4.528213024139404\n",
            "4.527512073516846\n",
            "4.526818752288818\n",
            "4.526121616363525\n",
            "4.525426387786865\n",
            "4.524735927581787\n",
            "4.5240397453308105\n",
            "4.52334451675415\n",
            "4.522649765014648\n",
            "4.521961688995361\n",
            "4.521266937255859\n",
            "4.520570278167725\n",
            "4.519871711730957\n",
            "4.5191755294799805\n",
            "4.518474578857422\n",
            "4.517776966094971\n",
            "4.517071723937988\n",
            "4.516369819641113\n",
            "4.515665054321289\n",
            "4.5149641036987305\n",
            "4.514254093170166\n",
            "4.513545513153076\n",
            "4.512838840484619\n",
            "4.5121331214904785\n",
            "4.5114264488220215\n",
            "4.510717868804932\n",
            "4.510006427764893\n",
            "4.509298801422119\n",
            "4.508587837219238\n",
            "4.50787878036499\n",
            "4.507166862487793\n",
            "4.506453514099121\n",
            "4.5057373046875\n",
            "4.505029201507568\n",
            "4.50431489944458\n",
            "4.503596305847168\n",
            "4.5028767585754395\n",
            "4.502162933349609\n",
            "4.501450538635254\n",
            "4.500729084014893\n",
            "4.500010013580322\n",
            "4.499297142028809\n",
            "4.498575210571289\n",
            "4.49785041809082\n",
            "4.497133731842041\n",
            "4.496411323547363\n",
            "4.49569034576416\n",
            "4.49496603012085\n",
            "4.494245529174805\n",
            "4.493523120880127\n",
            "4.492794990539551\n",
            "4.492074489593506\n",
            "4.491348743438721\n",
            "4.490625381469727\n",
            "4.489902496337891\n",
            "4.4891743659973145\n",
            "4.488449573516846\n",
            "4.48771858215332\n",
            "4.486993789672852\n",
            "4.486269950866699\n",
            "4.485536098480225\n",
            "4.484809398651123\n",
            "4.484081745147705\n",
            "4.483348369598389\n",
            "4.482620716094971\n",
            "4.4818902015686035\n",
            "4.481160640716553\n",
            "4.48042631149292\n",
            "4.4796953201293945\n",
            "4.478967666625977\n",
            "4.478232383728027\n",
            "4.477499485015869\n",
            "4.476771354675293\n",
            "4.476038455963135\n",
            "4.475306034088135\n",
            "4.474567413330078\n",
            "4.473834991455078\n",
            "4.473099231719971\n",
            "4.472364902496338\n",
            "4.471631050109863\n",
            "4.4708967208862305\n",
            "4.470160961151123\n",
            "4.469425201416016\n",
            "4.468693733215332\n",
            "4.467959403991699\n",
            "4.467220306396484\n",
            "4.466484546661377\n",
            "4.465747833251953\n",
            "4.465012073516846\n",
            "4.464275360107422\n",
            "4.463537693023682\n",
            "4.462802410125732\n",
            "4.462061405181885\n",
            "4.461325168609619\n",
            "4.460589408874512\n",
            "4.459848403930664\n",
            "4.459115028381348\n",
            "4.458375453948975\n",
            "4.457632064819336\n",
            "4.456900596618652\n",
            "4.456157207489014\n",
            "4.455420970916748\n",
            "4.454684734344482\n",
            "4.45394229888916\n",
            "4.4532012939453125\n",
            "4.452467441558838\n",
            "4.451728343963623\n",
            "4.450990676879883\n",
            "4.450247764587402\n",
            "4.449508190155029\n",
            "4.448768138885498\n",
            "4.4480299949646\n",
            "4.447294235229492\n",
            "4.446551322937012\n",
            "4.445812702178955\n",
            "4.445071220397949\n",
            "4.444335460662842\n",
            "4.4435954093933105\n",
            "4.442858695983887\n",
            "4.442120552062988\n",
            "4.441377639770508\n",
            "4.440642356872559\n",
            "4.439897537231445\n",
            "4.439160346984863\n",
            "4.4384260177612305\n",
            "4.437683582305908\n",
            "4.436944484710693\n",
            "4.436208724975586\n",
            "4.435464382171631\n",
            "4.434728145599365\n",
            "4.4339919090271\n",
            "4.433250427246094\n",
            "4.432510852813721\n",
            "4.431774139404297\n",
            "4.4310383796691895\n",
            "4.430296897888184\n",
            "4.429561138153076\n",
            "4.428825855255127\n",
            "4.4280877113342285\n",
            "4.427350997924805\n",
            "4.426608085632324\n",
            "4.425876617431641\n",
            "4.425136566162109\n",
            "4.4243998527526855\n",
            "4.4236650466918945\n",
            "4.422928333282471\n",
            "4.422192573547363\n",
            "4.421454429626465\n",
            "4.420714855194092\n",
            "4.419981479644775\n",
            "4.419248104095459\n",
            "4.418511390686035\n",
            "4.417778968811035\n",
            "4.417044162750244\n",
            "4.416308403015137\n",
            "4.415571212768555\n",
            "4.414839267730713\n",
            "4.414107322692871\n",
            "4.413371562957764\n",
            "4.412637710571289\n",
            "4.4119062423706055\n",
            "4.4111714363098145\n",
            "4.410440444946289\n",
            "4.409710884094238\n",
            "4.408975124359131\n",
            "4.408245086669922\n",
            "4.407514572143555\n",
            "4.406780242919922\n",
            "4.406047821044922\n",
            "4.40532112121582\n",
            "4.4045915603637695\n",
            "4.403859615325928\n",
            "4.403132915496826\n",
            "4.402403354644775\n",
            "4.401673793792725\n",
            "4.400941848754883\n",
            "4.400214672088623\n",
            "4.399492263793945\n",
            "4.39876127243042\n",
            "4.398035049438477\n",
            "4.397307872772217\n",
            "4.396580696105957\n",
            "4.395857334136963\n",
            "4.395127773284912\n",
            "4.394407749176025\n",
            "4.39368200302124\n",
            "4.392960071563721\n",
            "4.3922343254089355\n",
            "4.39150857925415\n",
            "4.390782356262207\n",
            "4.390064716339111\n",
            "4.389341354370117\n",
            "4.388620376586914\n",
            "4.387897968292236\n",
            "4.387182235717773\n",
            "4.386457443237305\n",
            "4.385735988616943\n",
            "4.385018348693848\n",
            "4.3842997550964355\n",
            "4.3835768699646\n",
            "4.3828630447387695\n",
            "4.382143974304199\n",
            "4.381425380706787\n",
            "4.380709171295166\n",
            "4.3799920082092285\n",
            "4.379272937774658\n",
            "4.378560543060303\n",
            "4.377847194671631\n",
            "4.377134799957275\n",
            "4.376418590545654\n",
            "4.37570333480835\n",
            "4.374992847442627\n",
            "4.374281406402588\n",
            "4.373571872711182\n",
            "4.372859477996826\n",
            "4.372145175933838\n",
            "4.3714375495910645\n",
            "4.370724678039551\n",
            "4.370020389556885\n",
            "4.369309902191162\n",
            "4.3686041831970215\n",
            "4.367895126342773\n",
            "4.367190361022949\n",
            "4.366481781005859\n",
            "4.365777492523193\n",
            "4.365070343017578\n",
            "4.364363670349121\n",
            "4.3636627197265625\n",
            "4.362955093383789\n",
            "4.362253665924072\n",
            "4.361553192138672\n",
            "4.360852241516113\n",
            "4.3601508140563965\n",
            "4.359452724456787\n",
            "4.358750820159912\n",
            "4.358050346374512\n",
            "4.357354640960693\n",
            "4.356654167175293\n",
            "4.355958461761475\n",
            "4.355260848999023\n",
            "4.354567527770996\n",
            "4.353869438171387\n",
            "4.353174686431885\n",
            "4.352474212646484\n",
            "4.351788520812988\n",
            "4.351089000701904\n",
            "4.350402355194092\n",
            "4.349711894989014\n",
            "4.349020481109619\n",
            "4.348329067230225\n",
            "4.347636699676514\n",
            "4.346948146820068\n",
            "4.346261024475098\n",
            "4.345571994781494\n",
            "4.3448920249938965\n",
            "4.344200134277344\n",
            "4.343514442443848\n",
            "4.342831134796143\n",
            "4.342148780822754\n",
            "4.341468334197998\n",
            "4.340777397155762\n",
            "4.340097427368164\n",
            "4.339416980743408\n",
            "4.338738918304443\n",
            "4.338059425354004\n",
            "4.337376594543457\n",
            "4.336699485778809\n",
            "4.336024761199951\n",
            "4.3353447914123535\n",
            "4.334667205810547\n",
            "4.333990097045898\n",
            "4.333319187164307\n",
            "4.332646369934082\n",
            "4.331965446472168\n",
            "4.331299304962158\n",
            "4.330629825592041\n",
            "4.329950332641602\n",
            "4.329283714294434\n",
            "4.328617095947266\n",
            "4.327945709228516\n",
            "4.327279090881348\n",
            "4.326611518859863\n",
            "4.325944900512695\n",
            "4.325277328491211\n",
            "4.324610710144043\n",
            "4.323949813842773\n",
            "4.323284149169922\n",
            "4.322620868682861\n",
            "4.321962833404541\n",
            "4.321299076080322\n",
            "4.3206377029418945\n",
            "4.319978713989258\n",
            "4.319321155548096\n",
            "4.318660736083984\n",
            "4.318007946014404\n",
            "4.317354679107666\n",
            "4.316692352294922\n",
            "4.3160400390625\n",
            "4.315390110015869\n",
            "4.314728736877441\n",
            "4.314080715179443\n",
            "4.31342887878418\n",
            "4.3127760887146\n",
            "4.312129974365234\n",
            "4.3114824295043945\n",
            "4.310828685760498\n",
            "4.310184001922607\n",
            "4.309540271759033\n",
            "4.308889865875244\n"
          ],
          "name": "stdout"
        }
      ]
    },
    {
      "cell_type": "code",
      "metadata": {
        "id": "Q62hA6XDej0Y",
        "colab_type": "code",
        "colab": {},
        "outputId": "88221e17-1773-4617-9002-13ec99ecd7cf"
      },
      "source": [
        "model(miles_x)"
      ],
      "execution_count": 0,
      "outputs": [
        {
          "output_type": "execute_result",
          "data": {
            "text/plain": [
              "tensor([802.6452], grad_fn=<AddBackward0>)"
            ]
          },
          "metadata": {
            "tags": []
          },
          "execution_count": 119
        }
      ]
    },
    {
      "cell_type": "markdown",
      "metadata": {
        "id": "TsEkULJQej0b",
        "colab_type": "text"
      },
      "source": [
        "# nn.Module"
      ]
    },
    {
      "cell_type": "code",
      "metadata": {
        "id": "7bE69DfRej0b",
        "colab_type": "code",
        "colab": {}
      },
      "source": [
        "class Model(nn.Module):\n",
        "    def __init__(self):\n",
        "        super().__init__()\n",
        "        self.l1 = nn.Linear(1,10)\n",
        "        self.relu = nn.ReLU()\n",
        "        self.l2 = nn.Linear(10,1)\n",
        "    def forward(self,x):\n",
        "        x = self.relu(self.l1(x))\n",
        "        x = self.l2(x)\n",
        "        return x"
      ],
      "execution_count": 0,
      "outputs": []
    },
    {
      "cell_type": "code",
      "metadata": {
        "id": "vxa6aCXeej0d",
        "colab_type": "code",
        "colab": {},
        "outputId": "50551209-9c26-4e32-95c6-347ba1f3f1f6"
      },
      "source": [
        "model = Model()\n",
        "model"
      ],
      "execution_count": 0,
      "outputs": [
        {
          "output_type": "execute_result",
          "data": {
            "text/plain": [
              "Model(\n",
              "  (l1): Linear(in_features=1, out_features=10, bias=True)\n",
              "  (relu): ReLU()\n",
              "  (l2): Linear(in_features=10, out_features=1, bias=True)\n",
              ")"
            ]
          },
          "metadata": {
            "tags": []
          },
          "execution_count": 121
        }
      ]
    },
    {
      "cell_type": "code",
      "metadata": {
        "id": "0Oada0Usej0e",
        "colab_type": "code",
        "colab": {}
      },
      "source": [
        ""
      ],
      "execution_count": 0,
      "outputs": []
    },
    {
      "cell_type": "code",
      "metadata": {
        "id": "y6Fzlwzrej0g",
        "colab_type": "code",
        "colab": {}
      },
      "source": [
        "miles_x = torch.tensor([500.])"
      ],
      "execution_count": 0,
      "outputs": []
    },
    {
      "cell_type": "code",
      "metadata": {
        "id": "0a6KWI38ej0h",
        "colab_type": "code",
        "colab": {},
        "outputId": "336eec5e-40f1-44df-92b0-1e96ad985642"
      },
      "source": [
        "list(model.parameters())"
      ],
      "execution_count": 0,
      "outputs": [
        {
          "output_type": "execute_result",
          "data": {
            "text/plain": [
              "[Parameter containing:\n",
              " tensor([[ 0.9702],\n",
              "         [ 0.4986],\n",
              "         [ 0.3382],\n",
              "         [ 0.0900],\n",
              "         [-0.2106],\n",
              "         [ 0.3236],\n",
              "         [ 0.9328],\n",
              "         [-0.5681],\n",
              "         [-0.3447],\n",
              "         [ 0.0435]], requires_grad=True),\n",
              " Parameter containing:\n",
              " tensor([-4.8608e-01, -7.6511e-01, -5.6444e-01, -8.5421e-03,  5.8054e-01,\n",
              "          4.7340e-01,  3.5431e-01, -6.5203e-01,  1.8739e-01, -3.4332e-04],\n",
              "        requires_grad=True),\n",
              " Parameter containing:\n",
              " tensor([[-0.2199,  0.0853, -0.2954,  0.1183, -0.0528, -0.0521, -0.0006,  0.1234,\n",
              "          -0.2751, -0.0931]], requires_grad=True),\n",
              " Parameter containing:\n",
              " tensor([-0.1942], requires_grad=True)]"
            ]
          },
          "metadata": {
            "tags": []
          },
          "execution_count": 123
        }
      ]
    },
    {
      "cell_type": "code",
      "metadata": {
        "id": "jkogTsJzej0i",
        "colab_type": "code",
        "colab": {},
        "outputId": "dcd8d3ba-dd94-4c24-fc60-76046ec84fce"
      },
      "source": [
        "model(miles_x)"
      ],
      "execution_count": 0,
      "outputs": [
        {
          "output_type": "execute_result",
          "data": {
            "text/plain": [
              "tensor([-140.7534], grad_fn=<AddBackward0>)"
            ]
          },
          "metadata": {
            "tags": []
          },
          "execution_count": 124
        }
      ]
    },
    {
      "cell_type": "code",
      "metadata": {
        "id": "MYrvDIz9ej0k",
        "colab_type": "code",
        "colab": {}
      },
      "source": [
        "optimizer = torch.optim.Adam(model.parameters(), lr=0.01)"
      ],
      "execution_count": 0,
      "outputs": []
    },
    {
      "cell_type": "code",
      "metadata": {
        "id": "bALtqbcpej0l",
        "colab_type": "code",
        "colab": {}
      },
      "source": [
        "criterion = nn.MSELoss()"
      ],
      "execution_count": 0,
      "outputs": []
    },
    {
      "cell_type": "code",
      "metadata": {
        "id": "5Ixu2eVSej0m",
        "colab_type": "code",
        "colab": {},
        "outputId": "71fc7cce-ba90-4a44-c469-c1b9912e4a56"
      },
      "source": [
        "for epoch in range(500):\n",
        "    pred = model(x)\n",
        "    loss = criterion(pred,y)\n",
        "    loss.backward()\n",
        "    optimizer.step()\n",
        "    optimizer.zero_grad()\n",
        "    print(loss.item())"
      ],
      "execution_count": 0,
      "outputs": [
        {
          "output_type": "stream",
          "text": [
            "12074.2822265625\n",
            "11563.5673828125\n",
            "11067.8046875\n",
            "10586.353515625\n",
            "10118.8212890625\n",
            "9667.94140625\n",
            "9229.9755859375\n",
            "8802.2685546875\n",
            "8384.2802734375\n",
            "7975.39990234375\n",
            "7575.07421875\n",
            "7182.87890625\n",
            "6798.55517578125\n",
            "6422.00048828125\n",
            "6053.224609375\n",
            "5692.32666015625\n",
            "5339.46826171875\n",
            "4994.85888671875\n",
            "4658.748046875\n",
            "4331.419921875\n",
            "4013.1923828125\n",
            "3704.41650390625\n",
            "3405.469970703125\n",
            "3116.760009765625\n",
            "2838.715576171875\n",
            "2571.7861328125\n",
            "2316.4345703125\n",
            "2073.12890625\n",
            "1842.334228515625\n",
            "1624.50341796875\n",
            "1420.0635986328125\n",
            "1229.4024658203125\n",
            "1052.8555908203125\n",
            "890.6897583007812\n",
            "743.0873413085938\n",
            "610.1309204101562\n",
            "491.78741455078125\n",
            "387.8955993652344\n",
            "298.1533508300781\n",
            "222.11016845703125\n",
            "159.16305541992188\n",
            "108.5556640625\n",
            "69.38662719726562\n",
            "40.62239456176758\n",
            "21.115562438964844\n",
            "9.631473541259766\n",
            "4.879354953765869\n",
            "5.547901153564453\n",
            "10.34324836730957\n",
            "18.027376174926758\n",
            "27.453977584838867\n",
            "37.600135803222656\n",
            "47.591102600097656\n",
            "56.717323303222656\n",
            "64.4417953491211\n",
            "70.39949035644531\n",
            "74.38762664794922\n",
            "76.35010528564453\n",
            "76.35517883300781\n",
            "74.57135009765625\n",
            "71.24119567871094\n",
            "66.6552505493164\n",
            "61.128440856933594\n",
            "54.97843933105469\n",
            "48.50859069824219\n",
            "41.9937858581543\n",
            "35.671287536621094\n",
            "29.734174728393555\n",
            "24.329570770263672\n",
            "19.558679580688477\n",
            "15.479521751403809\n",
            "12.11133098602295\n",
            "9.440441131591797\n",
            "7.426175594329834\n",
            "6.007589340209961\n",
            "5.109655380249023\n",
            "4.649153709411621\n",
            "4.5395894050598145\n",
            "4.696070671081543\n",
            "5.03855562210083\n",
            "5.4946417808532715\n",
            "6.0014801025390625\n",
            "6.506799221038818\n",
            "6.967830181121826\n",
            "7.3532023429870605\n",
            "7.644817352294922\n",
            "7.8298163414001465\n",
            "7.90056037902832\n",
            "7.862058639526367\n",
            "7.801840782165527\n",
            "7.575865268707275\n",
            "7.312927722930908\n",
            "7.023160934448242\n",
            "6.708493232727051\n",
            "6.377285003662109\n",
            "6.0437469482421875\n",
            "5.720428943634033\n",
            "5.415838718414307\n",
            "5.137991428375244\n",
            "4.895001411437988\n",
            "4.695398330688477\n",
            "4.547679424285889\n",
            "4.4299750328063965\n",
            "4.318479061126709\n",
            "4.3748555183410645\n",
            "4.199987411499023\n",
            "4.232036590576172\n",
            "4.254007339477539\n",
            "4.273581027984619\n",
            "4.277738094329834\n",
            "4.207287788391113\n",
            "4.092104911804199\n",
            "4.210120677947998\n",
            "4.154165267944336\n",
            "4.078418731689453\n",
            "4.1498003005981445\n",
            "4.149651050567627\n",
            "4.076738357543945\n",
            "4.098254203796387\n",
            "4.134450435638428\n",
            "4.086297988891602\n",
            "4.071197032928467\n",
            "4.108649253845215\n",
            "4.0958251953125\n",
            "4.06422233581543\n",
            "4.082785129547119\n",
            "4.0944905281066895\n",
            "4.068702697753906\n",
            "4.067167282104492\n",
            "4.085045337677002\n",
            "4.074495792388916\n",
            "4.061796188354492\n",
            "4.073867321014404\n",
            "4.075845241546631\n",
            "4.062847137451172\n",
            "4.065930366516113\n",
            "4.073263168334961\n",
            "4.065539836883545\n",
            "4.062143325805664\n",
            "4.069036483764648\n",
            "4.06704044342041\n",
            "4.06153678894043\n",
            "4.06525993347168\n",
            "4.066939353942871\n",
            "4.062291622161865\n",
            "4.062821865081787\n",
            "4.065732479095459\n",
            "4.063127040863037\n",
            "4.0617547035217285\n",
            "4.064208984375\n",
            "4.063528537750244\n",
            "4.061553478240967\n",
            "4.062910556793213\n",
            "4.063422679901123\n",
            "4.061739921569824\n",
            "4.0620598793029785\n",
            "4.063003063201904\n",
            "4.061975002288818\n",
            "4.0616278648376465\n",
            "4.062500476837158\n",
            "4.062098503112793\n",
            "4.061496257781982\n",
            "4.062063694000244\n",
            "4.062093734741211\n",
            "4.061511516571045\n",
            "4.061757564544678\n",
            "4.061995983123779\n",
            "4.061570167541504\n",
            "4.061581611633301\n",
            "4.061861038208008\n",
            "4.0616230964660645\n",
            "4.0615010261535645\n",
            "4.061732769012451\n",
            "4.061644077301025\n",
            "4.0614848136901855\n",
            "4.061634063720703\n",
            "4.0616374015808105\n",
            "4.061489105224609\n",
            "4.061565399169922\n",
            "4.061614513397217\n",
            "4.061499118804932\n",
            "4.061522960662842\n",
            "4.061585426330566\n",
            "4.061509132385254\n",
            "4.061500549316406\n",
            "4.061558246612549\n",
            "4.061514377593994\n",
            "4.061487197875977\n",
            "4.061534404754639\n",
            "4.061511039733887\n",
            "4.061480522155762\n",
            "4.061513423919678\n",
            "4.061506748199463\n",
            "4.0614800453186035\n",
            "4.061501979827881\n",
            "4.061502456665039\n",
            "4.061481475830078\n",
            "4.061492443084717\n",
            "4.061495780944824\n",
            "4.061480522155762\n",
            "4.061485767364502\n",
            "4.061494827270508\n",
            "4.061482906341553\n",
            "4.0614848136901855\n",
            "4.061490058898926\n",
            "4.061482906341553\n",
            "4.0614824295043945\n",
            "4.061488628387451\n",
            "4.0614824295043945\n",
            "4.06148099899292\n",
            "4.061486721038818\n",
            "4.06148099899292\n",
            "4.061481952667236\n",
            "4.0614848136901855\n",
            "4.061483383178711\n",
            "4.061479568481445\n",
            "4.0614824295043945\n",
            "4.061480522155762\n",
            "4.061479568481445\n",
            "4.061484336853027\n",
            "4.061481952667236\n",
            "4.061480522155762\n",
            "4.061483860015869\n",
            "4.061479568481445\n",
            "4.061479091644287\n",
            "4.061481952667236\n",
            "4.061479568481445\n",
            "4.061479568481445\n",
            "4.061481475830078\n",
            "4.061479568481445\n",
            "4.061480522155762\n",
            "4.061481475830078\n",
            "4.061477184295654\n",
            "4.061481952667236\n",
            "4.061480522155762\n",
            "4.061481952667236\n",
            "4.061479568481445\n",
            "4.061477184295654\n",
            "4.061481475830078\n",
            "4.061479568481445\n",
            "4.061480522155762\n",
            "4.061481475830078\n",
            "4.06148099899292\n",
            "4.061479568481445\n",
            "4.06148099899292\n",
            "4.061479091644287\n",
            "4.061479568481445\n",
            "4.061479091644287\n",
            "4.061480522155762\n",
            "4.061477184295654\n",
            "4.061479568481445\n",
            "4.061480522155762\n",
            "4.061479091644287\n",
            "4.061479568481445\n",
            "4.061476707458496\n",
            "4.0614776611328125\n",
            "4.061479568481445\n",
            "4.0614800453186035\n",
            "4.061479091644287\n",
            "4.0614824295043945\n",
            "4.061481475830078\n",
            "4.0614824295043945\n",
            "4.061480522155762\n",
            "4.0614800453186035\n",
            "4.0614800453186035\n",
            "4.061479091644287\n",
            "4.061482906341553\n",
            "4.061480522155762\n",
            "4.0614824295043945\n",
            "4.061479091644287\n",
            "4.061480522155762\n",
            "4.061481475830078\n",
            "4.061481475830078\n",
            "4.061479568481445\n",
            "4.061481475830078\n",
            "4.061480522155762\n",
            "4.061481475830078\n",
            "4.061480522155762\n",
            "4.061479568481445\n",
            "4.061479568481445\n",
            "4.061480522155762\n",
            "4.061479568481445\n",
            "4.061480522155762\n",
            "4.061479568481445\n",
            "4.061479568481445\n",
            "4.061479091644287\n",
            "4.061478137969971\n",
            "4.061479568481445\n",
            "4.061479568481445\n",
            "4.061479568481445\n",
            "4.061479568481445\n",
            "4.0614800453186035\n",
            "4.061478137969971\n",
            "4.061480522155762\n",
            "4.061479091644287\n",
            "4.061479568481445\n",
            "4.061479568481445\n",
            "4.061480522155762\n",
            "4.0614824295043945\n",
            "4.061480522155762\n",
            "4.061481475830078\n",
            "4.061479091644287\n",
            "4.061478137969971\n",
            "4.061477184295654\n",
            "4.061478137969971\n",
            "4.061481475830078\n",
            "4.061479568481445\n",
            "4.061479568481445\n",
            "4.061479091644287\n",
            "4.061480522155762\n",
            "4.0614800453186035\n",
            "4.061479091644287\n",
            "4.061478137969971\n",
            "4.061479091644287\n",
            "4.0614800453186035\n",
            "4.061478137969971\n",
            "4.061480522155762\n",
            "4.0614776611328125\n",
            "4.061480522155762\n",
            "4.0614800453186035\n",
            "4.061478137969971\n",
            "4.0614800453186035\n",
            "4.061479091644287\n",
            "4.0614800453186035\n",
            "4.061480522155762\n",
            "4.061480522155762\n",
            "4.061478137969971\n",
            "4.061476230621338\n",
            "4.061477184295654\n",
            "4.061480522155762\n",
            "4.061480522155762\n",
            "4.061478614807129\n",
            "4.061476230621338\n",
            "4.061476230621338\n",
            "4.061479091644287\n",
            "4.061479568481445\n",
            "4.061480522155762\n",
            "4.061478137969971\n",
            "4.0614776611328125\n",
            "4.061478137969971\n",
            "4.061478614807129\n",
            "4.061480522155762\n",
            "4.061479091644287\n",
            "4.061478614807129\n",
            "4.061479091644287\n",
            "4.061478614807129\n",
            "4.061479091644287\n",
            "4.061479091644287\n",
            "4.061479091644287\n",
            "4.061479091644287\n",
            "4.061478137969971\n",
            "4.061478614807129\n",
            "4.061478614807129\n",
            "4.061479091644287\n",
            "4.061478137969971\n",
            "4.061478137969971\n",
            "4.0614776611328125\n",
            "4.061478614807129\n",
            "4.0614800453186035\n",
            "4.061478137969971\n",
            "4.061478614807129\n",
            "4.061479091644287\n",
            "4.061478614807129\n",
            "4.061479091644287\n",
            "4.061478614807129\n",
            "4.061479091644287\n",
            "4.061477184295654\n",
            "4.061476707458496\n",
            "4.061477184295654\n",
            "4.061478614807129\n",
            "4.0614776611328125\n",
            "4.0614776611328125\n",
            "4.061479091644287\n",
            "4.061479568481445\n",
            "4.061480522155762\n",
            "4.0614800453186035\n",
            "4.061480522155762\n",
            "4.0614800453186035\n",
            "4.061478137969971\n",
            "4.061477184295654\n",
            "4.061477184295654\n",
            "4.061476707458496\n",
            "4.061478614807129\n",
            "4.061477184295654\n",
            "4.061478137969971\n",
            "4.061478614807129\n",
            "4.061478137969971\n",
            "4.061478614807129\n",
            "4.061479091644287\n",
            "4.061479568481445\n",
            "4.061478614807129\n",
            "4.061479091644287\n",
            "4.061479568481445\n",
            "4.061479091644287\n",
            "4.061478614807129\n",
            "4.0614776611328125\n",
            "4.061477184295654\n",
            "4.061479568481445\n",
            "4.061480522155762\n",
            "4.061479091644287\n",
            "4.061477184295654\n",
            "4.061477184295654\n",
            "4.061479091644287\n",
            "4.061479091644287\n",
            "4.061479091644287\n",
            "4.061478137969971\n",
            "4.061477184295654\n",
            "4.061477184295654\n",
            "4.061477184295654\n",
            "4.061477184295654\n",
            "4.061477184295654\n",
            "4.061478137969971\n",
            "4.061478137969971\n",
            "4.061478137969971\n",
            "4.061479091644287\n",
            "4.061478137969971\n",
            "4.061478137969971\n",
            "4.061478137969971\n",
            "4.061479091644287\n",
            "4.061479091644287\n",
            "4.061479568481445\n",
            "4.061478137969971\n",
            "4.061478137969971\n",
            "4.061479091644287\n",
            "4.061478614807129\n",
            "4.061478614807129\n",
            "4.061477184295654\n",
            "4.0614776611328125\n",
            "4.061477184295654\n",
            "4.061477184295654\n",
            "4.061478137969971\n",
            "4.061477184295654\n",
            "4.061476707458496\n",
            "4.061477184295654\n",
            "4.061478137969971\n",
            "4.061478614807129\n",
            "4.061477184295654\n",
            "4.061477184295654\n",
            "4.061476230621338\n",
            "4.061476230621338\n",
            "4.061478614807129\n",
            "4.061478137969971\n",
            "4.061479091644287\n",
            "4.061479091644287\n",
            "4.061479568481445\n",
            "4.061479091644287\n",
            "4.061478614807129\n",
            "4.061479091644287\n",
            "4.061478137969971\n",
            "4.061478137969971\n",
            "4.061477184295654\n",
            "4.061477184295654\n",
            "4.061476230621338\n",
            "4.061476230621338\n",
            "4.061476230621338\n",
            "4.061476707458496\n",
            "4.061477184295654\n",
            "4.061478137969971\n",
            "4.061479091644287\n",
            "4.0614776611328125\n",
            "4.0614776611328125\n",
            "4.061478614807129\n",
            "4.061477184295654\n",
            "4.0614776611328125\n",
            "4.061478137969971\n",
            "4.061479568481445\n",
            "4.061479091644287\n",
            "4.061479091644287\n",
            "4.061478137969971\n",
            "4.061478137969971\n",
            "4.061478137969971\n",
            "4.061479568481445\n",
            "4.0614800453186035\n",
            "4.061476707458496\n",
            "4.061476230621338\n",
            "4.06147575378418\n",
            "4.06147575378418\n",
            "4.06147575378418\n",
            "4.061476707458496\n",
            "4.0614776611328125\n",
            "4.061477184295654\n",
            "4.061478137969971\n",
            "4.061477184295654\n",
            "4.061478137969971\n",
            "4.0614776611328125\n",
            "4.061478137969971\n",
            "4.061478137969971\n",
            "4.061478137969971\n",
            "4.061478614807129\n",
            "4.061478614807129\n",
            "4.061479091644287\n",
            "4.061478137969971\n",
            "4.061479568481445\n",
            "4.061479091644287\n",
            "4.061479568481445\n",
            "4.061476230621338\n",
            "4.06147575378418\n",
            "4.061476230621338\n",
            "4.0614776611328125\n",
            "4.061477184295654\n"
          ],
          "name": "stdout"
        }
      ]
    },
    {
      "cell_type": "code",
      "metadata": {
        "id": "HNHfwG3Xej0n",
        "colab_type": "code",
        "colab": {},
        "outputId": "e45da49f-9a8f-4fa5-e83e-818e57ca137e"
      },
      "source": [
        "model(miles_x)"
      ],
      "execution_count": 0,
      "outputs": [
        {
          "output_type": "execute_result",
          "data": {
            "text/plain": [
              "tensor([808.6953], grad_fn=<AddBackward0>)"
            ]
          },
          "metadata": {
            "tags": []
          },
          "execution_count": 128
        }
      ]
    },
    {
      "cell_type": "code",
      "metadata": {
        "id": "TxWTlKXCej0p",
        "colab_type": "code",
        "colab": {}
      },
      "source": [
        "x = torch.tensor(2., requires_grad=True)"
      ],
      "execution_count": 0,
      "outputs": []
    },
    {
      "cell_type": "code",
      "metadata": {
        "id": "xiaya9vUej0q",
        "colab_type": "code",
        "colab": {},
        "outputId": "94170cbe-45d0-4649-ae7b-043a2ec10778"
      },
      "source": [
        "x"
      ],
      "execution_count": 0,
      "outputs": [
        {
          "output_type": "execute_result",
          "data": {
            "text/plain": [
              "tensor(2., requires_grad=True)"
            ]
          },
          "metadata": {
            "tags": []
          },
          "execution_count": 143
        }
      ]
    },
    {
      "cell_type": "code",
      "metadata": {
        "id": "3WiNEpPwej0r",
        "colab_type": "code",
        "colab": {},
        "outputId": "943650e2-41be-4ef3-827b-5acd59340425"
      },
      "source": [
        "y = 2*x**2\n",
        "y"
      ],
      "execution_count": 0,
      "outputs": [
        {
          "output_type": "execute_result",
          "data": {
            "text/plain": [
              "tensor(8., grad_fn=<MulBackward0>)"
            ]
          },
          "metadata": {
            "tags": []
          },
          "execution_count": 144
        }
      ]
    },
    {
      "cell_type": "code",
      "metadata": {
        "id": "Ltwzf0E-ej0t",
        "colab_type": "code",
        "colab": {}
      },
      "source": [
        "x.grad"
      ],
      "execution_count": 0,
      "outputs": []
    },
    {
      "cell_type": "code",
      "metadata": {
        "id": "5fVjnr9-ej0u",
        "colab_type": "code",
        "colab": {}
      },
      "source": [
        "y.backward(retain_graph=True)"
      ],
      "execution_count": 0,
      "outputs": []
    },
    {
      "cell_type": "code",
      "metadata": {
        "id": "zUFMdzdmej0w",
        "colab_type": "code",
        "colab": {},
        "outputId": "4422f4d2-62d6-4568-f1b7-194a82517144"
      },
      "source": [
        "x.grad"
      ],
      "execution_count": 0,
      "outputs": [
        {
          "output_type": "execute_result",
          "data": {
            "text/plain": [
              "tensor(8.)"
            ]
          },
          "metadata": {
            "tags": []
          },
          "execution_count": 147
        }
      ]
    },
    {
      "cell_type": "code",
      "metadata": {
        "id": "nv9rWqE8ej0x",
        "colab_type": "code",
        "colab": {},
        "outputId": "c7191a2e-068d-4a10-8d9e-ea6478fdae9e"
      },
      "source": [
        "x.grad.zero_()\n",
        "y.backward(retain_graph=True)\n",
        "x.grad"
      ],
      "execution_count": 0,
      "outputs": [
        {
          "output_type": "execute_result",
          "data": {
            "text/plain": [
              "tensor(8.)"
            ]
          },
          "metadata": {
            "tags": []
          },
          "execution_count": 148
        }
      ]
    },
    {
      "cell_type": "code",
      "metadata": {
        "id": "kZeTlLMAej0y",
        "colab_type": "code",
        "colab": {}
      },
      "source": [
        ""
      ],
      "execution_count": 0,
      "outputs": []
    },
    {
      "cell_type": "code",
      "metadata": {
        "id": "YBknq9lFej0z",
        "colab_type": "code",
        "colab": {}
      },
      "source": [
        ""
      ],
      "execution_count": 0,
      "outputs": []
    }
  ]
}