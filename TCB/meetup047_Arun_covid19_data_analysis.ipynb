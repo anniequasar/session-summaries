{
  "nbformat": 4,
  "nbformat_minor": 0,
  "metadata": {
    "colab": {
      "name": "class1.ipynb",
      "provenance": [],
      "collapsed_sections": []
    },
    "kernelspec": {
      "name": "python3",
      "display_name": "Python 3"
    }
  },
  "cells": [
    {
      "cell_type": "code",
      "metadata": {
        "id": "Qf9VKSxjLz3R",
        "colab_type": "code",
        "colab": {}
      },
      "source": [
        "import pandas as pd\n",
        "import matplotlib.pyplot as plt\n",
        "import seaborn as sns"
      ],
      "execution_count": 0,
      "outputs": []
    },
    {
      "cell_type": "code",
      "metadata": {
        "id": "kKKDLp7IMm4F",
        "colab_type": "code",
        "colab": {}
      },
      "source": [
        "df = pd.read_csv('2019_nCoV_data.csv')"
      ],
      "execution_count": 0,
      "outputs": []
    },
    {
      "cell_type": "code",
      "metadata": {
        "id": "fmA_Ce1WO5VD",
        "colab_type": "code",
        "outputId": "303a1621-3e81-4f8c-d914-e160d735e512",
        "colab": {
          "base_uri": "https://localhost:8080/",
          "height": 34
        }
      },
      "source": [
        "df.shape"
      ],
      "execution_count": 0,
      "outputs": [
        {
          "output_type": "execute_result",
          "data": {
            "text/plain": [
              "(1127, 8)"
            ]
          },
          "metadata": {
            "tags": []
          },
          "execution_count": 6
        }
      ]
    },
    {
      "cell_type": "code",
      "metadata": {
        "id": "un__nhREP7O7",
        "colab_type": "code",
        "outputId": "855f3a69-a153-49d8-99c8-2446e8d64252",
        "colab": {
          "base_uri": "https://localhost:8080/",
          "height": 204
        }
      },
      "source": [
        "df.head()"
      ],
      "execution_count": 0,
      "outputs": [
        {
          "output_type": "execute_result",
          "data": {
            "text/html": [
              "<div>\n",
              "<style scoped>\n",
              "    .dataframe tbody tr th:only-of-type {\n",
              "        vertical-align: middle;\n",
              "    }\n",
              "\n",
              "    .dataframe tbody tr th {\n",
              "        vertical-align: top;\n",
              "    }\n",
              "\n",
              "    .dataframe thead th {\n",
              "        text-align: right;\n",
              "    }\n",
              "</style>\n",
              "<table border=\"1\" class=\"dataframe\">\n",
              "  <thead>\n",
              "    <tr style=\"text-align: right;\">\n",
              "      <th></th>\n",
              "      <th>Sno</th>\n",
              "      <th>Date</th>\n",
              "      <th>Province/State</th>\n",
              "      <th>Country</th>\n",
              "      <th>Last Update</th>\n",
              "      <th>Confirmed</th>\n",
              "      <th>Deaths</th>\n",
              "      <th>Recovered</th>\n",
              "    </tr>\n",
              "  </thead>\n",
              "  <tbody>\n",
              "    <tr>\n",
              "      <th>0</th>\n",
              "      <td>1</td>\n",
              "      <td>01/22/2020 12:00:00</td>\n",
              "      <td>Anhui</td>\n",
              "      <td>China</td>\n",
              "      <td>01/22/2020 12:00:00</td>\n",
              "      <td>1.0</td>\n",
              "      <td>0.0</td>\n",
              "      <td>0.0</td>\n",
              "    </tr>\n",
              "    <tr>\n",
              "      <th>1</th>\n",
              "      <td>2</td>\n",
              "      <td>01/22/2020 12:00:00</td>\n",
              "      <td>Beijing</td>\n",
              "      <td>China</td>\n",
              "      <td>01/22/2020 12:00:00</td>\n",
              "      <td>14.0</td>\n",
              "      <td>0.0</td>\n",
              "      <td>0.0</td>\n",
              "    </tr>\n",
              "    <tr>\n",
              "      <th>2</th>\n",
              "      <td>3</td>\n",
              "      <td>01/22/2020 12:00:00</td>\n",
              "      <td>Chongqing</td>\n",
              "      <td>China</td>\n",
              "      <td>01/22/2020 12:00:00</td>\n",
              "      <td>6.0</td>\n",
              "      <td>0.0</td>\n",
              "      <td>0.0</td>\n",
              "    </tr>\n",
              "    <tr>\n",
              "      <th>3</th>\n",
              "      <td>4</td>\n",
              "      <td>01/22/2020 12:00:00</td>\n",
              "      <td>Fujian</td>\n",
              "      <td>China</td>\n",
              "      <td>01/22/2020 12:00:00</td>\n",
              "      <td>1.0</td>\n",
              "      <td>0.0</td>\n",
              "      <td>0.0</td>\n",
              "    </tr>\n",
              "    <tr>\n",
              "      <th>4</th>\n",
              "      <td>5</td>\n",
              "      <td>01/22/2020 12:00:00</td>\n",
              "      <td>Gansu</td>\n",
              "      <td>China</td>\n",
              "      <td>01/22/2020 12:00:00</td>\n",
              "      <td>0.0</td>\n",
              "      <td>0.0</td>\n",
              "      <td>0.0</td>\n",
              "    </tr>\n",
              "  </tbody>\n",
              "</table>\n",
              "</div>"
            ],
            "text/plain": [
              "   Sno                 Date Province/State  ... Confirmed Deaths  Recovered\n",
              "0    1  01/22/2020 12:00:00          Anhui  ...       1.0    0.0        0.0\n",
              "1    2  01/22/2020 12:00:00        Beijing  ...      14.0    0.0        0.0\n",
              "2    3  01/22/2020 12:00:00      Chongqing  ...       6.0    0.0        0.0\n",
              "3    4  01/22/2020 12:00:00         Fujian  ...       1.0    0.0        0.0\n",
              "4    5  01/22/2020 12:00:00          Gansu  ...       0.0    0.0        0.0\n",
              "\n",
              "[5 rows x 8 columns]"
            ]
          },
          "metadata": {
            "tags": []
          },
          "execution_count": 7
        }
      ]
    },
    {
      "cell_type": "code",
      "metadata": {
        "id": "Y7LGC7g9P_rD",
        "colab_type": "code",
        "outputId": "98a76a1d-79f7-4d74-e435-518d52fe1449",
        "colab": {
          "base_uri": "https://localhost:8080/",
          "height": 142
        }
      },
      "source": [
        "df.tail(3)"
      ],
      "execution_count": 0,
      "outputs": [
        {
          "output_type": "execute_result",
          "data": {
            "text/html": [
              "<div>\n",
              "<style scoped>\n",
              "    .dataframe tbody tr th:only-of-type {\n",
              "        vertical-align: middle;\n",
              "    }\n",
              "\n",
              "    .dataframe tbody tr th {\n",
              "        vertical-align: top;\n",
              "    }\n",
              "\n",
              "    .dataframe thead th {\n",
              "        text-align: right;\n",
              "    }\n",
              "</style>\n",
              "<table border=\"1\" class=\"dataframe\">\n",
              "  <thead>\n",
              "    <tr style=\"text-align: right;\">\n",
              "      <th></th>\n",
              "      <th>Sno</th>\n",
              "      <th>Date</th>\n",
              "      <th>Province/State</th>\n",
              "      <th>Country</th>\n",
              "      <th>Last Update</th>\n",
              "      <th>Confirmed</th>\n",
              "      <th>Deaths</th>\n",
              "      <th>Recovered</th>\n",
              "    </tr>\n",
              "  </thead>\n",
              "  <tbody>\n",
              "    <tr>\n",
              "      <th>1124</th>\n",
              "      <td>1125</td>\n",
              "      <td>02/09/2020 23:20:00</td>\n",
              "      <td>Orange, CA</td>\n",
              "      <td>US</td>\n",
              "      <td>2020-02-01 19:53:03</td>\n",
              "      <td>1.0</td>\n",
              "      <td>0.0</td>\n",
              "      <td>0.0</td>\n",
              "    </tr>\n",
              "    <tr>\n",
              "      <th>1125</th>\n",
              "      <td>1126</td>\n",
              "      <td>02/09/2020 23:20:00</td>\n",
              "      <td>Seattle, WA</td>\n",
              "      <td>US</td>\n",
              "      <td>2020-02-09 07:03:04</td>\n",
              "      <td>1.0</td>\n",
              "      <td>0.0</td>\n",
              "      <td>1.0</td>\n",
              "    </tr>\n",
              "    <tr>\n",
              "      <th>1126</th>\n",
              "      <td>1127</td>\n",
              "      <td>02/09/2020 23:20:00</td>\n",
              "      <td>Tempe, AZ</td>\n",
              "      <td>US</td>\n",
              "      <td>2020-02-01 19:43:03</td>\n",
              "      <td>1.0</td>\n",
              "      <td>0.0</td>\n",
              "      <td>0.0</td>\n",
              "    </tr>\n",
              "  </tbody>\n",
              "</table>\n",
              "</div>"
            ],
            "text/plain": [
              "       Sno                 Date Province/State  ... Confirmed Deaths  Recovered\n",
              "1124  1125  02/09/2020 23:20:00     Orange, CA  ...       1.0    0.0        0.0\n",
              "1125  1126  02/09/2020 23:20:00    Seattle, WA  ...       1.0    0.0        1.0\n",
              "1126  1127  02/09/2020 23:20:00      Tempe, AZ  ...       1.0    0.0        0.0\n",
              "\n",
              "[3 rows x 8 columns]"
            ]
          },
          "metadata": {
            "tags": []
          },
          "execution_count": 8
        }
      ]
    },
    {
      "cell_type": "code",
      "metadata": {
        "id": "iYxjwbRJQM1g",
        "colab_type": "code",
        "outputId": "0aaff476-3e28-4656-c80f-5aa0572b1b79",
        "colab": {
          "base_uri": "https://localhost:8080/",
          "height": 204
        }
      },
      "source": [
        "df.sample(5)"
      ],
      "execution_count": 0,
      "outputs": [
        {
          "output_type": "execute_result",
          "data": {
            "text/html": [
              "<div>\n",
              "<style scoped>\n",
              "    .dataframe tbody tr th:only-of-type {\n",
              "        vertical-align: middle;\n",
              "    }\n",
              "\n",
              "    .dataframe tbody tr th {\n",
              "        vertical-align: top;\n",
              "    }\n",
              "\n",
              "    .dataframe thead th {\n",
              "        text-align: right;\n",
              "    }\n",
              "</style>\n",
              "<table border=\"1\" class=\"dataframe\">\n",
              "  <thead>\n",
              "    <tr style=\"text-align: right;\">\n",
              "      <th></th>\n",
              "      <th>Sno</th>\n",
              "      <th>Date</th>\n",
              "      <th>Province/State</th>\n",
              "      <th>Country</th>\n",
              "      <th>Last Update</th>\n",
              "      <th>Confirmed</th>\n",
              "      <th>Deaths</th>\n",
              "      <th>Recovered</th>\n",
              "    </tr>\n",
              "  </thead>\n",
              "  <tbody>\n",
              "    <tr>\n",
              "      <th>101</th>\n",
              "      <td>102</td>\n",
              "      <td>01/24/2020 12:00:00</td>\n",
              "      <td>Shaanxi</td>\n",
              "      <td>Mainland China</td>\n",
              "      <td>01/24/2020 12:00:00</td>\n",
              "      <td>5.0</td>\n",
              "      <td>0.0</td>\n",
              "      <td>0.0</td>\n",
              "    </tr>\n",
              "    <tr>\n",
              "      <th>292</th>\n",
              "      <td>293</td>\n",
              "      <td>01/28/2020 23:00:00</td>\n",
              "      <td>Xinjiang</td>\n",
              "      <td>Mainland China</td>\n",
              "      <td>01/28/2020 23:00:00</td>\n",
              "      <td>13.0</td>\n",
              "      <td>0.0</td>\n",
              "      <td>0.0</td>\n",
              "    </tr>\n",
              "    <tr>\n",
              "      <th>126</th>\n",
              "      <td>127</td>\n",
              "      <td>01/25/2020 22:00:00</td>\n",
              "      <td>Guangdong</td>\n",
              "      <td>Mainland China</td>\n",
              "      <td>01/25/2020 12:00:00</td>\n",
              "      <td>98.0</td>\n",
              "      <td>0.0</td>\n",
              "      <td>2.0</td>\n",
              "    </tr>\n",
              "    <tr>\n",
              "      <th>209</th>\n",
              "      <td>210</td>\n",
              "      <td>01/26/2020 23:00:00</td>\n",
              "      <td>NaN</td>\n",
              "      <td>Vietnam</td>\n",
              "      <td>01/26/2020 23:00:00</td>\n",
              "      <td>2.0</td>\n",
              "      <td>0.0</td>\n",
              "      <td>0.0</td>\n",
              "    </tr>\n",
              "    <tr>\n",
              "      <th>764</th>\n",
              "      <td>765</td>\n",
              "      <td>02/04/2020 22:00:00</td>\n",
              "      <td>NaN</td>\n",
              "      <td>Sweden</td>\n",
              "      <td>2020-01-02 02:13:00</td>\n",
              "      <td>1.0</td>\n",
              "      <td>0.0</td>\n",
              "      <td>0.0</td>\n",
              "    </tr>\n",
              "  </tbody>\n",
              "</table>\n",
              "</div>"
            ],
            "text/plain": [
              "     Sno                 Date Province/State  ... Confirmed Deaths  Recovered\n",
              "101  102  01/24/2020 12:00:00        Shaanxi  ...       5.0    0.0        0.0\n",
              "292  293  01/28/2020 23:00:00       Xinjiang  ...      13.0    0.0        0.0\n",
              "126  127  01/25/2020 22:00:00      Guangdong  ...      98.0    0.0        2.0\n",
              "209  210  01/26/2020 23:00:00            NaN  ...       2.0    0.0        0.0\n",
              "764  765  02/04/2020 22:00:00            NaN  ...       1.0    0.0        0.0\n",
              "\n",
              "[5 rows x 8 columns]"
            ]
          },
          "metadata": {
            "tags": []
          },
          "execution_count": 9
        }
      ]
    },
    {
      "cell_type": "code",
      "metadata": {
        "id": "pSI2y6hqQhht",
        "colab_type": "code",
        "outputId": "d564f880-9ce3-4d4d-98e1-78d01cbc6c3b",
        "colab": {
          "base_uri": "https://localhost:8080/",
          "height": 238
        }
      },
      "source": [
        "df.info()"
      ],
      "execution_count": 0,
      "outputs": [
        {
          "output_type": "stream",
          "text": [
            "<class 'pandas.core.frame.DataFrame'>\n",
            "RangeIndex: 1127 entries, 0 to 1126\n",
            "Data columns (total 8 columns):\n",
            "Sno               1127 non-null int64\n",
            "Date              1127 non-null object\n",
            "Province/State    837 non-null object\n",
            "Country           1127 non-null object\n",
            "Last Update       1127 non-null object\n",
            "Confirmed         1127 non-null float64\n",
            "Deaths            1127 non-null float64\n",
            "Recovered         1127 non-null float64\n",
            "dtypes: float64(3), int64(1), object(4)\n",
            "memory usage: 70.6+ KB\n"
          ],
          "name": "stdout"
        }
      ]
    },
    {
      "cell_type": "code",
      "metadata": {
        "id": "QieOrO08QmIG",
        "colab_type": "code",
        "outputId": "0c7e1ea7-17ee-48ef-f62e-619b2e134a0f",
        "colab": {
          "base_uri": "https://localhost:8080/",
          "height": 297
        }
      },
      "source": [
        "df.describe()"
      ],
      "execution_count": 0,
      "outputs": [
        {
          "output_type": "execute_result",
          "data": {
            "text/html": [
              "<div>\n",
              "<style scoped>\n",
              "    .dataframe tbody tr th:only-of-type {\n",
              "        vertical-align: middle;\n",
              "    }\n",
              "\n",
              "    .dataframe tbody tr th {\n",
              "        vertical-align: top;\n",
              "    }\n",
              "\n",
              "    .dataframe thead th {\n",
              "        text-align: right;\n",
              "    }\n",
              "</style>\n",
              "<table border=\"1\" class=\"dataframe\">\n",
              "  <thead>\n",
              "    <tr style=\"text-align: right;\">\n",
              "      <th></th>\n",
              "      <th>Sno</th>\n",
              "      <th>Confirmed</th>\n",
              "      <th>Deaths</th>\n",
              "      <th>Recovered</th>\n",
              "    </tr>\n",
              "  </thead>\n",
              "  <tbody>\n",
              "    <tr>\n",
              "      <th>count</th>\n",
              "      <td>1127.000000</td>\n",
              "      <td>1127.000000</td>\n",
              "      <td>1127.000000</td>\n",
              "      <td>1127.000000</td>\n",
              "    </tr>\n",
              "    <tr>\n",
              "      <th>mean</th>\n",
              "      <td>564.000000</td>\n",
              "      <td>255.912156</td>\n",
              "      <td>5.443656</td>\n",
              "      <td>12.046140</td>\n",
              "    </tr>\n",
              "    <tr>\n",
              "      <th>std</th>\n",
              "      <td>325.481182</td>\n",
              "      <td>1796.841832</td>\n",
              "      <td>52.486877</td>\n",
              "      <td>83.674768</td>\n",
              "    </tr>\n",
              "    <tr>\n",
              "      <th>min</th>\n",
              "      <td>1.000000</td>\n",
              "      <td>0.000000</td>\n",
              "      <td>0.000000</td>\n",
              "      <td>0.000000</td>\n",
              "    </tr>\n",
              "    <tr>\n",
              "      <th>25%</th>\n",
              "      <td>282.500000</td>\n",
              "      <td>2.000000</td>\n",
              "      <td>0.000000</td>\n",
              "      <td>0.000000</td>\n",
              "    </tr>\n",
              "    <tr>\n",
              "      <th>50%</th>\n",
              "      <td>564.000000</td>\n",
              "      <td>10.000000</td>\n",
              "      <td>0.000000</td>\n",
              "      <td>0.000000</td>\n",
              "    </tr>\n",
              "    <tr>\n",
              "      <th>75%</th>\n",
              "      <td>845.500000</td>\n",
              "      <td>80.000000</td>\n",
              "      <td>0.000000</td>\n",
              "      <td>2.000000</td>\n",
              "    </tr>\n",
              "    <tr>\n",
              "      <th>max</th>\n",
              "      <td>1127.000000</td>\n",
              "      <td>29631.000000</td>\n",
              "      <td>871.000000</td>\n",
              "      <td>1795.000000</td>\n",
              "    </tr>\n",
              "  </tbody>\n",
              "</table>\n",
              "</div>"
            ],
            "text/plain": [
              "               Sno     Confirmed       Deaths    Recovered\n",
              "count  1127.000000   1127.000000  1127.000000  1127.000000\n",
              "mean    564.000000    255.912156     5.443656    12.046140\n",
              "std     325.481182   1796.841832    52.486877    83.674768\n",
              "min       1.000000      0.000000     0.000000     0.000000\n",
              "25%     282.500000      2.000000     0.000000     0.000000\n",
              "50%     564.000000     10.000000     0.000000     0.000000\n",
              "75%     845.500000     80.000000     0.000000     2.000000\n",
              "max    1127.000000  29631.000000   871.000000  1795.000000"
            ]
          },
          "metadata": {
            "tags": []
          },
          "execution_count": 11
        }
      ]
    },
    {
      "cell_type": "code",
      "metadata": {
        "id": "hKjKms8NRddZ",
        "colab_type": "code",
        "outputId": "b536a1ec-c106-4eda-da5a-8044a6fa291c",
        "colab": {
          "base_uri": "https://localhost:8080/",
          "height": 111
        }
      },
      "source": [
        "df.head(2)"
      ],
      "execution_count": 0,
      "outputs": [
        {
          "output_type": "execute_result",
          "data": {
            "text/html": [
              "<div>\n",
              "<style scoped>\n",
              "    .dataframe tbody tr th:only-of-type {\n",
              "        vertical-align: middle;\n",
              "    }\n",
              "\n",
              "    .dataframe tbody tr th {\n",
              "        vertical-align: top;\n",
              "    }\n",
              "\n",
              "    .dataframe thead th {\n",
              "        text-align: right;\n",
              "    }\n",
              "</style>\n",
              "<table border=\"1\" class=\"dataframe\">\n",
              "  <thead>\n",
              "    <tr style=\"text-align: right;\">\n",
              "      <th></th>\n",
              "      <th>Sno</th>\n",
              "      <th>Date</th>\n",
              "      <th>Province/State</th>\n",
              "      <th>Country</th>\n",
              "      <th>Last Update</th>\n",
              "      <th>Confirmed</th>\n",
              "      <th>Deaths</th>\n",
              "      <th>Recovered</th>\n",
              "    </tr>\n",
              "  </thead>\n",
              "  <tbody>\n",
              "    <tr>\n",
              "      <th>0</th>\n",
              "      <td>1</td>\n",
              "      <td>01/22/2020 12:00:00</td>\n",
              "      <td>Anhui</td>\n",
              "      <td>China</td>\n",
              "      <td>01/22/2020 12:00:00</td>\n",
              "      <td>1.0</td>\n",
              "      <td>0.0</td>\n",
              "      <td>0.0</td>\n",
              "    </tr>\n",
              "    <tr>\n",
              "      <th>1</th>\n",
              "      <td>2</td>\n",
              "      <td>01/22/2020 12:00:00</td>\n",
              "      <td>Beijing</td>\n",
              "      <td>China</td>\n",
              "      <td>01/22/2020 12:00:00</td>\n",
              "      <td>14.0</td>\n",
              "      <td>0.0</td>\n",
              "      <td>0.0</td>\n",
              "    </tr>\n",
              "  </tbody>\n",
              "</table>\n",
              "</div>"
            ],
            "text/plain": [
              "   Sno                 Date Province/State  ... Confirmed Deaths  Recovered\n",
              "0    1  01/22/2020 12:00:00          Anhui  ...       1.0    0.0        0.0\n",
              "1    2  01/22/2020 12:00:00        Beijing  ...      14.0    0.0        0.0\n",
              "\n",
              "[2 rows x 8 columns]"
            ]
          },
          "metadata": {
            "tags": []
          },
          "execution_count": 12
        }
      ]
    },
    {
      "cell_type": "code",
      "metadata": {
        "id": "Kt3oYvFzTkps",
        "colab_type": "code",
        "colab": {}
      },
      "source": [
        "df.drop(['Sno'],axis=1, inplace=True)"
      ],
      "execution_count": 0,
      "outputs": []
    },
    {
      "cell_type": "code",
      "metadata": {
        "id": "zPjqtR8cT0Nv",
        "colab_type": "code",
        "outputId": "17ae08a6-8f17-4829-cebe-b339ed2c7bea",
        "colab": {
          "base_uri": "https://localhost:8080/",
          "height": 80
        }
      },
      "source": [
        "df.head(1)"
      ],
      "execution_count": 0,
      "outputs": [
        {
          "output_type": "execute_result",
          "data": {
            "text/html": [
              "<div>\n",
              "<style scoped>\n",
              "    .dataframe tbody tr th:only-of-type {\n",
              "        vertical-align: middle;\n",
              "    }\n",
              "\n",
              "    .dataframe tbody tr th {\n",
              "        vertical-align: top;\n",
              "    }\n",
              "\n",
              "    .dataframe thead th {\n",
              "        text-align: right;\n",
              "    }\n",
              "</style>\n",
              "<table border=\"1\" class=\"dataframe\">\n",
              "  <thead>\n",
              "    <tr style=\"text-align: right;\">\n",
              "      <th></th>\n",
              "      <th>Date</th>\n",
              "      <th>Province/State</th>\n",
              "      <th>Country</th>\n",
              "      <th>Last Update</th>\n",
              "      <th>Confirmed</th>\n",
              "      <th>Deaths</th>\n",
              "      <th>Recovered</th>\n",
              "    </tr>\n",
              "  </thead>\n",
              "  <tbody>\n",
              "    <tr>\n",
              "      <th>0</th>\n",
              "      <td>01/22/2020 12:00:00</td>\n",
              "      <td>Anhui</td>\n",
              "      <td>China</td>\n",
              "      <td>01/22/2020 12:00:00</td>\n",
              "      <td>1.0</td>\n",
              "      <td>0.0</td>\n",
              "      <td>0.0</td>\n",
              "    </tr>\n",
              "  </tbody>\n",
              "</table>\n",
              "</div>"
            ],
            "text/plain": [
              "                  Date Province/State Country  ... Confirmed  Deaths  Recovered\n",
              "0  01/22/2020 12:00:00          Anhui   China  ...       1.0     0.0        0.0\n",
              "\n",
              "[1 rows x 7 columns]"
            ]
          },
          "metadata": {
            "tags": []
          },
          "execution_count": 14
        }
      ]
    },
    {
      "cell_type": "code",
      "metadata": {
        "id": "tkbD1moIT3M2",
        "colab_type": "code",
        "outputId": "efe33efc-853d-47b0-9f90-ef2e08bbac46",
        "colab": {
          "base_uri": "https://localhost:8080/",
          "height": 595
        }
      },
      "source": [
        "df['Country'].value_counts()"
      ],
      "execution_count": 0,
      "outputs": [
        {
          "output_type": "execute_result",
          "data": {
            "text/plain": [
              "Mainland China          553\n",
              "US                      104\n",
              "Australia                52\n",
              "Canada                   35\n",
              "China                    34\n",
              "Japan                    19\n",
              "South Korea              19\n",
              "Thailand                 19\n",
              "Macau                    18\n",
              "Hong Kong                18\n",
              "Singapore                18\n",
              "Vietnam                  18\n",
              "Taiwan                   18\n",
              "Malaysia                 17\n",
              "France                   17\n",
              "Nepal                    16\n",
              "Germany                  14\n",
              "Cambodia                 14\n",
              "Sri Lanka                14\n",
              "Philippines              12\n",
              "United Arab Emirates     12\n",
              "Finland                  12\n",
              "India                    11\n",
              "Italy                    11\n",
              "Russia                   10\n",
              "Spain                    10\n",
              "Sweden                   10\n",
              "UK                       10\n",
              "Belgium                   6\n",
              "Others                    3\n",
              "Ivory Coast               1\n",
              "Brazil                    1\n",
              "Mexico                    1\n",
              "Name: Country, dtype: int64"
            ]
          },
          "metadata": {
            "tags": []
          },
          "execution_count": 15
        }
      ]
    },
    {
      "cell_type": "code",
      "metadata": {
        "id": "brnTmBAbVAnx",
        "colab_type": "code",
        "outputId": "5fe8307f-f985-4192-d1f7-f1581d093254",
        "colab": {
          "base_uri": "https://localhost:8080/",
          "height": 136
        }
      },
      "source": [
        "df['Country'].unique()"
      ],
      "execution_count": 0,
      "outputs": [
        {
          "output_type": "execute_result",
          "data": {
            "text/plain": [
              "array(['China', 'US', 'Japan', 'Thailand', 'South Korea',\n",
              "       'Mainland China', 'Hong Kong', 'Macau', 'Taiwan', 'Singapore',\n",
              "       'Philippines', 'Malaysia', 'Vietnam', 'Australia', 'Mexico',\n",
              "       'Brazil', 'France', 'Nepal', 'Canada', 'Cambodia', 'Sri Lanka',\n",
              "       'Ivory Coast', 'Germany', 'Finland', 'United Arab Emirates',\n",
              "       'India', 'Italy', 'Sweden', 'Russia', 'Spain', 'UK', 'Belgium',\n",
              "       'Others'], dtype=object)"
            ]
          },
          "metadata": {
            "tags": []
          },
          "execution_count": 16
        }
      ]
    },
    {
      "cell_type": "code",
      "metadata": {
        "id": "R4sfbZ3EVtYa",
        "colab_type": "code",
        "outputId": "78936769-c128-41f6-ee52-0e3690381f0d",
        "colab": {
          "base_uri": "https://localhost:8080/",
          "height": 34
        }
      },
      "source": [
        "df['Country'].nunique()"
      ],
      "execution_count": 0,
      "outputs": [
        {
          "output_type": "execute_result",
          "data": {
            "text/plain": [
              "33"
            ]
          },
          "metadata": {
            "tags": []
          },
          "execution_count": 17
        }
      ]
    },
    {
      "cell_type": "code",
      "metadata": {
        "id": "yS4XnTrJWdrR",
        "colab_type": "code",
        "outputId": "9b4786bb-b0f5-4fb5-f35b-b488520acba9",
        "colab": {
          "base_uri": "https://localhost:8080/",
          "height": 80
        }
      },
      "source": [
        "df.head(1)"
      ],
      "execution_count": 0,
      "outputs": [
        {
          "output_type": "execute_result",
          "data": {
            "text/html": [
              "<div>\n",
              "<style scoped>\n",
              "    .dataframe tbody tr th:only-of-type {\n",
              "        vertical-align: middle;\n",
              "    }\n",
              "\n",
              "    .dataframe tbody tr th {\n",
              "        vertical-align: top;\n",
              "    }\n",
              "\n",
              "    .dataframe thead th {\n",
              "        text-align: right;\n",
              "    }\n",
              "</style>\n",
              "<table border=\"1\" class=\"dataframe\">\n",
              "  <thead>\n",
              "    <tr style=\"text-align: right;\">\n",
              "      <th></th>\n",
              "      <th>Date</th>\n",
              "      <th>Province/State</th>\n",
              "      <th>Country</th>\n",
              "      <th>Last Update</th>\n",
              "      <th>Confirmed</th>\n",
              "      <th>Deaths</th>\n",
              "      <th>Recovered</th>\n",
              "    </tr>\n",
              "  </thead>\n",
              "  <tbody>\n",
              "    <tr>\n",
              "      <th>0</th>\n",
              "      <td>01/22/2020 12:00:00</td>\n",
              "      <td>Anhui</td>\n",
              "      <td>China</td>\n",
              "      <td>01/22/2020 12:00:00</td>\n",
              "      <td>1.0</td>\n",
              "      <td>0.0</td>\n",
              "      <td>0.0</td>\n",
              "    </tr>\n",
              "  </tbody>\n",
              "</table>\n",
              "</div>"
            ],
            "text/plain": [
              "                  Date Province/State Country  ... Confirmed  Deaths  Recovered\n",
              "0  01/22/2020 12:00:00          Anhui   China  ...       1.0     0.0        0.0\n",
              "\n",
              "[1 rows x 7 columns]"
            ]
          },
          "metadata": {
            "tags": []
          },
          "execution_count": 18
        }
      ]
    },
    {
      "cell_type": "code",
      "metadata": {
        "id": "VKEeHUzZVyf0",
        "colab_type": "code",
        "outputId": "c05c361e-23b9-46b6-a7ab-5c960816eae7",
        "colab": {
          "base_uri": "https://localhost:8080/",
          "height": 68
        }
      },
      "source": [
        "df['Province/State'].value_counts().head(2)"
      ],
      "execution_count": 0,
      "outputs": [
        {
          "output_type": "execute_result",
          "data": {
            "text/plain": [
              "Jiangsu    19\n",
              "Gansu      19\n",
              "Name: Province/State, dtype: int64"
            ]
          },
          "metadata": {
            "tags": []
          },
          "execution_count": 19
        }
      ]
    },
    {
      "cell_type": "code",
      "metadata": {
        "id": "dDds9P_1Wgtk",
        "colab_type": "code",
        "outputId": "a9660974-c2e0-403b-8178-b5f5e7e3b405",
        "colab": {
          "base_uri": "https://localhost:8080/",
          "height": 34
        }
      },
      "source": [
        "df['Province/State'].nunique()"
      ],
      "execution_count": 0,
      "outputs": [
        {
          "output_type": "execute_result",
          "data": {
            "text/plain": [
              "59"
            ]
          },
          "metadata": {
            "tags": []
          },
          "execution_count": 20
        }
      ]
    },
    {
      "cell_type": "markdown",
      "metadata": {
        "id": "XdTHCusNXd9G",
        "colab_type": "text"
      },
      "source": [
        "# Subsetting"
      ]
    },
    {
      "cell_type": "code",
      "metadata": {
        "id": "nyhWa06EWoRz",
        "colab_type": "code",
        "outputId": "3c660e05-1c37-485d-dbdd-99aedff4fbc9",
        "colab": {
          "base_uri": "https://localhost:8080/",
          "height": 111
        }
      },
      "source": [
        "df.head(2)"
      ],
      "execution_count": 0,
      "outputs": [
        {
          "output_type": "execute_result",
          "data": {
            "text/html": [
              "<div>\n",
              "<style scoped>\n",
              "    .dataframe tbody tr th:only-of-type {\n",
              "        vertical-align: middle;\n",
              "    }\n",
              "\n",
              "    .dataframe tbody tr th {\n",
              "        vertical-align: top;\n",
              "    }\n",
              "\n",
              "    .dataframe thead th {\n",
              "        text-align: right;\n",
              "    }\n",
              "</style>\n",
              "<table border=\"1\" class=\"dataframe\">\n",
              "  <thead>\n",
              "    <tr style=\"text-align: right;\">\n",
              "      <th></th>\n",
              "      <th>Date</th>\n",
              "      <th>Province/State</th>\n",
              "      <th>Country</th>\n",
              "      <th>Last Update</th>\n",
              "      <th>Confirmed</th>\n",
              "      <th>Deaths</th>\n",
              "      <th>Recovered</th>\n",
              "    </tr>\n",
              "  </thead>\n",
              "  <tbody>\n",
              "    <tr>\n",
              "      <th>0</th>\n",
              "      <td>01/22/2020 12:00:00</td>\n",
              "      <td>Anhui</td>\n",
              "      <td>China</td>\n",
              "      <td>01/22/2020 12:00:00</td>\n",
              "      <td>1.0</td>\n",
              "      <td>0.0</td>\n",
              "      <td>0.0</td>\n",
              "    </tr>\n",
              "    <tr>\n",
              "      <th>1</th>\n",
              "      <td>01/22/2020 12:00:00</td>\n",
              "      <td>Beijing</td>\n",
              "      <td>China</td>\n",
              "      <td>01/22/2020 12:00:00</td>\n",
              "      <td>14.0</td>\n",
              "      <td>0.0</td>\n",
              "      <td>0.0</td>\n",
              "    </tr>\n",
              "  </tbody>\n",
              "</table>\n",
              "</div>"
            ],
            "text/plain": [
              "                  Date Province/State Country  ... Confirmed  Deaths  Recovered\n",
              "0  01/22/2020 12:00:00          Anhui   China  ...       1.0     0.0        0.0\n",
              "1  01/22/2020 12:00:00        Beijing   China  ...      14.0     0.0        0.0\n",
              "\n",
              "[2 rows x 7 columns]"
            ]
          },
          "metadata": {
            "tags": []
          },
          "execution_count": 21
        }
      ]
    },
    {
      "cell_type": "code",
      "metadata": {
        "id": "zrOswZiEXiSV",
        "colab_type": "code",
        "outputId": "96e6c949-5200-4e0f-df88-98c5a548c4cd",
        "colab": {
          "base_uri": "https://localhost:8080/",
          "height": 359
        }
      },
      "source": [
        "df.iloc[:10, [0,2]]"
      ],
      "execution_count": 0,
      "outputs": [
        {
          "output_type": "execute_result",
          "data": {
            "text/html": [
              "<div>\n",
              "<style scoped>\n",
              "    .dataframe tbody tr th:only-of-type {\n",
              "        vertical-align: middle;\n",
              "    }\n",
              "\n",
              "    .dataframe tbody tr th {\n",
              "        vertical-align: top;\n",
              "    }\n",
              "\n",
              "    .dataframe thead th {\n",
              "        text-align: right;\n",
              "    }\n",
              "</style>\n",
              "<table border=\"1\" class=\"dataframe\">\n",
              "  <thead>\n",
              "    <tr style=\"text-align: right;\">\n",
              "      <th></th>\n",
              "      <th>Date</th>\n",
              "      <th>Country</th>\n",
              "    </tr>\n",
              "  </thead>\n",
              "  <tbody>\n",
              "    <tr>\n",
              "      <th>0</th>\n",
              "      <td>01/22/2020 12:00:00</td>\n",
              "      <td>China</td>\n",
              "    </tr>\n",
              "    <tr>\n",
              "      <th>1</th>\n",
              "      <td>01/22/2020 12:00:00</td>\n",
              "      <td>China</td>\n",
              "    </tr>\n",
              "    <tr>\n",
              "      <th>2</th>\n",
              "      <td>01/22/2020 12:00:00</td>\n",
              "      <td>China</td>\n",
              "    </tr>\n",
              "    <tr>\n",
              "      <th>3</th>\n",
              "      <td>01/22/2020 12:00:00</td>\n",
              "      <td>China</td>\n",
              "    </tr>\n",
              "    <tr>\n",
              "      <th>4</th>\n",
              "      <td>01/22/2020 12:00:00</td>\n",
              "      <td>China</td>\n",
              "    </tr>\n",
              "    <tr>\n",
              "      <th>5</th>\n",
              "      <td>01/22/2020 12:00:00</td>\n",
              "      <td>China</td>\n",
              "    </tr>\n",
              "    <tr>\n",
              "      <th>6</th>\n",
              "      <td>01/22/2020 12:00:00</td>\n",
              "      <td>China</td>\n",
              "    </tr>\n",
              "    <tr>\n",
              "      <th>7</th>\n",
              "      <td>01/22/2020 12:00:00</td>\n",
              "      <td>China</td>\n",
              "    </tr>\n",
              "    <tr>\n",
              "      <th>8</th>\n",
              "      <td>01/22/2020 12:00:00</td>\n",
              "      <td>China</td>\n",
              "    </tr>\n",
              "    <tr>\n",
              "      <th>9</th>\n",
              "      <td>01/22/2020 12:00:00</td>\n",
              "      <td>China</td>\n",
              "    </tr>\n",
              "  </tbody>\n",
              "</table>\n",
              "</div>"
            ],
            "text/plain": [
              "                  Date Country\n",
              "0  01/22/2020 12:00:00   China\n",
              "1  01/22/2020 12:00:00   China\n",
              "2  01/22/2020 12:00:00   China\n",
              "3  01/22/2020 12:00:00   China\n",
              "4  01/22/2020 12:00:00   China\n",
              "5  01/22/2020 12:00:00   China\n",
              "6  01/22/2020 12:00:00   China\n",
              "7  01/22/2020 12:00:00   China\n",
              "8  01/22/2020 12:00:00   China\n",
              "9  01/22/2020 12:00:00   China"
            ]
          },
          "metadata": {
            "tags": []
          },
          "execution_count": 22
        }
      ]
    },
    {
      "cell_type": "code",
      "metadata": {
        "id": "963nDtekZD5Y",
        "colab_type": "code",
        "outputId": "88190eac-6bc4-46a9-e4b5-90ec977b9e6f",
        "colab": {
          "base_uri": "https://localhost:8080/",
          "height": 390
        }
      },
      "source": [
        "df.loc[:10,['Date','Country']]"
      ],
      "execution_count": 0,
      "outputs": [
        {
          "output_type": "execute_result",
          "data": {
            "text/html": [
              "<div>\n",
              "<style scoped>\n",
              "    .dataframe tbody tr th:only-of-type {\n",
              "        vertical-align: middle;\n",
              "    }\n",
              "\n",
              "    .dataframe tbody tr th {\n",
              "        vertical-align: top;\n",
              "    }\n",
              "\n",
              "    .dataframe thead th {\n",
              "        text-align: right;\n",
              "    }\n",
              "</style>\n",
              "<table border=\"1\" class=\"dataframe\">\n",
              "  <thead>\n",
              "    <tr style=\"text-align: right;\">\n",
              "      <th></th>\n",
              "      <th>Date</th>\n",
              "      <th>Country</th>\n",
              "    </tr>\n",
              "  </thead>\n",
              "  <tbody>\n",
              "    <tr>\n",
              "      <th>0</th>\n",
              "      <td>01/22/2020 12:00:00</td>\n",
              "      <td>China</td>\n",
              "    </tr>\n",
              "    <tr>\n",
              "      <th>1</th>\n",
              "      <td>01/22/2020 12:00:00</td>\n",
              "      <td>China</td>\n",
              "    </tr>\n",
              "    <tr>\n",
              "      <th>2</th>\n",
              "      <td>01/22/2020 12:00:00</td>\n",
              "      <td>China</td>\n",
              "    </tr>\n",
              "    <tr>\n",
              "      <th>3</th>\n",
              "      <td>01/22/2020 12:00:00</td>\n",
              "      <td>China</td>\n",
              "    </tr>\n",
              "    <tr>\n",
              "      <th>4</th>\n",
              "      <td>01/22/2020 12:00:00</td>\n",
              "      <td>China</td>\n",
              "    </tr>\n",
              "    <tr>\n",
              "      <th>5</th>\n",
              "      <td>01/22/2020 12:00:00</td>\n",
              "      <td>China</td>\n",
              "    </tr>\n",
              "    <tr>\n",
              "      <th>6</th>\n",
              "      <td>01/22/2020 12:00:00</td>\n",
              "      <td>China</td>\n",
              "    </tr>\n",
              "    <tr>\n",
              "      <th>7</th>\n",
              "      <td>01/22/2020 12:00:00</td>\n",
              "      <td>China</td>\n",
              "    </tr>\n",
              "    <tr>\n",
              "      <th>8</th>\n",
              "      <td>01/22/2020 12:00:00</td>\n",
              "      <td>China</td>\n",
              "    </tr>\n",
              "    <tr>\n",
              "      <th>9</th>\n",
              "      <td>01/22/2020 12:00:00</td>\n",
              "      <td>China</td>\n",
              "    </tr>\n",
              "    <tr>\n",
              "      <th>10</th>\n",
              "      <td>01/22/2020 12:00:00</td>\n",
              "      <td>China</td>\n",
              "    </tr>\n",
              "  </tbody>\n",
              "</table>\n",
              "</div>"
            ],
            "text/plain": [
              "                   Date Country\n",
              "0   01/22/2020 12:00:00   China\n",
              "1   01/22/2020 12:00:00   China\n",
              "2   01/22/2020 12:00:00   China\n",
              "3   01/22/2020 12:00:00   China\n",
              "4   01/22/2020 12:00:00   China\n",
              "5   01/22/2020 12:00:00   China\n",
              "6   01/22/2020 12:00:00   China\n",
              "7   01/22/2020 12:00:00   China\n",
              "8   01/22/2020 12:00:00   China\n",
              "9   01/22/2020 12:00:00   China\n",
              "10  01/22/2020 12:00:00   China"
            ]
          },
          "metadata": {
            "tags": []
          },
          "execution_count": 23
        }
      ]
    },
    {
      "cell_type": "code",
      "metadata": {
        "id": "aC_8jcKjZd1W",
        "colab_type": "code",
        "outputId": "cba3deed-f0e3-447f-bdf7-9a7bba54f53d",
        "colab": {
          "base_uri": "https://localhost:8080/",
          "height": 80
        }
      },
      "source": [
        "df.head(1)"
      ],
      "execution_count": 0,
      "outputs": [
        {
          "output_type": "execute_result",
          "data": {
            "text/html": [
              "<div>\n",
              "<style scoped>\n",
              "    .dataframe tbody tr th:only-of-type {\n",
              "        vertical-align: middle;\n",
              "    }\n",
              "\n",
              "    .dataframe tbody tr th {\n",
              "        vertical-align: top;\n",
              "    }\n",
              "\n",
              "    .dataframe thead th {\n",
              "        text-align: right;\n",
              "    }\n",
              "</style>\n",
              "<table border=\"1\" class=\"dataframe\">\n",
              "  <thead>\n",
              "    <tr style=\"text-align: right;\">\n",
              "      <th></th>\n",
              "      <th>Date</th>\n",
              "      <th>Province/State</th>\n",
              "      <th>Country</th>\n",
              "      <th>Last Update</th>\n",
              "      <th>Confirmed</th>\n",
              "      <th>Deaths</th>\n",
              "      <th>Recovered</th>\n",
              "    </tr>\n",
              "  </thead>\n",
              "  <tbody>\n",
              "    <tr>\n",
              "      <th>0</th>\n",
              "      <td>01/22/2020 12:00:00</td>\n",
              "      <td>Anhui</td>\n",
              "      <td>China</td>\n",
              "      <td>01/22/2020 12:00:00</td>\n",
              "      <td>1.0</td>\n",
              "      <td>0.0</td>\n",
              "      <td>0.0</td>\n",
              "    </tr>\n",
              "  </tbody>\n",
              "</table>\n",
              "</div>"
            ],
            "text/plain": [
              "                  Date Province/State Country  ... Confirmed  Deaths  Recovered\n",
              "0  01/22/2020 12:00:00          Anhui   China  ...       1.0     0.0        0.0\n",
              "\n",
              "[1 rows x 7 columns]"
            ]
          },
          "metadata": {
            "tags": []
          },
          "execution_count": 24
        }
      ]
    },
    {
      "cell_type": "code",
      "metadata": {
        "id": "Qj5AhuiAaeVX",
        "colab_type": "code",
        "outputId": "b9fd742d-bdd5-4bd2-88ce-bd5f0e178ba1",
        "colab": {
          "base_uri": "https://localhost:8080/",
          "height": 421
        }
      },
      "source": [
        "df.loc[(df['Country'] == 'Australia') & (df['Province/State']=='Queensland')]"
      ],
      "execution_count": 0,
      "outputs": [
        {
          "output_type": "execute_result",
          "data": {
            "text/html": [
              "<div>\n",
              "<style scoped>\n",
              "    .dataframe tbody tr th:only-of-type {\n",
              "        vertical-align: middle;\n",
              "    }\n",
              "\n",
              "    .dataframe tbody tr th {\n",
              "        vertical-align: top;\n",
              "    }\n",
              "\n",
              "    .dataframe thead th {\n",
              "        text-align: right;\n",
              "    }\n",
              "</style>\n",
              "<table border=\"1\" class=\"dataframe\">\n",
              "  <thead>\n",
              "    <tr style=\"text-align: right;\">\n",
              "      <th></th>\n",
              "      <th>Date</th>\n",
              "      <th>Province/State</th>\n",
              "      <th>Country</th>\n",
              "      <th>Last Update</th>\n",
              "      <th>Confirmed</th>\n",
              "      <th>Deaths</th>\n",
              "      <th>Recovered</th>\n",
              "    </tr>\n",
              "  </thead>\n",
              "  <tbody>\n",
              "    <tr>\n",
              "      <th>371</th>\n",
              "      <td>01/29/2020 21:00:00</td>\n",
              "      <td>Queensland</td>\n",
              "      <td>Australia</td>\n",
              "      <td>01/29/2020 21:00:00</td>\n",
              "      <td>1.0</td>\n",
              "      <td>0.0</td>\n",
              "      <td>0.0</td>\n",
              "    </tr>\n",
              "    <tr>\n",
              "      <th>427</th>\n",
              "      <td>01/30/2020 21:30:00</td>\n",
              "      <td>Queensland</td>\n",
              "      <td>Australia</td>\n",
              "      <td>01/30/2020 21:30:00</td>\n",
              "      <td>3.0</td>\n",
              "      <td>0.0</td>\n",
              "      <td>0.0</td>\n",
              "    </tr>\n",
              "    <tr>\n",
              "      <th>486</th>\n",
              "      <td>01/31/2020 19:00:00</td>\n",
              "      <td>Queensland</td>\n",
              "      <td>Australia</td>\n",
              "      <td>01/31/2020 19:00:00</td>\n",
              "      <td>3.0</td>\n",
              "      <td>0.0</td>\n",
              "      <td>0.0</td>\n",
              "    </tr>\n",
              "    <tr>\n",
              "      <th>541</th>\n",
              "      <td>02/01/2020 23:00:00</td>\n",
              "      <td>Queensland</td>\n",
              "      <td>Australia</td>\n",
              "      <td>2020-01-02 18:12:00</td>\n",
              "      <td>2.0</td>\n",
              "      <td>0.0</td>\n",
              "      <td>0.0</td>\n",
              "    </tr>\n",
              "    <tr>\n",
              "      <th>609</th>\n",
              "      <td>02/02/2020 21:00:00</td>\n",
              "      <td>Queensland</td>\n",
              "      <td>Australia</td>\n",
              "      <td>2020-02-02 22:33:00</td>\n",
              "      <td>2.0</td>\n",
              "      <td>0.0</td>\n",
              "      <td>0.0</td>\n",
              "    </tr>\n",
              "    <tr>\n",
              "      <th>676</th>\n",
              "      <td>02/03/2020 21:40:00</td>\n",
              "      <td>Queensland</td>\n",
              "      <td>Australia</td>\n",
              "      <td>2020-02-02 22:33:00</td>\n",
              "      <td>2.0</td>\n",
              "      <td>0.0</td>\n",
              "      <td>0.0</td>\n",
              "    </tr>\n",
              "    <tr>\n",
              "      <th>744</th>\n",
              "      <td>02/04/2020 22:00:00</td>\n",
              "      <td>Queensland</td>\n",
              "      <td>Australia</td>\n",
              "      <td>2020-04-02 16:53:00</td>\n",
              "      <td>3.0</td>\n",
              "      <td>0.0</td>\n",
              "      <td>0.0</td>\n",
              "    </tr>\n",
              "    <tr>\n",
              "      <th>814</th>\n",
              "      <td>02/05/2020 12:20:00</td>\n",
              "      <td>Queensland</td>\n",
              "      <td>Australia</td>\n",
              "      <td>2020-04-02 16:53:00</td>\n",
              "      <td>3.0</td>\n",
              "      <td>0.0</td>\n",
              "      <td>0.0</td>\n",
              "    </tr>\n",
              "    <tr>\n",
              "      <th>883</th>\n",
              "      <td>02/06/2020 20:05:00</td>\n",
              "      <td>Queensland</td>\n",
              "      <td>Australia</td>\n",
              "      <td>2020-06-02 02:53:00</td>\n",
              "      <td>4.0</td>\n",
              "      <td>0.0</td>\n",
              "      <td>0.0</td>\n",
              "    </tr>\n",
              "    <tr>\n",
              "      <th>953</th>\n",
              "      <td>02/07/2020 20:24:00</td>\n",
              "      <td>Queensland</td>\n",
              "      <td>Australia</td>\n",
              "      <td>2020-07-02 01:03:00</td>\n",
              "      <td>5.0</td>\n",
              "      <td>0.0</td>\n",
              "      <td>0.0</td>\n",
              "    </tr>\n",
              "    <tr>\n",
              "      <th>1026</th>\n",
              "      <td>02/08/2020 23:04:00</td>\n",
              "      <td>Queensland</td>\n",
              "      <td>Australia</td>\n",
              "      <td>2020-07-02 01:03:00</td>\n",
              "      <td>5.0</td>\n",
              "      <td>0.0</td>\n",
              "      <td>0.0</td>\n",
              "    </tr>\n",
              "    <tr>\n",
              "      <th>1098</th>\n",
              "      <td>02/09/2020 23:20:00</td>\n",
              "      <td>Queensland</td>\n",
              "      <td>Australia</td>\n",
              "      <td>2020-02-09 19:33:02</td>\n",
              "      <td>5.0</td>\n",
              "      <td>0.0</td>\n",
              "      <td>0.0</td>\n",
              "    </tr>\n",
              "  </tbody>\n",
              "</table>\n",
              "</div>"
            ],
            "text/plain": [
              "                     Date Province/State  ... Deaths Recovered\n",
              "371   01/29/2020 21:00:00     Queensland  ...    0.0       0.0\n",
              "427   01/30/2020 21:30:00     Queensland  ...    0.0       0.0\n",
              "486   01/31/2020 19:00:00     Queensland  ...    0.0       0.0\n",
              "541   02/01/2020 23:00:00     Queensland  ...    0.0       0.0\n",
              "609   02/02/2020 21:00:00     Queensland  ...    0.0       0.0\n",
              "676   02/03/2020 21:40:00     Queensland  ...    0.0       0.0\n",
              "744   02/04/2020 22:00:00     Queensland  ...    0.0       0.0\n",
              "814   02/05/2020 12:20:00     Queensland  ...    0.0       0.0\n",
              "883   02/06/2020 20:05:00     Queensland  ...    0.0       0.0\n",
              "953   02/07/2020 20:24:00     Queensland  ...    0.0       0.0\n",
              "1026  02/08/2020 23:04:00     Queensland  ...    0.0       0.0\n",
              "1098  02/09/2020 23:20:00     Queensland  ...    0.0       0.0\n",
              "\n",
              "[12 rows x 7 columns]"
            ]
          },
          "metadata": {
            "tags": []
          },
          "execution_count": 25
        }
      ]
    },
    {
      "cell_type": "code",
      "metadata": {
        "id": "6S9db8kzaeTE",
        "colab_type": "code",
        "outputId": "63d2aab9-2717-4262-c60f-689d7bddbf7d",
        "colab": {
          "base_uri": "https://localhost:8080/",
          "height": 80
        }
      },
      "source": [
        "df.head(1)"
      ],
      "execution_count": 0,
      "outputs": [
        {
          "output_type": "execute_result",
          "data": {
            "text/html": [
              "<div>\n",
              "<style scoped>\n",
              "    .dataframe tbody tr th:only-of-type {\n",
              "        vertical-align: middle;\n",
              "    }\n",
              "\n",
              "    .dataframe tbody tr th {\n",
              "        vertical-align: top;\n",
              "    }\n",
              "\n",
              "    .dataframe thead th {\n",
              "        text-align: right;\n",
              "    }\n",
              "</style>\n",
              "<table border=\"1\" class=\"dataframe\">\n",
              "  <thead>\n",
              "    <tr style=\"text-align: right;\">\n",
              "      <th></th>\n",
              "      <th>Date</th>\n",
              "      <th>Province/State</th>\n",
              "      <th>Country</th>\n",
              "      <th>Last Update</th>\n",
              "      <th>Confirmed</th>\n",
              "      <th>Deaths</th>\n",
              "      <th>Recovered</th>\n",
              "    </tr>\n",
              "  </thead>\n",
              "  <tbody>\n",
              "    <tr>\n",
              "      <th>0</th>\n",
              "      <td>01/22/2020 12:00:00</td>\n",
              "      <td>Anhui</td>\n",
              "      <td>China</td>\n",
              "      <td>01/22/2020 12:00:00</td>\n",
              "      <td>1.0</td>\n",
              "      <td>0.0</td>\n",
              "      <td>0.0</td>\n",
              "    </tr>\n",
              "  </tbody>\n",
              "</table>\n",
              "</div>"
            ],
            "text/plain": [
              "                  Date Province/State Country  ... Confirmed  Deaths  Recovered\n",
              "0  01/22/2020 12:00:00          Anhui   China  ...       1.0     0.0        0.0\n",
              "\n",
              "[1 rows x 7 columns]"
            ]
          },
          "metadata": {
            "tags": []
          },
          "execution_count": 26
        }
      ]
    },
    {
      "cell_type": "code",
      "metadata": {
        "id": "KC8WX0xXaeQs",
        "colab_type": "code",
        "colab": {}
      },
      "source": [
        "df['Date'] = pd.to_datetime(df['Date'],dayfirst=False)"
      ],
      "execution_count": 0,
      "outputs": []
    },
    {
      "cell_type": "code",
      "metadata": {
        "id": "uZstoJTNaeNm",
        "colab_type": "code",
        "outputId": "5b98d2fc-ab22-45af-bfef-524331ece9e5",
        "colab": {
          "base_uri": "https://localhost:8080/",
          "height": 221
        }
      },
      "source": [
        "df.info()"
      ],
      "execution_count": 0,
      "outputs": [
        {
          "output_type": "stream",
          "text": [
            "<class 'pandas.core.frame.DataFrame'>\n",
            "RangeIndex: 1127 entries, 0 to 1126\n",
            "Data columns (total 7 columns):\n",
            "Date              1127 non-null datetime64[ns]\n",
            "Province/State    837 non-null object\n",
            "Country           1127 non-null object\n",
            "Last Update       1127 non-null object\n",
            "Confirmed         1127 non-null float64\n",
            "Deaths            1127 non-null float64\n",
            "Recovered         1127 non-null float64\n",
            "dtypes: datetime64[ns](1), float64(3), object(3)\n",
            "memory usage: 61.8+ KB\n"
          ],
          "name": "stdout"
        }
      ]
    },
    {
      "cell_type": "code",
      "metadata": {
        "id": "hYe63pK3cqR2",
        "colab_type": "code",
        "colab": {}
      },
      "source": [
        "df['Last Update'] = pd.to_datetime(df['Last Update'],dayfirst=False)"
      ],
      "execution_count": 0,
      "outputs": []
    },
    {
      "cell_type": "code",
      "metadata": {
        "id": "7VR0Q3ircy8j",
        "colab_type": "code",
        "outputId": "cd693d8c-867b-465e-e318-9b9464e06a2e",
        "colab": {
          "base_uri": "https://localhost:8080/",
          "height": 221
        }
      },
      "source": [
        "df.info()"
      ],
      "execution_count": 0,
      "outputs": [
        {
          "output_type": "stream",
          "text": [
            "<class 'pandas.core.frame.DataFrame'>\n",
            "RangeIndex: 1127 entries, 0 to 1126\n",
            "Data columns (total 7 columns):\n",
            "Date              1127 non-null datetime64[ns]\n",
            "Province/State    837 non-null object\n",
            "Country           1127 non-null object\n",
            "Last Update       1127 non-null datetime64[ns]\n",
            "Confirmed         1127 non-null float64\n",
            "Deaths            1127 non-null float64\n",
            "Recovered         1127 non-null float64\n",
            "dtypes: datetime64[ns](2), float64(3), object(2)\n",
            "memory usage: 61.8+ KB\n"
          ],
          "name": "stdout"
        }
      ]
    },
    {
      "cell_type": "code",
      "metadata": {
        "id": "NWg1MRdkc1B8",
        "colab_type": "code",
        "outputId": "9969700a-f515-4e3a-e258-3feed07ad1e7",
        "colab": {
          "base_uri": "https://localhost:8080/",
          "height": 204
        }
      },
      "source": [
        "df.head()"
      ],
      "execution_count": 0,
      "outputs": [
        {
          "output_type": "execute_result",
          "data": {
            "text/html": [
              "<div>\n",
              "<style scoped>\n",
              "    .dataframe tbody tr th:only-of-type {\n",
              "        vertical-align: middle;\n",
              "    }\n",
              "\n",
              "    .dataframe tbody tr th {\n",
              "        vertical-align: top;\n",
              "    }\n",
              "\n",
              "    .dataframe thead th {\n",
              "        text-align: right;\n",
              "    }\n",
              "</style>\n",
              "<table border=\"1\" class=\"dataframe\">\n",
              "  <thead>\n",
              "    <tr style=\"text-align: right;\">\n",
              "      <th></th>\n",
              "      <th>Date</th>\n",
              "      <th>Province/State</th>\n",
              "      <th>Country</th>\n",
              "      <th>Last Update</th>\n",
              "      <th>Confirmed</th>\n",
              "      <th>Deaths</th>\n",
              "      <th>Recovered</th>\n",
              "    </tr>\n",
              "  </thead>\n",
              "  <tbody>\n",
              "    <tr>\n",
              "      <th>0</th>\n",
              "      <td>2020-01-22 12:00:00</td>\n",
              "      <td>Anhui</td>\n",
              "      <td>China</td>\n",
              "      <td>2020-01-22 12:00:00</td>\n",
              "      <td>1.0</td>\n",
              "      <td>0.0</td>\n",
              "      <td>0.0</td>\n",
              "    </tr>\n",
              "    <tr>\n",
              "      <th>1</th>\n",
              "      <td>2020-01-22 12:00:00</td>\n",
              "      <td>Beijing</td>\n",
              "      <td>China</td>\n",
              "      <td>2020-01-22 12:00:00</td>\n",
              "      <td>14.0</td>\n",
              "      <td>0.0</td>\n",
              "      <td>0.0</td>\n",
              "    </tr>\n",
              "    <tr>\n",
              "      <th>2</th>\n",
              "      <td>2020-01-22 12:00:00</td>\n",
              "      <td>Chongqing</td>\n",
              "      <td>China</td>\n",
              "      <td>2020-01-22 12:00:00</td>\n",
              "      <td>6.0</td>\n",
              "      <td>0.0</td>\n",
              "      <td>0.0</td>\n",
              "    </tr>\n",
              "    <tr>\n",
              "      <th>3</th>\n",
              "      <td>2020-01-22 12:00:00</td>\n",
              "      <td>Fujian</td>\n",
              "      <td>China</td>\n",
              "      <td>2020-01-22 12:00:00</td>\n",
              "      <td>1.0</td>\n",
              "      <td>0.0</td>\n",
              "      <td>0.0</td>\n",
              "    </tr>\n",
              "    <tr>\n",
              "      <th>4</th>\n",
              "      <td>2020-01-22 12:00:00</td>\n",
              "      <td>Gansu</td>\n",
              "      <td>China</td>\n",
              "      <td>2020-01-22 12:00:00</td>\n",
              "      <td>0.0</td>\n",
              "      <td>0.0</td>\n",
              "      <td>0.0</td>\n",
              "    </tr>\n",
              "  </tbody>\n",
              "</table>\n",
              "</div>"
            ],
            "text/plain": [
              "                 Date Province/State Country  ... Confirmed  Deaths  Recovered\n",
              "0 2020-01-22 12:00:00          Anhui   China  ...       1.0     0.0        0.0\n",
              "1 2020-01-22 12:00:00        Beijing   China  ...      14.0     0.0        0.0\n",
              "2 2020-01-22 12:00:00      Chongqing   China  ...       6.0     0.0        0.0\n",
              "3 2020-01-22 12:00:00         Fujian   China  ...       1.0     0.0        0.0\n",
              "4 2020-01-22 12:00:00          Gansu   China  ...       0.0     0.0        0.0\n",
              "\n",
              "[5 rows x 7 columns]"
            ]
          },
          "metadata": {
            "tags": []
          },
          "execution_count": 31
        }
      ]
    },
    {
      "cell_type": "code",
      "metadata": {
        "id": "aHjdddzHdRkX",
        "colab_type": "code",
        "colab": {}
      },
      "source": [
        "df.set_index('Date', inplace=True)"
      ],
      "execution_count": 0,
      "outputs": []
    },
    {
      "cell_type": "code",
      "metadata": {
        "id": "JDuKnmLDdYLX",
        "colab_type": "code",
        "outputId": "ce620ab2-1f40-4e9c-ebde-72eaee9f872f",
        "colab": {
          "base_uri": "https://localhost:8080/",
          "height": 235
        }
      },
      "source": [
        "df.head()"
      ],
      "execution_count": 0,
      "outputs": [
        {
          "output_type": "execute_result",
          "data": {
            "text/html": [
              "<div>\n",
              "<style scoped>\n",
              "    .dataframe tbody tr th:only-of-type {\n",
              "        vertical-align: middle;\n",
              "    }\n",
              "\n",
              "    .dataframe tbody tr th {\n",
              "        vertical-align: top;\n",
              "    }\n",
              "\n",
              "    .dataframe thead th {\n",
              "        text-align: right;\n",
              "    }\n",
              "</style>\n",
              "<table border=\"1\" class=\"dataframe\">\n",
              "  <thead>\n",
              "    <tr style=\"text-align: right;\">\n",
              "      <th></th>\n",
              "      <th>Province/State</th>\n",
              "      <th>Country</th>\n",
              "      <th>Last Update</th>\n",
              "      <th>Confirmed</th>\n",
              "      <th>Deaths</th>\n",
              "      <th>Recovered</th>\n",
              "    </tr>\n",
              "    <tr>\n",
              "      <th>Date</th>\n",
              "      <th></th>\n",
              "      <th></th>\n",
              "      <th></th>\n",
              "      <th></th>\n",
              "      <th></th>\n",
              "      <th></th>\n",
              "    </tr>\n",
              "  </thead>\n",
              "  <tbody>\n",
              "    <tr>\n",
              "      <th>2020-01-22 12:00:00</th>\n",
              "      <td>Anhui</td>\n",
              "      <td>China</td>\n",
              "      <td>2020-01-22 12:00:00</td>\n",
              "      <td>1.0</td>\n",
              "      <td>0.0</td>\n",
              "      <td>0.0</td>\n",
              "    </tr>\n",
              "    <tr>\n",
              "      <th>2020-01-22 12:00:00</th>\n",
              "      <td>Beijing</td>\n",
              "      <td>China</td>\n",
              "      <td>2020-01-22 12:00:00</td>\n",
              "      <td>14.0</td>\n",
              "      <td>0.0</td>\n",
              "      <td>0.0</td>\n",
              "    </tr>\n",
              "    <tr>\n",
              "      <th>2020-01-22 12:00:00</th>\n",
              "      <td>Chongqing</td>\n",
              "      <td>China</td>\n",
              "      <td>2020-01-22 12:00:00</td>\n",
              "      <td>6.0</td>\n",
              "      <td>0.0</td>\n",
              "      <td>0.0</td>\n",
              "    </tr>\n",
              "    <tr>\n",
              "      <th>2020-01-22 12:00:00</th>\n",
              "      <td>Fujian</td>\n",
              "      <td>China</td>\n",
              "      <td>2020-01-22 12:00:00</td>\n",
              "      <td>1.0</td>\n",
              "      <td>0.0</td>\n",
              "      <td>0.0</td>\n",
              "    </tr>\n",
              "    <tr>\n",
              "      <th>2020-01-22 12:00:00</th>\n",
              "      <td>Gansu</td>\n",
              "      <td>China</td>\n",
              "      <td>2020-01-22 12:00:00</td>\n",
              "      <td>0.0</td>\n",
              "      <td>0.0</td>\n",
              "      <td>0.0</td>\n",
              "    </tr>\n",
              "  </tbody>\n",
              "</table>\n",
              "</div>"
            ],
            "text/plain": [
              "                    Province/State Country  ... Deaths  Recovered\n",
              "Date                                        ...                  \n",
              "2020-01-22 12:00:00          Anhui   China  ...    0.0        0.0\n",
              "2020-01-22 12:00:00        Beijing   China  ...    0.0        0.0\n",
              "2020-01-22 12:00:00      Chongqing   China  ...    0.0        0.0\n",
              "2020-01-22 12:00:00         Fujian   China  ...    0.0        0.0\n",
              "2020-01-22 12:00:00          Gansu   China  ...    0.0        0.0\n",
              "\n",
              "[5 rows x 6 columns]"
            ]
          },
          "metadata": {
            "tags": []
          },
          "execution_count": 33
        }
      ]
    },
    {
      "cell_type": "code",
      "metadata": {
        "id": "VKsH8q-LdZiA",
        "colab_type": "code",
        "outputId": "d45160d8-b577-4eeb-bafa-b4ba632a646d",
        "colab": {
          "base_uri": "https://localhost:8080/",
          "height": 450
        }
      },
      "source": [
        "df['Feb 2020']"
      ],
      "execution_count": 0,
      "outputs": [
        {
          "output_type": "execute_result",
          "data": {
            "text/html": [
              "<div>\n",
              "<style scoped>\n",
              "    .dataframe tbody tr th:only-of-type {\n",
              "        vertical-align: middle;\n",
              "    }\n",
              "\n",
              "    .dataframe tbody tr th {\n",
              "        vertical-align: top;\n",
              "    }\n",
              "\n",
              "    .dataframe thead th {\n",
              "        text-align: right;\n",
              "    }\n",
              "</style>\n",
              "<table border=\"1\" class=\"dataframe\">\n",
              "  <thead>\n",
              "    <tr style=\"text-align: right;\">\n",
              "      <th></th>\n",
              "      <th>Province/State</th>\n",
              "      <th>Country</th>\n",
              "      <th>Last Update</th>\n",
              "      <th>Confirmed</th>\n",
              "      <th>Deaths</th>\n",
              "      <th>Recovered</th>\n",
              "    </tr>\n",
              "    <tr>\n",
              "      <th>Date</th>\n",
              "      <th></th>\n",
              "      <th></th>\n",
              "      <th></th>\n",
              "      <th></th>\n",
              "      <th></th>\n",
              "      <th></th>\n",
              "    </tr>\n",
              "  </thead>\n",
              "  <tbody>\n",
              "    <tr>\n",
              "      <th>2020-02-01 23:00:00</th>\n",
              "      <td>Hubei</td>\n",
              "      <td>Mainland China</td>\n",
              "      <td>2020-01-02 23:33:00</td>\n",
              "      <td>9074.0</td>\n",
              "      <td>294.0</td>\n",
              "      <td>215.0</td>\n",
              "    </tr>\n",
              "    <tr>\n",
              "      <th>2020-02-01 23:00:00</th>\n",
              "      <td>Zhejiang</td>\n",
              "      <td>Mainland China</td>\n",
              "      <td>2020-02-02 02:13:00</td>\n",
              "      <td>661.0</td>\n",
              "      <td>0.0</td>\n",
              "      <td>23.0</td>\n",
              "    </tr>\n",
              "    <tr>\n",
              "      <th>2020-02-01 23:00:00</th>\n",
              "      <td>Guangdong</td>\n",
              "      <td>Mainland China</td>\n",
              "      <td>2020-02-02 01:23:00</td>\n",
              "      <td>604.0</td>\n",
              "      <td>0.0</td>\n",
              "      <td>14.0</td>\n",
              "    </tr>\n",
              "    <tr>\n",
              "      <th>2020-02-01 23:00:00</th>\n",
              "      <td>Henan</td>\n",
              "      <td>Mainland China</td>\n",
              "      <td>2020-02-02 00:53:00</td>\n",
              "      <td>493.0</td>\n",
              "      <td>2.0</td>\n",
              "      <td>4.0</td>\n",
              "    </tr>\n",
              "    <tr>\n",
              "      <th>2020-02-01 23:00:00</th>\n",
              "      <td>Hunan</td>\n",
              "      <td>Mainland China</td>\n",
              "      <td>2020-02-02 01:53:00</td>\n",
              "      <td>463.0</td>\n",
              "      <td>0.0</td>\n",
              "      <td>8.0</td>\n",
              "    </tr>\n",
              "    <tr>\n",
              "      <th>...</th>\n",
              "      <td>...</td>\n",
              "      <td>...</td>\n",
              "      <td>...</td>\n",
              "      <td>...</td>\n",
              "      <td>...</td>\n",
              "      <td>...</td>\n",
              "    </tr>\n",
              "    <tr>\n",
              "      <th>2020-02-09 23:20:00</th>\n",
              "      <td>Los Angeles, CA</td>\n",
              "      <td>US</td>\n",
              "      <td>2020-02-01 19:53:03</td>\n",
              "      <td>1.0</td>\n",
              "      <td>0.0</td>\n",
              "      <td>0.0</td>\n",
              "    </tr>\n",
              "    <tr>\n",
              "      <th>2020-02-09 23:20:00</th>\n",
              "      <td>Madison, WI</td>\n",
              "      <td>US</td>\n",
              "      <td>2020-02-05 21:53:02</td>\n",
              "      <td>1.0</td>\n",
              "      <td>0.0</td>\n",
              "      <td>0.0</td>\n",
              "    </tr>\n",
              "    <tr>\n",
              "      <th>2020-02-09 23:20:00</th>\n",
              "      <td>Orange, CA</td>\n",
              "      <td>US</td>\n",
              "      <td>2020-02-01 19:53:03</td>\n",
              "      <td>1.0</td>\n",
              "      <td>0.0</td>\n",
              "      <td>0.0</td>\n",
              "    </tr>\n",
              "    <tr>\n",
              "      <th>2020-02-09 23:20:00</th>\n",
              "      <td>Seattle, WA</td>\n",
              "      <td>US</td>\n",
              "      <td>2020-02-09 07:03:04</td>\n",
              "      <td>1.0</td>\n",
              "      <td>0.0</td>\n",
              "      <td>1.0</td>\n",
              "    </tr>\n",
              "    <tr>\n",
              "      <th>2020-02-09 23:20:00</th>\n",
              "      <td>Tempe, AZ</td>\n",
              "      <td>US</td>\n",
              "      <td>2020-02-01 19:43:03</td>\n",
              "      <td>1.0</td>\n",
              "      <td>0.0</td>\n",
              "      <td>0.0</td>\n",
              "    </tr>\n",
              "  </tbody>\n",
              "</table>\n",
              "<p>630 rows × 6 columns</p>\n",
              "</div>"
            ],
            "text/plain": [
              "                      Province/State         Country  ... Deaths  Recovered\n",
              "Date                                                  ...                  \n",
              "2020-02-01 23:00:00            Hubei  Mainland China  ...  294.0      215.0\n",
              "2020-02-01 23:00:00         Zhejiang  Mainland China  ...    0.0       23.0\n",
              "2020-02-01 23:00:00        Guangdong  Mainland China  ...    0.0       14.0\n",
              "2020-02-01 23:00:00            Henan  Mainland China  ...    2.0        4.0\n",
              "2020-02-01 23:00:00            Hunan  Mainland China  ...    0.0        8.0\n",
              "...                              ...             ...  ...    ...        ...\n",
              "2020-02-09 23:20:00  Los Angeles, CA              US  ...    0.0        0.0\n",
              "2020-02-09 23:20:00      Madison, WI              US  ...    0.0        0.0\n",
              "2020-02-09 23:20:00       Orange, CA              US  ...    0.0        0.0\n",
              "2020-02-09 23:20:00      Seattle, WA              US  ...    0.0        1.0\n",
              "2020-02-09 23:20:00        Tempe, AZ              US  ...    0.0        0.0\n",
              "\n",
              "[630 rows x 6 columns]"
            ]
          },
          "metadata": {
            "tags": []
          },
          "execution_count": 34
        }
      ]
    },
    {
      "cell_type": "code",
      "metadata": {
        "id": "_eMLvzPxdgce",
        "colab_type": "code",
        "colab": {}
      },
      "source": [
        "queensland = df[(df['Country'] == 'Australia') & (df['Province/State']== 'Queensland')]"
      ],
      "execution_count": 0,
      "outputs": []
    },
    {
      "cell_type": "code",
      "metadata": {
        "id": "Eg9S4xhleDPx",
        "colab_type": "code",
        "outputId": "91e01835-2de1-4f9f-ef6d-c77065bba813",
        "colab": {
          "base_uri": "https://localhost:8080/",
          "height": 302
        }
      },
      "source": [
        "queensland['Confirmed'].plot()"
      ],
      "execution_count": 0,
      "outputs": [
        {
          "output_type": "execute_result",
          "data": {
            "text/plain": [
              "<matplotlib.axes._subplots.AxesSubplot at 0x7f8eec9eab70>"
            ]
          },
          "metadata": {
            "tags": []
          },
          "execution_count": 36
        },
        {
          "output_type": "display_data",
          "data": {
            "image/png": "[encoded data removed]",
            "text/plain": [
              "<Figure size 432x288 with 1 Axes>"
            ]
          },
          "metadata": {
            "tags": []
          }
        }
      ]
    },
    {
      "cell_type": "code",
      "metadata": {
        "id": "bilMMW5deUuI",
        "colab_type": "code",
        "outputId": "8f5652b4-5bac-43af-be7c-07df5ef1710f",
        "colab": {
          "base_uri": "https://localhost:8080/",
          "height": 597
        }
      },
      "source": [
        "plt.figure(figsize = (10,8))\n",
        "df['Country'].value_counts().plot(kind = 'bar')"
      ],
      "execution_count": 0,
      "outputs": [
        {
          "output_type": "execute_result",
          "data": {
            "text/plain": [
              "<matplotlib.axes._subplots.AxesSubplot at 0x7f8eec900ef0>"
            ]
          },
          "metadata": {
            "tags": []
          },
          "execution_count": 37
        },
        {
          "output_type": "display_data",
          "data": {
            "image/png": "[encoded data removed]",
            "text/plain": [
              "<Figure size 720x576 with 1 Axes>"
            ]
          },
          "metadata": {
            "tags": []
          }
        }
      ]
    },
    {
      "cell_type": "code",
      "metadata": {
        "id": "dKgVXlm-exMG",
        "colab_type": "code",
        "outputId": "18e2f06b-424d-463e-b87d-d9b6e1eb1640",
        "colab": {
          "base_uri": "https://localhost:8080/",
          "height": 111
        }
      },
      "source": [
        "df.head(1)"
      ],
      "execution_count": 0,
      "outputs": [
        {
          "output_type": "execute_result",
          "data": {
            "text/html": [
              "<div>\n",
              "<style scoped>\n",
              "    .dataframe tbody tr th:only-of-type {\n",
              "        vertical-align: middle;\n",
              "    }\n",
              "\n",
              "    .dataframe tbody tr th {\n",
              "        vertical-align: top;\n",
              "    }\n",
              "\n",
              "    .dataframe thead th {\n",
              "        text-align: right;\n",
              "    }\n",
              "</style>\n",
              "<table border=\"1\" class=\"dataframe\">\n",
              "  <thead>\n",
              "    <tr style=\"text-align: right;\">\n",
              "      <th></th>\n",
              "      <th>Province/State</th>\n",
              "      <th>Country</th>\n",
              "      <th>Last Update</th>\n",
              "      <th>Confirmed</th>\n",
              "      <th>Deaths</th>\n",
              "      <th>Recovered</th>\n",
              "    </tr>\n",
              "    <tr>\n",
              "      <th>Date</th>\n",
              "      <th></th>\n",
              "      <th></th>\n",
              "      <th></th>\n",
              "      <th></th>\n",
              "      <th></th>\n",
              "      <th></th>\n",
              "    </tr>\n",
              "  </thead>\n",
              "  <tbody>\n",
              "    <tr>\n",
              "      <th>2020-01-22 12:00:00</th>\n",
              "      <td>Anhui</td>\n",
              "      <td>China</td>\n",
              "      <td>2020-01-22 12:00:00</td>\n",
              "      <td>1.0</td>\n",
              "      <td>0.0</td>\n",
              "      <td>0.0</td>\n",
              "    </tr>\n",
              "  </tbody>\n",
              "</table>\n",
              "</div>"
            ],
            "text/plain": [
              "                    Province/State Country  ... Deaths  Recovered\n",
              "Date                                        ...                  \n",
              "2020-01-22 12:00:00          Anhui   China  ...    0.0        0.0\n",
              "\n",
              "[1 rows x 6 columns]"
            ]
          },
          "metadata": {
            "tags": []
          },
          "execution_count": 38
        }
      ]
    },
    {
      "cell_type": "code",
      "metadata": {
        "id": "owoKgwF4fWjz",
        "colab_type": "code",
        "colab": {}
      },
      "source": [
        "import seaborn as sns"
      ],
      "execution_count": 0,
      "outputs": []
    },
    {
      "cell_type": "code",
      "metadata": {
        "id": "aD9kYN5KgWmS",
        "colab_type": "code",
        "outputId": "591c99f3-00dd-4654-8cb0-2583389910ae",
        "colab": {
          "base_uri": "https://localhost:8080/",
          "height": 111
        }
      },
      "source": [
        "df.head(1)"
      ],
      "execution_count": 0,
      "outputs": [
        {
          "output_type": "execute_result",
          "data": {
            "text/html": [
              "<div>\n",
              "<style scoped>\n",
              "    .dataframe tbody tr th:only-of-type {\n",
              "        vertical-align: middle;\n",
              "    }\n",
              "\n",
              "    .dataframe tbody tr th {\n",
              "        vertical-align: top;\n",
              "    }\n",
              "\n",
              "    .dataframe thead th {\n",
              "        text-align: right;\n",
              "    }\n",
              "</style>\n",
              "<table border=\"1\" class=\"dataframe\">\n",
              "  <thead>\n",
              "    <tr style=\"text-align: right;\">\n",
              "      <th></th>\n",
              "      <th>Province/State</th>\n",
              "      <th>Country</th>\n",
              "      <th>Last Update</th>\n",
              "      <th>Confirmed</th>\n",
              "      <th>Deaths</th>\n",
              "      <th>Recovered</th>\n",
              "    </tr>\n",
              "    <tr>\n",
              "      <th>Date</th>\n",
              "      <th></th>\n",
              "      <th></th>\n",
              "      <th></th>\n",
              "      <th></th>\n",
              "      <th></th>\n",
              "      <th></th>\n",
              "    </tr>\n",
              "  </thead>\n",
              "  <tbody>\n",
              "    <tr>\n",
              "      <th>2020-01-22 12:00:00</th>\n",
              "      <td>Anhui</td>\n",
              "      <td>China</td>\n",
              "      <td>2020-01-22 12:00:00</td>\n",
              "      <td>1.0</td>\n",
              "      <td>0.0</td>\n",
              "      <td>0.0</td>\n",
              "    </tr>\n",
              "  </tbody>\n",
              "</table>\n",
              "</div>"
            ],
            "text/plain": [
              "                    Province/State Country  ... Deaths  Recovered\n",
              "Date                                        ...                  \n",
              "2020-01-22 12:00:00          Anhui   China  ...    0.0        0.0\n",
              "\n",
              "[1 rows x 6 columns]"
            ]
          },
          "metadata": {
            "tags": []
          },
          "execution_count": 40
        }
      ]
    },
    {
      "cell_type": "code",
      "metadata": {
        "id": "0D-BZ0m6gYAK",
        "colab_type": "code",
        "colab": {}
      },
      "source": [
        "country = df['Country'].value_counts()"
      ],
      "execution_count": 0,
      "outputs": []
    },
    {
      "cell_type": "code",
      "metadata": {
        "id": "TRMfMDDDgaoi",
        "colab_type": "code",
        "outputId": "290b71ac-71a5-459d-f9cd-abc9d5993d65",
        "colab": {
          "base_uri": "https://localhost:8080/",
          "height": 136
        }
      },
      "source": [
        "country.index"
      ],
      "execution_count": 0,
      "outputs": [
        {
          "output_type": "execute_result",
          "data": {
            "text/plain": [
              "Index(['Mainland China', 'US', 'Australia', 'Canada', 'China', 'Japan',\n",
              "       'South Korea', 'Thailand', 'Macau', 'Hong Kong', 'Singapore', 'Vietnam',\n",
              "       'Taiwan', 'Malaysia', 'France', 'Nepal', 'Germany', 'Cambodia',\n",
              "       'Sri Lanka', 'Philippines', 'United Arab Emirates', 'Finland', 'India',\n",
              "       'Italy', 'Russia', 'Spain', 'Sweden', 'UK', 'Belgium', 'Others',\n",
              "       'Ivory Coast', 'Brazil', 'Mexico'],\n",
              "      dtype='object')"
            ]
          },
          "metadata": {
            "tags": []
          },
          "execution_count": 42
        }
      ]
    },
    {
      "cell_type": "code",
      "metadata": {
        "id": "G-eW0XJJgiHB",
        "colab_type": "code",
        "outputId": "3d5679b6-0ee3-4691-d3fe-293fbd832560",
        "colab": {
          "base_uri": "https://localhost:8080/",
          "height": 68
        }
      },
      "source": [
        "country.values"
      ],
      "execution_count": 0,
      "outputs": [
        {
          "output_type": "execute_result",
          "data": {
            "text/plain": [
              "array([553, 104,  52,  35,  34,  19,  19,  19,  18,  18,  18,  18,  18,\n",
              "        17,  17,  16,  14,  14,  14,  12,  12,  12,  11,  11,  10,  10,\n",
              "        10,  10,   6,   3,   1,   1,   1])"
            ]
          },
          "metadata": {
            "tags": []
          },
          "execution_count": 43
        }
      ]
    },
    {
      "cell_type": "code",
      "metadata": {
        "id": "i6gElEtwgjkR",
        "colab_type": "code",
        "outputId": "73caad5a-735f-41ec-da8d-59abbf012a7d",
        "colab": {
          "base_uri": "https://localhost:8080/",
          "height": 395
        }
      },
      "source": [
        "sns.barplot(x = country.index, y=country.values)\n",
        "plt.xticks(rotation=90)\n",
        "plt.title('Country counts')"
      ],
      "execution_count": 0,
      "outputs": [
        {
          "output_type": "execute_result",
          "data": {
            "text/plain": [
              "Text(0.5, 1.0, 'Country counts')"
            ]
          },
          "metadata": {
            "tags": []
          },
          "execution_count": 44
        },
        {
          "output_type": "display_data",
          "data": {
            "image/png": "[encoded data removed]",
            "text/plain": [
              "<Figure size 432x288 with 1 Axes>"
            ]
          },
          "metadata": {
            "tags": []
          }
        }
      ]
    },
    {
      "cell_type": "code",
      "metadata": {
        "id": "EKPYEJrpgpgk",
        "colab_type": "code",
        "outputId": "38ada55f-5987-450c-aef2-ffb7bb4282c9",
        "colab": {
          "base_uri": "https://localhost:8080/",
          "height": 450
        }
      },
      "source": [
        "df[['Country', 'Province/State']]"
      ],
      "execution_count": 0,
      "outputs": [
        {
          "output_type": "execute_result",
          "data": {
            "text/html": [
              "<div>\n",
              "<style scoped>\n",
              "    .dataframe tbody tr th:only-of-type {\n",
              "        vertical-align: middle;\n",
              "    }\n",
              "\n",
              "    .dataframe tbody tr th {\n",
              "        vertical-align: top;\n",
              "    }\n",
              "\n",
              "    .dataframe thead th {\n",
              "        text-align: right;\n",
              "    }\n",
              "</style>\n",
              "<table border=\"1\" class=\"dataframe\">\n",
              "  <thead>\n",
              "    <tr style=\"text-align: right;\">\n",
              "      <th></th>\n",
              "      <th>Country</th>\n",
              "      <th>Province/State</th>\n",
              "    </tr>\n",
              "    <tr>\n",
              "      <th>Date</th>\n",
              "      <th></th>\n",
              "      <th></th>\n",
              "    </tr>\n",
              "  </thead>\n",
              "  <tbody>\n",
              "    <tr>\n",
              "      <th>2020-01-22 12:00:00</th>\n",
              "      <td>China</td>\n",
              "      <td>Anhui</td>\n",
              "    </tr>\n",
              "    <tr>\n",
              "      <th>2020-01-22 12:00:00</th>\n",
              "      <td>China</td>\n",
              "      <td>Beijing</td>\n",
              "    </tr>\n",
              "    <tr>\n",
              "      <th>2020-01-22 12:00:00</th>\n",
              "      <td>China</td>\n",
              "      <td>Chongqing</td>\n",
              "    </tr>\n",
              "    <tr>\n",
              "      <th>2020-01-22 12:00:00</th>\n",
              "      <td>China</td>\n",
              "      <td>Fujian</td>\n",
              "    </tr>\n",
              "    <tr>\n",
              "      <th>2020-01-22 12:00:00</th>\n",
              "      <td>China</td>\n",
              "      <td>Gansu</td>\n",
              "    </tr>\n",
              "    <tr>\n",
              "      <th>...</th>\n",
              "      <td>...</td>\n",
              "      <td>...</td>\n",
              "    </tr>\n",
              "    <tr>\n",
              "      <th>2020-02-09 23:20:00</th>\n",
              "      <td>US</td>\n",
              "      <td>Los Angeles, CA</td>\n",
              "    </tr>\n",
              "    <tr>\n",
              "      <th>2020-02-09 23:20:00</th>\n",
              "      <td>US</td>\n",
              "      <td>Madison, WI</td>\n",
              "    </tr>\n",
              "    <tr>\n",
              "      <th>2020-02-09 23:20:00</th>\n",
              "      <td>US</td>\n",
              "      <td>Orange, CA</td>\n",
              "    </tr>\n",
              "    <tr>\n",
              "      <th>2020-02-09 23:20:00</th>\n",
              "      <td>US</td>\n",
              "      <td>Seattle, WA</td>\n",
              "    </tr>\n",
              "    <tr>\n",
              "      <th>2020-02-09 23:20:00</th>\n",
              "      <td>US</td>\n",
              "      <td>Tempe, AZ</td>\n",
              "    </tr>\n",
              "  </tbody>\n",
              "</table>\n",
              "<p>1127 rows × 2 columns</p>\n",
              "</div>"
            ],
            "text/plain": [
              "                    Country   Province/State\n",
              "Date                                        \n",
              "2020-01-22 12:00:00   China            Anhui\n",
              "2020-01-22 12:00:00   China          Beijing\n",
              "2020-01-22 12:00:00   China        Chongqing\n",
              "2020-01-22 12:00:00   China           Fujian\n",
              "2020-01-22 12:00:00   China            Gansu\n",
              "...                     ...              ...\n",
              "2020-02-09 23:20:00      US  Los Angeles, CA\n",
              "2020-02-09 23:20:00      US      Madison, WI\n",
              "2020-02-09 23:20:00      US       Orange, CA\n",
              "2020-02-09 23:20:00      US      Seattle, WA\n",
              "2020-02-09 23:20:00      US        Tempe, AZ\n",
              "\n",
              "[1127 rows x 2 columns]"
            ]
          },
          "metadata": {
            "tags": []
          },
          "execution_count": 45
        }
      ]
    },
    {
      "cell_type": "code",
      "metadata": {
        "id": "fM047wFDiXIO",
        "colab_type": "code",
        "outputId": "b1828cf4-0e52-4f4d-9870-189a5c457803",
        "colab": {
          "base_uri": "https://localhost:8080/",
          "height": 824
        }
      },
      "source": [
        "plt.figure(figsize = (15,10))\n",
        "df.groupby(['Country', 'Province/State']).agg({'Confirmed':'count'}).plot(kind='bar', figsize= (15,10))"
      ],
      "execution_count": 0,
      "outputs": [
        {
          "output_type": "execute_result",
          "data": {
            "text/plain": [
              "<matplotlib.axes._subplots.AxesSubplot at 0x7f8eec366278>"
            ]
          },
          "metadata": {
            "tags": []
          },
          "execution_count": 46
        },
        {
          "output_type": "display_data",
          "data": {
            "text/plain": [
              "<Figure size 1080x720 with 0 Axes>"
            ]
          },
          "metadata": {
            "tags": []
          }
        },
        {
          "output_type": "display_data",
          "data": {
            "image/png": "[encoded data removed]",
            "text/plain": [
              "<Figure size 1080x720 with 1 Axes>"
            ]
          },
          "metadata": {
            "tags": []
          }
        }
      ]
    },
    {
      "cell_type": "code",
      "metadata": {
        "id": "VZz--aIwihxk",
        "colab_type": "code",
        "outputId": "2cb60181-9b80-4a50-dd55-dc09f8210365",
        "colab": {
          "base_uri": "https://localhost:8080/",
          "height": 235
        }
      },
      "source": [
        "df.head()"
      ],
      "execution_count": 0,
      "outputs": [
        {
          "output_type": "execute_result",
          "data": {
            "text/html": [
              "<div>\n",
              "<style scoped>\n",
              "    .dataframe tbody tr th:only-of-type {\n",
              "        vertical-align: middle;\n",
              "    }\n",
              "\n",
              "    .dataframe tbody tr th {\n",
              "        vertical-align: top;\n",
              "    }\n",
              "\n",
              "    .dataframe thead th {\n",
              "        text-align: right;\n",
              "    }\n",
              "</style>\n",
              "<table border=\"1\" class=\"dataframe\">\n",
              "  <thead>\n",
              "    <tr style=\"text-align: right;\">\n",
              "      <th></th>\n",
              "      <th>Province/State</th>\n",
              "      <th>Country</th>\n",
              "      <th>Last Update</th>\n",
              "      <th>Confirmed</th>\n",
              "      <th>Deaths</th>\n",
              "      <th>Recovered</th>\n",
              "    </tr>\n",
              "    <tr>\n",
              "      <th>Date</th>\n",
              "      <th></th>\n",
              "      <th></th>\n",
              "      <th></th>\n",
              "      <th></th>\n",
              "      <th></th>\n",
              "      <th></th>\n",
              "    </tr>\n",
              "  </thead>\n",
              "  <tbody>\n",
              "    <tr>\n",
              "      <th>2020-01-22 12:00:00</th>\n",
              "      <td>Anhui</td>\n",
              "      <td>China</td>\n",
              "      <td>2020-01-22 12:00:00</td>\n",
              "      <td>1.0</td>\n",
              "      <td>0.0</td>\n",
              "      <td>0.0</td>\n",
              "    </tr>\n",
              "    <tr>\n",
              "      <th>2020-01-22 12:00:00</th>\n",
              "      <td>Beijing</td>\n",
              "      <td>China</td>\n",
              "      <td>2020-01-22 12:00:00</td>\n",
              "      <td>14.0</td>\n",
              "      <td>0.0</td>\n",
              "      <td>0.0</td>\n",
              "    </tr>\n",
              "    <tr>\n",
              "      <th>2020-01-22 12:00:00</th>\n",
              "      <td>Chongqing</td>\n",
              "      <td>China</td>\n",
              "      <td>2020-01-22 12:00:00</td>\n",
              "      <td>6.0</td>\n",
              "      <td>0.0</td>\n",
              "      <td>0.0</td>\n",
              "    </tr>\n",
              "    <tr>\n",
              "      <th>2020-01-22 12:00:00</th>\n",
              "      <td>Fujian</td>\n",
              "      <td>China</td>\n",
              "      <td>2020-01-22 12:00:00</td>\n",
              "      <td>1.0</td>\n",
              "      <td>0.0</td>\n",
              "      <td>0.0</td>\n",
              "    </tr>\n",
              "    <tr>\n",
              "      <th>2020-01-22 12:00:00</th>\n",
              "      <td>Gansu</td>\n",
              "      <td>China</td>\n",
              "      <td>2020-01-22 12:00:00</td>\n",
              "      <td>0.0</td>\n",
              "      <td>0.0</td>\n",
              "      <td>0.0</td>\n",
              "    </tr>\n",
              "  </tbody>\n",
              "</table>\n",
              "</div>"
            ],
            "text/plain": [
              "                    Province/State Country  ... Deaths  Recovered\n",
              "Date                                        ...                  \n",
              "2020-01-22 12:00:00          Anhui   China  ...    0.0        0.0\n",
              "2020-01-22 12:00:00        Beijing   China  ...    0.0        0.0\n",
              "2020-01-22 12:00:00      Chongqing   China  ...    0.0        0.0\n",
              "2020-01-22 12:00:00         Fujian   China  ...    0.0        0.0\n",
              "2020-01-22 12:00:00          Gansu   China  ...    0.0        0.0\n",
              "\n",
              "[5 rows x 6 columns]"
            ]
          },
          "metadata": {
            "tags": []
          },
          "execution_count": 47
        }
      ]
    },
    {
      "cell_type": "code",
      "metadata": {
        "id": "UF7AjQkIjbgf",
        "colab_type": "code",
        "outputId": "f717ca14-77e8-420a-c9d3-175cd4bb245f",
        "colab": {
          "base_uri": "https://localhost:8080/",
          "height": 595
        }
      },
      "source": [
        "df['Country'].value_counts()"
      ],
      "execution_count": 0,
      "outputs": [
        {
          "output_type": "execute_result",
          "data": {
            "text/plain": [
              "Mainland China          553\n",
              "US                      104\n",
              "Australia                52\n",
              "Canada                   35\n",
              "China                    34\n",
              "Japan                    19\n",
              "South Korea              19\n",
              "Thailand                 19\n",
              "Macau                    18\n",
              "Hong Kong                18\n",
              "Singapore                18\n",
              "Vietnam                  18\n",
              "Taiwan                   18\n",
              "Malaysia                 17\n",
              "France                   17\n",
              "Nepal                    16\n",
              "Germany                  14\n",
              "Cambodia                 14\n",
              "Sri Lanka                14\n",
              "Philippines              12\n",
              "United Arab Emirates     12\n",
              "Finland                  12\n",
              "India                    11\n",
              "Italy                    11\n",
              "Russia                   10\n",
              "Spain                    10\n",
              "Sweden                   10\n",
              "UK                       10\n",
              "Belgium                   6\n",
              "Others                    3\n",
              "Ivory Coast               1\n",
              "Brazil                    1\n",
              "Mexico                    1\n",
              "Name: Country, dtype: int64"
            ]
          },
          "metadata": {
            "tags": []
          },
          "execution_count": 48
        }
      ]
    },
    {
      "cell_type": "code",
      "metadata": {
        "id": "dmlWGr6LjgId",
        "colab_type": "code",
        "colab": {}
      },
      "source": [
        "df = df.replace('China', 'Mainland China')"
      ],
      "execution_count": 0,
      "outputs": []
    },
    {
      "cell_type": "code",
      "metadata": {
        "id": "N2HLYR_9jr5s",
        "colab_type": "code",
        "colab": {}
      },
      "source": [
        "df.replace('Australia', 'AUS',inplace=True)"
      ],
      "execution_count": 0,
      "outputs": []
    },
    {
      "cell_type": "code",
      "metadata": {
        "id": "F_fBPQ4fj4lE",
        "colab_type": "code",
        "outputId": "7b9b019f-2185-4490-ce0e-702937a658ff",
        "colab": {
          "base_uri": "https://localhost:8080/",
          "height": 390
        }
      },
      "source": [
        "df.sample(10)"
      ],
      "execution_count": 0,
      "outputs": [
        {
          "output_type": "execute_result",
          "data": {
            "text/html": [
              "<div>\n",
              "<style scoped>\n",
              "    .dataframe tbody tr th:only-of-type {\n",
              "        vertical-align: middle;\n",
              "    }\n",
              "\n",
              "    .dataframe tbody tr th {\n",
              "        vertical-align: top;\n",
              "    }\n",
              "\n",
              "    .dataframe thead th {\n",
              "        text-align: right;\n",
              "    }\n",
              "</style>\n",
              "<table border=\"1\" class=\"dataframe\">\n",
              "  <thead>\n",
              "    <tr style=\"text-align: right;\">\n",
              "      <th></th>\n",
              "      <th>Province/State</th>\n",
              "      <th>Country</th>\n",
              "      <th>Last Update</th>\n",
              "      <th>Confirmed</th>\n",
              "      <th>Deaths</th>\n",
              "      <th>Recovered</th>\n",
              "    </tr>\n",
              "    <tr>\n",
              "      <th>Date</th>\n",
              "      <th></th>\n",
              "      <th></th>\n",
              "      <th></th>\n",
              "      <th></th>\n",
              "      <th></th>\n",
              "      <th></th>\n",
              "    </tr>\n",
              "  </thead>\n",
              "  <tbody>\n",
              "    <tr>\n",
              "      <th>2020-02-01 23:00:00</th>\n",
              "      <td>Shanghai</td>\n",
              "      <td>Mainland China</td>\n",
              "      <td>2020-02-02 00:23:00</td>\n",
              "      <td>177.0</td>\n",
              "      <td>1.0</td>\n",
              "      <td>10.0</td>\n",
              "    </tr>\n",
              "    <tr>\n",
              "      <th>2020-01-26 23:00:00</th>\n",
              "      <td>NaN</td>\n",
              "      <td>AUS</td>\n",
              "      <td>2020-01-26 23:00:00</td>\n",
              "      <td>4.0</td>\n",
              "      <td>0.0</td>\n",
              "      <td>0.0</td>\n",
              "    </tr>\n",
              "    <tr>\n",
              "      <th>2020-02-04 22:00:00</th>\n",
              "      <td>Zhejiang</td>\n",
              "      <td>Mainland China</td>\n",
              "      <td>2020-05-02 01:33:00</td>\n",
              "      <td>895.0</td>\n",
              "      <td>0.0</td>\n",
              "      <td>63.0</td>\n",
              "    </tr>\n",
              "    <tr>\n",
              "      <th>2020-02-04 22:00:00</th>\n",
              "      <td>Jiangsu</td>\n",
              "      <td>Mainland China</td>\n",
              "      <td>2020-05-02 02:43:00</td>\n",
              "      <td>341.0</td>\n",
              "      <td>0.0</td>\n",
              "      <td>13.0</td>\n",
              "    </tr>\n",
              "    <tr>\n",
              "      <th>2020-02-05 12:20:00</th>\n",
              "      <td>Tianjin</td>\n",
              "      <td>Mainland China</td>\n",
              "      <td>2020-05-02 03:43:00</td>\n",
              "      <td>69.0</td>\n",
              "      <td>1.0</td>\n",
              "      <td>2.0</td>\n",
              "    </tr>\n",
              "    <tr>\n",
              "      <th>2020-02-01 23:00:00</th>\n",
              "      <td>Jilin</td>\n",
              "      <td>Mainland China</td>\n",
              "      <td>2020-02-02 02:33:00</td>\n",
              "      <td>23.0</td>\n",
              "      <td>0.0</td>\n",
              "      <td>1.0</td>\n",
              "    </tr>\n",
              "    <tr>\n",
              "      <th>2020-01-22 12:00:00</th>\n",
              "      <td>Fujian</td>\n",
              "      <td>Mainland China</td>\n",
              "      <td>2020-01-22 12:00:00</td>\n",
              "      <td>1.0</td>\n",
              "      <td>0.0</td>\n",
              "      <td>0.0</td>\n",
              "    </tr>\n",
              "    <tr>\n",
              "      <th>2020-02-06 20:05:00</th>\n",
              "      <td>Seattle, WA</td>\n",
              "      <td>US</td>\n",
              "      <td>2020-01-02 19:43:00</td>\n",
              "      <td>1.0</td>\n",
              "      <td>0.0</td>\n",
              "      <td>0.0</td>\n",
              "    </tr>\n",
              "    <tr>\n",
              "      <th>2020-01-24 12:00:00</th>\n",
              "      <td>Liaoning</td>\n",
              "      <td>Mainland China</td>\n",
              "      <td>2020-01-24 12:00:00</td>\n",
              "      <td>4.0</td>\n",
              "      <td>0.0</td>\n",
              "      <td>0.0</td>\n",
              "    </tr>\n",
              "    <tr>\n",
              "      <th>2020-01-29 21:00:00</th>\n",
              "      <td>Guangxi</td>\n",
              "      <td>Mainland China</td>\n",
              "      <td>2020-01-29 21:00:00</td>\n",
              "      <td>78.0</td>\n",
              "      <td>0.0</td>\n",
              "      <td>2.0</td>\n",
              "    </tr>\n",
              "  </tbody>\n",
              "</table>\n",
              "</div>"
            ],
            "text/plain": [
              "                    Province/State         Country  ... Deaths  Recovered\n",
              "Date                                                ...                  \n",
              "2020-02-01 23:00:00       Shanghai  Mainland China  ...    1.0       10.0\n",
              "2020-01-26 23:00:00            NaN             AUS  ...    0.0        0.0\n",
              "2020-02-04 22:00:00       Zhejiang  Mainland China  ...    0.0       63.0\n",
              "2020-02-04 22:00:00        Jiangsu  Mainland China  ...    0.0       13.0\n",
              "2020-02-05 12:20:00        Tianjin  Mainland China  ...    1.0        2.0\n",
              "2020-02-01 23:00:00          Jilin  Mainland China  ...    0.0        1.0\n",
              "2020-01-22 12:00:00         Fujian  Mainland China  ...    0.0        0.0\n",
              "2020-02-06 20:05:00    Seattle, WA              US  ...    0.0        0.0\n",
              "2020-01-24 12:00:00       Liaoning  Mainland China  ...    0.0        0.0\n",
              "2020-01-29 21:00:00        Guangxi  Mainland China  ...    0.0        2.0\n",
              "\n",
              "[10 rows x 6 columns]"
            ]
          },
          "metadata": {
            "tags": []
          },
          "execution_count": 52
        }
      ]
    },
    {
      "cell_type": "code",
      "metadata": {
        "id": "Pz6INfqI2ht_",
        "colab_type": "code",
        "colab": {}
      },
      "source": [
        ""
      ],
      "execution_count": 0,
      "outputs": []
    }
  ]
}