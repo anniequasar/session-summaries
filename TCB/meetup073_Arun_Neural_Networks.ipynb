{
  "nbformat": 4,
  "nbformat_minor": 0,
  "metadata": {
    "colab": {
      "name": "NN.ipynb",
      "provenance": [],
      "collapsed_sections": []
    },
    "kernelspec": {
      "name": "python3",
      "display_name": "Python 3"
    }
  },
  "cells": [
    {
      "cell_type": "code",
      "metadata": {
        "id": "oQ1OGaqPcKN4",
        "colab_type": "code",
        "colab": {
          "base_uri": "https://localhost:8080/",
          "height": 35
        },
        "outputId": "0e35fd28-7949-4882-f42f-183fe977d798"
      },
      "source": [
        "import torch\n",
        "torch.__version__"
      ],
      "execution_count": null,
      "outputs": [
        {
          "output_type": "execute_result",
          "data": {
            "application/vnd.google.colaboratory.intrinsic+json": {
              "type": "string"
            },
            "text/plain": [
              "'1.6.0+cu101'"
            ]
          },
          "metadata": {
            "tags": []
          },
          "execution_count": 1
        }
      ]
    },
    {
      "cell_type": "code",
      "metadata": {
        "id": "kidY4Co4joVW",
        "colab_type": "code",
        "colab": {}
      },
      "source": [
        "import numpy as np\n",
        "import matplotlib.pyplot as plt"
      ],
      "execution_count": null,
      "outputs": []
    },
    {
      "cell_type": "code",
      "metadata": {
        "id": "QhBJ5_Z1juNG",
        "colab_type": "code",
        "colab": {}
      },
      "source": [
        "x_data = [1., 2., 3., 4.]\n",
        "y_data = [2., 4., 6., 8.]"
      ],
      "execution_count": null,
      "outputs": []
    },
    {
      "cell_type": "code",
      "metadata": {
        "id": "evOOEGdUkTGj",
        "colab_type": "code",
        "colab": {}
      },
      "source": [
        "w = 0.1"
      ],
      "execution_count": null,
      "outputs": []
    },
    {
      "cell_type": "code",
      "metadata": {
        "id": "tcE5TsH4kUhR",
        "colab_type": "code",
        "colab": {}
      },
      "source": [
        "def forward(x):\n",
        "    y_pred = x * w\n",
        "    return y_pred"
      ],
      "execution_count": null,
      "outputs": []
    },
    {
      "cell_type": "code",
      "metadata": {
        "id": "x-bACGL4kaTd",
        "colab_type": "code",
        "colab": {
          "base_uri": "https://localhost:8080/",
          "height": 34
        },
        "outputId": "6fc72aac-ed44-490a-cac2-78ebec2e1a2b"
      },
      "source": [
        "forward(5)"
      ],
      "execution_count": null,
      "outputs": [
        {
          "output_type": "execute_result",
          "data": {
            "text/plain": [
              "0.5"
            ]
          },
          "metadata": {
            "tags": []
          },
          "execution_count": 6
        }
      ]
    },
    {
      "cell_type": "code",
      "metadata": {
        "id": "Tke9JY52kb7K",
        "colab_type": "code",
        "colab": {}
      },
      "source": [
        "def loss(x,y):\n",
        "    y_pred = forward(x)\n",
        "    lo = (y_pred - y)**2\n",
        "    return lo"
      ],
      "execution_count": null,
      "outputs": []
    },
    {
      "cell_type": "code",
      "metadata": {
        "id": "rToEM7shkdU0",
        "colab_type": "code",
        "colab": {
          "base_uri": "https://localhost:8080/",
          "height": 34
        },
        "outputId": "359deb19-3fcc-4311-eadc-40fdb60beeb4"
      },
      "source": [
        "loss(5, 10)"
      ],
      "execution_count": null,
      "outputs": [
        {
          "output_type": "execute_result",
          "data": {
            "text/plain": [
              "90.25"
            ]
          },
          "metadata": {
            "tags": []
          },
          "execution_count": 8
        }
      ]
    },
    {
      "cell_type": "code",
      "metadata": {
        "id": "V8H4mIgnkdaF",
        "colab_type": "code",
        "colab": {
          "base_uri": "https://localhost:8080/",
          "height": 1000
        },
        "outputId": "48f9322d-b9ff-488d-dfb4-9ee6cba1baad"
      },
      "source": [
        "w_list = []\n",
        "mse_list = []\n",
        "\n",
        "for w in np.arange(0.0, 4.1, 0.1):\n",
        "    print(f'W = {w}')\n",
        "    total_loss = 0\n",
        "    for x,y in zip(x_data, y_data):\n",
        "        total_loss += loss(x,y)\n",
        "    w_list.append(w)\n",
        "    mse_list.append(total_loss/4)\n",
        "    print(f' Loss = {total_loss/3}')"
      ],
      "execution_count": null,
      "outputs": [
        {
          "output_type": "stream",
          "text": [
            "W = 0.0\n",
            " Loss = 40.0\n",
            "W = 0.1\n",
            " Loss = 36.1\n",
            "W = 0.2\n",
            " Loss = 32.400000000000006\n",
            "W = 0.30000000000000004\n",
            " Loss = 28.899999999999995\n",
            "W = 0.4\n",
            " Loss = 25.600000000000005\n",
            "W = 0.5\n",
            " Loss = 22.5\n",
            "W = 0.6000000000000001\n",
            " Loss = 19.599999999999994\n",
            "W = 0.7000000000000001\n",
            " Loss = 16.899999999999995\n",
            "W = 0.8\n",
            " Loss = 14.399999999999999\n",
            "W = 0.9\n",
            " Loss = 12.1\n",
            "W = 1.0\n",
            " Loss = 10.0\n",
            "W = 1.1\n",
            " Loss = 8.099999999999998\n",
            "W = 1.2000000000000002\n",
            " Loss = 6.399999999999996\n",
            "W = 1.3\n",
            " Loss = 4.899999999999999\n",
            "W = 1.4000000000000001\n",
            " Loss = 3.5999999999999983\n",
            "W = 1.5\n",
            " Loss = 2.5\n",
            "W = 1.6\n",
            " Loss = 1.599999999999999\n",
            "W = 1.7000000000000002\n",
            " Loss = 0.8999999999999989\n",
            "W = 1.8\n",
            " Loss = 0.39999999999999974\n",
            "W = 1.9000000000000001\n",
            " Loss = 0.0999999999999998\n",
            "W = 2.0\n",
            " Loss = 0.0\n",
            "W = 2.1\n",
            " Loss = 0.10000000000000027\n",
            "W = 2.2\n",
            " Loss = 0.40000000000000063\n",
            "W = 2.3000000000000003\n",
            " Loss = 0.9000000000000014\n",
            "W = 2.4000000000000004\n",
            " Loss = 1.6000000000000025\n",
            "W = 2.5\n",
            " Loss = 2.5\n",
            "W = 2.6\n",
            " Loss = 3.6000000000000014\n",
            "W = 2.7\n",
            " Loss = 4.900000000000005\n",
            "W = 2.8000000000000003\n",
            " Loss = 6.400000000000003\n",
            "W = 2.9000000000000004\n",
            " Loss = 8.100000000000007\n",
            "W = 3.0\n",
            " Loss = 10.0\n",
            "W = 3.1\n",
            " Loss = 12.100000000000003\n",
            "W = 3.2\n",
            " Loss = 14.400000000000006\n",
            "W = 3.3000000000000003\n",
            " Loss = 16.900000000000006\n",
            "W = 3.4000000000000004\n",
            " Loss = 19.60000000000001\n",
            "W = 3.5\n",
            " Loss = 22.5\n",
            "W = 3.6\n",
            " Loss = 25.600000000000005\n",
            "W = 3.7\n",
            " Loss = 28.90000000000001\n",
            "W = 3.8000000000000003\n",
            " Loss = 32.40000000000001\n",
            "W = 3.9000000000000004\n",
            " Loss = 36.100000000000016\n",
            "W = 4.0\n",
            " Loss = 40.0\n"
          ],
          "name": "stdout"
        }
      ]
    },
    {
      "cell_type": "code",
      "metadata": {
        "id": "_-NSuVxZkdsx",
        "colab_type": "code",
        "colab": {
          "base_uri": "https://localhost:8080/",
          "height": 282
        },
        "outputId": "d2446eb8-ab68-4d9a-8884-3d1beff3abc6"
      },
      "source": [
        "plt.plot(w_list, mse_list)"
      ],
      "execution_count": null,
      "outputs": [
        {
          "output_type": "execute_result",
          "data": {
            "text/plain": [
              "[<matplotlib.lines.Line2D at 0x7ff19a9736d8>]"
            ]
          },
          "metadata": {
            "tags": []
          },
          "execution_count": 10
        },
        {
          "output_type": "display_data",
          "data": {
            "image/png": "[encoded data removed]",
            "text/plain": [
              "<Figure size 432x288 with 1 Axes>"
            ]
          },
          "metadata": {
            "tags": [],
            "needs_background": "light"
          }
        }
      ]
    },
    {
      "cell_type": "code",
      "metadata": {
        "id": "ZeOAAMKkkdqR",
        "colab_type": "code",
        "colab": {}
      },
      "source": [
        "def gradient(x,y):\n",
        "    return 2 * x * (x * w - y)"
      ],
      "execution_count": null,
      "outputs": []
    },
    {
      "cell_type": "code",
      "metadata": {
        "id": "0vf54f0rkdXk",
        "colab_type": "code",
        "colab": {
          "base_uri": "https://localhost:8080/",
          "height": 34
        },
        "outputId": "f2fdf6ec-efcf-4c31-d8ce-5ded96346bc6"
      },
      "source": [
        "gradient(2,4)"
      ],
      "execution_count": null,
      "outputs": [
        {
          "output_type": "execute_result",
          "data": {
            "text/plain": [
              "16.0"
            ]
          },
          "metadata": {
            "tags": []
          },
          "execution_count": 12
        }
      ]
    },
    {
      "cell_type": "code",
      "metadata": {
        "id": "PUczODwenRej",
        "colab_type": "code",
        "colab": {}
      },
      "source": [
        "w = 0.1"
      ],
      "execution_count": null,
      "outputs": []
    },
    {
      "cell_type": "code",
      "metadata": {
        "id": "TSNIFoF2mspz",
        "colab_type": "code",
        "colab": {
          "base_uri": "https://localhost:8080/",
          "height": 34
        },
        "outputId": "24d92c3f-5740-4036-9c7a-fc16646d4455"
      },
      "source": [
        "forward(5)"
      ],
      "execution_count": null,
      "outputs": [
        {
          "output_type": "execute_result",
          "data": {
            "text/plain": [
              "0.5"
            ]
          },
          "metadata": {
            "tags": []
          },
          "execution_count": 15
        }
      ]
    },
    {
      "cell_type": "code",
      "metadata": {
        "id": "LW_X57Qrmsum",
        "colab_type": "code",
        "colab": {
          "base_uri": "https://localhost:8080/",
          "height": 187
        },
        "outputId": "f0b42d12-87cf-427c-d68d-47c10f57a9bf"
      },
      "source": [
        "# SGD\n",
        "for epoch in range(10):\n",
        "    for x,y in zip(x_data, y_data):\n",
        "        l = loss(x,y)\n",
        "        w = w - 0.01 * gradient(x,y)\n",
        "    print(f'After Epoch {epoch}, Loss is {l}, weight w = {w}')"
      ],
      "execution_count": null,
      "outputs": [
        {
          "output_type": "stream",
          "text": [
            "After Epoch 0, Loss is 31.57058979794944, weight w = 1.044808896\n",
            "After Epoch 1, Loss is 7.979139017036637, weight w = 1.5197947130732952\n",
            "After Epoch 2, Loss is 2.0166446005811283, weight w = 1.7585853588599178\n",
            "After Epoch 3, Loss is 0.5096859995006586, weight w = 1.8786330960040216\n",
            "After Epoch 4, Loss is 0.12881784822775644, weight w = 1.9389849542015893\n",
            "After Epoch 5, Loss is 0.03255737461552124, weight w = 1.9693257742332662\n",
            "After Epoch 6, Loss is 0.008228538641487617, weight w = 1.9845790802239622\n",
            "After Epoch 7, Loss is 0.0020796777680647215, weight w = 1.992247407691806\n",
            "After Epoch 8, Loss is 0.0005256169785939998, weight w = 1.9961025225233022\n",
            "After Epoch 9, Loss is 0.0001328442379048936, weight w = 1.9980406127295882\n"
          ],
          "name": "stdout"
        }
      ]
    },
    {
      "cell_type": "code",
      "metadata": {
        "id": "Y8tq_EaUmssT",
        "colab_type": "code",
        "colab": {
          "base_uri": "https://localhost:8080/",
          "height": 34
        },
        "outputId": "1ec8dbc3-9534-48bc-803b-27fb94f46557"
      },
      "source": [
        "forward(5)"
      ],
      "execution_count": null,
      "outputs": [
        {
          "output_type": "execute_result",
          "data": {
            "text/plain": [
              "9.990203063647941"
            ]
          },
          "metadata": {
            "tags": []
          },
          "execution_count": 17
        }
      ]
    },
    {
      "cell_type": "markdown",
      "metadata": {
        "id": "87uJw8iioTYW",
        "colab_type": "text"
      },
      "source": [
        "# SGD using PyTorch"
      ]
    },
    {
      "cell_type": "code",
      "metadata": {
        "id": "ZpooOGZvmsnM",
        "colab_type": "code",
        "colab": {}
      },
      "source": [
        "x_data = [1., 2., 3., 4.]\n",
        "y_data = [2., 4., 6., 8.]\n",
        "w = torch.tensor(0.1, requires_grad=True)"
      ],
      "execution_count": null,
      "outputs": []
    },
    {
      "cell_type": "code",
      "metadata": {
        "id": "KZPCNasvoyu0",
        "colab_type": "code",
        "colab": {}
      },
      "source": [
        "def forward(x):\n",
        "    y_pred = x * w\n",
        "    return y_pred"
      ],
      "execution_count": null,
      "outputs": []
    },
    {
      "cell_type": "code",
      "metadata": {
        "id": "142QcvpvoSHZ",
        "colab_type": "code",
        "colab": {
          "base_uri": "https://localhost:8080/",
          "height": 187
        },
        "outputId": "e2ff9060-4ffe-412a-f75b-2c9606a263b3"
      },
      "source": [
        "# SGD\n",
        "for epoch in range(10):\n",
        "    for x,y in zip(x_data, y_data):\n",
        "        l = loss(x,y)\n",
        "        #w = w - 0.01 * gradient(x,y)\n",
        "        l.backward()\n",
        "        with torch.no_grad():\n",
        "            w.data = w.data - 0.01 * w.grad\n",
        "            w.grad.zero_()\n",
        "    print(f'After Epoch {epoch}, Loss is {l}, weight w = {w}')"
      ],
      "execution_count": null,
      "outputs": [
        {
          "output_type": "stream",
          "text": [
            "After Epoch 0, Loss is 860.3873291015625, weight w = 6.986501216888428\n",
            "After Epoch 1, Loss is 217.4539794921875, weight w = 4.5068745613098145\n",
            "After Epoch 2, Loss is 54.95924377441406, weight w = 3.260286569595337\n",
            "After Epoch 3, Loss is 13.890381813049316, weight w = 2.6335866451263428\n",
            "After Epoch 4, Loss is 3.5106520652770996, weight w = 2.3185245990753174\n",
            "After Epoch 5, Loss is 0.887280285358429, weight w = 2.16013240814209\n",
            "After Epoch 6, Loss is 0.22425036132335663, weight w = 2.0805037021636963\n",
            "After Epoch 7, Loss is 0.05667710304260254, weight w = 2.0404717922210693\n",
            "After Epoch 8, Loss is 0.01432454027235508, weight w = 2.0203464031219482\n",
            "After Epoch 9, Loss is 0.0036203351337462664, weight w = 2.0102288722991943\n"
          ],
          "name": "stdout"
        }
      ]
    },
    {
      "cell_type": "markdown",
      "metadata": {
        "id": "5Eid6MHxo-bS",
        "colab_type": "text"
      },
      "source": [
        "# Why Zero gradient in Pytorch"
      ]
    },
    {
      "cell_type": "code",
      "metadata": {
        "id": "puAWNO7aoSNj",
        "colab_type": "code",
        "colab": {}
      },
      "source": [
        "x = torch.tensor(2., requires_grad=True)\n",
        "y = 4* x**2"
      ],
      "execution_count": null,
      "outputs": []
    },
    {
      "cell_type": "code",
      "metadata": {
        "id": "ACyKLdbtoSce",
        "colab_type": "code",
        "colab": {
          "base_uri": "https://localhost:8080/",
          "height": 34
        },
        "outputId": "0d2f017e-18e9-4f6d-9490-d0090185db52"
      },
      "source": [
        "y.backward(retain_graph=True)\n",
        "x.grad"
      ],
      "execution_count": null,
      "outputs": [
        {
          "output_type": "execute_result",
          "data": {
            "text/plain": [
              "tensor(16.)"
            ]
          },
          "metadata": {
            "tags": []
          },
          "execution_count": 31
        }
      ]
    },
    {
      "cell_type": "code",
      "metadata": {
        "id": "Ki54DBoVoSQi",
        "colab_type": "code",
        "colab": {
          "base_uri": "https://localhost:8080/",
          "height": 34
        },
        "outputId": "a6d2236a-da88-4275-c459-b1a4f79357d8"
      },
      "source": [
        "y.backward(retain_graph=True)\n",
        "x.grad"
      ],
      "execution_count": null,
      "outputs": [
        {
          "output_type": "execute_result",
          "data": {
            "text/plain": [
              "tensor(16.)"
            ]
          },
          "metadata": {
            "tags": []
          },
          "execution_count": 34
        }
      ]
    },
    {
      "cell_type": "code",
      "metadata": {
        "id": "t5rm_IwEoSKl",
        "colab_type": "code",
        "colab": {
          "base_uri": "https://localhost:8080/",
          "height": 34
        },
        "outputId": "6e76fc41-1fda-44b2-8455-8d65d3a55406"
      },
      "source": [
        "x.grad.zero_()"
      ],
      "execution_count": null,
      "outputs": [
        {
          "output_type": "execute_result",
          "data": {
            "text/plain": [
              "tensor(0.)"
            ]
          },
          "metadata": {
            "tags": []
          },
          "execution_count": 33
        }
      ]
    },
    {
      "cell_type": "markdown",
      "metadata": {
        "id": "dzKuZfbbqXly",
        "colab_type": "text"
      },
      "source": [
        "# Why Activation functions"
      ]
    },
    {
      "cell_type": "code",
      "metadata": {
        "id": "SQiu4arjqXRQ",
        "colab_type": "code",
        "colab": {}
      },
      "source": [
        "def plot_activations(func, range=(-10,10)):\n",
        "    x = torch.linspace(range[0], range[1])\n",
        "    y = func(x)\n",
        "    plt.plot(x,y)"
      ],
      "execution_count": null,
      "outputs": []
    },
    {
      "cell_type": "code",
      "metadata": {
        "id": "Tbo00JB6r_E5",
        "colab_type": "code",
        "colab": {}
      },
      "source": [
        "torch.sigmoid??"
      ],
      "execution_count": null,
      "outputs": []
    },
    {
      "cell_type": "code",
      "metadata": {
        "id": "Po_a8q7Nr_KI",
        "colab_type": "code",
        "colab": {
          "base_uri": "https://localhost:8080/",
          "height": 265
        },
        "outputId": "cee324fd-0a7a-4453-bb28-70b3730899a5"
      },
      "source": [
        "plot_activations(torch.sigmoid)"
      ],
      "execution_count": null,
      "outputs": [
        {
          "output_type": "display_data",
          "data": {
            "image/png": "[encoded data removed]",
            "text/plain": [
              "<Figure size 432x288 with 1 Axes>"
            ]
          },
          "metadata": {
            "tags": [],
            "needs_background": "light"
          }
        }
      ]
    },
    {
      "cell_type": "code",
      "metadata": {
        "id": "ELH1yPUsr_PT",
        "colab_type": "code",
        "colab": {
          "base_uri": "https://localhost:8080/",
          "height": 265
        },
        "outputId": "a14d27bf-b22d-417f-bf84-e6131efa9f2b"
      },
      "source": [
        "plot_activations(torch.relu)"
      ],
      "execution_count": null,
      "outputs": [
        {
          "output_type": "display_data",
          "data": {
            "image/png": "[encoded data removed]",
            "text/plain": [
              "<Figure size 432x288 with 1 Axes>"
            ]
          },
          "metadata": {
            "tags": [],
            "needs_background": "light"
          }
        }
      ]
    },
    {
      "cell_type": "code",
      "metadata": {
        "id": "NpEwnnQFr_lP",
        "colab_type": "code",
        "colab": {
          "base_uri": "https://localhost:8080/",
          "height": 265
        },
        "outputId": "b48435a0-fbd3-419b-92b9-6585ac87978c"
      },
      "source": [
        "plot_activations(torch.tanh)"
      ],
      "execution_count": null,
      "outputs": [
        {
          "output_type": "display_data",
          "data": {
            "image/png": "[encoded data removed]",
            "text/plain": [
              "<Figure size 432x288 with 1 Axes>"
            ]
          },
          "metadata": {
            "tags": [],
            "needs_background": "light"
          }
        }
      ]
    },
    {
      "cell_type": "code",
      "metadata": {
        "id": "W8UEROd1r_Sn",
        "colab_type": "code",
        "colab": {
          "base_uri": "https://localhost:8080/",
          "height": 272
        },
        "outputId": "4ebc0e93-2437-457a-9eef-e601ff26e2f8"
      },
      "source": [
        "x = torch.linspace(-10,10)\n",
        "x"
      ],
      "execution_count": null,
      "outputs": [
        {
          "output_type": "execute_result",
          "data": {
            "text/plain": [
              "tensor([-10.0000,  -9.7980,  -9.5960,  -9.3939,  -9.1919,  -8.9899,  -8.7879,\n",
              "         -8.5859,  -8.3838,  -8.1818,  -7.9798,  -7.7778,  -7.5758,  -7.3737,\n",
              "         -7.1717,  -6.9697,  -6.7677,  -6.5657,  -6.3636,  -6.1616,  -5.9596,\n",
              "         -5.7576,  -5.5556,  -5.3535,  -5.1515,  -4.9495,  -4.7475,  -4.5455,\n",
              "         -4.3434,  -4.1414,  -3.9394,  -3.7374,  -3.5354,  -3.3333,  -3.1313,\n",
              "         -2.9293,  -2.7273,  -2.5253,  -2.3232,  -2.1212,  -1.9192,  -1.7172,\n",
              "         -1.5152,  -1.3131,  -1.1111,  -0.9091,  -0.7071,  -0.5051,  -0.3030,\n",
              "         -0.1010,   0.1010,   0.3030,   0.5051,   0.7071,   0.9091,   1.1111,\n",
              "          1.3131,   1.5152,   1.7172,   1.9192,   2.1212,   2.3232,   2.5253,\n",
              "          2.7273,   2.9293,   3.1313,   3.3333,   3.5354,   3.7374,   3.9394,\n",
              "          4.1414,   4.3434,   4.5455,   4.7475,   4.9495,   5.1515,   5.3535,\n",
              "          5.5556,   5.7576,   5.9596,   6.1616,   6.3636,   6.5657,   6.7677,\n",
              "          6.9697,   7.1717,   7.3737,   7.5758,   7.7778,   7.9798,   8.1818,\n",
              "          8.3838,   8.5859,   8.7879,   8.9899,   9.1919,   9.3939,   9.5960,\n",
              "          9.7980,  10.0000])"
            ]
          },
          "metadata": {
            "tags": []
          },
          "execution_count": 43
        }
      ]
    },
    {
      "cell_type": "code",
      "metadata": {
        "id": "whJ6LIs5r_Mk",
        "colab_type": "code",
        "colab": {}
      },
      "source": [
        "a = torch.tanh(5 *x -2)\n",
        "b = torch.tanh(x*20 - 19)\n",
        "c = torch.tanh(x*3 + 10)\n",
        "d = a * b\n",
        "e = b * c\n",
        "f = a * b * c"
      ],
      "execution_count": null,
      "outputs": []
    },
    {
      "cell_type": "code",
      "metadata": {
        "id": "p9F5UrMdr_Hw",
        "colab_type": "code",
        "colab": {
          "base_uri": "https://localhost:8080/",
          "height": 282
        },
        "outputId": "d8e459c6-5a45-4d87-c5c2-32ee68249b12"
      },
      "source": [
        "plt.plot(x,a)"
      ],
      "execution_count": null,
      "outputs": [
        {
          "output_type": "execute_result",
          "data": {
            "text/plain": [
              "[<matplotlib.lines.Line2D at 0x7ff199abb2e8>]"
            ]
          },
          "metadata": {
            "tags": []
          },
          "execution_count": 45
        },
        {
          "output_type": "display_data",
          "data": {
            "image/png": "[encoded data removed]",
            "text/plain": [
              "<Figure size 432x288 with 1 Axes>"
            ]
          },
          "metadata": {
            "tags": [],
            "needs_background": "light"
          }
        }
      ]
    },
    {
      "cell_type": "code",
      "metadata": {
        "id": "f9VsgeDCr_CG",
        "colab_type": "code",
        "colab": {
          "base_uri": "https://localhost:8080/",
          "height": 282
        },
        "outputId": "9f5390f9-f12f-45df-97db-39fe81393066"
      },
      "source": [
        "plt.plot(x,b)"
      ],
      "execution_count": null,
      "outputs": [
        {
          "output_type": "execute_result",
          "data": {
            "text/plain": [
              "[<matplotlib.lines.Line2D at 0x7ff199a9fd30>]"
            ]
          },
          "metadata": {
            "tags": []
          },
          "execution_count": 46
        },
        {
          "output_type": "display_data",
          "data": {
            "image/png": "[encoded data removed]",
            "text/plain": [
              "<Figure size 432x288 with 1 Axes>"
            ]
          },
          "metadata": {
            "tags": [],
            "needs_background": "light"
          }
        }
      ]
    },
    {
      "cell_type": "code",
      "metadata": {
        "id": "imt-fUxMoSE8",
        "colab_type": "code",
        "colab": {
          "base_uri": "https://localhost:8080/",
          "height": 282
        },
        "outputId": "31ebfad6-c4c4-406d-830e-3aeef7513497"
      },
      "source": [
        "plt.plot(x,c)"
      ],
      "execution_count": null,
      "outputs": [
        {
          "output_type": "execute_result",
          "data": {
            "text/plain": [
              "[<matplotlib.lines.Line2D at 0x7ff199a14358>]"
            ]
          },
          "metadata": {
            "tags": []
          },
          "execution_count": 47
        },
        {
          "output_type": "display_data",
          "data": {
            "image/png": "[encoded data removed]",
            "text/plain": [
              "<Figure size 432x288 with 1 Axes>"
            ]
          },
          "metadata": {
            "tags": [],
            "needs_background": "light"
          }
        }
      ]
    },
    {
      "cell_type": "code",
      "metadata": {
        "id": "4vzLcszgkdSg",
        "colab_type": "code",
        "colab": {
          "base_uri": "https://localhost:8080/",
          "height": 282
        },
        "outputId": "bcb72786-2554-4b9f-f975-760c748f28d2"
      },
      "source": [
        "plt.plot(x,d)"
      ],
      "execution_count": null,
      "outputs": [
        {
          "output_type": "execute_result",
          "data": {
            "text/plain": [
              "[<matplotlib.lines.Line2D at 0x7ff19997ba90>]"
            ]
          },
          "metadata": {
            "tags": []
          },
          "execution_count": 48
        },
        {
          "output_type": "display_data",
          "data": {
            "image/png": "[encoded data removed]",
            "text/plain": [
              "<Figure size 432x288 with 1 Axes>"
            ]
          },
          "metadata": {
            "tags": [],
            "needs_background": "light"
          }
        }
      ]
    },
    {
      "cell_type": "code",
      "metadata": {
        "id": "PSXVG1L9tN9J",
        "colab_type": "code",
        "colab": {
          "base_uri": "https://localhost:8080/",
          "height": 282
        },
        "outputId": "e2ea1d42-b606-46f8-ae3e-97f2ed482160"
      },
      "source": [
        "plt.plot(x,e)"
      ],
      "execution_count": null,
      "outputs": [
        {
          "output_type": "execute_result",
          "data": {
            "text/plain": [
              "[<matplotlib.lines.Line2D at 0x7ff1998f3240>]"
            ]
          },
          "metadata": {
            "tags": []
          },
          "execution_count": 49
        },
        {
          "output_type": "display_data",
          "data": {
            "image/png": "[encoded data removed]",
            "text/plain": [
              "<Figure size 432x288 with 1 Axes>"
            ]
          },
          "metadata": {
            "tags": [],
            "needs_background": "light"
          }
        }
      ]
    },
    {
      "cell_type": "code",
      "metadata": {
        "id": "HcV3ycNMtUO0",
        "colab_type": "code",
        "colab": {}
      },
      "source": [
        ""
      ],
      "execution_count": null,
      "outputs": []
    }
  ]
}