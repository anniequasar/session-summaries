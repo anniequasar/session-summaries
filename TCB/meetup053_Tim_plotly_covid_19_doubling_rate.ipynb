{
  "nbformat": 4,
  "nbformat_minor": 0,
  "metadata": {
    "colab": {
      "name": "meetup053_Tim_plotly_covid-19_doubling_rate.ipynb",
      "provenance": [],
      "private_outputs": true,
      "collapsed_sections": []
    },
    "kernelspec": {
      "name": "python3",
      "display_name": "Python 3"
    }
  },
  "cells": [
    {
      "cell_type": "markdown",
      "metadata": {
        "id": "QoqXSjbhk8l2",
        "colab_type": "text"
      },
      "source": [
        "###Tuesday MeetUp 053 - Beginners Python and Machine Learning - 31st Mar 2020 - Charting COVID-19 doubling rate with plotly\n",
        "\n",
        "Learning objectives:\n",
        "- pandas DataFrames and Series\n",
        "- plotly.py\n",
        "\n",
        "@author D Tim Cummings\n",
        "\n"
      ]
    },
    {
      "cell_type": "code",
      "metadata": {
        "id": "dBzdy3oYwM6-",
        "colab_type": "code",
        "colab": {}
      },
      "source": [
        "import numpy as np\n",
        "import pandas as pd\n",
        "import plotly\n",
        "import plotly.graph_objects as go\n",
        "import plotly.express as px"
      ],
      "execution_count": 0,
      "outputs": []
    },
    {
      "cell_type": "code",
      "metadata": {
        "id": "LNPKS5kakPu4",
        "colab_type": "code",
        "colab": {}
      },
      "source": [
        "# https://plotly.com/python/creating-and-updating-figures/\n",
        "\n",
        "# plotly.py is a library for sending JSON objects to plotly.js\n",
        "# at a low level we can create a dict and send it straight to plotly.js\n",
        "fig = {\n",
        "    \"data\": [{\"type\": \"scatter\", \"x\": [1, 2, 3], \"y\": [1, 3, 2], \"name\":\"up down\"},\n",
        "             {\"type\": \"scatter\", \"x\": [1, 2, 4], \"y\": [1, 2.5, 3.5], \"name\":\"climber\"}\n",
        "             ],\n",
        "    \"layout\": {\"title\": {\"text\": \"Scatter chart constructed as a dict\"}}\n",
        "}\n",
        "# The method in the next line works out we are using colab and uses a colab renderer to \n",
        "# implement plotly.js in colab and display our interactive chart (try hovering and clicking)\n",
        "plotly.io.show(fig)\n",
        "# If you are not using interactive python you can create an html file and open it\n",
        "plotly.io.write_html(fig, \"fig1.html\")"
      ],
      "execution_count": 0,
      "outputs": []
    },
    {
      "cell_type": "code",
      "metadata": {
        "id": "V3-hXbkbE-ip",
        "colab_type": "code",
        "colab": {}
      },
      "source": [
        "# Challenge 1: Given the following lists of x and y values which represent sigmoid function\n",
        "# Plot the values in a scatter chart using dict \n",
        "x = np.linspace(-10, 10, 21) \n",
        "y = 1/(1 + np.exp(-x)) \n",
        "print(x)\n",
        "print(y)"
      ],
      "execution_count": 0,
      "outputs": []
    },
    {
      "cell_type": "code",
      "metadata": {
        "id": "_yFeI2cvE9vq",
        "colab_type": "code",
        "colab": {}
      },
      "source": [
        "fig = {\n",
        "    \"data\": [{\"type\": \"scatter\", \"x\": x, \"y\": y, \"name\":\"sigmoid\", \"showlegend\": True}\n",
        "             \n",
        "             ],\n",
        "    \"layout\": {\"title\": {\"text\": \"Sigmoid function constructed as a dict\"}}\n",
        "}\n",
        "plotly.io.show(fig)"
      ],
      "execution_count": 0,
      "outputs": []
    },
    {
      "cell_type": "code",
      "metadata": {
        "id": "JfA-BMj3FJbB",
        "colab_type": "code",
        "colab": {}
      },
      "source": [
        "# Solution to challenge 1\n",
        "# if you are only showing one item in data list, you need to explicitly show the legend\n",
        "fig = {\n",
        "    \"data\": [{\"type\": \"scatter\", \"x\": x, \"y\": y, \"name\":\"sigmoid\", \"showlegend\": True} ],\n",
        "    \"layout\": {\"title\": {\"text\": \"Sigmoid function constructed as a dict\"}}\n",
        "}\n",
        "plotly.io.show(fig)"
      ],
      "execution_count": 0,
      "outputs": []
    },
    {
      "cell_type": "code",
      "metadata": {
        "id": "j7r3YJ3ikPe5",
        "colab_type": "code",
        "colab": {}
      },
      "source": [
        "# At a higher level we can use plotly graph_objects which have a built-in validation \n",
        "fig = go.Figure(\n",
        "    data=[go.Bar(x=[1, 2, 3], y=[1, 3, 2], name=\"blue boxes\", showlegend=True,)],\n",
        "    layout=go.Layout(\n",
        "        title=go.layout.Title(text=\"Bar chart constructed using graph objects\")\n",
        "    )\n",
        ")\n",
        "# Figure has a \"write_html()\" method for those not using interactive python\n",
        "fig.write_html(\"fig2.html\")\n",
        "# In Google colab we can call \"show()\" method\n",
        "fig.show()"
      ],
      "execution_count": 0,
      "outputs": []
    },
    {
      "cell_type": "code",
      "metadata": {
        "id": "0rX-k5NgG8an",
        "colab_type": "code",
        "colab": {}
      },
      "source": [
        "# print fig to see how graph_objects are converted to a dict\n",
        "print(fig)"
      ],
      "execution_count": 0,
      "outputs": []
    },
    {
      "cell_type": "code",
      "metadata": {
        "id": "_lu9-S6DHIOv",
        "colab_type": "code",
        "colab": {}
      },
      "source": [
        "# use to_dict() to see the full dictionary\n",
        "fig.to_dict()"
      ],
      "execution_count": 0,
      "outputs": []
    },
    {
      "cell_type": "code",
      "metadata": {
        "id": "0-ZYhvERGP6Q",
        "colab_type": "code",
        "colab": {}
      },
      "source": [
        "# Challenge 2: Using x and y from Challenge 1 plot the values using graph_objects "
      ],
      "execution_count": 0,
      "outputs": []
    },
    {
      "cell_type": "code",
      "metadata": {
        "id": "60wDfbuRGPu_",
        "colab_type": "code",
        "colab": {}
      },
      "source": [
        "fig = go.Figure(\n",
        "    data=[go.Scatter(x=x, y=y, name=\"sigmoid\", showlegend=True,)],\n",
        "    layout=go.Layout(\n",
        "        title=go.layout.Title(text=\"Sigmoid constructed using graph objects\")\n",
        "    )\n",
        ")\n",
        "fig.show()"
      ],
      "execution_count": 0,
      "outputs": []
    },
    {
      "cell_type": "code",
      "metadata": {
        "id": "26Y-RyBJGhj8",
        "colab_type": "code",
        "colab": {}
      },
      "source": [
        "# Solution to challenge 2\n",
        "# Also demonstrates how to use lines or markers or both and how to set marker symbols\n",
        "fig = go.Figure(\n",
        "    data=[go.Scatter(x=x, y=y, name=\"sigmoid\", showlegend=True, mode=\"lines+markers\", marker_symbol=\"hash-dot\", marker_line_width=1, marker_size=15)],\n",
        "    layout=go.Layout(\n",
        "        title=go.layout.Title(text=\"Sigmoid function constructed from graph_object\")\n",
        "    )\n",
        ")\n",
        "# see the created dict. Notice what happens with marker_line_width\n",
        "print(fig)\n",
        "fig.show()"
      ],
      "execution_count": 0,
      "outputs": []
    },
    {
      "cell_type": "code",
      "metadata": {
        "id": "McUSqf-rOgdE",
        "colab_type": "code",
        "colab": {}
      },
      "source": [
        "# How to see all markers available\n",
        "# https://plotly.com/python/marker-style/\n",
        "raw_symbols = plotly.validators.scatter.marker.SymbolValidator().values\n",
        "namestems = []\n",
        "namevariants = []\n",
        "symbols = []\n",
        "for i in range(0,len(raw_symbols),2):\n",
        "  name = raw_symbols[i+1]\n",
        "  symbols.append(raw_symbols[i])\n",
        "  namestems.append(name.replace(\"-open\", \"\").replace(\"-dot\", \"\"))\n",
        "  namevariants.append(name[len(namestems[-1]):])\n",
        "    \n",
        "fig = go.Figure(go.Scatter(mode=\"markers\", x=namevariants, y=namestems, marker_symbol=symbols,\n",
        "                           marker_line_color=\"midnightblue\", marker_color=\"lightskyblue\", \n",
        "                           marker_line_width=2, marker_size=15, \n",
        "                           hovertemplate=\"name: %{y}%{x}<br>number: %{marker.symbol}<extra></extra>\"))\n",
        "fig.update_layout(title=\"Mouse over symbols for name & number!\",\n",
        "                  xaxis_range=[-1,4], yaxis_range=[len(set(namestems)),-1], \n",
        "                  margin=dict(b=0,r=0), xaxis_side=\"top\", height=1200, width=400)\n",
        "fig.show()"
      ],
      "execution_count": 0,
      "outputs": []
    },
    {
      "cell_type": "code",
      "metadata": {
        "id": "nf9BS2gV9PHh",
        "colab_type": "code",
        "colab": {}
      },
      "source": [
        "# plotly express is higher level api designed for data exploration\n",
        "df1 = pd.DataFrame(data={\"id\": [1, 2, 3], \"score\": [1, 3, 2], \"group\": [\"up-down\"] * 3})\n",
        "df2 = pd.DataFrame(data={\"id\": [1, 2, 4], \"score\": [1, 2, 5], \"group\": [\"climber\"] * 3})\n",
        "df = pd.concat([df1, df2])\n",
        "print(df)\n",
        "px.line(df, x=\"id\", y=\"score\", color=\"group\")"
      ],
      "execution_count": 0,
      "outputs": []
    },
    {
      "cell_type": "code",
      "metadata": {
        "id": "mEVR5ZgK9O2i",
        "colab_type": "code",
        "colab": {}
      },
      "source": [
        "# Challenge 3: Using x and y from Challenge 1 plot the values using plotly express"
      ],
      "execution_count": 0,
      "outputs": []
    },
    {
      "cell_type": "code",
      "metadata": {
        "id": "lkpFDsf59OpK",
        "colab_type": "code",
        "colab": {}
      },
      "source": [
        "df = pd.DataFrame(data={\"sigmoid\": y}, index=x)\n",
        "df['fn'] = 'sigmoid'\n",
        "print(df.head())\n",
        "px.line(df, y=\"sigmoid\", title=\"Sigmoid function constructed from plotly express\", color='fn')"
      ],
      "execution_count": 0,
      "outputs": []
    },
    {
      "cell_type": "code",
      "metadata": {
        "id": "vx-WKW2_9OLd",
        "colab_type": "code",
        "colab": {}
      },
      "source": [
        "# Solution to challenge 3\n",
        "df = pd.DataFrame(data=y, index=x, columns=[\"sigmoid\"])\n",
        "df['fn'] = 'sigmoid'\n",
        "print(df.head())\n",
        "# px.line and px.scatter use dataframe index on x axis by default\n",
        "fig = px.line(df, y=\"sigmoid\", title=\"Sigmoid function constructed from plotly express\", color='fn')\n",
        "fig  # same as fig.show() for colab and jupyter notebooks"
      ],
      "execution_count": 0,
      "outputs": []
    },
    {
      "cell_type": "code",
      "metadata": {
        "id": "V3LVg2sSkOvc",
        "colab_type": "code",
        "colab": {}
      },
      "source": [
        "# plotly express comes with some default dataframes if you want to practise\n",
        "df = px.data.gapminder().query(\"continent=='Oceania'\")\n",
        "px.line(df, x=\"year\", y=\"lifeExp\", color='country')"
      ],
      "execution_count": 0,
      "outputs": []
    },
    {
      "cell_type": "code",
      "metadata": {
        "id": "YEbFyKLxweJt",
        "colab_type": "code",
        "colab": {}
      },
      "source": [
        "# Load data from the covid-19 data set. NB URL has been changed on Github. Now ends in \"_global\"\n",
        "df_confirmed = pd.read_csv('https://raw.githubusercontent.com/CSSEGISandData/COVID-19/master/csse_covid_19_data/csse_covid_19_time_series/time_series_covid19_confirmed_global.csv')\n",
        "df_confirmed.head()"
      ],
      "execution_count": 0,
      "outputs": []
    },
    {
      "cell_type": "code",
      "metadata": {
        "id": "PbOQOJTZrR3L",
        "colab_type": "code",
        "colab": {}
      },
      "source": [
        "df_confirmed['Province/State'].dropna().unique()"
      ],
      "execution_count": 0,
      "outputs": []
    },
    {
      "cell_type": "code",
      "metadata": {
        "id": "O7jbvniqx6uv",
        "colab_type": "code",
        "colab": {}
      },
      "source": [
        "# List the states in alphabetical order. Need to drop NaN because otherwise sort will break\n",
        "ar_state = df_confirmed['Province/State'].dropna().unique()\n",
        "ar_state.sort()\n",
        "print(type(ar_state))\n",
        "print(ar_state)"
      ],
      "execution_count": 0,
      "outputs": []
    },
    {
      "cell_type": "code",
      "metadata": {
        "id": "onZOSw2ytpCl",
        "colab_type": "code",
        "colab": {}
      },
      "source": [
        "ar_state[::-1]"
      ],
      "execution_count": 0,
      "outputs": []
    },
    {
      "cell_type": "code",
      "metadata": {
        "id": "DK65N_8Wip_Z",
        "colab_type": "code",
        "colab": {}
      },
      "source": [
        "# Challenge 4: Print the list of countries in alphabetical order with no repeats"
      ],
      "execution_count": 0,
      "outputs": []
    },
    {
      "cell_type": "code",
      "metadata": {
        "id": "mE0frQX0ip0h",
        "colab_type": "code",
        "colab": {}
      },
      "source": [
        ""
      ],
      "execution_count": 0,
      "outputs": []
    },
    {
      "cell_type": "code",
      "metadata": {
        "id": "3Lw0_qlE0H9i",
        "colab_type": "code",
        "colab": {}
      },
      "source": [
        "# Solution to challenge 4: Don't need to dropna because there are none. No harm if left in apart from slightly slower\n",
        "ar_country = df_confirmed['Country/Region'].unique()\n",
        "ar_country.sort()\n",
        "print(ar_country)"
      ],
      "execution_count": 0,
      "outputs": []
    },
    {
      "cell_type": "code",
      "metadata": {
        "id": "u2K0WvtrEdkp",
        "colab_type": "code",
        "colab": {}
      },
      "source": [
        "# how to filter by country\n",
        "df_confirmed[df_confirmed[\"Country/Region\"]==\"Australia\"]"
      ],
      "execution_count": 0,
      "outputs": []
    },
    {
      "cell_type": "code",
      "metadata": {
        "id": "_NvGJaUpEdHa",
        "colab_type": "code",
        "colab": {}
      },
      "source": [
        "# how to filter by state\n",
        "df_confirmed[df_confirmed[\"Province/State\"] == \"Queensland\"]"
      ],
      "execution_count": 0,
      "outputs": []
    },
    {
      "cell_type": "code",
      "metadata": {
        "id": "iUaCMtgyE9m8",
        "colab_type": "code",
        "colab": {}
      },
      "source": [
        "# how to filter by state and country should two countries have state with same name\n",
        "df_confirmed[(df_confirmed[\"Province/State\"]==\"Queensland\") & (df_confirmed[\"Country/Region\"]==\"Australia\")]"
      ],
      "execution_count": 0,
      "outputs": []
    },
    {
      "cell_type": "code",
      "metadata": {
        "id": "dKfkJGGcFUGg",
        "colab_type": "code",
        "colab": {}
      },
      "source": [
        "# Challenge 5: define a function which takes 3 arguments, df, country, state and \n",
        "# will return the dataframe filtered by country, by state or by country and state"
      ],
      "execution_count": 0,
      "outputs": []
    },
    {
      "cell_type": "code",
      "metadata": {
        "id": "4JRClOJtFT6K",
        "colab_type": "code",
        "colab": {}
      },
      "source": [
        "def df_for_location(df, country=None, state=None):\n",
        "  if country:\n",
        "    if state:\n",
        "      return df[(df[\"Province/State\"]==state) & (df[\"Country/Region\"]==country)]\n",
        "    else:\n",
        "      return df[(df[\"Country/Region\"]==country)]\n",
        "  else:\n",
        "    if state:\n",
        "      return df[(df[\"Province/State\"]==state)]\n",
        "    else:\n",
        "      return df\n",
        "\n",
        "df_for_location(df_confirmed, state=\"Queensland\")"
      ],
      "execution_count": 0,
      "outputs": []
    },
    {
      "cell_type": "code",
      "metadata": {
        "id": "fqBG_J46wlkS",
        "colab_type": "code",
        "colab": {}
      },
      "source": [
        "# Solution to challenge 5\n",
        "def df_for_location(df, country=None, state=None):\n",
        "  filt = [True] * df.shape[0]\n",
        "  if country:\n",
        "    filt = filt & (df[\"Country/Region\"] == country)\n",
        "  if state:\n",
        "    filt = filt & (df[\"Province/State\"] == state)\n",
        "  return df[filt]\n",
        "\n",
        "# check it works\n",
        "df_for_location(df_confirmed, country=\"New Zealand\")"
      ],
      "execution_count": 0,
      "outputs": []
    },
    {
      "cell_type": "code",
      "metadata": {
        "id": "u-dAD0BfrXrq",
        "colab_type": "code",
        "colab": {}
      },
      "source": [
        "df_confirmed_by_location = df_for_location(df_confirmed, country=\"Australia\")\n",
        "df_confirmed_by_location"
      ],
      "execution_count": 0,
      "outputs": []
    },
    {
      "cell_type": "code",
      "metadata": {
        "id": "QQ7EX9l2Gox_",
        "colab_type": "code",
        "colab": {}
      },
      "source": [
        "# Sum the rows in the dataframe and return a series\n",
        "total=df_confirmed_by_location.sum(axis=\"index\")\n",
        "print(type(total))\n",
        "total"
      ],
      "execution_count": 0,
      "outputs": []
    },
    {
      "cell_type": "code",
      "metadata": {
        "id": "k-O2NGpgG8Hk",
        "colab_type": "code",
        "colab": {}
      },
      "source": [
        "# Don't want the first four rows so can slice\n",
        "series_sum = total[4:]\n",
        "series_sum"
      ],
      "execution_count": 0,
      "outputs": []
    },
    {
      "cell_type": "code",
      "metadata": {
        "id": "-G8LoMEmrvO-",
        "colab_type": "code",
        "colab": {}
      },
      "source": [
        "# index is currently str but would prefer datetime\n",
        "print(series_sum.index)\n",
        "series_sum.index = pd.to_datetime(series_sum.index)\n",
        "print(series_sum.index)"
      ],
      "execution_count": 0,
      "outputs": []
    },
    {
      "cell_type": "code",
      "metadata": {
        "id": "P0wKbkK7JeBC",
        "colab_type": "code",
        "colab": {}
      },
      "source": [
        "# Challenge 6: define a function which returns a series of values for a given df and country and/or state \n",
        "# Index for series should be a DateTimeIndex"
      ],
      "execution_count": 0,
      "outputs": []
    },
    {
      "cell_type": "code",
      "metadata": {
        "id": "6JfPD0znJduD",
        "colab_type": "code",
        "colab": {}
      },
      "source": [
        "def series_sum_for_location(df, country=None, state=None):\n",
        "  df = df_for_location(df, country=country, state=state)\n",
        "  series_sum = df.sum(axis='index')[4:]\n",
        "  series_sum.index = pd.to_datetime(series_sum.index)\n",
        "  return series_sum\n",
        "\n",
        "series_sum_for_location(df_confirmed, country=\"Australia\")"
      ],
      "execution_count": 0,
      "outputs": []
    },
    {
      "cell_type": "code",
      "metadata": {
        "id": "M5rAf205JrN4",
        "colab_type": "code",
        "colab": {}
      },
      "source": [
        "# Solution to challenge 6\n",
        "def series_sum_for_location(df, country=None, state=None):\n",
        "  df = df_for_location(df=df, state=state, country=country)\n",
        "  series = df.sum(axis=\"index\")[4:].astype(int)\n",
        "  series.index = pd.to_datetime(series.index)\n",
        "  return series\n",
        "\n",
        "# check it works\n",
        "series_sum_for_location(df_confirmed, country=\"Australia\")"
      ],
      "execution_count": 0,
      "outputs": []
    },
    {
      "cell_type": "code",
      "metadata": {
        "id": "ZG_yuKyDrYOt",
        "colab_type": "code",
        "colab": {}
      },
      "source": [
        "# Challenge 7: Define a function location_name which takes country and/or state and \n",
        "# returns a name for that location\n",
        "# location_name(country=\"Australia\") should return \"Australia\"\n",
        "# location_name(state=\"Queensland\") should return \"Queensland\"\n",
        "# location_name() should return \"everywhere\"\n",
        "# location_name(country=\"Australia\", state=\"Queensland\") should return \"Queensland - Australia\""
      ],
      "execution_count": 0,
      "outputs": []
    },
    {
      "cell_type": "code",
      "metadata": {
        "id": "qdWAPjL3rX_l",
        "colab_type": "code",
        "colab": {}
      },
      "source": [
        "def location_name(country=None, state=None):\n",
        "  if country:\n",
        "    if state:\n",
        "      return f\"{state} - {country}\"\n",
        "    else:\n",
        "      return f\"{country}\"\n",
        "  else:\n",
        "    if state:\n",
        "      return f\"{state}\"\n",
        "    else:\n",
        "      return \"everywhere\"\n",
        "\n",
        "location_name(country=\"Australia\", state=\"Queensland\")"
      ],
      "execution_count": 0,
      "outputs": []
    },
    {
      "cell_type": "code",
      "metadata": {
        "id": "zSyrIro_rXu1",
        "colab_type": "code",
        "colab": {}
      },
      "source": [
        "# Solution to challenge 7:\n",
        "def location_name(country=None, state=None):\n",
        "  locations = []\n",
        "  if state:\n",
        "    locations.append(state)\n",
        "  if country:\n",
        "    locations.append(country)\n",
        "  return \" - \".join(locations) if len(locations) > 0 else \"everywhere\""
      ],
      "execution_count": 0,
      "outputs": []
    },
    {
      "cell_type": "code",
      "metadata": {
        "id": "E-Z7DnHXsHXC",
        "colab_type": "code",
        "colab": {}
      },
      "source": [
        "# To get the index for values greater than a starting value (in this case 100) use a filter\n",
        "series_sum = series_sum_for_location(df_confirmed, country=\"Australia\")\n",
        "print(series_sum.index[series_sum>=100])"
      ],
      "execution_count": 0,
      "outputs": []
    },
    {
      "cell_type": "code",
      "metadata": {
        "id": "nEOVOc25MTJA",
        "colab_type": "code",
        "colab": {}
      },
      "source": [
        "# To convert to dataframe and label the data column 'current'\n",
        "df_sum = pd.DataFrame(series_sum, columns=['current'])\n",
        "df_sum"
      ],
      "execution_count": 0,
      "outputs": []
    },
    {
      "cell_type": "code",
      "metadata": {
        "id": "XX_sMXjjNPBw",
        "colab_type": "code",
        "colab": {}
      },
      "source": [
        "# Challenge 8: Find the date the number of confirmed cases exceeded 100 and what the count was on that day"
      ],
      "execution_count": 0,
      "outputs": []
    },
    {
      "cell_type": "code",
      "metadata": {
        "id": "q-_kfyLINZEd",
        "colab_type": "code",
        "colab": {}
      },
      "source": [
        ""
      ],
      "execution_count": 0,
      "outputs": []
    },
    {
      "cell_type": "code",
      "metadata": {
        "id": "bx_S892oNZmt",
        "colab_type": "code",
        "colab": {}
      },
      "source": [
        "# Solution to Challenge 8\n",
        "idx_start = series_sum.index[series_sum>=100][0]\n",
        "num_start_actual = series_sum[idx_start]\n",
        "# idx_start = df_sum.index[df_sum['current']>=100][0]\n",
        "# num_start_actual = df_sum.loc[idx_start, 'current']\n",
        "print(idx_start, num_start_actual)"
      ],
      "execution_count": 0,
      "outputs": []
    },
    {
      "cell_type": "code",
      "metadata": {
        "id": "DVGXfI1R17fg",
        "colab_type": "code",
        "colab": {}
      },
      "source": [
        "# Slice the Dataframe to only include those records greater than 100\n",
        "df_plot = df_sum.loc[idx_start:]\n",
        "df_plot"
      ],
      "execution_count": 0,
      "outputs": []
    },
    {
      "cell_type": "code",
      "metadata": {
        "id": "dFp-P1NcPGUw",
        "colab_type": "code",
        "colab": {}
      },
      "source": [
        "# Challenge 9: Write a function to plot those numbers after starting count reached. Default starting count=100\n",
        "# Advanced: plot count on a logarithmic scale"
      ],
      "execution_count": 0,
      "outputs": []
    },
    {
      "cell_type": "code",
      "metadata": {
        "id": "Tz_CBMPOPTak",
        "colab_type": "code",
        "colab": {}
      },
      "source": [
        ""
      ],
      "execution_count": 0,
      "outputs": []
    },
    {
      "cell_type": "code",
      "metadata": {
        "id": "5f46dBV_PTwj",
        "colab_type": "code",
        "colab": {}
      },
      "source": [
        "# Solution to challenge 9:\n",
        "def plot_for_location(df, country=None, state=None, num_start=100, description=\"\"):\n",
        "  series_sum = series_sum_for_location(df, country=country, state=state)\n",
        "  idx_start = series_sum.index[series_sum>=100][0]\n",
        "  df_sum = pd.DataFrame(series_sum, columns=['current'])\n",
        "  df_plot = df_sum.loc[idx_start:]\n",
        "  location = location_name(country=country, state=state)\n",
        "  fig = go.Figure(\n",
        "    data=[go.Scatter(x=df_plot.index, y=df_plot['current'], name=location, showlegend=True, mode=\"lines\")],\n",
        "    layout=go.Layout(\n",
        "        title=go.layout.Title(text=f\"{description} cases for {location} starting from {num_start}\"),\n",
        "    )\n",
        "  )\n",
        "  fig.update_yaxes(type='linear')\n",
        "  return fig\n",
        "\n",
        "plot_for_location(df_confirmed, description=\"Confirmed\")"
      ],
      "execution_count": 0,
      "outputs": []
    },
    {
      "cell_type": "code",
      "metadata": {
        "id": "3etoP29x5e3e",
        "colab_type": "code",
        "colab": {}
      },
      "source": [
        "# Calculate the average doubling rate over the last 3 days\n",
        "averaged_days = 3\n",
        "idx_start = series_sum.index[series_sum>=100][0]\n",
        "df_sum = pd.DataFrame(series_sum, columns=['current'])\n",
        "df_sum['previous'] = df_sum['current'].shift(averaged_days, fill_value=0)\n",
        "df_plot = df_sum.loc[idx_start:].copy()  # need .copy() or will get warning later on\n",
        "df_plot.head()"
      ],
      "execution_count": 0,
      "outputs": []
    },
    {
      "cell_type": "code",
      "metadata": {
        "id": "8yBsOr9x6_sA",
        "colab_type": "code",
        "colab": {}
      },
      "source": [
        "# Calculate how many days to double\n",
        "df_plot['doubling days'] = averaged_days / np.log2(df_plot['current'] / df_plot['previous']) \n",
        "df_plot"
      ],
      "execution_count": 0,
      "outputs": []
    },
    {
      "cell_type": "code",
      "metadata": {
        "id": "HCCAA5gNWOLz",
        "colab_type": "code",
        "colab": {}
      },
      "source": [
        "# Challenge 10: Plot days to double\n",
        "# Advanced: Plot at same time as count using plotly subplots"
      ],
      "execution_count": 0,
      "outputs": []
    },
    {
      "cell_type": "code",
      "metadata": {
        "id": "ji9drcqaWOAc",
        "colab_type": "code",
        "colab": {}
      },
      "source": [
        "def plot_doubling_for_location(df, country=None, state=None, num_start=100, description=\"\", averaged_days=3):\n",
        "  series_sum = series_sum_for_location(df, country=country, state=state)\n",
        "  idx_start = series_sum.index[series_sum>=num_start][0]\n",
        "  df_sum = pd.DataFrame(series_sum, columns=['current'])\n",
        "  df_sum['previous'] = df_sum['current'].shift(averaged_days, fill_value=0)\n",
        "  df_plot = df_sum.loc[idx_start:].copy()\n",
        "  df_plot['doubling days'] = averaged_days / np.log2(df_plot['current'] / df_plot['previous']) \n",
        "  location = location_name(country=country, state=state)\n",
        "  fig = go.Figure(\n",
        "    data=[go.Scatter(x=df_plot.index, y=df_plot['doubling days'], name=location, showlegend=True, mode=\"lines\")],\n",
        "    layout=go.Layout(\n",
        "        title=go.layout.Title(text=f\"{description} cases for {location} starting from {num_start} days to double\"),\n",
        "    )\n",
        "  )\n",
        "  return fig\n",
        "\n",
        "plot_doubling_for_location(df_confirmed, country=\"Australia\", description=\"Confirmed\")"
      ],
      "execution_count": 0,
      "outputs": []
    },
    {
      "cell_type": "code",
      "metadata": {
        "id": "ptEH8sybWMuV",
        "colab_type": "code",
        "colab": {}
      },
      "source": [
        "# Solution to challenge 10\n",
        "def plot_doubling_for_location(df, country=None, state=None, num_start=100, description=\"\", averaged_days=3):\n",
        "  series_sum = series_sum_for_location(df, country=country, state=state)\n",
        "  idx_start = series_sum.index[series_sum>=num_start][0]\n",
        "  df_sum = pd.DataFrame(series_sum, columns=['current'])\n",
        "  df_sum['previous'] = df_sum['current'].shift(averaged_days, fill_value=0)\n",
        "  df_plot = df_sum.loc[idx_start:].copy()\n",
        "  df_plot['doubling days'] = averaged_days / np.log2(df_plot['current'] / df_plot['previous']) \n",
        "  location = location_name(country=country, state=state)\n",
        "  fig = go.Figure(\n",
        "    data=[go.Scatter(x=df_plot.index, y=df_plot['doubling days'], name=location, showlegend=True, mode=\"lines\")],\n",
        "    layout=go.Layout(\n",
        "        title=go.layout.Title(text=f\"Days to double averaged over last {averaged_days} days. Higher is better\")\n",
        "    )\n",
        "  )\n",
        "  return fig\n",
        "\n",
        "plot_doubling_for_location(df_confirmed, country=\"Australia\", description=\"Confirmed\")"
      ],
      "execution_count": 0,
      "outputs": []
    },
    {
      "cell_type": "code",
      "metadata": {
        "id": "isAY0vrtakNF",
        "colab_type": "code",
        "colab": {}
      },
      "source": [
        "# Advanced solution to challenge 10\n",
        "def plot_for_location(df, country=None, state=None, num_start=100, description=\"\", averaged_days=3):\n",
        "  series_sum = series_sum_for_location(df, country=country, state=state)\n",
        "  idx_start = series_sum.index[series_sum>=num_start][0]\n",
        "  df_sum = pd.DataFrame(series_sum, columns=['current'])\n",
        "  df_sum['previous'] = df_sum['current'].shift(averaged_days, fill_value=0)\n",
        "  df_plot = df_sum.loc[idx_start:].copy()\n",
        "  df_plot['doubling days'] = averaged_days / np.log2(df_plot['current'] / df_plot['previous']) \n",
        "  location = location_name(country=country, state=state)\n",
        "  fig = plotly.subplots.make_subplots(\n",
        "    rows=3, cols=1, shared_xaxes=True, \n",
        "    specs=[[{\"rowspan\": 2}], [None], [{}]],\n",
        "    subplot_titles=[\"Confirmed cases on a logarithmic scale\",  \n",
        "                  f\"Days to double averaged over last {averaged_days} days. Higher is better\"]\n",
        "  )\n",
        "  fig.update_layout(\n",
        "    title_text=f\"{description} cases {location} starting from {num_start}\", \n",
        "    height=600\n",
        "  )\n",
        "  fig.add_trace(\n",
        "    go.Scatter(x=df_plot.index, y=df_plot['current'], mode='lines', name=location),\n",
        "    row=1, col=1\n",
        "  )\n",
        "  fig.add_trace(\n",
        "    go.Scatter(x=df_plot.index, y=df_plot['doubling days'], mode='lines', showlegend=False),\n",
        "    row=3, col=1\n",
        "  )\n",
        "  fig.update_yaxes(title_text='Cases', type='log', row=1, col=1)\n",
        "  idx_end = df_plot.index[-1]\n",
        "  duration = (idx_end - idx_start).days\n",
        "  doubler = 6  # draw a line for doubling every 6 days\n",
        "  num_start_actual = df_plot.loc[idx_start, 'current']\n",
        "  num_end = int(num_start_actual * 2 ** (duration / doubler))\n",
        "  fig.add_trace(\n",
        "    go.Scatter(x=[idx_start, idx_end], y=[num_start_actual, num_end], mode='lines', name=f'every {doubler} days'),\n",
        "      row=1, col=1\n",
        "  )\n",
        "  return fig\n",
        "\n",
        "plot_for_location(df_confirmed, country=\"Australia\", description=\"Confirmed\")"
      ],
      "execution_count": 0,
      "outputs": []
    },
    {
      "cell_type": "code",
      "metadata": {
        "id": "ngWx5YcmCpM0",
        "colab_type": "code",
        "colab": {}
      },
      "source": [
        "# Challenge 11: Add lines on log chart for doubling every 2, 3, 4, 5 days"
      ],
      "execution_count": 0,
      "outputs": []
    },
    {
      "cell_type": "code",
      "metadata": {
        "id": "-pLpXzwZchqD",
        "colab_type": "code",
        "colab": {}
      },
      "source": [
        "def plot_for_location(df, country=None, state=None, num_start=100, description=\"\", averaged_days=3):\n",
        "  series_sum = series_sum_for_location(df, country=country, state=state)\n",
        "  idx_start = series_sum.index[series_sum>=num_start][0]\n",
        "  df_sum = pd.DataFrame(series_sum, columns=['current'])\n",
        "  df_sum['previous'] = df_sum['current'].shift(averaged_days, fill_value=0)\n",
        "  df_plot = df_sum.loc[idx_start:].copy()\n",
        "  df_plot['doubling days'] = averaged_days / np.log2(df_plot['current'] / df_plot['previous']) \n",
        "  location = location_name(country=country, state=state)\n",
        "  fig = plotly.subplots.make_subplots(\n",
        "    rows=3, cols=1, shared_xaxes=True, \n",
        "    specs=[[{\"rowspan\": 2}], [None], [{}]],\n",
        "    subplot_titles=[\"Confirmed cases on a logarithmic scale\",  \n",
        "                  f\"Days to double averaged over last {averaged_days} days. Higher is better\"]\n",
        "  )\n",
        "  fig.update_layout(\n",
        "    title_text=f\"{description} cases {location} starting from {num_start}\", \n",
        "    height=600\n",
        "  )\n",
        "  fig.add_trace(\n",
        "    go.Scatter(x=df_plot.index, y=df_plot['current'], mode='lines', name=location),\n",
        "    row=1, col=1\n",
        "  )\n",
        "  fig.add_trace(\n",
        "    go.Scatter(x=df_plot.index, y=df_plot['doubling days'], mode='lines', showlegend=False),\n",
        "    row=3, col=1\n",
        "  )\n",
        "  fig.update_yaxes(title_text='Cases', type='log', row=1, col=1)\n",
        "  \n",
        "  \n",
        "  idx_end = df_plot.index[-1]\n",
        "  duration = (idx_end - idx_start).days\n",
        "  for doubler in (2, 3, 4, 5, 6):  # draw a line for doubling every 6 days\n",
        "    num_start_actual = df_plot.loc[idx_start, 'current']\n",
        "    num_end = int(num_start_actual * 2 ** (duration / doubler))\n",
        "    fig.add_trace(\n",
        "      go.Scatter(x=[idx_start, idx_end], y=[num_start_actual, num_end], mode='lines', name=f'every {doubler} days'),\n",
        "        row=1, col=1\n",
        "    )\n",
        "  return fig\n",
        "\n",
        "plot_for_location(df_confirmed, country=\"Australia\", description=\"Confirmed\", num_start=1500)"
      ],
      "execution_count": 0,
      "outputs": []
    },
    {
      "cell_type": "code",
      "metadata": {
        "id": "Gp-t0cqTcikB",
        "colab_type": "code",
        "colab": {}
      },
      "source": [
        "# Solution to challenge 11\n",
        "def plot_for_location(df, country=None, state=None, num_start=100, description=\"\", averaged_days=3):\n",
        "  series_sum = series_sum_for_location(df, country=country, state=state)\n",
        "  idx_start = series_sum.index[series_sum>=num_start][0]\n",
        "  df_sum = pd.DataFrame(series_sum, columns=['current'])\n",
        "  df_sum['previous'] = df_sum['current'].shift(averaged_days, fill_value=0)\n",
        "  df_plot = df_sum.loc[idx_start:].copy()\n",
        "  df_plot['doubling days'] = averaged_days / np.log2(df_plot['current'] / df_plot['previous']) \n",
        "  location = location_name(country=country, state=state)\n",
        "  fig = plotly.subplots.make_subplots(\n",
        "    rows=3, cols=1, shared_xaxes=True, \n",
        "    specs=[[{\"rowspan\": 2}], [None], [{}]],\n",
        "    subplot_titles=[\"Confirmed cases on a logarithmic scale\",  \n",
        "                  f\"Days to double averaged over last {averaged_days} days. Higher is better\"]\n",
        "  )\n",
        "  fig.update_layout(\n",
        "    title_text=f\"{description} cases {location} starting from {num_start}\", \n",
        "    height=600\n",
        "  )\n",
        "  fig.add_trace(\n",
        "    go.Scatter(x=df_plot.index, y=df_plot['current'], mode='lines', name=location),\n",
        "    row=1, col=1\n",
        "  )\n",
        "  fig.add_trace(\n",
        "    go.Scatter(x=df_plot.index, y=df_plot['doubling days'], mode='lines', showlegend=False),\n",
        "    row=3, col=1\n",
        "  )\n",
        "  fig.update_yaxes(title_text='Cases', type='log', row=1, col=1)\n",
        "  idx_end = df_plot.index[-1]\n",
        "  duration = (idx_end - idx_start).days\n",
        "  for doubler in (2, 3, 4, 5, 6):\n",
        "    num_start_actual = df_plot.loc[idx_start, 'current']\n",
        "    num_end = int(num_start_actual * 2 ** (duration / doubler))\n",
        "    fig.add_trace(\n",
        "      go.Scatter(x=[idx_start, idx_end], y=[num_start_actual, num_end], mode='lines', name=f'every {doubler} days'),\n",
        "        row=1, col=1\n",
        "    )\n",
        "  return fig\n",
        "\n",
        "plot_for_location(df_confirmed, country=\"Australia\", description=\"Confirmed\", averaged_days=5)"
      ],
      "execution_count": 0,
      "outputs": []
    },
    {
      "cell_type": "code",
      "metadata": {
        "id": "ij3tYsep1PLN",
        "colab_type": "code",
        "colab": {}
      },
      "source": [
        ""
      ],
      "execution_count": 0,
      "outputs": []
    }
  ]
}