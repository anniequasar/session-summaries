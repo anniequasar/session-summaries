{
  "cells": [
    {
      "cell_type": "code",
      "execution_count": null,
      "id": "b4577e0b-b5a4-4764-b4bb-2693ba1457ba",
      "metadata": {
        "id": "b4577e0b-b5a4-4764-b4bb-2693ba1457ba"
      },
      "outputs": [],
      "source": [
        "!pip install -Uqq fastai"
      ]
    },
    {
      "cell_type": "code",
      "execution_count": null,
      "id": "b824cf27-17a0-4634-9de9-00ffa521761c",
      "metadata": {
        "id": "b824cf27-17a0-4634-9de9-00ffa521761c",
        "outputId": "36217329-d2a5-4109-8067-569126505eca"
      },
      "outputs": [],
      "source": [
        "1"
      ]
    },
    {
      "cell_type": "code",
      "execution_count": null,
      "id": "b836f00b-edc1-4186-b87e-8b79e30587e5",
      "metadata": {
        "id": "b836f00b-edc1-4186-b87e-8b79e30587e5"
      },
      "outputs": [],
      "source": [
        "from fastcore.all import *\n",
        "import time\n",
        "\n",
        "def search_images(term, max_images=200):\n",
        "    url = 'https://duckduckgo.com/'\n",
        "    res = urlread(url,data={'q':term})\n",
        "    searchObj = re.search(r'vqd=([\\d-]+)\\&', res)\n",
        "    requestUrl = url + 'i.js'\n",
        "    params = dict(l='us-en', o='json', q=term, vqd=searchObj.group(1), f=',,,', p='1', v7exp='a')\n",
        "    urls,data = set(),{'next':1}\n",
        "    while len(urls)<max_images and 'next' in data:\n",
        "        data = urljson(requestUrl,data=params)\n",
        "        urls.update(L(data['results']).itemgot('image'))\n",
        "        requestUrl = url + data['next']\n",
        "        time.sleep(0.2)\n",
        "    return L(urls)[:max_images]"
      ]
    },
    {
      "cell_type": "code",
      "execution_count": null,
      "id": "436f78b2-3364-43ce-8463-47fdc383e388",
      "metadata": {
        "id": "436f78b2-3364-43ce-8463-47fdc383e388",
        "outputId": "eb57be4b-7357-4885-abe2-a584e25581ce"
      },
      "outputs": [],
      "source": [
        "urls = search_images('bird photos', max_images=1)\n",
        "urls[0]"
      ]
    },
    {
      "cell_type": "code",
      "execution_count": null,
      "id": "c8b91279-33cd-4dbd-816a-665c270c0906",
      "metadata": {
        "id": "c8b91279-33cd-4dbd-816a-665c270c0906",
        "outputId": "16099a93-ded6-4bd6-90cd-51ae23c8ef12"
      },
      "outputs": [],
      "source": [
        "from fastdownload import download_url\n",
        "dest = 'bird2.jpg'\n",
        "download_url(urls[0], dest, show_progress=False)\n",
        "\n",
        "from fastai.vision.all import *\n",
        "im = Image.open(dest)\n",
        "im.to_thumb(256,256)"
      ]
    },
    {
      "cell_type": "code",
      "execution_count": null,
      "id": "59df1836-3097-4522-a17f-5831dce67f23",
      "metadata": {
        "id": "59df1836-3097-4522-a17f-5831dce67f23",
        "outputId": "7dab96d2-5c47-437e-f345-0988ce11e54a"
      },
      "outputs": [],
      "source": [
        "download_url(search_images('forest photos', max_images=1)[0], 'forest.jpg', show_progress=False)\n",
        "Image.open('forest.jpg').to_thumb(256,256)"
      ]
    },
    {
      "cell_type": "code",
      "execution_count": null,
      "id": "13110451-c83a-45c8-9529-ef5d2693831a",
      "metadata": {
        "id": "13110451-c83a-45c8-9529-ef5d2693831a",
        "outputId": "4e6680c8-239a-45a9-f167-d78354538039"
      },
      "outputs": [],
      "source": [
        "import os\n",
        "os.listdir()"
      ]
    },
    {
      "cell_type": "code",
      "execution_count": null,
      "id": "5425e59d-6d48-458b-b55b-192a91c47212",
      "metadata": {
        "id": "5425e59d-6d48-458b-b55b-192a91c47212"
      },
      "outputs": [],
      "source": [
        "# !rm -r bird_or_not"
      ]
    },
    {
      "cell_type": "code",
      "execution_count": null,
      "id": "32921071-35a4-48bd-abbc-d9d20ef966e4",
      "metadata": {
        "id": "32921071-35a4-48bd-abbc-d9d20ef966e4"
      },
      "outputs": [],
      "source": [
        "labels = 'bird', 'forest'\n",
        "path = Path('bird_or_not')\n",
        "\n",
        "for o in labels:\n",
        "    dest = (path/o)\n",
        "    dest.mkdir(exist_ok=True, parents=True)\n",
        "    download_images(dest, urls=search_images(f'{o} photo'))\n",
        "    resize_images(path/o, max_size=400, dest=path/o)"
      ]
    },
    {
      "cell_type": "code",
      "execution_count": null,
      "id": "a5884ff9-b267-42c4-9d43-a89d64cab6b2",
      "metadata": {
        "id": "a5884ff9-b267-42c4-9d43-a89d64cab6b2",
        "outputId": "ff73f917-2ee2-4c56-b28e-2a6ef56fbaf1"
      },
      "outputs": [],
      "source": [
        "failed = verify_images(get_image_files(path))\n",
        "failed.map(Path.unlink)\n",
        "len(failed)"
      ]
    },
    {
      "cell_type": "code",
      "execution_count": null,
      "id": "61f2c5c9-b839-4c2e-9747-b615b6b1e9d8",
      "metadata": {
        "id": "61f2c5c9-b839-4c2e-9747-b615b6b1e9d8",
        "outputId": "1064a1ed-3ebe-4065-8a74-eba7329381eb"
      },
      "outputs": [],
      "source": [
        "failed"
      ]
    },
    {
      "cell_type": "code",
      "execution_count": null,
      "id": "78bde87b-7119-42aa-a4e8-64d1fd544d46",
      "metadata": {
        "id": "78bde87b-7119-42aa-a4e8-64d1fd544d46"
      },
      "outputs": [],
      "source": [
        "# failed.map(Path.unlink);"
      ]
    },
    {
      "cell_type": "code",
      "execution_count": null,
      "id": "6450cda7-569d-4942-a658-52fa4bdd887a",
      "metadata": {
        "id": "6450cda7-569d-4942-a658-52fa4bdd887a"
      },
      "outputs": [],
      "source": [
        "data = DataBlock(\n",
        "    blocks=(ImageBlock, CategoryBlock),\n",
        "    get_items=get_image_files,\n",
        "    splitter=RandomSplitter(valid_pct=0.2, seed=42),\n",
        "    get_y=parent_label,\n",
        "    item_tfms=Resize(128))"
      ]
    },
    {
      "cell_type": "code",
      "execution_count": null,
      "id": "fbea4ba4-6c56-4659-8b4f-800a6a64b1d8",
      "metadata": {
        "id": "fbea4ba4-6c56-4659-8b4f-800a6a64b1d8"
      },
      "outputs": [],
      "source": [
        "dls = data.dataloaders(path)"
      ]
    },
    {
      "cell_type": "code",
      "execution_count": null,
      "id": "8c743bb9-b5af-4b52-8941-92837eb42ca7",
      "metadata": {
        "id": "8c743bb9-b5af-4b52-8941-92837eb42ca7",
        "outputId": "1926bc08-66f7-4817-f8fe-aa31ade3d6bc"
      },
      "outputs": [],
      "source": [
        "dls.valid.show_batch(max_n=4, nrows=1)"
      ]
    },
    {
      "cell_type": "code",
      "execution_count": null,
      "id": "f96701a3-bdef-44c2-869a-4ea8d3d162ea",
      "metadata": {
        "id": "f96701a3-bdef-44c2-869a-4ea8d3d162ea",
        "outputId": "617f10d9-730d-47f2-d414-252c3e1fa6bf"
      },
      "outputs": [],
      "source": [
        "data = data.new(item_tfms=Resize(128, ResizeMethod.Squish))\n",
        "dls = data.dataloaders(path)\n",
        "dls.valid.show_batch(max_n=4, nrows=1)"
      ]
    },
    {
      "cell_type": "code",
      "execution_count": null,
      "id": "03469f92-9a05-4142-b0f3-81bdd4932852",
      "metadata": {
        "id": "03469f92-9a05-4142-b0f3-81bdd4932852",
        "outputId": "a4325aa8-9734-4fc4-c258-41b186e133db"
      },
      "outputs": [],
      "source": [
        "data = data.new(item_tfms=Resize(128, ResizeMethod.Pad, pad_mode='zeros'))\n",
        "dls = data.dataloaders(path)\n",
        "dls.valid.show_batch(max_n=4, nrows=1)"
      ]
    },
    {
      "cell_type": "code",
      "execution_count": null,
      "id": "926e99d4-fc6e-40f4-88df-4ec5eb5619e3",
      "metadata": {
        "id": "926e99d4-fc6e-40f4-88df-4ec5eb5619e3",
        "outputId": "c2611695-9a18-4070-a2d1-1828f1660dbe"
      },
      "outputs": [],
      "source": [
        "data = data.new(item_tfms=RandomResizedCrop(128, min_scale=0.3))\n",
        "dls = data.dataloaders(path)\n",
        "dls.train.show_batch(max_n=4, nrows=1, unique=True)"
      ]
    },
    {
      "cell_type": "markdown",
      "id": "a382a158-264b-437b-a14f-493e068fcb34",
      "metadata": {
        "id": "a382a158-264b-437b-a14f-493e068fcb34"
      },
      "source": [
        "# Data Augmentation"
      ]
    },
    {
      "cell_type": "code",
      "execution_count": null,
      "id": "7df61de5-8ece-454b-bda7-55b70c35ad8c",
      "metadata": {
        "id": "7df61de5-8ece-454b-bda7-55b70c35ad8c",
        "outputId": "2e295ae7-861b-4234-fa51-8aa153495d0a"
      },
      "outputs": [],
      "source": [
        "data = data.new(item_tfms=Resize(128), batch_tfms=aug_transforms(mult=2))\n",
        "dls = data.dataloaders(path)\n",
        "dls.train.show_batch(max_n=8, nrows=2, unique=True)"
      ]
    },
    {
      "cell_type": "code",
      "execution_count": null,
      "id": "49918850-aa9d-4b0a-91a2-be647105bd0e",
      "metadata": {
        "id": "49918850-aa9d-4b0a-91a2-be647105bd0e"
      },
      "outputs": [],
      "source": [
        "data = data.new(\n",
        "    item_tfms=RandomResizedCrop(224, min_scale=0.5),\n",
        "    batch_tfms=aug_transforms())\n",
        "dls = data.dataloaders(path)"
      ]
    },
    {
      "cell_type": "code",
      "execution_count": null,
      "id": "8645fdbe-6343-4126-9e43-e2ef2ce2bd85",
      "metadata": {
        "id": "8645fdbe-6343-4126-9e43-e2ef2ce2bd85",
        "outputId": "bf9b040e-8c11-4091-8126-e47f10584ada"
      },
      "outputs": [],
      "source": [
        "learn = vision_learner(dls, resnet18, metrics=error_rate)\n",
        "learn.fine_tune(3)"
      ]
    },
    {
      "cell_type": "code",
      "execution_count": null,
      "id": "8cec7529-f8d3-421c-b321-bf65dc769a0b",
      "metadata": {
        "id": "8cec7529-f8d3-421c-b321-bf65dc769a0b",
        "outputId": "63594a99-482a-428b-939e-600f52c3f75f"
      },
      "outputs": [],
      "source": [
        "interp = ClassificationInterpretation.from_learner(learn)\n",
        "interp.plot_confusion_matrix()"
      ]
    },
    {
      "cell_type": "code",
      "execution_count": null,
      "id": "69dc581e-dca5-49e9-a7cf-57ef6a822c6d",
      "metadata": {
        "id": "69dc581e-dca5-49e9-a7cf-57ef6a822c6d",
        "outputId": "c995ec1b-abb2-46cb-fc5c-c8371d3ccaf1"
      },
      "outputs": [],
      "source": [
        "interp.plot_top_losses(5, nrows=1)"
      ]
    },
    {
      "cell_type": "code",
      "execution_count": null,
      "id": "b1ba03be-bb92-45c0-b0b3-5ee664291567",
      "metadata": {
        "id": "b1ba03be-bb92-45c0-b0b3-5ee664291567"
      },
      "outputs": [],
      "source": [
        "!pip install -Uqq fastbook"
      ]
    },
    {
      "cell_type": "code",
      "execution_count": null,
      "id": "ac05fa23-328a-4b9e-850b-b93979aca46b",
      "metadata": {
        "id": "ac05fa23-328a-4b9e-850b-b93979aca46b"
      },
      "outputs": [],
      "source": [
        "#hide\n",
        "from fastbook import *\n",
        "from fastai.vision.widgets import *"
      ]
    },
    {
      "cell_type": "code",
      "execution_count": null,
      "id": "c61f7341-37c7-48dd-91f8-a072666167a3",
      "metadata": {
        "id": "c61f7341-37c7-48dd-91f8-a072666167a3",
        "outputId": "1e1bd831-ec14-4e69-90a6-6d20f0bfe9cf"
      },
      "outputs": [],
      "source": [
        "cleaner = ImageClassifierCleaner(learn)\n",
        "cleaner"
      ]
    },
    {
      "cell_type": "code",
      "execution_count": null,
      "id": "6537c17e-7b8f-4128-a95a-79b784119745",
      "metadata": {
        "id": "6537c17e-7b8f-4128-a95a-79b784119745"
      },
      "outputs": [],
      "source": [
        "for idx in cleaner.delete(): cleaner.fns[idx].unlink()\n",
        "for idx,cat in cleaner.change(): shutil.move(str(cleaner.fns[idx]), path/cat)"
      ]
    },
    {
      "cell_type": "code",
      "execution_count": null,
      "id": "c7063bbd-ced2-47a3-b914-de486766c43f",
      "metadata": {
        "id": "c7063bbd-ced2-47a3-b914-de486766c43f"
      },
      "outputs": [],
      "source": [
        "learn.export()"
      ]
    },
    {
      "cell_type": "code",
      "execution_count": null,
      "id": "28164b6e-ae6a-4dd0-81ca-0d950b8a4e90",
      "metadata": {
        "id": "28164b6e-ae6a-4dd0-81ca-0d950b8a4e90"
      },
      "outputs": [],
      "source": [
        "labels = learn.dls.vocab"
      ]
    },
    {
      "cell_type": "code",
      "execution_count": null,
      "id": "42847aad-ec8b-409b-8a38-e84cbde75c75",
      "metadata": {
        "id": "42847aad-ec8b-409b-8a38-e84cbde75c75",
        "outputId": "92c12e45-8493-4c99-9088-38b5368d7c4e"
      },
      "outputs": [],
      "source": [
        "labels"
      ]
    },
    {
      "cell_type": "code",
      "execution_count": null,
      "id": "c1e6d1a3-2a89-4e39-bd6f-4e3034eb3226",
      "metadata": {
        "id": "c1e6d1a3-2a89-4e39-bd6f-4e3034eb3226"
      },
      "outputs": [],
      "source": [
        "def predict(img):\n",
        "    img = PILImage.create(img)\n",
        "    pred, pred_idx, probs = learn.predict(img)\n",
        "    return {labels[i]: float(probs[i]) for i in range(len(labels))}"
      ]
    },
    {
      "cell_type": "code",
      "execution_count": null,
      "id": "e27d5f81-0105-4f8f-869b-d44846cb1746",
      "metadata": {
        "id": "e27d5f81-0105-4f8f-869b-d44846cb1746"
      },
      "outputs": [],
      "source": [
        "!pip install -Uqq gradio"
      ]
    },
    {
      "cell_type": "code",
      "execution_count": null,
      "id": "26bb3c31-ed30-4dae-b314-6bbeedaaf5df",
      "metadata": {
        "id": "26bb3c31-ed30-4dae-b314-6bbeedaaf5df"
      },
      "outputs": [],
      "source": [
        "import gradio as gr"
      ]
    },
    {
      "cell_type": "code",
      "execution_count": null,
      "id": "528823d8-0a22-497d-8e8d-d51407bd1752",
      "metadata": {
        "id": "528823d8-0a22-497d-8e8d-d51407bd1752"
      },
      "outputs": [],
      "source": [
        "from gradio.components import Image, Label"
      ]
    },
    {
      "cell_type": "code",
      "execution_count": null,
      "id": "42652bbc-7873-4791-928f-98efc2539e27",
      "metadata": {
        "id": "42652bbc-7873-4791-928f-98efc2539e27",
        "outputId": "e8d92d29-5215-4798-8668-437e1771abf5"
      },
      "outputs": [],
      "source": [
        "gr.Interface(fn= predict, inputs=Image(shape= (224,224)),\n",
        "             outputs=Label(num_top_classes=2)).launch(share=True)"
      ]
    }
  ],
  "metadata": {
    "colab": {
      "name": "deploy.ipynb",
      "provenance": []
    },
    "environment": {
      "kernel": "python3",
      "name": "pytorch-gpu.1-11.m94",
      "type": "gcloud",
      "uri": "gcr.io/deeplearning-platform-release/pytorch-gpu.1-11:m94"
    },
    "kernelspec": {
      "display_name": "Python 3.10.5 64-bit",
      "language": "python",
      "name": "python3"
    },
    "language_info": {
      "codemirror_mode": {
        "name": "ipython",
        "version": 3
      },
      "file_extension": ".py",
      "mimetype": "text/x-python",
      "name": "python",
      "nbconvert_exporter": "python",
      "pygments_lexer": "ipython3",
      "version": "3.10.5"
    },
    "vscode": {
      "interpreter": {
        "hash": "b2299f45192444fc70903754996cb700490586cec8fe40cd1089f53ce0bc3093"
      }
    }
  },
  "nbformat": 4,
  "nbformat_minor": 5
}
