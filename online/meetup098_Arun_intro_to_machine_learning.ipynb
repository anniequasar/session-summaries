{
  "nbformat": 4,
  "nbformat_minor": 0,
  "metadata": {
    "colab": {
      "name": "Functions.ipynb",
      "provenance": [],
      "collapsed_sections": []
    },
    "kernelspec": {
      "name": "python3",
      "display_name": "Python 3"
    }
  },
  "cells": [
    {
      "cell_type": "code",
      "metadata": {
        "colab": {
          "base_uri": "https://localhost:8080/"
        },
        "id": "0GEkiQQUqyUJ",
        "outputId": "459fe83d-52ac-4359-e8e6-3b83eaba94f6"
      },
      "source": [
        "11 + 22"
      ],
      "execution_count": null,
      "outputs": [
        {
          "output_type": "execute_result",
          "data": {
            "text/plain": [
              "33"
            ]
          },
          "metadata": {
            "tags": []
          },
          "execution_count": 1
        }
      ]
    },
    {
      "cell_type": "markdown",
      "metadata": {
        "id": "TImbSZ40xeKC"
      },
      "source": [
        "# Functions"
      ]
    },
    {
      "cell_type": "code",
      "metadata": {
        "id": "waA3y3tpxSvQ"
      },
      "source": [
        "name = ['steve', 'arun', 'laura', 'steffi']\n",
        "\n",
        "name_len = []\n",
        "for n in name:\n",
        "    name_len.append(len(n))"
      ],
      "execution_count": null,
      "outputs": []
    },
    {
      "cell_type": "code",
      "metadata": {
        "colab": {
          "base_uri": "https://localhost:8080/"
        },
        "id": "Ql-5h1bhyxSB",
        "outputId": "33006671-a88b-4c31-e610-5c68471548c8"
      },
      "source": [
        "name_len"
      ],
      "execution_count": null,
      "outputs": [
        {
          "output_type": "execute_result",
          "data": {
            "text/plain": [
              "[5, 4, 5, 6]"
            ]
          },
          "metadata": {
            "tags": []
          },
          "execution_count": 10
        }
      ]
    },
    {
      "cell_type": "code",
      "metadata": {
        "colab": {
          "base_uri": "https://localhost:8080/"
        },
        "id": "Ir526m2PyyVN",
        "outputId": "3d6b1cb8-ddb1-44c2-cc91-0c99d583ea2d"
      },
      "source": [
        "list(map(len,name))"
      ],
      "execution_count": null,
      "outputs": [
        {
          "output_type": "execute_result",
          "data": {
            "text/plain": [
              "[5, 4, 5, 6]"
            ]
          },
          "metadata": {
            "tags": []
          },
          "execution_count": 11
        }
      ]
    },
    {
      "cell_type": "markdown",
      "metadata": {
        "id": "sxBQ8d9T1txZ"
      },
      "source": [
        "# Filter"
      ]
    },
    {
      "cell_type": "code",
      "metadata": {
        "colab": {
          "base_uri": "https://localhost:8080/"
        },
        "id": "V-dLHhTa1tLN",
        "outputId": "9891a0f4-a48a-4222-b820-a73a6fe82880"
      },
      "source": [
        "list(filter(lambda n: n.startswith('s'), name))"
      ],
      "execution_count": null,
      "outputs": [
        {
          "output_type": "execute_result",
          "data": {
            "text/plain": [
              "['steve', 'steffi']"
            ]
          },
          "metadata": {
            "tags": []
          },
          "execution_count": 31
        }
      ]
    },
    {
      "cell_type": "code",
      "metadata": {
        "id": "Et4TpguI1tID"
      },
      "source": [
        ""
      ],
      "execution_count": null,
      "outputs": []
    },
    {
      "cell_type": "code",
      "metadata": {
        "id": "qaezITZV1tAB"
      },
      "source": [
        ""
      ],
      "execution_count": null,
      "outputs": []
    },
    {
      "cell_type": "code",
      "metadata": {
        "id": "PHKuaH4KztxL"
      },
      "source": [
        "def filt(n):\n",
        "    return n.startswith('s')"
      ],
      "execution_count": null,
      "outputs": []
    },
    {
      "cell_type": "code",
      "metadata": {
        "colab": {
          "base_uri": "https://localhost:8080/"
        },
        "id": "AKS5u9tOzGxh",
        "outputId": "8e89ad52-23a6-4ea6-9189-cdac28f2df02"
      },
      "source": [
        "list(filter(filt, name))"
      ],
      "execution_count": null,
      "outputs": [
        {
          "output_type": "execute_result",
          "data": {
            "text/plain": [
              "['steve', 'steffi']"
            ]
          },
          "metadata": {
            "tags": []
          },
          "execution_count": 15
        }
      ]
    },
    {
      "cell_type": "code",
      "metadata": {
        "id": "lYrnzvnm0QHH"
      },
      "source": [
        "def find_length(x):\n",
        "    return len(x)"
      ],
      "execution_count": null,
      "outputs": []
    },
    {
      "cell_type": "code",
      "metadata": {
        "id": "c6pi5Yy70QD-"
      },
      "source": [
        "def cube(x):\n",
        "    return x**3"
      ],
      "execution_count": null,
      "outputs": []
    },
    {
      "cell_type": "code",
      "metadata": {
        "id": "E9hq2foQzdEA"
      },
      "source": [
        "l = [1,2,3,4,5]\n",
        "\n",
        "cubic_list = []\n",
        "\n",
        "for elem in l:\n",
        "    cubic_list.append(cube(elem))"
      ],
      "execution_count": null,
      "outputs": []
    },
    {
      "cell_type": "code",
      "metadata": {
        "colab": {
          "base_uri": "https://localhost:8080/"
        },
        "id": "4H6o2nvo0rJA",
        "outputId": "ad634a29-c03f-429d-8cf3-d5ea8fa27181"
      },
      "source": [
        "cubic_list"
      ],
      "execution_count": null,
      "outputs": [
        {
          "output_type": "execute_result",
          "data": {
            "text/plain": [
              "[1, 8, 27, 64, 125]"
            ]
          },
          "metadata": {
            "tags": []
          },
          "execution_count": 20
        }
      ]
    },
    {
      "cell_type": "code",
      "metadata": {
        "colab": {
          "base_uri": "https://localhost:8080/"
        },
        "id": "_au8XrPf0tsU",
        "outputId": "0c3bcf31-4a48-4cdb-9500-96737c339a60"
      },
      "source": [
        "(lambda x:x**3)(4)"
      ],
      "execution_count": null,
      "outputs": [
        {
          "output_type": "execute_result",
          "data": {
            "text/plain": [
              "64"
            ]
          },
          "metadata": {
            "tags": []
          },
          "execution_count": 25
        }
      ]
    },
    {
      "cell_type": "code",
      "metadata": {
        "colab": {
          "base_uri": "https://localhost:8080/"
        },
        "id": "6MYEXUVp03gC",
        "outputId": "6fc303de-57f0-43fc-e45d-c37d70078469"
      },
      "source": [
        "[x**2 for x in [1,2,3,4,5]]"
      ],
      "execution_count": null,
      "outputs": [
        {
          "output_type": "execute_result",
          "data": {
            "text/plain": [
              "[1, 4, 9, 16, 25]"
            ]
          },
          "metadata": {
            "tags": []
          },
          "execution_count": 26
        }
      ]
    },
    {
      "cell_type": "code",
      "metadata": {
        "colab": {
          "base_uri": "https://localhost:8080/"
        },
        "id": "aaw91GSQ1IRK",
        "outputId": "407a767c-6497-4111-8649-20e27237e81b"
      },
      "source": [
        "[(lambda x:x**3)(x) for x in [1,2,3,4,5]]"
      ],
      "execution_count": null,
      "outputs": [
        {
          "output_type": "execute_result",
          "data": {
            "text/plain": [
              "[1, 8, 27, 64, 125]"
            ]
          },
          "metadata": {
            "tags": []
          },
          "execution_count": 27
        }
      ]
    },
    {
      "cell_type": "code",
      "metadata": {
        "colab": {
          "base_uri": "https://localhost:8080/"
        },
        "id": "buJ0Oupr1XjX",
        "outputId": "789f96fe-c768-4126-8134-d7694746cbf8"
      },
      "source": [
        "locals()"
      ],
      "execution_count": null,
      "outputs": [
        {
          "output_type": "execute_result",
          "data": {
            "text/plain": [
              "{'In': ['',\n",
              "  '11 + 22',\n",
              "  \"name = ['steve', 'arun', 'laura', 'steffi']\\n\\nname_len = []\\nfor n in name:\\n    name_len.append(len(n))\",\n",
              "  'name_len',\n",
              "  'map(len,name)',\n",
              "  'list(map(len,name))',\n",
              "  \"list(filter(str.startswith('s'), name))\",\n",
              "  \"def filt(n):\\n    n.startswith('s')\",\n",
              "  'list(filter(filt, name))',\n",
              "  \"name = ['steve', 'arun', 'laura', 'steffi']\\n\\nname_len = []\\nfor n in name:\\n    name_len.append(len(n))\",\n",
              "  'name_len',\n",
              "  'list(map(len,name))',\n",
              "  \"def filt(n):\\n    n.startswith('s')\",\n",
              "  'list(filter(filt, name))',\n",
              "  \"def filt(n):\\n    return n.startswith('s')\",\n",
              "  'list(filter(filt, name))',\n",
              "  'def find_length(x):\\n    return len(x)',\n",
              "  'def cube(x):\\n    return x**3',\n",
              "  'l = [1,2,3,4,5]\\n\\ncubic_list = []\\n\\nfor elem in l:\\n    cubic_list.append(cube(x))',\n",
              "  'l = [1,2,3,4,5]\\n\\ncubic_list = []\\n\\nfor elem in l:\\n    cubic_list.append(cube(elem))',\n",
              "  'cubic_list',\n",
              "  '(lambda x:x**3)(l)',\n",
              "  '(lambda x:x**3)',\n",
              "  '(lambda x:x**3)l',\n",
              "  '(lambda x:x**3)([1,2,3])',\n",
              "  '(lambda x:x**3)(4)',\n",
              "  '[x**2 for x in [1,2,3,4,5]]',\n",
              "  '[(lambda x:x**3)(x) for x in [1,2,3,4,5]]',\n",
              "  'locals()'],\n",
              " 'Out': {1: 33,\n",
              "  3: [5, 4, 5, 6],\n",
              "  4: <map at 0x7f5d0084bdd8>,\n",
              "  5: [5, 4, 5, 6],\n",
              "  8: [],\n",
              "  10: [5, 4, 5, 6],\n",
              "  11: [5, 4, 5, 6],\n",
              "  13: [],\n",
              "  15: ['steve', 'steffi'],\n",
              "  20: [1, 8, 27, 64, 125],\n",
              "  22: <function __main__.<lambda>>,\n",
              "  25: 64,\n",
              "  26: [1, 4, 9, 16, 25],\n",
              "  27: [1, 8, 27, 64, 125]},\n",
              " '_': [1, 8, 27, 64, 125],\n",
              " '_1': 33,\n",
              " '_10': [5, 4, 5, 6],\n",
              " '_11': [5, 4, 5, 6],\n",
              " '_13': [],\n",
              " '_15': ['steve', 'steffi'],\n",
              " '_20': [1, 8, 27, 64, 125],\n",
              " '_22': <function __main__.<lambda>>,\n",
              " '_25': 64,\n",
              " '_26': [1, 4, 9, 16, 25],\n",
              " '_27': [1, 8, 27, 64, 125],\n",
              " '_3': [5, 4, 5, 6],\n",
              " '_4': <map at 0x7f5d0084bdd8>,\n",
              " '_5': [5, 4, 5, 6],\n",
              " '_8': [],\n",
              " '__': [1, 4, 9, 16, 25],\n",
              " '___': 64,\n",
              " '__builtin__': <module 'builtins' (built-in)>,\n",
              " '__builtins__': <module 'builtins' (built-in)>,\n",
              " '__doc__': 'Automatically created module for IPython interactive environment',\n",
              " '__loader__': None,\n",
              " '__name__': '__main__',\n",
              " '__package__': None,\n",
              " '__spec__': None,\n",
              " '_dh': ['/content'],\n",
              " '_i': '[(lambda x:x**3)(x) for x in [1,2,3,4,5]]',\n",
              " '_i1': '11 + 22',\n",
              " '_i10': 'name_len',\n",
              " '_i11': 'list(map(len,name))',\n",
              " '_i12': \"def filt(n):\\n    n.startswith('s')\",\n",
              " '_i13': 'list(filter(filt, name))',\n",
              " '_i14': \"def filt(n):\\n    return n.startswith('s')\",\n",
              " '_i15': 'list(filter(filt, name))',\n",
              " '_i16': 'def find_length(x):\\n    return len(x)',\n",
              " '_i17': 'def cube(x):\\n    return x**3',\n",
              " '_i18': 'l = [1,2,3,4,5]\\n\\ncubic_list = []\\n\\nfor elem in l:\\n    cubic_list.append(cube(x))',\n",
              " '_i19': 'l = [1,2,3,4,5]\\n\\ncubic_list = []\\n\\nfor elem in l:\\n    cubic_list.append(cube(elem))',\n",
              " '_i2': \"name = ['steve', 'arun', 'laura', 'steffi']\\n\\nname_len = []\\nfor n in name:\\n    name_len.append(len(n))\",\n",
              " '_i20': 'cubic_list',\n",
              " '_i21': '(lambda x:x**3)(l)',\n",
              " '_i22': '(lambda x:x**3)',\n",
              " '_i23': '(lambda x:x**3)l',\n",
              " '_i24': '(lambda x:x**3)([1,2,3])',\n",
              " '_i25': '(lambda x:x**3)(4)',\n",
              " '_i26': '[x**2 for x in [1,2,3,4,5]]',\n",
              " '_i27': '[(lambda x:x**3)(x) for x in [1,2,3,4,5]]',\n",
              " '_i28': 'locals()',\n",
              " '_i3': 'name_len',\n",
              " '_i4': 'map(len,name)',\n",
              " '_i5': 'list(map(len,name))',\n",
              " '_i6': \"list(filter(str.startswith('s'), name))\",\n",
              " '_i7': \"def filt(n):\\n    n.startswith('s')\",\n",
              " '_i8': 'list(filter(filt, name))',\n",
              " '_i9': \"name = ['steve', 'arun', 'laura', 'steffi']\\n\\nname_len = []\\nfor n in name:\\n    name_len.append(len(n))\",\n",
              " '_ih': ['',\n",
              "  '11 + 22',\n",
              "  \"name = ['steve', 'arun', 'laura', 'steffi']\\n\\nname_len = []\\nfor n in name:\\n    name_len.append(len(n))\",\n",
              "  'name_len',\n",
              "  'map(len,name)',\n",
              "  'list(map(len,name))',\n",
              "  \"list(filter(str.startswith('s'), name))\",\n",
              "  \"def filt(n):\\n    n.startswith('s')\",\n",
              "  'list(filter(filt, name))',\n",
              "  \"name = ['steve', 'arun', 'laura', 'steffi']\\n\\nname_len = []\\nfor n in name:\\n    name_len.append(len(n))\",\n",
              "  'name_len',\n",
              "  'list(map(len,name))',\n",
              "  \"def filt(n):\\n    n.startswith('s')\",\n",
              "  'list(filter(filt, name))',\n",
              "  \"def filt(n):\\n    return n.startswith('s')\",\n",
              "  'list(filter(filt, name))',\n",
              "  'def find_length(x):\\n    return len(x)',\n",
              "  'def cube(x):\\n    return x**3',\n",
              "  'l = [1,2,3,4,5]\\n\\ncubic_list = []\\n\\nfor elem in l:\\n    cubic_list.append(cube(x))',\n",
              "  'l = [1,2,3,4,5]\\n\\ncubic_list = []\\n\\nfor elem in l:\\n    cubic_list.append(cube(elem))',\n",
              "  'cubic_list',\n",
              "  '(lambda x:x**3)(l)',\n",
              "  '(lambda x:x**3)',\n",
              "  '(lambda x:x**3)l',\n",
              "  '(lambda x:x**3)([1,2,3])',\n",
              "  '(lambda x:x**3)(4)',\n",
              "  '[x**2 for x in [1,2,3,4,5]]',\n",
              "  '[(lambda x:x**3)(x) for x in [1,2,3,4,5]]',\n",
              "  'locals()'],\n",
              " '_ii': '[x**2 for x in [1,2,3,4,5]]',\n",
              " '_iii': '(lambda x:x**3)(4)',\n",
              " '_oh': {1: 33,\n",
              "  3: [5, 4, 5, 6],\n",
              "  4: <map at 0x7f5d0084bdd8>,\n",
              "  5: [5, 4, 5, 6],\n",
              "  8: [],\n",
              "  10: [5, 4, 5, 6],\n",
              "  11: [5, 4, 5, 6],\n",
              "  13: [],\n",
              "  15: ['steve', 'steffi'],\n",
              "  20: [1, 8, 27, 64, 125],\n",
              "  22: <function __main__.<lambda>>,\n",
              "  25: 64,\n",
              "  26: [1, 4, 9, 16, 25],\n",
              "  27: [1, 8, 27, 64, 125]},\n",
              " '_sh': <module 'IPython.core.shadowns' from '/usr/local/lib/python3.6/dist-packages/IPython/core/shadowns.py'>,\n",
              " 'cube': <function __main__.cube>,\n",
              " 'cubic_list': [1, 8, 27, 64, 125],\n",
              " 'elem': 5,\n",
              " 'exit': <IPython.core.autocall.ZMQExitAutocall at 0x7f5d0d3a8198>,\n",
              " 'filt': <function __main__.filt>,\n",
              " 'find_length': <function __main__.find_length>,\n",
              " 'get_ipython': <bound method InteractiveShell.get_ipython of <google.colab._shell.Shell object at 0x7f5d0ddf4b00>>,\n",
              " 'l': [1, 2, 3, 4, 5],\n",
              " 'n': 'steffi',\n",
              " 'name': ['steve', 'arun', 'laura', 'steffi'],\n",
              " 'name_len': [5, 4, 5, 6],\n",
              " 'quit': <IPython.core.autocall.ZMQExitAutocall at 0x7f5d0d3a8198>}"
            ]
          },
          "metadata": {
            "tags": []
          },
          "execution_count": 28
        }
      ]
    },
    {
      "cell_type": "markdown",
      "metadata": {
        "id": "WeAP1Gr82LsG"
      },
      "source": [
        "Functions"
      ]
    },
    {
      "cell_type": "code",
      "metadata": {
        "id": "LHacBHId1g3o"
      },
      "source": [
        "def no_return(x):\n",
        "    print(x)"
      ],
      "execution_count": null,
      "outputs": []
    },
    {
      "cell_type": "code",
      "metadata": {
        "colab": {
          "base_uri": "https://localhost:8080/"
        },
        "id": "GvrTBlOk2RQq",
        "outputId": "347dd558-f3f6-4e1b-d92f-51bdd1d5ae30"
      },
      "source": [
        "ans = no_return('va')"
      ],
      "execution_count": null,
      "outputs": [
        {
          "output_type": "stream",
          "text": [
            "va\n"
          ],
          "name": "stdout"
        }
      ]
    },
    {
      "cell_type": "code",
      "metadata": {
        "id": "4pMvlI9L6wow"
      },
      "source": [
        "None"
      ],
      "execution_count": null,
      "outputs": []
    },
    {
      "cell_type": "code",
      "metadata": {
        "colab": {
          "base_uri": "https://localhost:8080/"
        },
        "id": "nyfgCcc161oA",
        "outputId": "60db5136-5b5e-4454-93fe-dce8bc8df311"
      },
      "source": [
        "type(None)"
      ],
      "execution_count": null,
      "outputs": [
        {
          "output_type": "execute_result",
          "data": {
            "text/plain": [
              "NoneType"
            ]
          },
          "metadata": {
            "tags": []
          },
          "execution_count": 2
        }
      ]
    },
    {
      "cell_type": "code",
      "metadata": {
        "colab": {
          "base_uri": "https://localhost:8080/"
        },
        "id": "xqBMwPEi2WLy",
        "outputId": "168c1088-0eab-49e5-dfb9-cd6a8abcade8"
      },
      "source": [
        "type(ans)"
      ],
      "execution_count": null,
      "outputs": [
        {
          "output_type": "execute_result",
          "data": {
            "text/plain": [
              "NoneType"
            ]
          },
          "metadata": {
            "tags": []
          },
          "execution_count": 36
        }
      ]
    },
    {
      "cell_type": "code",
      "metadata": {
        "colab": {
          "base_uri": "https://localhost:8080/"
        },
        "id": "4vs4NVCg2aQz",
        "outputId": "8aa78edf-5f7e-4689-eac3-9de2b187704b"
      },
      "source": [
        "id(no_return)"
      ],
      "execution_count": null,
      "outputs": [
        {
          "output_type": "execute_result",
          "data": {
            "text/plain": [
              "140037417318872"
            ]
          },
          "metadata": {
            "tags": []
          },
          "execution_count": 37
        }
      ]
    },
    {
      "cell_type": "code",
      "metadata": {
        "id": "ZWkk3dAU2eWg"
      },
      "source": [
        "x = 12"
      ],
      "execution_count": null,
      "outputs": []
    },
    {
      "cell_type": "code",
      "metadata": {
        "colab": {
          "base_uri": "https://localhost:8080/"
        },
        "id": "0OSDtAGg2ePR",
        "outputId": "9e90bb27-9d33-4999-802a-aed6506aa277"
      },
      "source": [
        "id(x)"
      ],
      "execution_count": null,
      "outputs": [
        {
          "output_type": "execute_result",
          "data": {
            "text/plain": [
              "10914848"
            ]
          },
          "metadata": {
            "tags": []
          },
          "execution_count": 39
        }
      ]
    },
    {
      "cell_type": "code",
      "metadata": {
        "colab": {
          "base_uri": "https://localhost:8080/"
        },
        "id": "WpD3dUrS2dtR",
        "outputId": "4e03ca9f-4fe5-4d46-a166-3a9d06e8fea5"
      },
      "source": [
        "type(x)"
      ],
      "execution_count": null,
      "outputs": [
        {
          "output_type": "execute_result",
          "data": {
            "text/plain": [
              "int"
            ]
          },
          "metadata": {
            "tags": []
          },
          "execution_count": 40
        }
      ]
    },
    {
      "cell_type": "code",
      "metadata": {
        "colab": {
          "base_uri": "https://localhost:8080/"
        },
        "id": "EBCMg8Kk2dqX",
        "outputId": "c30d5115-db0b-4afb-f780-6bc2e392410b"
      },
      "source": [
        "type(no_return)"
      ],
      "execution_count": null,
      "outputs": [
        {
          "output_type": "execute_result",
          "data": {
            "text/plain": [
              "function"
            ]
          },
          "metadata": {
            "tags": []
          },
          "execution_count": 41
        }
      ]
    },
    {
      "cell_type": "code",
      "metadata": {
        "id": "nla6JWgZ2doG"
      },
      "source": [
        ""
      ],
      "execution_count": null,
      "outputs": []
    },
    {
      "cell_type": "markdown",
      "metadata": {
        "id": "YPuxuZHQ2zNp"
      },
      "source": [
        "# scope"
      ]
    },
    {
      "cell_type": "code",
      "metadata": {
        "id": "-v_-jmLX2sEX"
      },
      "source": [
        "x = 5\n",
        "def scope(num):\n",
        "    print(num)\n",
        "    print(x)\n"
      ],
      "execution_count": null,
      "outputs": []
    },
    {
      "cell_type": "code",
      "metadata": {
        "colab": {
          "base_uri": "https://localhost:8080/"
        },
        "id": "LLTeoLQ72sCC",
        "outputId": "4e3a8992-c911-4049-dc4e-2ecc1fc989f2"
      },
      "source": [
        "x"
      ],
      "execution_count": null,
      "outputs": [
        {
          "output_type": "execute_result",
          "data": {
            "text/plain": [
              "5"
            ]
          },
          "metadata": {
            "tags": []
          },
          "execution_count": 51
        }
      ]
    },
    {
      "cell_type": "code",
      "metadata": {
        "colab": {
          "base_uri": "https://localhost:8080/"
        },
        "id": "jKl2qNoV2r_5",
        "outputId": "c488c14d-e080-4885-d0b0-1a520c50b38b"
      },
      "source": [
        "scope(10)"
      ],
      "execution_count": null,
      "outputs": [
        {
          "output_type": "stream",
          "text": [
            "10\n",
            "5\n"
          ],
          "name": "stdout"
        }
      ]
    },
    {
      "cell_type": "code",
      "metadata": {
        "id": "xw6U1QyP2r9G"
      },
      "source": [
        "x = 10\n",
        "def outer_scope():\n",
        "    x = 5\n",
        "    def inner_scope():\n",
        "        #x = 1\n",
        "        print(x)\n",
        "        print('Global scope val', globals()['x'])\n",
        "    inner_scope()\n"
      ],
      "execution_count": null,
      "outputs": []
    },
    {
      "cell_type": "code",
      "metadata": {
        "colab": {
          "base_uri": "https://localhost:8080/"
        },
        "id": "MO0CAu5M2r6p",
        "outputId": "44b310de-5b62-408c-ebb4-337198bc9564"
      },
      "source": [
        "outer_scope()"
      ],
      "execution_count": null,
      "outputs": [
        {
          "output_type": "stream",
          "text": [
            "1\n",
            "Global scope val 10\n"
          ],
          "name": "stdout"
        }
      ]
    },
    {
      "cell_type": "code",
      "metadata": {
        "id": "0HDnIqh038L_"
      },
      "source": [
        "def calculate_area(r, pi=3.1):\n",
        "    return pi * r**2"
      ],
      "execution_count": null,
      "outputs": []
    },
    {
      "cell_type": "code",
      "metadata": {
        "colab": {
          "base_uri": "https://localhost:8080/"
        },
        "id": "jHO14Ozj4mN_",
        "outputId": "cef0cfd4-477e-495f-c5df-4eeafade4d3b"
      },
      "source": [
        "calculate_area(5, pi=3.14)"
      ],
      "execution_count": null,
      "outputs": [
        {
          "output_type": "execute_result",
          "data": {
            "text/plain": [
              "78.5"
            ]
          },
          "metadata": {
            "tags": []
          },
          "execution_count": 64
        }
      ]
    },
    {
      "cell_type": "code",
      "metadata": {
        "colab": {
          "base_uri": "https://localhost:8080/"
        },
        "id": "lInsIpJU4oTh",
        "outputId": "4fe4fdb4-4a2c-453b-914d-3c819c9edf74"
      },
      "source": [
        "calculate_area(r=5, pi=3.14)"
      ],
      "execution_count": null,
      "outputs": [
        {
          "output_type": "execute_result",
          "data": {
            "text/plain": [
              "78.5"
            ]
          },
          "metadata": {
            "tags": []
          },
          "execution_count": 65
        }
      ]
    },
    {
      "cell_type": "code",
      "metadata": {
        "colab": {
          "base_uri": "https://localhost:8080/"
        },
        "id": "iqYWi3T34_VQ",
        "outputId": "fabeb774-5c37-4ea9-e3ec-7f1990db7bd1"
      },
      "source": [
        "calculate_area(pi=3.14, r=5)"
      ],
      "execution_count": null,
      "outputs": [
        {
          "output_type": "execute_result",
          "data": {
            "text/plain": [
              "78.5"
            ]
          },
          "metadata": {
            "tags": []
          },
          "execution_count": 66
        }
      ]
    },
    {
      "cell_type": "code",
      "metadata": {
        "colab": {
          "base_uri": "https://localhost:8080/"
        },
        "id": "gCHnO5B45DJC",
        "outputId": "ad3191e8-8296-4630-f444-3012c719a1fa"
      },
      "source": [
        "calculate_area(5, pi=3.14)"
      ],
      "execution_count": null,
      "outputs": [
        {
          "output_type": "execute_result",
          "data": {
            "text/plain": [
              "78.5"
            ]
          },
          "metadata": {
            "tags": []
          },
          "execution_count": 68
        }
      ]
    },
    {
      "cell_type": "code",
      "metadata": {
        "id": "RCE3v0H_5Gxw"
      },
      "source": [
        "name = ['steve', 'arun', 'laura', 'steffi']"
      ],
      "execution_count": null,
      "outputs": []
    },
    {
      "cell_type": "code",
      "metadata": {
        "colab": {
          "base_uri": "https://localhost:8080/"
        },
        "id": "sBldNJ1Q5QgA",
        "outputId": "644622f4-6a57-47d5-9171-7e7780a73a07"
      },
      "source": [
        "[s for s in name if s.startswith('s')]  #. ==> filter"
      ],
      "execution_count": null,
      "outputs": [
        {
          "output_type": "execute_result",
          "data": {
            "text/plain": [
              "['steve', 'steffi']"
            ]
          },
          "metadata": {
            "tags": []
          },
          "execution_count": 72
        }
      ]
    },
    {
      "cell_type": "code",
      "metadata": {
        "colab": {
          "base_uri": "https://localhost:8080/"
        },
        "id": "mwmAYv6h5QdT",
        "outputId": "1e7418c2-eb42-4b14-b570-cfb41f60bde0"
      },
      "source": [
        "[len(s) for s in name] # map"
      ],
      "execution_count": null,
      "outputs": [
        {
          "output_type": "execute_result",
          "data": {
            "text/plain": [
              "[5, 4, 5, 6]"
            ]
          },
          "metadata": {
            "tags": []
          },
          "execution_count": 74
        }
      ]
    },
    {
      "cell_type": "code",
      "metadata": {
        "id": "flmYXeL65QbE"
      },
      "source": [
        "nums = list(range(1,10))"
      ],
      "execution_count": null,
      "outputs": []
    },
    {
      "cell_type": "code",
      "metadata": {
        "colab": {
          "base_uri": "https://localhost:8080/"
        },
        "id": "WpAyJqee5QZO",
        "outputId": "d0e68c91-ec59-4ff5-c066-3c5f2c78c897"
      },
      "source": [
        "nums"
      ],
      "execution_count": null,
      "outputs": [
        {
          "output_type": "execute_result",
          "data": {
            "text/plain": [
              "[1, 2, 3, 4, 5, 6, 7, 8, 9]"
            ]
          },
          "metadata": {
            "tags": []
          },
          "execution_count": 76
        }
      ]
    },
    {
      "cell_type": "code",
      "metadata": {
        "colab": {
          "base_uri": "https://localhost:8080/"
        },
        "id": "rSELunhO5QWD",
        "outputId": "3c0a9bb1-41d1-4cd0-bfae-7c20077f80b2"
      },
      "source": [
        "[n for n in nums if n%2==0]"
      ],
      "execution_count": null,
      "outputs": [
        {
          "output_type": "execute_result",
          "data": {
            "text/plain": [
              "[2, 4, 6, 8]"
            ]
          },
          "metadata": {
            "tags": []
          },
          "execution_count": 77
        }
      ]
    },
    {
      "cell_type": "code",
      "metadata": {
        "colab": {
          "base_uri": "https://localhost:8080/"
        },
        "id": "T0JAgSGY5QTo",
        "outputId": "a118b439-4e27-47a6-81db-27c137d0f845"
      },
      "source": [
        "list(filter(lambda x:x%2==0, nums))"
      ],
      "execution_count": null,
      "outputs": [
        {
          "output_type": "execute_result",
          "data": {
            "text/plain": [
              "[2, 4, 6, 8]"
            ]
          },
          "metadata": {
            "tags": []
          },
          "execution_count": 79
        }
      ]
    },
    {
      "cell_type": "code",
      "metadata": {
        "id": "VTu43Fnd8dkE"
      },
      "source": [
        ""
      ],
      "execution_count": null,
      "outputs": []
    },
    {
      "cell_type": "code",
      "metadata": {
        "colab": {
          "base_uri": "https://localhost:8080/"
        },
        "id": "sc6YT8Jm8ZmZ",
        "outputId": "2c9f9263-9365-404a-bf7c-93290ca9a193"
      },
      "source": [
        "list(filter(lambda x:x%2==0, nums))"
      ],
      "execution_count": null,
      "outputs": [
        {
          "output_type": "execute_result",
          "data": {
            "text/plain": [
              "[2, 4, 6]"
            ]
          },
          "metadata": {
            "tags": []
          },
          "execution_count": 95
        }
      ]
    },
    {
      "cell_type": "code",
      "metadata": {
        "id": "lAjW-byW5QQ8"
      },
      "source": [
        "nums = [1,2,3,4,5,6]"
      ],
      "execution_count": null,
      "outputs": []
    },
    {
      "cell_type": "code",
      "metadata": {
        "id": "keDfMqZG6fju"
      },
      "source": [
        "it = iter(nums)"
      ],
      "execution_count": null,
      "outputs": []
    },
    {
      "cell_type": "code",
      "metadata": {
        "colab": {
          "base_uri": "https://localhost:8080/"
        },
        "id": "TjzudXuD6fg6",
        "outputId": "5e78bb99-715a-4324-b486-4e07951025ff"
      },
      "source": [
        "it"
      ],
      "execution_count": null,
      "outputs": [
        {
          "output_type": "execute_result",
          "data": {
            "text/plain": [
              "<list_iterator at 0x7f71ac203790>"
            ]
          },
          "metadata": {
            "tags": []
          },
          "execution_count": 5
        }
      ]
    },
    {
      "cell_type": "code",
      "metadata": {
        "colab": {
          "base_uri": "https://localhost:8080/"
        },
        "id": "CNedhYtA6fTe",
        "outputId": "47706158-371e-4785-d435-94c54ebad917"
      },
      "source": [
        "next(it)"
      ],
      "execution_count": null,
      "outputs": [
        {
          "output_type": "execute_result",
          "data": {
            "text/plain": [
              "2"
            ]
          },
          "metadata": {
            "tags": []
          },
          "execution_count": 7
        }
      ]
    },
    {
      "cell_type": "code",
      "metadata": {
        "colab": {
          "base_uri": "https://localhost:8080/"
        },
        "id": "ukqShwoc6fQi",
        "outputId": "64cc4159-2919-4009-c5e4-d001d8c71865"
      },
      "source": [
        "next(it)"
      ],
      "execution_count": null,
      "outputs": [
        {
          "output_type": "execute_result",
          "data": {
            "text/plain": [
              "3"
            ]
          },
          "metadata": {
            "tags": []
          },
          "execution_count": 8
        }
      ]
    },
    {
      "cell_type": "code",
      "metadata": {
        "id": "CjNAUqTe7--m"
      },
      "source": [
        "nums = [1,2,3,4,5,6,7,8,9,10]"
      ],
      "execution_count": null,
      "outputs": []
    },
    {
      "cell_type": "code",
      "metadata": {
        "id": "5n9w5AVD7-8D"
      },
      "source": [
        "it = iter(nums)"
      ],
      "execution_count": null,
      "outputs": []
    },
    {
      "cell_type": "code",
      "metadata": {
        "colab": {
          "base_uri": "https://localhost:8080/"
        },
        "id": "_EY7vdic7-5w",
        "outputId": "6a6cfba8-b9eb-46e8-e7aa-23d1e993a82b"
      },
      "source": [
        "5 in it"
      ],
      "execution_count": null,
      "outputs": [
        {
          "output_type": "execute_result",
          "data": {
            "text/plain": [
              "True"
            ]
          },
          "metadata": {
            "tags": []
          },
          "execution_count": 11
        }
      ]
    },
    {
      "cell_type": "code",
      "metadata": {
        "colab": {
          "base_uri": "https://localhost:8080/"
        },
        "id": "rXM5LA7J7-2T",
        "outputId": "1ef0c529-50f4-4bf8-a0fd-ee4ee9f9738a"
      },
      "source": [
        "next(it)"
      ],
      "execution_count": null,
      "outputs": [
        {
          "output_type": "execute_result",
          "data": {
            "text/plain": [
              "6"
            ]
          },
          "metadata": {
            "tags": []
          },
          "execution_count": 12
        }
      ]
    },
    {
      "cell_type": "code",
      "metadata": {
        "id": "EuQkuK496fOE"
      },
      "source": [
        "for x in l:\n",
        "    "
      ],
      "execution_count": null,
      "outputs": []
    },
    {
      "cell_type": "code",
      "metadata": {
        "id": "A2dThmhp6fLd"
      },
      "source": [
        "it = iter([1,2,3,4,5,6,7,8])"
      ],
      "execution_count": null,
      "outputs": []
    },
    {
      "cell_type": "code",
      "metadata": {
        "colab": {
          "base_uri": "https://localhost:8080/"
        },
        "id": "BtJGwCKC5QOH",
        "outputId": "d8fb5674-0786-4d1a-b982-92971af8f50b"
      },
      "source": [
        "4 in it"
      ],
      "execution_count": null,
      "outputs": [
        {
          "output_type": "execute_result",
          "data": {
            "text/plain": [
              "True"
            ]
          },
          "metadata": {
            "tags": []
          },
          "execution_count": 97
        }
      ]
    },
    {
      "cell_type": "code",
      "metadata": {
        "colab": {
          "base_uri": "https://localhost:8080/"
        },
        "id": "rbG3UWry7fZo",
        "outputId": "f2e112a9-ca88-466c-b689-61d246ad2e97"
      },
      "source": [
        "next(it)"
      ],
      "execution_count": null,
      "outputs": [
        {
          "output_type": "execute_result",
          "data": {
            "text/plain": [
              "5"
            ]
          },
          "metadata": {
            "tags": []
          },
          "execution_count": 98
        }
      ]
    },
    {
      "cell_type": "code",
      "metadata": {
        "id": "AB4DHeRM7m_O"
      },
      "source": [
        "it = iter(nums)"
      ],
      "execution_count": null,
      "outputs": []
    },
    {
      "cell_type": "code",
      "metadata": {
        "id": "DpRwC7ss8N1l"
      },
      "source": [
        "def generate_num(n):\n",
        "    for i in range(n):\n",
        "        yield i"
      ],
      "execution_count": null,
      "outputs": []
    },
    {
      "cell_type": "code",
      "metadata": {
        "id": "eBQLXPo08095"
      },
      "source": [
        "gen_num = generate_num(100)"
      ],
      "execution_count": null,
      "outputs": []
    },
    {
      "cell_type": "code",
      "metadata": {
        "colab": {
          "base_uri": "https://localhost:8080/"
        },
        "id": "EBzRqYXn83JG",
        "outputId": "634d6fba-8cda-4be1-8080-8633219f3211"
      },
      "source": [
        "next(gen_num)"
      ],
      "execution_count": null,
      "outputs": [
        {
          "output_type": "execute_result",
          "data": {
            "text/plain": [
              "0"
            ]
          },
          "metadata": {
            "tags": []
          },
          "execution_count": 16
        }
      ]
    },
    {
      "cell_type": "code",
      "metadata": {
        "colab": {
          "base_uri": "https://localhost:8080/"
        },
        "id": "_F-aR3_4898D",
        "outputId": "89e1cb7c-f45f-4591-afed-0bda210f3da9"
      },
      "source": [
        "next(gen_num)"
      ],
      "execution_count": null,
      "outputs": [
        {
          "output_type": "execute_result",
          "data": {
            "text/plain": [
              "1"
            ]
          },
          "metadata": {
            "tags": []
          },
          "execution_count": 17
        }
      ]
    },
    {
      "cell_type": "code",
      "metadata": {
        "id": "-RCRt9YA9irG"
      },
      "source": [
        "# Variadic Args, Variadic KW"
      ],
      "execution_count": null,
      "outputs": []
    },
    {
      "cell_type": "code",
      "metadata": {
        "id": "xl89cqmR9ioF"
      },
      "source": [
        "def calculate_sum(*args, **kwargs):\n",
        "    print(args)\n",
        "    print(kwargs)\n",
        "    return sum(nums)"
      ],
      "execution_count": null,
      "outputs": []
    },
    {
      "cell_type": "code",
      "metadata": {
        "colab": {
          "base_uri": "https://localhost:8080/"
        },
        "id": "DgFpdeBq9ig6",
        "outputId": "e2f7311d-74c4-48b7-c3d6-7988a9110116"
      },
      "source": [
        "calculate_sum(1,2,3, a=5, b=8)"
      ],
      "execution_count": null,
      "outputs": [
        {
          "output_type": "stream",
          "text": [
            "(1, 2, 3)\n",
            "{'a': 5, 'b': 8}\n"
          ],
          "name": "stdout"
        },
        {
          "output_type": "execute_result",
          "data": {
            "text/plain": [
              "21"
            ]
          },
          "metadata": {
            "tags": []
          },
          "execution_count": 115
        }
      ]
    },
    {
      "cell_type": "code",
      "metadata": {
        "colab": {
          "base_uri": "https://localhost:8080/"
        },
        "id": "ZCVCEdoF9ida",
        "outputId": "1f16f469-7a10-4b83-cc65-26d7eb04c432"
      },
      "source": [
        "calculate_sum(1,2,3,4,5,6)"
      ],
      "execution_count": null,
      "outputs": [
        {
          "output_type": "stream",
          "text": [
            "(1, 2, 3, 4, 5, 6)\n"
          ],
          "name": "stdout"
        },
        {
          "output_type": "execute_result",
          "data": {
            "text/plain": [
              "21"
            ]
          },
          "metadata": {
            "tags": []
          },
          "execution_count": 113
        }
      ]
    },
    {
      "cell_type": "code",
      "metadata": {
        "id": "60QveeoX9iat"
      },
      "source": [
        ""
      ],
      "execution_count": null,
      "outputs": []
    },
    {
      "cell_type": "markdown",
      "metadata": {
        "id": "_l1FOr6O9S2k"
      },
      "source": [
        "# Decorator"
      ]
    },
    {
      "cell_type": "code",
      "metadata": {
        "id": "WkDR_0po8_8T"
      },
      "source": [
        "def print_twice(func, *args, **kwargs):\n",
        "    func(*args, **kwargs)\n",
        "    func(*args, **kwargs)"
      ],
      "execution_count": null,
      "outputs": []
    },
    {
      "cell_type": "code",
      "metadata": {
        "colab": {
          "base_uri": "https://localhost:8080/"
        },
        "id": "93XdRTXm-wqK",
        "outputId": "ea3b0a7d-db53-4aa3-fc79-dc35bf16329e"
      },
      "source": [
        "print_twice(print, 1,2,3, sep='_')"
      ],
      "execution_count": null,
      "outputs": [
        {
          "output_type": "stream",
          "text": [
            "1_2_3\n",
            "1_2_3\n"
          ],
          "name": "stdout"
        }
      ]
    },
    {
      "cell_type": "code",
      "metadata": {
        "colab": {
          "base_uri": "https://localhost:8080/"
        },
        "id": "u6M3KzU5-1c2",
        "outputId": "67ade252-d66b-4663-e72d-15731f0b0c60"
      },
      "source": [
        "print(1,2,3, sep='_')"
      ],
      "execution_count": null,
      "outputs": [
        {
          "output_type": "stream",
          "text": [
            "1_2_3\n"
          ],
          "name": "stdout"
        }
      ]
    },
    {
      "cell_type": "code",
      "metadata": {
        "id": "jhUYDuYC_Nj-"
      },
      "source": [
        "def calc(num):\n",
        "    def do_calc(x):\n",
        "        return x**num\n",
        "    return do_calc"
      ],
      "execution_count": null,
      "outputs": []
    },
    {
      "cell_type": "code",
      "metadata": {
        "id": "aW7EYPDM_lAy"
      },
      "source": [
        "sq = calc(2)\n",
        "cub = calc(3)"
      ],
      "execution_count": null,
      "outputs": []
    },
    {
      "cell_type": "code",
      "metadata": {
        "colab": {
          "base_uri": "https://localhost:8080/"
        },
        "id": "-364Gbft_yqk",
        "outputId": "d5327051-cb0c-4b4c-ff93-c54605d6cafa"
      },
      "source": [
        "sq(4), cub(3)"
      ],
      "execution_count": null,
      "outputs": [
        {
          "output_type": "execute_result",
          "data": {
            "text/plain": [
              "(16, 27)"
            ]
          },
          "metadata": {
            "tags": []
          },
          "execution_count": 133
        }
      ]
    },
    {
      "cell_type": "code",
      "metadata": {
        "id": "IKE_rqPl_3Dz"
      },
      "source": [
        ""
      ],
      "execution_count": null,
      "outputs": []
    },
    {
      "cell_type": "markdown",
      "metadata": {
        "id": "KMSUEZDkEHBC"
      },
      "source": [
        "# Object Oriented Programming"
      ]
    },
    {
      "cell_type": "code",
      "metadata": {
        "colab": {
          "base_uri": "https://localhost:8080/"
        },
        "id": "wntA3jCcEJkh",
        "outputId": "345e29e2-13ff-41d1-96e5-0fd23d992769"
      },
      "source": [
        "type(str)"
      ],
      "execution_count": null,
      "outputs": [
        {
          "output_type": "execute_result",
          "data": {
            "text/plain": [
              "type"
            ]
          },
          "metadata": {
            "tags": []
          },
          "execution_count": 18
        }
      ]
    },
    {
      "cell_type": "code",
      "metadata": {
        "colab": {
          "base_uri": "https://localhost:8080/"
        },
        "id": "YG7SZnrMEmb5",
        "outputId": "ed768897-330c-4b06-f4f0-c138e093b798"
      },
      "source": [
        "Exception.mro()"
      ],
      "execution_count": null,
      "outputs": [
        {
          "output_type": "execute_result",
          "data": {
            "text/plain": [
              "[Exception, BaseException, object]"
            ]
          },
          "metadata": {
            "tags": []
          },
          "execution_count": 20
        }
      ]
    },
    {
      "cell_type": "code",
      "metadata": {
        "id": "1fgojkRsEqNL"
      },
      "source": [
        ""
      ],
      "execution_count": null,
      "outputs": []
    }
  ]
}