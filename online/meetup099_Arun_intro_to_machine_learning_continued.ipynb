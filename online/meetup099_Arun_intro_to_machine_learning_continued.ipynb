{
  "nbformat": 4,
  "nbformat_minor": 0,
  "metadata": {
    "colab": {
      "name": "OOP.ipynb",
      "provenance": [],
      "collapsed_sections": []
    },
    "kernelspec": {
      "name": "python3",
      "display_name": "Python 3"
    }
  },
  "cells": [
    {
      "cell_type": "code",
      "metadata": {
        "id": "7aPv_X2lvXIU"
      },
      "source": [
        "def print_twice(f, *args, **kwargs):\n",
        "    f(*args, **kwargs)\n",
        "    f(*args, **kwargs)\n",
        "\n"
      ],
      "execution_count": null,
      "outputs": []
    },
    {
      "cell_type": "code",
      "metadata": {
        "colab": {
          "base_uri": "https://localhost:8080/"
        },
        "id": "Vf_MCX64-JiU",
        "outputId": "f3e7cc17-2b92-4c9b-dbc2-afafaa26274f"
      },
      "source": [
        "print('arun','prakash', sep='_')"
      ],
      "execution_count": null,
      "outputs": [
        {
          "output_type": "stream",
          "text": [
            "arun_prakash\n"
          ],
          "name": "stdout"
        }
      ]
    },
    {
      "cell_type": "code",
      "metadata": {
        "colab": {
          "base_uri": "https://localhost:8080/"
        },
        "id": "5G_2D8m4-VDU",
        "outputId": "73004a17-8bea-4b80-e711-ad57ff34b769"
      },
      "source": [
        "print_twice(print, 'arun','prakash', sep='_')"
      ],
      "execution_count": null,
      "outputs": [
        {
          "output_type": "stream",
          "text": [
            "arun_prakash\n",
            "arun_prakash\n"
          ],
          "name": "stdout"
        }
      ]
    },
    {
      "cell_type": "code",
      "metadata": {
        "id": "okXuDnmh-cRd"
      },
      "source": [
        "def make_power(n):\n",
        "    def power(m):\n",
        "        return m**n\n",
        "    return power"
      ],
      "execution_count": null,
      "outputs": []
    },
    {
      "cell_type": "code",
      "metadata": {
        "id": "zcok8PYb_BXL"
      },
      "source": [
        "sq = make_power(2)"
      ],
      "execution_count": null,
      "outputs": []
    },
    {
      "cell_type": "code",
      "metadata": {
        "colab": {
          "base_uri": "https://localhost:8080/"
        },
        "id": "-Sx59cu7_D8E",
        "outputId": "7c19d2de-ab70-4f8b-99bd-b34369e1fe83"
      },
      "source": [
        "sq(8)"
      ],
      "execution_count": null,
      "outputs": [
        {
          "output_type": "execute_result",
          "data": {
            "text/plain": [
              "64"
            ]
          },
          "metadata": {
            "tags": []
          },
          "execution_count": 6
        }
      ]
    },
    {
      "cell_type": "code",
      "metadata": {
        "id": "cU3r9MZt_FAS"
      },
      "source": [
        "cubic = make_power(3)"
      ],
      "execution_count": null,
      "outputs": []
    },
    {
      "cell_type": "code",
      "metadata": {
        "colab": {
          "base_uri": "https://localhost:8080/"
        },
        "id": "WXvOmcXk_Hxc",
        "outputId": "936fcb40-01b8-439f-9d5a-8dd508015cfc"
      },
      "source": [
        "cubic(8)"
      ],
      "execution_count": null,
      "outputs": [
        {
          "output_type": "execute_result",
          "data": {
            "text/plain": [
              "512"
            ]
          },
          "metadata": {
            "tags": []
          },
          "execution_count": 8
        }
      ]
    },
    {
      "cell_type": "code",
      "metadata": {
        "id": "2WcPeXhP_Iqa"
      },
      "source": [
        "import time"
      ],
      "execution_count": null,
      "outputs": []
    },
    {
      "cell_type": "code",
      "metadata": {
        "colab": {
          "base_uri": "https://localhost:8080/"
        },
        "id": "xT6E76Dy_ygl",
        "outputId": "28380bea-8851-4a47-df22-e8971aa3075d"
      },
      "source": [
        "st_time = time.time()\n",
        "##\n",
        "##\n",
        "##\n",
        "#....\n",
        "end_time = time.time()\n",
        "total_time = end_time - st_time"
      ],
      "execution_count": null,
      "outputs": [
        {
          "output_type": "execute_result",
          "data": {
            "text/plain": [
              "1615276751.6357572"
            ]
          },
          "metadata": {
            "tags": []
          },
          "execution_count": 14
        }
      ]
    },
    {
      "cell_type": "code",
      "metadata": {
        "id": "DIPHiMYj_zoe"
      },
      "source": [
        "def create_list(rng, start_val=0):\n",
        "    \"\"\" Append elem to list\"\"\"\n",
        "    l = []\n",
        "    l.append(start_val)\n",
        "    for i in range(rng):\n",
        "        l.append(i)\n",
        "    return l"
      ],
      "execution_count": null,
      "outputs": []
    },
    {
      "cell_type": "code",
      "metadata": {
        "colab": {
          "base_uri": "https://localhost:8080/"
        },
        "id": "DcD7Afz-AQ91",
        "outputId": "ff94c637-6c98-4e9e-cb61-eff138c20f87"
      },
      "source": [
        "create_list(10, start_val=100)"
      ],
      "execution_count": null,
      "outputs": [
        {
          "output_type": "execute_result",
          "data": {
            "text/plain": [
              "[100, 0, 1, 2, 3, 4, 5, 6, 7, 8, 9]"
            ]
          },
          "metadata": {
            "tags": []
          },
          "execution_count": 18
        }
      ]
    },
    {
      "cell_type": "code",
      "metadata": {
        "colab": {
          "base_uri": "https://localhost:8080/"
        },
        "id": "xgWWRS-kAYj2",
        "outputId": "cd06831e-7258-405f-b807-b035698c0210"
      },
      "source": [
        "st_time = time.time()\n",
        "create_list(100000000)\n",
        "end_time = time.time()\n",
        "print('Total time take:', end_time-st_time)"
      ],
      "execution_count": null,
      "outputs": [
        {
          "output_type": "stream",
          "text": [
            "Total time take: 13.103161096572876\n"
          ],
          "name": "stdout"
        }
      ]
    },
    {
      "cell_type": "code",
      "metadata": {
        "id": "x5xeRAtzApAE"
      },
      "source": [
        "def time_it(func):\n",
        "    @functools.wraps(func)\n",
        "    def wrapper(*args, **kwargs):\n",
        "        st_time = time.time()\n",
        "        op = func(*args,**kwargs)\n",
        "        end_time = time.time()\n",
        "        print('Total time take:', end_time-st_time)\n",
        "        return op\n",
        "    return wrapper"
      ],
      "execution_count": null,
      "outputs": []
    },
    {
      "cell_type": "code",
      "metadata": {
        "id": "mNQCIlFcBaD-"
      },
      "source": [
        "create_list = time_it(create_list)"
      ],
      "execution_count": null,
      "outputs": []
    },
    {
      "cell_type": "code",
      "metadata": {
        "colab": {
          "base_uri": "https://localhost:8080/"
        },
        "id": "NScfv_zWBlGH",
        "outputId": "3e3da80c-75bc-46e8-df41-f2b4725b2523"
      },
      "source": [
        "create_list(10, start_val=100)"
      ],
      "execution_count": null,
      "outputs": [
        {
          "output_type": "stream",
          "text": [
            "Total time take: 3.814697265625e-06\n"
          ],
          "name": "stdout"
        },
        {
          "output_type": "execute_result",
          "data": {
            "text/plain": [
              "[100, 0, 1, 2, 3, 4, 5, 6, 7, 8, 9]"
            ]
          },
          "metadata": {
            "tags": []
          },
          "execution_count": 26
        }
      ]
    },
    {
      "cell_type": "code",
      "metadata": {
        "id": "eidwqzZ5CgI3"
      },
      "source": [
        "import functools"
      ],
      "execution_count": null,
      "outputs": []
    },
    {
      "cell_type": "markdown",
      "metadata": {
        "id": "8ukKfmh9Cfrq"
      },
      "source": [
        ""
      ]
    },
    {
      "cell_type": "code",
      "metadata": {
        "id": "4-7lF7nNBn4i"
      },
      "source": [
        "@time_it\n",
        "def create_list(rng, start_val=0):\n",
        "    \"\"\"Append elem to a list\"\"\"\n",
        "    l = []\n",
        "    l.append(start_val)\n",
        "    for i in range(rng):\n",
        "        l.append(i)\n",
        "    return l"
      ],
      "execution_count": null,
      "outputs": []
    },
    {
      "cell_type": "code",
      "metadata": {
        "id": "n2_pgKsOCZj5"
      },
      "source": [
        "create_list??"
      ],
      "execution_count": null,
      "outputs": []
    },
    {
      "cell_type": "code",
      "metadata": {
        "id": "TdgPWobECZct"
      },
      "source": [
        ""
      ],
      "execution_count": null,
      "outputs": []
    },
    {
      "cell_type": "code",
      "metadata": {
        "colab": {
          "base_uri": "https://localhost:8080/"
        },
        "id": "Yh14VXYxBvc9",
        "outputId": "7d809b22-bc39-4ecb-8301-4f41ae8a024e"
      },
      "source": [
        "op = create_list(100000, start_val=10)"
      ],
      "execution_count": null,
      "outputs": [
        {
          "output_type": "stream",
          "text": [
            "Total time take: 0.017592430114746094\n"
          ],
          "name": "stdout"
        }
      ]
    },
    {
      "cell_type": "code",
      "metadata": {
        "id": "E8Z7kOKjB0GX"
      },
      "source": [
        "@time_it\n",
        "def check(a,b,c):\n",
        "    return a+b+c"
      ],
      "execution_count": null,
      "outputs": []
    },
    {
      "cell_type": "code",
      "metadata": {
        "colab": {
          "base_uri": "https://localhost:8080/"
        },
        "id": "aId_XjA1CAUm",
        "outputId": "25298b40-4c4a-43fb-c407-0980a2d53908"
      },
      "source": [
        "check(5,10,15)"
      ],
      "execution_count": null,
      "outputs": [
        {
          "output_type": "stream",
          "text": [
            "Total time take: 1.9073486328125e-06\n"
          ],
          "name": "stdout"
        },
        {
          "output_type": "execute_result",
          "data": {
            "text/plain": [
              "30"
            ]
          },
          "metadata": {
            "tags": []
          },
          "execution_count": 33
        }
      ]
    },
    {
      "cell_type": "code",
      "metadata": {
        "colab": {
          "base_uri": "https://localhost:8080/"
        },
        "id": "tRPHCxU7CEoD",
        "outputId": "53b3d472-3cb7-4a09-8f82-5d6438ca00c9"
      },
      "source": [
        "Exception.mro()"
      ],
      "execution_count": null,
      "outputs": [
        {
          "output_type": "execute_result",
          "data": {
            "text/plain": [
              "[Exception, BaseException, object]"
            ]
          },
          "metadata": {
            "tags": []
          },
          "execution_count": 41
        }
      ]
    },
    {
      "cell_type": "code",
      "metadata": {
        "colab": {
          "base_uri": "https://localhost:8080/"
        },
        "id": "I1jSW2FqE0zH",
        "outputId": "a4013add-519c-44c1-c922-b23305423199"
      },
      "source": [
        "str.mro()"
      ],
      "execution_count": null,
      "outputs": [
        {
          "output_type": "execute_result",
          "data": {
            "text/plain": [
              "[str, object]"
            ]
          },
          "metadata": {
            "tags": []
          },
          "execution_count": 42
        }
      ]
    },
    {
      "cell_type": "code",
      "metadata": {
        "colab": {
          "base_uri": "https://localhost:8080/"
        },
        "id": "xeRENgEPE47c",
        "outputId": "c6c131db-adbf-4db4-df3a-3e3107da0b4a"
      },
      "source": [
        "tuple.mro()"
      ],
      "execution_count": null,
      "outputs": [
        {
          "output_type": "execute_result",
          "data": {
            "text/plain": [
              "[tuple, object]"
            ]
          },
          "metadata": {
            "tags": []
          },
          "execution_count": 43
        }
      ]
    },
    {
      "cell_type": "code",
      "metadata": {
        "id": "bS_V2K_jE7o8"
      },
      "source": [
        "class Employee:\n",
        "    def __init__(self, name):\n",
        "        self.name = name\n",
        "\n",
        "    def greet(self):\n",
        "        print(f'Hello {self.name}')"
      ],
      "execution_count": null,
      "outputs": []
    },
    {
      "cell_type": "code",
      "metadata": {
        "id": "Yh554VgpF3CP"
      },
      "source": [
        "emp = Employee('arun')"
      ],
      "execution_count": null,
      "outputs": []
    },
    {
      "cell_type": "code",
      "metadata": {
        "colab": {
          "base_uri": "https://localhost:8080/"
        },
        "id": "5pStR6TeF44X",
        "outputId": "b73c555f-2b82-4b7b-d6e8-a06ddaba201f"
      },
      "source": [
        "emp.greet()"
      ],
      "execution_count": null,
      "outputs": [
        {
          "output_type": "stream",
          "text": [
            "Hello arun\n"
          ],
          "name": "stdout"
        }
      ]
    },
    {
      "cell_type": "code",
      "metadata": {
        "colab": {
          "base_uri": "https://localhost:8080/"
        },
        "id": "Ybj1e44uF6TQ",
        "outputId": "9d8d4a2f-7f63-4601-f0ae-00e461c305e2"
      },
      "source": [
        "Employee.greet(emp)"
      ],
      "execution_count": null,
      "outputs": [
        {
          "output_type": "stream",
          "text": [
            "Hello arun\n"
          ],
          "name": "stdout"
        }
      ]
    },
    {
      "cell_type": "code",
      "metadata": {
        "colab": {
          "base_uri": "https://localhost:8080/"
        },
        "id": "IzqePnBkG6IT",
        "outputId": "4f8445cc-02f5-454f-e080-2f5acb1a37b1"
      },
      "source": [
        "Employee.__dict__"
      ],
      "execution_count": null,
      "outputs": [
        {
          "output_type": "execute_result",
          "data": {
            "text/plain": [
              "mappingproxy({'__dict__': <attribute '__dict__' of 'Employee' objects>,\n",
              "              '__doc__': None,\n",
              "              '__init__': <function __main__.Employee.__init__>,\n",
              "              '__module__': '__main__',\n",
              "              '__weakref__': <attribute '__weakref__' of 'Employee' objects>,\n",
              "              'greet': <function __main__.Employee.greet>})"
            ]
          },
          "metadata": {
            "tags": []
          },
          "execution_count": 70
        }
      ]
    },
    {
      "cell_type": "code",
      "metadata": {
        "colab": {
          "base_uri": "https://localhost:8080/"
        },
        "id": "f8lLt8E4G6Ge",
        "outputId": "c234fc13-b855-4923-ad2a-6aa2bad13ec8"
      },
      "source": [
        "emp.__dict__"
      ],
      "execution_count": null,
      "outputs": [
        {
          "output_type": "execute_result",
          "data": {
            "text/plain": [
              "{'name': 'arun'}"
            ]
          },
          "metadata": {
            "tags": []
          },
          "execution_count": 71
        }
      ]
    },
    {
      "cell_type": "code",
      "metadata": {
        "colab": {
          "base_uri": "https://localhost:8080/"
        },
        "id": "jp5uSepHG6Db",
        "outputId": "671b4aa9-762e-41dd-d53d-6b5b0c478a1c"
      },
      "source": [
        "type(emp)"
      ],
      "execution_count": null,
      "outputs": [
        {
          "output_type": "execute_result",
          "data": {
            "text/plain": [
              "__main__.Employee"
            ]
          },
          "metadata": {
            "tags": []
          },
          "execution_count": 72
        }
      ]
    },
    {
      "cell_type": "code",
      "metadata": {
        "colab": {
          "base_uri": "https://localhost:8080/"
        },
        "id": "m6bh4U_aG6BU",
        "outputId": "cdf65f55-15ed-40e8-da40-45e7b3bc9a78"
      },
      "source": [
        ""
      ],
      "execution_count": null,
      "outputs": [
        {
          "output_type": "execute_result",
          "data": {
            "text/plain": [
              "False"
            ]
          },
          "metadata": {
            "tags": []
          },
          "execution_count": 74
        }
      ]
    },
    {
      "cell_type": "code",
      "metadata": {
        "colab": {
          "base_uri": "https://localhost:8080/"
        },
        "id": "wCWouAx_G6AK",
        "outputId": "4e35c0bb-f248-41b2-ffff-081cc528cf84"
      },
      "source": [
        "type(emp) is Employee"
      ],
      "execution_count": null,
      "outputs": [
        {
          "output_type": "execute_result",
          "data": {
            "text/plain": [
              "True"
            ]
          },
          "metadata": {
            "tags": []
          },
          "execution_count": 77
        }
      ]
    },
    {
      "cell_type": "code",
      "metadata": {
        "colab": {
          "base_uri": "https://localhost:8080/"
        },
        "id": "oPioBxlYG576",
        "outputId": "dec444e9-db51-49e2-8f46-87b8cc0208e0"
      },
      "source": [
        "id(emp)"
      ],
      "execution_count": null,
      "outputs": [
        {
          "output_type": "execute_result",
          "data": {
            "text/plain": [
              "140022175454544"
            ]
          },
          "metadata": {
            "tags": []
          },
          "execution_count": 78
        }
      ]
    },
    {
      "cell_type": "code",
      "metadata": {
        "colab": {
          "base_uri": "https://localhost:8080/"
        },
        "id": "xZgHg_eFG56A",
        "outputId": "8bcea247-6c7b-489e-a17a-40fed9e6fef2"
      },
      "source": [
        "Employee.greet"
      ],
      "execution_count": null,
      "outputs": [
        {
          "output_type": "execute_result",
          "data": {
            "text/plain": [
              "<function __main__.Employee.greet>"
            ]
          },
          "metadata": {
            "tags": []
          },
          "execution_count": 79
        }
      ]
    },
    {
      "cell_type": "code",
      "metadata": {
        "colab": {
          "base_uri": "https://localhost:8080/"
        },
        "id": "ahiAqud9G53x",
        "outputId": "b13ed9f2-3629-4982-92b6-824697a7614a"
      },
      "source": [
        "emp.greet"
      ],
      "execution_count": null,
      "outputs": [
        {
          "output_type": "execute_result",
          "data": {
            "text/plain": [
              "<bound method Employee.greet of <__main__.Employee object at 0x7f5974075550>>"
            ]
          },
          "metadata": {
            "tags": []
          },
          "execution_count": 80
        }
      ]
    },
    {
      "cell_type": "code",
      "metadata": {
        "colab": {
          "base_uri": "https://localhost:8080/"
        },
        "id": "iK3GBviqG50_",
        "outputId": "2527d289-4c7c-4ef8-c757-824be606ac34"
      },
      "source": [
        "isinstance(emp, Employee)"
      ],
      "execution_count": null,
      "outputs": [
        {
          "output_type": "execute_result",
          "data": {
            "text/plain": [
              "True"
            ]
          },
          "metadata": {
            "tags": []
          },
          "execution_count": 81
        }
      ]
    },
    {
      "cell_type": "code",
      "metadata": {
        "colab": {
          "base_uri": "https://localhost:8080/"
        },
        "id": "0KxX7X6ZG5zL",
        "outputId": "39bd0881-194d-4982-b145-65b28b9649e1"
      },
      "source": [
        "type(emp) is Employee"
      ],
      "execution_count": null,
      "outputs": [
        {
          "output_type": "execute_result",
          "data": {
            "text/plain": [
              "True"
            ]
          },
          "metadata": {
            "tags": []
          },
          "execution_count": 82
        }
      ]
    },
    {
      "cell_type": "code",
      "metadata": {
        "id": "y1ybrka8G5w7"
      },
      "source": [
        "emp2 = Employee('Prakash')"
      ],
      "execution_count": null,
      "outputs": []
    },
    {
      "cell_type": "code",
      "metadata": {
        "id": "bJRaRIEJG5uu"
      },
      "source": [
        "emp2.greet??"
      ],
      "execution_count": null,
      "outputs": []
    },
    {
      "cell_type": "code",
      "metadata": {
        "id": "Dpjc9IgTG5sL"
      },
      "source": [
        "class Employee:\n",
        "    languages_known = []\n",
        "    def __init__(self, fname, lname):\n",
        "        self.fname = fname\n",
        "        self.lname = lname\n",
        "\n",
        "    def greet(self):\n",
        "        print(f'Hello {self.name}')\n",
        "    \n",
        "    @property\n",
        "    def full_name(self):\n",
        "        return f'{self.fname} {self.lname}'\n",
        "    \n",
        "    def add_languages(self, lang):\n",
        "        self.languages_known.append(lang)"
      ],
      "execution_count": null,
      "outputs": []
    },
    {
      "cell_type": "code",
      "metadata": {
        "id": "e5hWJEKlJPo9"
      },
      "source": [
        "emp = Employee('arun', 'prakash')"
      ],
      "execution_count": null,
      "outputs": []
    },
    {
      "cell_type": "code",
      "metadata": {
        "colab": {
          "base_uri": "https://localhost:8080/"
        },
        "id": "NT-PgG8PJ_tF",
        "outputId": "d2e63dce-f047-495c-f3af-dc2d969f7af2"
      },
      "source": [
        "emp.__dict__"
      ],
      "execution_count": null,
      "outputs": [
        {
          "output_type": "execute_result",
          "data": {
            "text/plain": [
              "{'fname': 'arun', 'lname': 'prakash'}"
            ]
          },
          "metadata": {
            "tags": []
          },
          "execution_count": 106
        }
      ]
    },
    {
      "cell_type": "code",
      "metadata": {
        "id": "HT0lUx_9JPmh"
      },
      "source": [
        "emp.add_languages('python')"
      ],
      "execution_count": null,
      "outputs": []
    },
    {
      "cell_type": "code",
      "metadata": {
        "colab": {
          "base_uri": "https://localhost:8080/"
        },
        "id": "AtyuIuvXJPkr",
        "outputId": "74eadc1c-5e4b-4246-dcae-a43960bd0a58"
      },
      "source": [
        "emp.languages_known"
      ],
      "execution_count": null,
      "outputs": [
        {
          "output_type": "execute_result",
          "data": {
            "text/plain": [
              "['python']"
            ]
          },
          "metadata": {
            "tags": []
          },
          "execution_count": 102
        }
      ]
    },
    {
      "cell_type": "code",
      "metadata": {
        "id": "qp4cZcVyJPho"
      },
      "source": [
        "emp2 = Employee('steve', 'smith')"
      ],
      "execution_count": null,
      "outputs": []
    },
    {
      "cell_type": "code",
      "metadata": {
        "id": "xKwcItFgJPfa"
      },
      "source": [
        "emp2.add_languages('java')"
      ],
      "execution_count": null,
      "outputs": []
    },
    {
      "cell_type": "code",
      "metadata": {
        "colab": {
          "base_uri": "https://localhost:8080/"
        },
        "id": "fNR9HBWlJPdP",
        "outputId": "5dd3185e-4d92-4afd-aa0c-ea8ee561d99d"
      },
      "source": [
        "emp2.languages_known"
      ],
      "execution_count": null,
      "outputs": [
        {
          "output_type": "execute_result",
          "data": {
            "text/plain": [
              "['python', 'java']"
            ]
          },
          "metadata": {
            "tags": []
          },
          "execution_count": 105
        }
      ]
    },
    {
      "cell_type": "code",
      "metadata": {
        "id": "6OI9OV4cJPa8"
      },
      "source": [
        "class Employee:\n",
        "    def __init__(self, fname, lname):\n",
        "        self.fname = fname\n",
        "        self.lname = lname\n",
        "        self.languages_known = []\n",
        "\n",
        "    def greet(self):\n",
        "        print(f'Hello {self.name}')\n",
        "    \n",
        "    @property\n",
        "    def full_name(self):\n",
        "        return f'{self.fname} {self.lname}'\n",
        "    \n",
        "    def add_languages(self, lang):\n",
        "        self.languages_known.append(lang)"
      ],
      "execution_count": null,
      "outputs": []
    },
    {
      "cell_type": "code",
      "metadata": {
        "id": "ANXHedoFJPYJ"
      },
      "source": [
        "emp = Employee('arun', 'prakash')\n",
        "emp.add_languages('python')"
      ],
      "execution_count": null,
      "outputs": []
    },
    {
      "cell_type": "code",
      "metadata": {
        "colab": {
          "base_uri": "https://localhost:8080/"
        },
        "id": "ukBtnqwJKR74",
        "outputId": "24a8a564-f90a-48e2-a85a-b3aaed50c748"
      },
      "source": [
        "emp.languages_known"
      ],
      "execution_count": null,
      "outputs": [
        {
          "output_type": "execute_result",
          "data": {
            "text/plain": [
              "['python']"
            ]
          },
          "metadata": {
            "tags": []
          },
          "execution_count": 109
        }
      ]
    },
    {
      "cell_type": "code",
      "metadata": {
        "id": "3SFEFgTAKR5e"
      },
      "source": [
        "emp2 = Employee('steve', 'smith')\n",
        "emp2.add_languages('java')"
      ],
      "execution_count": null,
      "outputs": []
    },
    {
      "cell_type": "code",
      "metadata": {
        "colab": {
          "base_uri": "https://localhost:8080/"
        },
        "id": "z74YyREAKR4K",
        "outputId": "d05ae4e1-5fbe-414c-9c6d-434b70781a80"
      },
      "source": [
        "emp2.languages_known"
      ],
      "execution_count": null,
      "outputs": [
        {
          "output_type": "execute_result",
          "data": {
            "text/plain": [
              "['java']"
            ]
          },
          "metadata": {
            "tags": []
          },
          "execution_count": 111
        }
      ]
    },
    {
      "cell_type": "code",
      "metadata": {
        "colab": {
          "base_uri": "https://localhost:8080/"
        },
        "id": "qVnDM5mhKR0d",
        "outputId": "7bb217c1-c338-40de-9b47-71b95edc5b65"
      },
      "source": [
        "type(emp) is Employee"
      ],
      "execution_count": null,
      "outputs": [
        {
          "output_type": "execute_result",
          "data": {
            "text/plain": [
              "True"
            ]
          },
          "metadata": {
            "tags": []
          },
          "execution_count": 112
        }
      ]
    },
    {
      "cell_type": "code",
      "metadata": {
        "colab": {
          "base_uri": "https://localhost:8080/"
        },
        "id": "NwXtuOWgKRyM",
        "outputId": "27065d28-4cac-4abb-eef2-c8b19db8c755"
      },
      "source": [
        "isinstance(emp, Employee)"
      ],
      "execution_count": null,
      "outputs": [
        {
          "output_type": "execute_result",
          "data": {
            "text/plain": [
              "True"
            ]
          },
          "metadata": {
            "tags": []
          },
          "execution_count": 113
        }
      ]
    },
    {
      "cell_type": "code",
      "metadata": {
        "id": "TWztcMTJKRvl"
      },
      "source": [
        ""
      ],
      "execution_count": null,
      "outputs": []
    },
    {
      "cell_type": "code",
      "metadata": {
        "id": "aqBIbj0EKRt1"
      },
      "source": [
        ""
      ],
      "execution_count": null,
      "outputs": []
    },
    {
      "cell_type": "code",
      "metadata": {
        "id": "M3zLcgXqKRq0"
      },
      "source": [
        ""
      ],
      "execution_count": null,
      "outputs": []
    },
    {
      "cell_type": "code",
      "metadata": {
        "id": "j1-Kb2wsG5om"
      },
      "source": [
        "emp = Employee('arun', 'prakash')"
      ],
      "execution_count": null,
      "outputs": []
    },
    {
      "cell_type": "code",
      "metadata": {
        "colab": {
          "base_uri": "https://localhost:8080/",
          "height": 35
        },
        "id": "Z9LeBCc_G5m5",
        "outputId": "31b72ca9-cda0-4dd6-f097-4aa49faa6333"
      },
      "source": [
        "emp.fname"
      ],
      "execution_count": null,
      "outputs": [
        {
          "output_type": "execute_result",
          "data": {
            "application/vnd.google.colaboratory.intrinsic+json": {
              "type": "string"
            },
            "text/plain": [
              "'arun'"
            ]
          },
          "metadata": {
            "tags": []
          },
          "execution_count": 94
        }
      ]
    },
    {
      "cell_type": "code",
      "metadata": {
        "colab": {
          "base_uri": "https://localhost:8080/",
          "height": 35
        },
        "id": "BtswJ1oDIrKA",
        "outputId": "772970f6-5efd-4528-94b5-143c64d834c8"
      },
      "source": [
        "emp.lname"
      ],
      "execution_count": null,
      "outputs": [
        {
          "output_type": "execute_result",
          "data": {
            "application/vnd.google.colaboratory.intrinsic+json": {
              "type": "string"
            },
            "text/plain": [
              "'prakash'"
            ]
          },
          "metadata": {
            "tags": []
          },
          "execution_count": 95
        }
      ]
    },
    {
      "cell_type": "code",
      "metadata": {
        "colab": {
          "base_uri": "https://localhost:8080/",
          "height": 162
        },
        "id": "99eU3FsqIrEs",
        "outputId": "21fd7c67-7a9f-49b9-ce37-fb9f7f3a733f"
      },
      "source": [
        "emp.full_name()"
      ],
      "execution_count": null,
      "outputs": [
        {
          "output_type": "error",
          "ename": "TypeError",
          "evalue": "ignored",
          "traceback": [
            "\u001b[0;31m---------------------------------------------------------------------------\u001b[0m",
            "\u001b[0;31mTypeError\u001b[0m                                 Traceback (most recent call last)",
            "\u001b[0;32m<ipython-input-96-4b41352a8ed5>\u001b[0m in \u001b[0;36m<module>\u001b[0;34m()\u001b[0m\n\u001b[0;32m----> 1\u001b[0;31m \u001b[0memp\u001b[0m\u001b[0;34m.\u001b[0m\u001b[0mfull_name\u001b[0m\u001b[0;34m(\u001b[0m\u001b[0;34m)\u001b[0m\u001b[0;34m\u001b[0m\u001b[0;34m\u001b[0m\u001b[0m\n\u001b[0m",
            "\u001b[0;31mTypeError\u001b[0m: 'str' object is not callable"
          ]
        }
      ]
    },
    {
      "cell_type": "code",
      "metadata": {
        "colab": {
          "base_uri": "https://localhost:8080/",
          "height": 35
        },
        "id": "6Y_MJuliIrCx",
        "outputId": "e70e8fab-2e7f-4ed8-a5e3-7a3bd412ac72"
      },
      "source": [
        "emp.full_name"
      ],
      "execution_count": null,
      "outputs": [
        {
          "output_type": "execute_result",
          "data": {
            "application/vnd.google.colaboratory.intrinsic+json": {
              "type": "string"
            },
            "text/plain": [
              "'arun prakash'"
            ]
          },
          "metadata": {
            "tags": []
          },
          "execution_count": 97
        }
      ]
    },
    {
      "cell_type": "code",
      "metadata": {
        "id": "JvcYR8c0IrAB"
      },
      "source": [
        "class Employee:\n",
        "    name = 'arun'"
      ],
      "execution_count": null,
      "outputs": []
    },
    {
      "cell_type": "code",
      "metadata": {
        "colab": {
          "base_uri": "https://localhost:8080/",
          "height": 35
        },
        "id": "oDwE_j8fIq8g",
        "outputId": "ee99a0a0-33b8-43d3-e9cf-0ccf2b4bb172"
      },
      "source": [
        "Employee.name"
      ],
      "execution_count": null,
      "outputs": [
        {
          "output_type": "execute_result",
          "data": {
            "application/vnd.google.colaboratory.intrinsic+json": {
              "type": "string"
            },
            "text/plain": [
              "'arun'"
            ]
          },
          "metadata": {
            "tags": []
          },
          "execution_count": 115
        }
      ]
    },
    {
      "cell_type": "code",
      "metadata": {
        "id": "ju08mLuxG5ju"
      },
      "source": [
        ""
      ],
      "execution_count": null,
      "outputs": []
    },
    {
      "cell_type": "code",
      "metadata": {
        "id": "DfUXrwzRGLN0"
      },
      "source": [
        "def time_it(func):\n",
        "    #@functools.wraps(func)  # to get docstring to work\n",
        "    def wrapper(*args, **kwargs):\n",
        "        start_time = time.time()\n",
        "        op = func(*args, **kwargs)\n",
        "        end_time = time.time()\n",
        "        print(func.__doc__)\n",
        "        print(f\"{func.__name__} time taken {end_time - start_time} seconds\")\n",
        "        return op\n",
        "    return wrapper"
      ],
      "execution_count": null,
      "outputs": []
    },
    {
      "cell_type": "code",
      "metadata": {
        "id": "igKbfo_dGchO"
      },
      "source": [
        "@time_it\n",
        "def create_list(rng, start_val=0):\n",
        "    \"\"\"Append elem to a list\"\"\"\n",
        "    l = []\n",
        "    l.append(start_val)\n",
        "    for i in range(rng):\n",
        "        l.append(i)\n",
        "    return l"
      ],
      "execution_count": null,
      "outputs": []
    },
    {
      "cell_type": "code",
      "metadata": {
        "id": "eQPzAdgVGfMn"
      },
      "source": [
        "#create_list(100)"
      ],
      "execution_count": null,
      "outputs": []
    },
    {
      "cell_type": "code",
      "metadata": {
        "id": "s-2TqBe1Gg7s"
      },
      "source": [
        ""
      ],
      "execution_count": null,
      "outputs": []
    },
    {
      "cell_type": "code",
      "metadata": {
        "id": "gTI4e-77AAsp"
      },
      "source": [
        "class Employee:\n",
        "    def __init__(self,fname, lname, salary):\n",
        "        self.fname = fname\n",
        "        self.lname = lname\n",
        "        self.salary = salary\n",
        "    def fullname(self):\n",
        "        return f'{self.fname} {self.lname}'\n",
        "\n"
      ],
      "execution_count": null,
      "outputs": []
    },
    {
      "cell_type": "code",
      "metadata": {
        "id": "uQWcFPNwAAp8"
      },
      "source": [
        "emp = Employee('arun','prakash',10)"
      ],
      "execution_count": null,
      "outputs": []
    },
    {
      "cell_type": "code",
      "metadata": {
        "colab": {
          "base_uri": "https://localhost:8080/"
        },
        "id": "zQFS2vFFAAjv",
        "outputId": "5a8b65d9-8b6c-417a-9ac1-c924873eb5b0"
      },
      "source": [
        "type(emp)"
      ],
      "execution_count": null,
      "outputs": [
        {
          "output_type": "execute_result",
          "data": {
            "text/plain": [
              "__main__.Employee"
            ]
          },
          "metadata": {
            "tags": []
          },
          "execution_count": 11
        }
      ]
    },
    {
      "cell_type": "code",
      "metadata": {
        "colab": {
          "base_uri": "https://localhost:8080/"
        },
        "id": "lAtIuW2tAAgq",
        "outputId": "77813dab-9ea9-477e-8789-2e80f0a617e0"
      },
      "source": [
        "id(emp)"
      ],
      "execution_count": null,
      "outputs": [
        {
          "output_type": "execute_result",
          "data": {
            "text/plain": [
              "139872916287312"
            ]
          },
          "metadata": {
            "tags": []
          },
          "execution_count": 12
        }
      ]
    },
    {
      "cell_type": "code",
      "metadata": {
        "colab": {
          "base_uri": "https://localhost:8080/",
          "height": 35
        },
        "id": "_1fbHVPCAAeT",
        "outputId": "cd07da93-d338-40d4-f821-b8da044f0f6c"
      },
      "source": [
        "emp.fullname()"
      ],
      "execution_count": null,
      "outputs": [
        {
          "output_type": "execute_result",
          "data": {
            "application/vnd.google.colaboratory.intrinsic+json": {
              "type": "string"
            },
            "text/plain": [
              "'arun prakash'"
            ]
          },
          "metadata": {
            "tags": []
          },
          "execution_count": 14
        }
      ]
    },
    {
      "cell_type": "code",
      "metadata": {
        "colab": {
          "base_uri": "https://localhost:8080/",
          "height": 35
        },
        "id": "LIXVdvCaAAbM",
        "outputId": "2cfc60cd-0d5c-473e-ca4c-551e73f5bb1b"
      },
      "source": [
        "Employee.fullname(emp)"
      ],
      "execution_count": null,
      "outputs": [
        {
          "output_type": "execute_result",
          "data": {
            "application/vnd.google.colaboratory.intrinsic+json": {
              "type": "string"
            },
            "text/plain": [
              "'arun prakash'"
            ]
          },
          "metadata": {
            "tags": []
          },
          "execution_count": 15
        }
      ]
    },
    {
      "cell_type": "markdown",
      "metadata": {
        "id": "QS9dewrrBfaO"
      },
      "source": [
        "# Class Variables"
      ]
    },
    {
      "cell_type": "code",
      "metadata": {
        "id": "orJkJXazAAYH"
      },
      "source": [
        "class Employee:\n",
        "    increment_val = 1.05\n",
        "    n_emp = 0\n",
        "    def __init__(self,fname='Tom', lname='Mitchel', salary=10):\n",
        "        self.fname = fname\n",
        "        self.lname = lname\n",
        "        self.salary = salary\n",
        "        Employee.n_emp += 1\n",
        "    @property\n",
        "    def fullname(self):\n",
        "        return f'{self.fname} {self.lname}'\n",
        "    \n",
        "    def increment(self):\n",
        "        self.salary = self.salary* Employee.increment_val\n",
        "\n"
      ],
      "execution_count": null,
      "outputs": []
    },
    {
      "cell_type": "code",
      "metadata": {
        "id": "ARDGWty9AAVU"
      },
      "source": [
        "emp = Employee()"
      ],
      "execution_count": null,
      "outputs": []
    },
    {
      "cell_type": "code",
      "metadata": {
        "colab": {
          "base_uri": "https://localhost:8080/"
        },
        "id": "SqseHbsiAASm",
        "outputId": "7ce3f0f2-2c40-460a-a0e6-8aad6ad740ef"
      },
      "source": [
        "emp.n_emp"
      ],
      "execution_count": null,
      "outputs": [
        {
          "output_type": "execute_result",
          "data": {
            "text/plain": [
              "1"
            ]
          },
          "metadata": {
            "tags": []
          },
          "execution_count": 35
        }
      ]
    },
    {
      "cell_type": "code",
      "metadata": {
        "id": "sv99Ux9YAAP6"
      },
      "source": [
        "emp = Employee('arun','prak',10)"
      ],
      "execution_count": null,
      "outputs": []
    },
    {
      "cell_type": "code",
      "metadata": {
        "colab": {
          "base_uri": "https://localhost:8080/"
        },
        "id": "2dI0vgvDDLxN",
        "outputId": "f39a6938-0f6e-4ef9-ac2d-dbf9829b3a0d"
      },
      "source": [
        "emp.n_emp"
      ],
      "execution_count": null,
      "outputs": [
        {
          "output_type": "execute_result",
          "data": {
            "text/plain": [
              "2"
            ]
          },
          "metadata": {
            "tags": []
          },
          "execution_count": 37
        }
      ]
    },
    {
      "cell_type": "code",
      "metadata": {
        "colab": {
          "base_uri": "https://localhost:8080/"
        },
        "id": "MCQz2uNeDN_c",
        "outputId": "b62752e1-f84f-470a-d948-5b2804069785"
      },
      "source": [
        "Employee.n_emp"
      ],
      "execution_count": null,
      "outputs": [
        {
          "output_type": "execute_result",
          "data": {
            "text/plain": [
              "2"
            ]
          },
          "metadata": {
            "tags": []
          },
          "execution_count": 38
        }
      ]
    },
    {
      "cell_type": "code",
      "metadata": {
        "id": "aXFkHo-NDXkR"
      },
      "source": [
        "emp.increment()"
      ],
      "execution_count": null,
      "outputs": []
    },
    {
      "cell_type": "code",
      "metadata": {
        "colab": {
          "base_uri": "https://localhost:8080/"
        },
        "id": "-UJFvxmGDXh8",
        "outputId": "747c597d-5257-4a82-ee28-6f1a63e83272"
      },
      "source": [
        "emp.salary"
      ],
      "execution_count": null,
      "outputs": [
        {
          "output_type": "execute_result",
          "data": {
            "text/plain": [
              "11.025"
            ]
          },
          "metadata": {
            "tags": []
          },
          "execution_count": 42
        }
      ]
    },
    {
      "cell_type": "markdown",
      "metadata": {
        "id": "3PV9fAD1D7tQ"
      },
      "source": [
        "@classmethod, @staticmethod"
      ]
    },
    {
      "cell_type": "code",
      "metadata": {
        "id": "ewXZr8olDXfQ"
      },
      "source": [
        "'arun_prakash_10'"
      ],
      "execution_count": null,
      "outputs": []
    },
    {
      "cell_type": "code",
      "metadata": {
        "id": "BySgnOWrDXcJ"
      },
      "source": [
        "class Employee:\n",
        "    increment_val = 1.05\n",
        "    n_emp = 0\n",
        "    def __init__(self,fname='Tom', lname='Mitchel', salary=10):\n",
        "        self.fname = fname\n",
        "        self.lname = lname\n",
        "        self.salary = salary\n",
        "        Employee.n_emp += 1\n",
        "    @property\n",
        "    def fullname(self):\n",
        "        return f'{self.fname} {self.lname}'\n",
        "    \n",
        "    def increment(self):\n",
        "        self.salary = self.salary* Employee.increment_val\n",
        "\n",
        "    @classmethod\n",
        "    def from_string(cls,emp_str):\n",
        "        first, last, salary = emp_str.split('_')\n",
        "        return cls(first, last, salary)\n",
        "\n"
      ],
      "execution_count": null,
      "outputs": []
    },
    {
      "cell_type": "code",
      "metadata": {
        "id": "Ii8LZuMoDXZZ"
      },
      "source": [
        "emp = Employee('arun','prakash',10)"
      ],
      "execution_count": null,
      "outputs": []
    },
    {
      "cell_type": "code",
      "metadata": {
        "colab": {
          "base_uri": "https://localhost:8080/"
        },
        "id": "NpECUNuTDXUr",
        "outputId": "c5579844-bef6-4aa9-e54b-ad92f55d18a4"
      },
      "source": [
        "type(emp)"
      ],
      "execution_count": null,
      "outputs": [
        {
          "output_type": "execute_result",
          "data": {
            "text/plain": [
              "__main__.Employee"
            ]
          },
          "metadata": {
            "tags": []
          },
          "execution_count": 45
        }
      ]
    },
    {
      "cell_type": "code",
      "metadata": {
        "id": "R4zRPljsDXR6"
      },
      "source": [
        "emp2 = Employee.from_string('arun_prakash_20')"
      ],
      "execution_count": null,
      "outputs": []
    },
    {
      "cell_type": "code",
      "metadata": {
        "colab": {
          "base_uri": "https://localhost:8080/"
        },
        "id": "_Kz-iKS1DXNE",
        "outputId": "29b88453-06cd-48b0-c857-1c4cf32e5fc7"
      },
      "source": [
        "type(emp2)"
      ],
      "execution_count": null,
      "outputs": [
        {
          "output_type": "execute_result",
          "data": {
            "text/plain": [
              "__main__.Employee"
            ]
          },
          "metadata": {
            "tags": []
          },
          "execution_count": 47
        }
      ]
    },
    {
      "cell_type": "code",
      "metadata": {
        "colab": {
          "base_uri": "https://localhost:8080/",
          "height": 35
        },
        "id": "_lbiuxgZDXLL",
        "outputId": "6d1d4374-571b-4d27-fdca-69383dbabf61"
      },
      "source": [
        "str('arun')"
      ],
      "execution_count": null,
      "outputs": [
        {
          "output_type": "execute_result",
          "data": {
            "application/vnd.google.colaboratory.intrinsic+json": {
              "type": "string"
            },
            "text/plain": [
              "'arun'"
            ]
          },
          "metadata": {
            "tags": []
          },
          "execution_count": 48
        }
      ]
    },
    {
      "cell_type": "code",
      "metadata": {
        "colab": {
          "base_uri": "https://localhost:8080/"
        },
        "id": "uxMflyg7DXIu",
        "outputId": "c0a86046-9262-4a12-d7de-5bb8e4df69ca"
      },
      "source": [
        "type(str)"
      ],
      "execution_count": null,
      "outputs": [
        {
          "output_type": "execute_result",
          "data": {
            "text/plain": [
              "type"
            ]
          },
          "metadata": {
            "tags": []
          },
          "execution_count": 49
        }
      ]
    },
    {
      "cell_type": "code",
      "metadata": {
        "id": "qmVMrcI9DXGn"
      },
      "source": [
        "str??"
      ],
      "execution_count": null,
      "outputs": []
    },
    {
      "cell_type": "code",
      "metadata": {
        "colab": {
          "base_uri": "https://localhost:8080/"
        },
        "id": "ScbjwTm4DXEH",
        "outputId": "c84928b3-cccd-4a72-aebc-f3f2484e1275"
      },
      "source": [
        "a = str('arun')\n",
        "print(a)"
      ],
      "execution_count": null,
      "outputs": [
        {
          "output_type": "stream",
          "text": [
            "arun\n"
          ],
          "name": "stdout"
        }
      ]
    },
    {
      "cell_type": "code",
      "metadata": {
        "colab": {
          "base_uri": "https://localhost:8080/"
        },
        "id": "C4kgL7MKFlaA",
        "outputId": "9e8f08b8-75e3-4453-eb0e-3621f8357255"
      },
      "source": [
        "len(a)"
      ],
      "execution_count": null,
      "outputs": [
        {
          "output_type": "execute_result",
          "data": {
            "text/plain": [
              "4"
            ]
          },
          "metadata": {
            "tags": []
          },
          "execution_count": 57
        }
      ]
    },
    {
      "cell_type": "code",
      "metadata": {
        "colab": {
          "base_uri": "https://localhost:8080/"
        },
        "id": "eZLpN7ZODXBd",
        "outputId": "88c6807c-cbfa-4eaa-bb0e-244dc655ddda"
      },
      "source": [
        "print(emp)"
      ],
      "execution_count": null,
      "outputs": [
        {
          "output_type": "stream",
          "text": [
            "<__main__.Employee object at 0x7f36b36fd150>\n"
          ],
          "name": "stdout"
        }
      ]
    },
    {
      "cell_type": "code",
      "metadata": {
        "id": "cg1jmGtGDW_B"
      },
      "source": [
        "class Employee:\n",
        "    increment_val = 1.05\n",
        "    n_emp = 0\n",
        "    def __init__(self,fname='Tom', lname='Mitchel', salary=10):\n",
        "        self.fname = fname\n",
        "        self.lname = lname\n",
        "        self.salary = salary\n",
        "        Employee.n_emp += 1\n",
        "    @property\n",
        "    def fullname(self):\n",
        "        return f'{self.fname} {self.lname}'\n",
        "    \n",
        "    def increment(self):\n",
        "        self.salary = self.salary* Employee.increment_val\n",
        "\n",
        "    @classmethod\n",
        "    def from_string(cls,emp_str):\n",
        "        first, last, salary = emp_str.split('_')\n",
        "        return cls(first, last, salary)\n",
        "    \n",
        "    @staticmethod\n",
        "    def annual_salary(hourly_rate):\n",
        "        return hourly_rate * 40*52\n",
        "\n",
        "    def __str__(self):\n",
        "        return f'Employee: {self.fname} {self.lname}'\n",
        "    \n",
        "    def __repr__(self):\n",
        "        return f'Employee({self.fname}, {self.lname}, {self.salary})'\n",
        "    \n",
        "    def __len__(self):\n",
        "        return len(self.fname) + len(self.lname)\n",
        "    \n",
        "    def __add__(self, sal):\n",
        "        self.salary = int(self.salary) + sal\n",
        "    \n",
        "\n"
      ],
      "execution_count": null,
      "outputs": []
    },
    {
      "cell_type": "code",
      "metadata": {
        "id": "tMZXTv1rDV0a"
      },
      "source": [
        "emp2 = Employee.from_string('arun_prakash_20')"
      ],
      "execution_count": null,
      "outputs": []
    },
    {
      "cell_type": "code",
      "metadata": {
        "colab": {
          "base_uri": "https://localhost:8080/"
        },
        "id": "FKaXidjdFYl_",
        "outputId": "2ee6d067-3687-4866-f4a9-2675456c3321"
      },
      "source": [
        "emp2"
      ],
      "execution_count": null,
      "outputs": [
        {
          "output_type": "execute_result",
          "data": {
            "text/plain": [
              "Employee(arun, prakash, 20)"
            ]
          },
          "metadata": {
            "tags": []
          },
          "execution_count": 94
        }
      ]
    },
    {
      "cell_type": "code",
      "metadata": {
        "colab": {
          "base_uri": "https://localhost:8080/"
        },
        "id": "X_k07kd7FZLa",
        "outputId": "91994762-2b44-43e6-ea79-2f7509bd591c"
      },
      "source": [
        "print(emp2)"
      ],
      "execution_count": null,
      "outputs": [
        {
          "output_type": "stream",
          "text": [
            "Employee: arun prakash\n"
          ],
          "name": "stdout"
        }
      ]
    },
    {
      "cell_type": "code",
      "metadata": {
        "colab": {
          "base_uri": "https://localhost:8080/"
        },
        "id": "E02VH9jdFajV",
        "outputId": "53461050-d503-4559-d388-a177fc97af6f"
      },
      "source": [
        "len(emp2)"
      ],
      "execution_count": null,
      "outputs": [
        {
          "output_type": "execute_result",
          "data": {
            "text/plain": [
              "11"
            ]
          },
          "metadata": {
            "tags": []
          },
          "execution_count": 96
        }
      ]
    },
    {
      "cell_type": "code",
      "metadata": {
        "colab": {
          "base_uri": "https://localhost:8080/",
          "height": 35
        },
        "id": "K2oMU8frF0nE",
        "outputId": "b9754e8b-9569-4505-85d7-dfac36255124"
      },
      "source": [
        "emp2.salary"
      ],
      "execution_count": null,
      "outputs": [
        {
          "output_type": "execute_result",
          "data": {
            "application/vnd.google.colaboratory.intrinsic+json": {
              "type": "string"
            },
            "text/plain": [
              "'20'"
            ]
          },
          "metadata": {
            "tags": []
          },
          "execution_count": 97
        }
      ]
    },
    {
      "cell_type": "code",
      "metadata": {
        "id": "Tp9mpj_bGC8o"
      },
      "source": [
        "emp2 + 100"
      ],
      "execution_count": null,
      "outputs": []
    },
    {
      "cell_type": "code",
      "metadata": {
        "colab": {
          "base_uri": "https://localhost:8080/"
        },
        "id": "p0GjOfgbGE-B",
        "outputId": "7cb37970-8409-4d34-df07-45751cde1337"
      },
      "source": [
        "emp2.salary"
      ],
      "execution_count": null,
      "outputs": [
        {
          "output_type": "execute_result",
          "data": {
            "text/plain": [
              "120"
            ]
          },
          "metadata": {
            "tags": []
          },
          "execution_count": 99
        }
      ]
    },
    {
      "cell_type": "code",
      "metadata": {
        "colab": {
          "base_uri": "https://localhost:8080/"
        },
        "id": "HDB40ATjGa_k",
        "outputId": "92cbfdf9-824c-4e50-cb6d-a993024cbfce"
      },
      "source": [
        "emp2.annual_salary(20)"
      ],
      "execution_count": null,
      "outputs": [
        {
          "output_type": "execute_result",
          "data": {
            "text/plain": [
              "41600"
            ]
          },
          "metadata": {
            "tags": []
          },
          "execution_count": 100
        }
      ]
    },
    {
      "cell_type": "code",
      "metadata": {
        "id": "doMkTbItHQKO"
      },
      "source": [
        "class Employee:\n",
        "    increment_val = 1.05\n",
        "    n_emp = 0\n",
        "    def __init__(self,fname='Tom', lname='Mitchel', salary=10):\n",
        "        self.fname = fname\n",
        "        self.lname = lname\n",
        "        self.salary = salary\n",
        "        Employee.n_emp += 1\n",
        "    @property\n",
        "    def fullname(self):\n",
        "        return f'{self.fname} {self.lname}'\n",
        "    @fullname.setter\n",
        "    def fullname(self, name):\n",
        "        first, last = name.split(' ')\n",
        "        self.fname = first\n",
        "        self.lname = last\n",
        "    @fullname.deleter\n",
        "    def fullname(self):\n",
        "        print('Deleting name')\n",
        "        self.fname = None\n",
        "        self.lname = None\n",
        "    \n",
        "    def increment(self):\n",
        "        self.salary = self.salary* Employee.increment_val\n",
        "\n",
        "    @classmethod\n",
        "    def from_string(cls,emp_str):\n",
        "        first, last, salary = emp_str.split('_')\n",
        "        return cls(first, last, salary)\n",
        "    \n",
        "    @staticmethod\n",
        "    def annual_salary(hourly_rate):\n",
        "        return hourly_rate * 40*52\n",
        "\n",
        "    def __str__(self):\n",
        "        return f'Employee: {self.fname} {self.lname}'\n",
        "    \n",
        "    def __repr__(self):\n",
        "        return f'Employee({self.fname}, {self.lname}, {self.salary})'\n",
        "    \n",
        "    def __len__(self):\n",
        "        return len(self.fname) + len(self.lname)\n",
        "    \n",
        "    def __add__(self, sal):\n",
        "        self.salary = int(self.salary) + sal\n",
        "    \n",
        "\n"
      ],
      "execution_count": null,
      "outputs": []
    },
    {
      "cell_type": "code",
      "metadata": {
        "id": "Z7PGWpAsHkVU"
      },
      "source": [
        "emp = Employee('arun', 'prakash',20)"
      ],
      "execution_count": null,
      "outputs": []
    },
    {
      "cell_type": "code",
      "metadata": {
        "colab": {
          "base_uri": "https://localhost:8080/",
          "height": 35
        },
        "id": "vzcX0OYuHnrZ",
        "outputId": "9378b6b0-700f-46f5-df05-65da176452fa"
      },
      "source": [
        "emp.fullname"
      ],
      "execution_count": null,
      "outputs": [
        {
          "output_type": "execute_result",
          "data": {
            "application/vnd.google.colaboratory.intrinsic+json": {
              "type": "string"
            },
            "text/plain": [
              "'arun prakash'"
            ]
          },
          "metadata": {
            "tags": []
          },
          "execution_count": 119
        }
      ]
    },
    {
      "cell_type": "code",
      "metadata": {
        "id": "OjOB1Jv8Ho1w"
      },
      "source": [
        "emp.fullname = 'ARUN PRAKASH'"
      ],
      "execution_count": null,
      "outputs": []
    },
    {
      "cell_type": "code",
      "metadata": {
        "colab": {
          "base_uri": "https://localhost:8080/",
          "height": 35
        },
        "id": "kVlNWYFFHtXz",
        "outputId": "ce2ab804-8a07-4700-f718-b7cbd357409f"
      },
      "source": [
        "emp.fname"
      ],
      "execution_count": null,
      "outputs": [
        {
          "output_type": "execute_result",
          "data": {
            "application/vnd.google.colaboratory.intrinsic+json": {
              "type": "string"
            },
            "text/plain": [
              "'ARUN'"
            ]
          },
          "metadata": {
            "tags": []
          },
          "execution_count": 121
        }
      ]
    },
    {
      "cell_type": "code",
      "metadata": {
        "colab": {
          "base_uri": "https://localhost:8080/",
          "height": 35
        },
        "id": "5-yROeEvIEwA",
        "outputId": "6699d339-3cb8-4b74-ed36-971a5182e899"
      },
      "source": [
        "emp.lname"
      ],
      "execution_count": null,
      "outputs": [
        {
          "output_type": "execute_result",
          "data": {
            "application/vnd.google.colaboratory.intrinsic+json": {
              "type": "string"
            },
            "text/plain": [
              "'PRAKASH'"
            ]
          },
          "metadata": {
            "tags": []
          },
          "execution_count": 122
        }
      ]
    },
    {
      "cell_type": "code",
      "metadata": {
        "colab": {
          "base_uri": "https://localhost:8080/"
        },
        "id": "NRSagsx4IQG_",
        "outputId": "e198fd2f-647f-4ad9-f1f2-230a1c1889ca"
      },
      "source": [
        "del emp.fullname"
      ],
      "execution_count": null,
      "outputs": [
        {
          "output_type": "stream",
          "text": [
            "Deleting name\n"
          ],
          "name": "stdout"
        }
      ]
    },
    {
      "cell_type": "code",
      "metadata": {
        "colab": {
          "base_uri": "https://localhost:8080/"
        },
        "id": "c1L-QuSuIX7c",
        "outputId": "18c062c2-6650-4fa7-bdc2-7fbda9fedf77"
      },
      "source": [
        "print(emp.fname)"
      ],
      "execution_count": null,
      "outputs": [
        {
          "output_type": "stream",
          "text": [
            "None\n"
          ],
          "name": "stdout"
        }
      ]
    },
    {
      "cell_type": "code",
      "metadata": {
        "colab": {
          "base_uri": "https://localhost:8080/"
        },
        "id": "8ngYNfyiIuh5",
        "outputId": "83c47e8d-993e-4e50-8a8f-d7ea20e0dace"
      },
      "source": [
        "print(emp.fullname)"
      ],
      "execution_count": null,
      "outputs": [
        {
          "output_type": "stream",
          "text": [
            "None None\n"
          ],
          "name": "stdout"
        }
      ]
    },
    {
      "cell_type": "code",
      "metadata": {
        "id": "lyJ77d2nIziK"
      },
      "source": [
        "class Employee:\n",
        "    increment_val = 1.05\n",
        "    n_emp = 0\n",
        "    def __init__(self,fname='Tom', lname='Mitchel', salary=10):\n",
        "        self.fname = fname\n",
        "        self.lname = lname\n",
        "        self.salary = salary\n",
        "        Employee.n_emp += 1\n",
        "    @property\n",
        "    def fullname(self):\n",
        "        return f'{self.fname} {self.lname}'\n",
        "    @fullname.setter\n",
        "    def fullname(self, name):\n",
        "        first, last = name.split(' ')\n",
        "        self.fname = first\n",
        "        self.lname = last\n",
        "    @fullname.deleter\n",
        "    def fullname(self):\n",
        "        print('Deleting name')\n",
        "        self.fname = None\n",
        "        self.lname = None\n",
        "    \n",
        "    def increment(self):\n",
        "        self.salary = self.salary* Employee.increment_val\n",
        "\n",
        "    @classmethod\n",
        "    def from_string(cls,emp_str):\n",
        "        first, last, salary = emp_str.split('_')\n",
        "        return cls(first, last, salary)\n",
        "    \n",
        "    @staticmethod\n",
        "    def annual_salary(hourly_rate):\n",
        "        return hourly_rate * 40*52\n",
        "\n",
        "    def __str__(self):\n",
        "        return f'Employee: {self.fname} {self.lname}'\n",
        "    \n",
        "    def __repr__(self):\n",
        "        return f'Employee({self.fname}, {self.lname}, {self.salary})'\n",
        "    \n",
        "    def __len__(self):\n",
        "        return len(self.fname) + len(self.lname)\n",
        "    \n",
        "    def __add__(self, sal):\n",
        "        self.salary = int(self.salary) + sal\n",
        "    \n",
        "\n"
      ],
      "execution_count": null,
      "outputs": []
    },
    {
      "cell_type": "code",
      "metadata": {
        "id": "txAXFehBJeGL"
      },
      "source": [
        "class Developer(Employee):\n",
        "    def __init__(self,fname, lname, salary, languages_known=[]):\n",
        "        super().__init__(fname, lname, salary)\n",
        "        self.languages_known = languages_known\n",
        "    \n",
        "    def __repr__(self):\n",
        "        return f'Developer({self.fname} {self.lname}'\n",
        "    def __str__(self):\n",
        "        return f'Developer({self.fname} {self.lname}'   "
      ],
      "execution_count": null,
      "outputs": []
    },
    {
      "cell_type": "code",
      "metadata": {
        "id": "DEyLqSK5Krj7"
      },
      "source": [
        "class Tester(Developer):\n",
        "    def __repr__(self):\n",
        "        return f'Tester({self.fname} {self.lname}'\n",
        "    def __str__(self):\n",
        "        return f'Tester({self.fname} {self.lname}'"
      ],
      "execution_count": null,
      "outputs": []
    },
    {
      "cell_type": "code",
      "metadata": {
        "id": "fB08ry4QJlpk"
      },
      "source": [
        "dev = Developer('arun','prakash',20, ['python','sql','java'])"
      ],
      "execution_count": null,
      "outputs": []
    },
    {
      "cell_type": "code",
      "metadata": {
        "colab": {
          "base_uri": "https://localhost:8080/"
        },
        "id": "eAkraqQ-NsMC",
        "outputId": "3319a565-d076-47e8-a9ec-c491469665c8"
      },
      "source": [
        "id(dev.languages_known)"
      ],
      "execution_count": null,
      "outputs": [
        {
          "output_type": "execute_result",
          "data": {
            "text/plain": [
              "139872839353360"
            ]
          },
          "metadata": {
            "tags": []
          },
          "execution_count": 178
        }
      ]
    },
    {
      "cell_type": "code",
      "metadata": {
        "id": "kHEpjNSTNsJm"
      },
      "source": [
        "d1 = Developer(\"tim\", \"cummings\", 56)"
      ],
      "execution_count": null,
      "outputs": []
    },
    {
      "cell_type": "code",
      "metadata": {
        "colab": {
          "base_uri": "https://localhost:8080/"
        },
        "id": "Qbsk0XSONsFt",
        "outputId": "38ae89ce-b5c0-4e8d-e7c7-3857a09cf4d7"
      },
      "source": [
        "id(d1.languages_known)"
      ],
      "execution_count": null,
      "outputs": [
        {
          "output_type": "execute_result",
          "data": {
            "text/plain": [
              "139872839272400"
            ]
          },
          "metadata": {
            "tags": []
          },
          "execution_count": 180
        }
      ]
    },
    {
      "cell_type": "code",
      "metadata": {
        "colab": {
          "base_uri": "https://localhost:8080/"
        },
        "id": "yN3Y9-dtN3Rz",
        "outputId": "d411260e-6249-44f6-c9f9-42bf1fbef3ff"
      },
      "source": [
        "d1.languages_known"
      ],
      "execution_count": null,
      "outputs": [
        {
          "output_type": "execute_result",
          "data": {
            "text/plain": [
              "[]"
            ]
          },
          "metadata": {
            "tags": []
          },
          "execution_count": 181
        }
      ]
    },
    {
      "cell_type": "code",
      "metadata": {
        "colab": {
          "base_uri": "https://localhost:8080/",
          "height": 35
        },
        "id": "sosufj7_JuG8",
        "outputId": "77106389-3d44-42e0-b98a-fd600a0117f0"
      },
      "source": [
        "dev.fullname"
      ],
      "execution_count": null,
      "outputs": [
        {
          "output_type": "execute_result",
          "data": {
            "application/vnd.google.colaboratory.intrinsic+json": {
              "type": "string"
            },
            "text/plain": [
              "'arun prakash'"
            ]
          },
          "metadata": {
            "tags": []
          },
          "execution_count": 160
        }
      ]
    },
    {
      "cell_type": "code",
      "metadata": {
        "colab": {
          "base_uri": "https://localhost:8080/"
        },
        "id": "_52J3xrWJxk8",
        "outputId": "c8eb5fcf-ef7e-4c85-d07c-ea42f4b9d5d9"
      },
      "source": [
        "dev.salary"
      ],
      "execution_count": null,
      "outputs": [
        {
          "output_type": "execute_result",
          "data": {
            "text/plain": [
              "20"
            ]
          },
          "metadata": {
            "tags": []
          },
          "execution_count": 161
        }
      ]
    },
    {
      "cell_type": "code",
      "metadata": {
        "colab": {
          "base_uri": "https://localhost:8080/"
        },
        "id": "SAZiZ43VK7uY",
        "outputId": "59a5d52d-a2a5-49a4-dc53-968620cb02ca"
      },
      "source": [
        "print(dev)"
      ],
      "execution_count": null,
      "outputs": [
        {
          "output_type": "stream",
          "text": [
            "Developer(arun prakash\n"
          ],
          "name": "stdout"
        }
      ]
    },
    {
      "cell_type": "code",
      "metadata": {
        "colab": {
          "base_uri": "https://localhost:8080/"
        },
        "id": "zMCnMr9AJzQK",
        "outputId": "2f9dd264-35ec-4a9a-c289-f6999c9609f7"
      },
      "source": [
        "dev.languages_known"
      ],
      "execution_count": null,
      "outputs": [
        {
          "output_type": "execute_result",
          "data": {
            "text/plain": [
              "['python', 'sql', 'java']"
            ]
          },
          "metadata": {
            "tags": []
          },
          "execution_count": 163
        }
      ]
    },
    {
      "cell_type": "code",
      "metadata": {
        "id": "V_ChwvIGKfTc"
      },
      "source": [
        "tester = Tester('arun','prakash',20, ['python','sql','java'])"
      ],
      "execution_count": null,
      "outputs": []
    },
    {
      "cell_type": "code",
      "metadata": {
        "colab": {
          "base_uri": "https://localhost:8080/"
        },
        "id": "DvrosxJSK3Ny",
        "outputId": "5500ee38-ebe0-4bcd-b277-d58c3651bc87"
      },
      "source": [
        "tester"
      ],
      "execution_count": null,
      "outputs": [
        {
          "output_type": "execute_result",
          "data": {
            "text/plain": [
              "Tester(arun prakash"
            ]
          },
          "metadata": {
            "tags": []
          },
          "execution_count": 165
        }
      ]
    },
    {
      "cell_type": "code",
      "metadata": {
        "colab": {
          "base_uri": "https://localhost:8080/"
        },
        "id": "gkWoPuSbK5LS",
        "outputId": "6cb6bfbe-51e3-46ac-87fb-8e8522fe7b67"
      },
      "source": [
        "d1 = Developer(\"tim\", \"cummings\", 56)\n",
        "d1.languages_known.append('python')\n",
        "d2 = Developer(\"arun\", \"prakash\", 57)\n",
        "print(d2.languages_known)"
      ],
      "execution_count": null,
      "outputs": [
        {
          "output_type": "stream",
          "text": [
            "['python']\n"
          ],
          "name": "stdout"
        }
      ]
    },
    {
      "cell_type": "code",
      "metadata": {
        "colab": {
          "base_uri": "https://localhost:8080/"
        },
        "id": "4W8gpqMVMQtY",
        "outputId": "1e6905ff-d188-4ec9-9d79-b56432ff5e6b"
      },
      "source": [
        "id(d1.languages_known)"
      ],
      "execution_count": null,
      "outputs": [
        {
          "output_type": "execute_result",
          "data": {
            "text/plain": [
              "139872839272400"
            ]
          },
          "metadata": {
            "tags": []
          },
          "execution_count": 183
        }
      ]
    },
    {
      "cell_type": "code",
      "metadata": {
        "colab": {
          "base_uri": "https://localhost:8080/"
        },
        "id": "llorl2e9OEu9",
        "outputId": "16a608a6-9569-42cc-be6d-f8eb660e9977"
      },
      "source": [
        "id(d2.languages_known)"
      ],
      "execution_count": null,
      "outputs": [
        {
          "output_type": "execute_result",
          "data": {
            "text/plain": [
              "139872839272400"
            ]
          },
          "metadata": {
            "tags": []
          },
          "execution_count": 184
        }
      ]
    },
    {
      "cell_type": "code",
      "metadata": {
        "id": "LOv755pjOGUW"
      },
      "source": [
        ""
      ],
      "execution_count": null,
      "outputs": []
    }
  ]
}