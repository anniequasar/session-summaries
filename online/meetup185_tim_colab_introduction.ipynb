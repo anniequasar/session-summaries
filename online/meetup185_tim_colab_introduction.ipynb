{
  "nbformat": 4,
  "nbformat_minor": 0,
  "metadata": {
    "colab": {
      "provenance": [],
      "private_outputs": true,
      "gpuType": "T4"
    },
    "kernelspec": {
      "name": "python3",
      "display_name": "Python 3"
    },
    "language_info": {
      "name": "python"
    }
  },
  "cells": [
    {
      "cell_type": "markdown",
      "source": [
        "# MeetUp 185 - Beginners' Python and Machine Learning - 21 Jun 2023 - Introduction to Colab\n",
        "\n",
        "Learning objectives:\n",
        "- python in colab\n",
        "- markdown in colab\n",
        "- command line from colab\n",
        "- third party libraries in colab\n",
        "- file system in colab\n",
        "\n",
        "Links:\n",
        "- Colab:   https://colab.research.google.com/drive/1Rb_h5koOeepO4iDVUEpFHxtAr0Z9327v\n",
        "- Youtube: https://youtu.be/aeugWw4Okw4\n",
        "- Meetup:  https://www.meetup.com/beginners-python-machine-learning/events/294077914/\n",
        "- Github:  https://github.com/timcu/bpaml-sessions/tree/master/online\n",
        "\n",
        "@author D Tim Cummings\n",
        "\n",
        "Challenge 1: Install Software\n",
        "- Use a Google account to go to https://colab.research.google.com\n",
        " - Doesn't need Python installed on your computer\n",
        " - Great for interactive use and data science\n",
        " - Not so good for scripting and building apps\n",
        "\n"
      ],
      "metadata": {
        "id": "dHucaI0IGAvm"
      }
    },
    {
      "cell_type": "markdown",
      "source": [
        "# Markdown\n",
        "Markdown is a superset of html https://www.markdownguide.org/\n",
        "\n",
        "<h3>Using html</h3>\n",
        "<table><tr><th>One</th><th>Two</th></tr><tr><td>Three</td><td>Four</td></tr></table>\n",
        "\n",
        "<hr>"
      ],
      "metadata": {
        "id": "gCIUMc2xzosB"
      }
    },
    {
      "cell_type": "markdown",
      "source": [
        "### Using markdown specifics to create a table\n",
        "\n",
        "|Five|Six|\n",
        "|---|---|\n",
        "|Seven|Eight|\n",
        "\n",
        "---"
      ],
      "metadata": {
        "id": "H1PqQRL71kbf"
      }
    },
    {
      "cell_type": "markdown",
      "source": [
        "- Create Python cells using the `+ Code` button\n",
        "- Create Markdown cells using the `+ Text` button"
      ],
      "metadata": {
        "id": "bHzDPYEF1kUb"
      }
    },
    {
      "cell_type": "markdown",
      "source": [
        "# Latex\n",
        "\n",
        "Google colab markdown also recognises latex in $ signs\n",
        "\n",
        "$\\sigma(z_i) = \\frac{e^{z_{i}}}{\\sum_{j=1}^K e^{z_{j}}} \\ \\ \\ for\\ i=1,2,\\dots,K$\n",
        "\n",
        "https://ashki23.github.io/markdown-latex.html"
      ],
      "metadata": {
        "id": "TdbYRQLA1kM6"
      }
    },
    {
      "cell_type": "markdown",
      "source": [
        "<h3>Images</h3>\n",
        "<p>Can use html for images</p>\n",
        "<p align=\"center\">\n",
        "<img src=\"https://www.python.org/static/img/python-logo.png\" alt=\"Python\" title=\"python\">\n",
        "</p>"
      ],
      "metadata": {
        "id": "dRNWqHZWG8Ij"
      }
    },
    {
      "cell_type": "markdown",
      "source": [
        "# Using Google Colab / Jupyter Notebooks / IPython\n",
        "\n",
        "- type into a cell\n",
        "- press `<shift><enter>` to execute the cell\n",
        "- cells can be python code or markdown text\n",
        "- use ? or Help menu for help\n",
        "- see Tools menu > Keyboard shortcuts"
      ],
      "metadata": {
        "id": "elSqIFgCG2HH"
      }
    },
    {
      "cell_type": "code",
      "source": [
        "# comments in code cells start with a '#'\n",
        "# How to store a value in a variable\n",
        "a = 5\n",
        "print(a)"
      ],
      "metadata": {
        "id": "HQ81RpT5Ufls"
      },
      "execution_count": null,
      "outputs": []
    },
    {
      "cell_type": "code",
      "source": [
        "# values are remembered between cells\n",
        "# IPython will automatically display the result of the last line\n",
        "a + 6"
      ],
      "metadata": {
        "id": "AHUSKS20UoJ-"
      },
      "execution_count": null,
      "outputs": []
    },
    {
      "cell_type": "code",
      "execution_count": null,
      "metadata": {
        "id": "X216Jmz0jcn-"
      },
      "outputs": [],
      "source": [
        "# try executing ? to bring up IPython help\n",
        "# If you are using Python Console this is not available\n",
        "?"
      ]
    },
    {
      "cell_type": "markdown",
      "source": [
        "GETTING HELP\n",
        "------------\n",
        "\n",
        "Within IPython you have various way to access help:\n",
        "\n",
        "  - `?`         -> Introduction and overview of IPython's features (this screen).\n",
        "  - `object?`   -> Details about 'object'.\n",
        "  - `object??`  -> More detailed, verbose information about 'object'.\n",
        "  - `%quickref` -> Quick reference of all IPython specific syntax and magics.\n",
        "  - `help`      -> Access Python's own help system."
      ],
      "metadata": {
        "id": "AzF_vTr1HWms"
      }
    },
    {
      "cell_type": "code",
      "source": [
        "# Task 1 - get help on `print`"
      ],
      "metadata": {
        "id": "yyZle5Tw1lko"
      },
      "execution_count": null,
      "outputs": []
    },
    {
      "cell_type": "code",
      "source": [],
      "metadata": {
        "id": "xrCCLexo1pz9"
      },
      "execution_count": null,
      "outputs": []
    },
    {
      "cell_type": "code",
      "source": [
        "# Solution 1\n",
        "print?"
      ],
      "metadata": {
        "id": "P7XA4QHPVIXo"
      },
      "execution_count": null,
      "outputs": []
    },
    {
      "cell_type": "code",
      "source": [
        "# Task 2 - Search the IPython quick reference"
      ],
      "metadata": {
        "id": "-Sjbr-5y12FW"
      },
      "execution_count": null,
      "outputs": []
    },
    {
      "cell_type": "code",
      "source": [],
      "metadata": {
        "id": "YcwRMJJQ115V"
      },
      "execution_count": null,
      "outputs": []
    },
    {
      "cell_type": "code",
      "source": [
        "# Solution 2\n",
        "%quickref"
      ],
      "metadata": {
        "id": "oy7Ka1lLG7tN"
      },
      "execution_count": null,
      "outputs": []
    },
    {
      "cell_type": "code",
      "source": [
        "# Task 3 - Search info on IPython's magic operator and find how to do a cell oriented timing"
      ],
      "metadata": {
        "id": "GkVm2xey2vT0"
      },
      "execution_count": null,
      "outputs": []
    },
    {
      "cell_type": "code",
      "source": [],
      "metadata": {
        "id": "Km49ir2X2vKJ"
      },
      "execution_count": null,
      "outputs": []
    },
    {
      "cell_type": "code",
      "source": [
        "# Solution 3\n",
        "%magic"
      ],
      "metadata": {
        "id": "huksWG2gI0i_"
      },
      "execution_count": null,
      "outputs": []
    },
    {
      "cell_type": "code",
      "source": [
        "# Task 3 - Time how long it takes for python to calculate the 100th power of x when x is 2 to the power 100"
      ],
      "metadata": {
        "id": "B-yAsXUN2E0q"
      },
      "execution_count": null,
      "outputs": []
    },
    {
      "cell_type": "code",
      "source": [],
      "metadata": {
        "id": "6ukrc1xZ2Vjr"
      },
      "execution_count": null,
      "outputs": []
    },
    {
      "cell_type": "code",
      "source": [
        "%%timeit x=2**100\n",
        "x**100"
      ],
      "metadata": {
        "id": "9FSEJPe5ISWt"
      },
      "execution_count": null,
      "outputs": []
    },
    {
      "cell_type": "code",
      "source": [
        "# Task 4 - From the quickref card work out how to determine the underlying operating system\n",
        "# using the os command `cat /etc/os-release`"
      ],
      "metadata": {
        "id": "CCW0UIiAJRqp"
      },
      "execution_count": null,
      "outputs": []
    },
    {
      "cell_type": "code",
      "source": [],
      "metadata": {
        "id": "dNVOPbHJ3Y1W"
      },
      "execution_count": null,
      "outputs": []
    },
    {
      "cell_type": "code",
      "source": [
        "# Solution 4\n",
        "!cat /etc/os-release"
      ],
      "metadata": {
        "id": "6GaiHCotJbQT"
      },
      "execution_count": null,
      "outputs": []
    },
    {
      "cell_type": "code",
      "source": [
        "# Find what is the default python version\n",
        "!python3 --version"
      ],
      "metadata": {
        "id": "zgoUtVR63b18"
      },
      "execution_count": null,
      "outputs": []
    },
    {
      "cell_type": "code",
      "source": [
        "# In code you can find the python version using the sys library\n",
        "import sys\n",
        "sys.version"
      ],
      "metadata": {
        "id": "QRUwwf9f3g3D"
      },
      "execution_count": null,
      "outputs": []
    },
    {
      "cell_type": "code",
      "source": [
        "# How much memory have you been allocated\n",
        "!free -m"
      ],
      "metadata": {
        "id": "ufcj7x1N3k6L"
      },
      "execution_count": null,
      "outputs": []
    },
    {
      "cell_type": "code",
      "source": [
        "# How much storage space\n",
        "!df -h"
      ],
      "metadata": {
        "id": "LqQwSmag6hFY"
      },
      "execution_count": null,
      "outputs": []
    },
    {
      "cell_type": "code",
      "source": [
        "# What shell is offered\n",
        "!echo $SHELL"
      ],
      "metadata": {
        "id": "BYaY9sfhx2kp"
      },
      "execution_count": null,
      "outputs": []
    },
    {
      "cell_type": "code",
      "source": [
        "# Which user is running shell\n",
        "!whoami"
      ],
      "metadata": {
        "id": "zVosSq0iyiOw"
      },
      "execution_count": null,
      "outputs": []
    },
    {
      "cell_type": "code",
      "source": [
        "# How to upgrade ubuntu with latest security patches\n",
        "!apt update\n",
        "!apt upgrade"
      ],
      "metadata": {
        "id": "DW4RaZH_yrg4"
      },
      "execution_count": null,
      "outputs": []
    },
    {
      "cell_type": "code",
      "source": [
        "# Which version of pip\n",
        "!pip --version"
      ],
      "metadata": {
        "id": "JbjvzIHPn7dH"
      },
      "execution_count": null,
      "outputs": []
    },
    {
      "cell_type": "code",
      "source": [
        "# Find out what third party packages are already installed\n",
        "!pip list"
      ],
      "metadata": {
        "id": "tsU_zvoj6rDw"
      },
      "execution_count": null,
      "outputs": []
    },
    {
      "cell_type": "code",
      "source": [
        "# Upgrade third party library Pillow to latest version from pypi.org. Restart the runtime then rerun previous cell to ensure updated\n",
        "!pip install --upgrade Pillow"
      ],
      "metadata": {
        "id": "H52zOEmjmWSF"
      },
      "execution_count": null,
      "outputs": []
    },
    {
      "cell_type": "code",
      "source": [
        "# Install new package xlsxwriter from pypi.\n",
        "!pip install xlsxwriter"
      ],
      "metadata": {
        "id": "h7uM4ElqnI3N"
      },
      "execution_count": null,
      "outputs": []
    },
    {
      "cell_type": "code",
      "source": [
        "# Install package from source https://detectron2.readthedocs.io/en/latest/tutorials/install.html\n",
        "!pip install 'git+https://github.com/facebookresearch/detectron2.git'"
      ],
      "metadata": {
        "id": "ZtpmcA4aoKrL"
      },
      "execution_count": null,
      "outputs": []
    },
    {
      "cell_type": "code",
      "source": [
        "# If a library can't be installed using pip then you can use ubuntu package manager apt\n",
        "# Here is an example with a package which could be installed either way\n",
        "# These days `pip install` is the preferred way of installing\n",
        "# https://github.com/briancurtin/deprecation\n",
        "!sudo apt install python3-deprecation"
      ],
      "metadata": {
        "id": "BQhzols_WVaH"
      },
      "execution_count": null,
      "outputs": []
    },
    {
      "cell_type": "code",
      "source": [
        "# Check with pip that it was installed\n",
        "!pip list | grep deprecation"
      ],
      "metadata": {
        "id": "1BjPqcc9Xv6h"
      },
      "execution_count": null,
      "outputs": []
    },
    {
      "cell_type": "code",
      "source": [
        "# Check in Python that it is now importable\n",
        "import deprecation"
      ],
      "metadata": {
        "id": "3CGNaTHeX19o"
      },
      "execution_count": null,
      "outputs": []
    },
    {
      "cell_type": "code",
      "source": [
        "# Can install ubuntu packages to augment the default python\n",
        "!apt install python3.10-venv\n",
        "# Now we can create virtual environments\n",
        "!python3 -m venv my-venv\n",
        "# Unfortunately they only stay active for one line but can have several commands on one line\n",
        "!source my-venv/bin/activate;pip list"
      ],
      "metadata": {
        "id": "4FjJMtyngjgi"
      },
      "execution_count": null,
      "outputs": []
    },
    {
      "cell_type": "code",
      "source": [
        "# Create a folder in Google drive called 'kaggle'\n",
        "# Download kaggle.json from https://www.kaggle.com/settings and save in this folder\n",
        "# Only have to do this once"
      ],
      "metadata": {
        "id": "v7cS1qZimdHI"
      },
      "execution_count": null,
      "outputs": []
    },
    {
      "cell_type": "code",
      "source": [
        "# connect google drive to the google colab\n",
        "from google.colab import drive\n",
        "drive.mount(\"/content/gdrive\")"
      ],
      "metadata": {
        "id": "NUybwutjY4Kg"
      },
      "execution_count": null,
      "outputs": []
    },
    {
      "cell_type": "code",
      "source": [
        "# Import kaggle now has access to your api token\n",
        "import os\n",
        "os.environ['KAGGLE_CONFIG_DIR'] = \"/content/gdrive/MyDrive/kaggle/\"\n",
        "import kaggle"
      ],
      "metadata": {
        "id": "xjOuEZoxZddf"
      },
      "execution_count": null,
      "outputs": []
    },
    {
      "cell_type": "code",
      "source": [
        "# For example to download from competition bluebook-for-bulldozers\n",
        "# https://www.kaggle.com/c/bluebook-for-bulldozers\n",
        "!kaggle competitions download -c bluebook-for-bulldozers"
      ],
      "metadata": {
        "id": "OgEGaKFfn1fM"
      },
      "execution_count": null,
      "outputs": []
    },
    {
      "cell_type": "code",
      "source": [
        "!unzip bluebook-for-bulldozers.zip -d bluebook-for-bulldozers"
      ],
      "metadata": {
        "id": "Mj8svpI0pZm0"
      },
      "execution_count": null,
      "outputs": []
    },
    {
      "cell_type": "code",
      "source": [
        "!ls -al bluebook-for-bulldozers"
      ],
      "metadata": {
        "id": "UzN90m4TpiqQ"
      },
      "execution_count": null,
      "outputs": []
    },
    {
      "cell_type": "code",
      "source": [
        "# Check the data in the csv file\n",
        "!head bluebook-for-bulldozers/TrainAndValid.csv"
      ],
      "metadata": {
        "id": "MZUM_7EcpsKA"
      },
      "execution_count": null,
      "outputs": []
    },
    {
      "cell_type": "code",
      "source": [
        "# Note that changing directory in shell doesn't change directory in python\n",
        "import pandas as pd\n",
        "df = pd.read_csv('bluebook-for-bulldozers/TrainAndValid.csv')\n",
        "df.head"
      ],
      "metadata": {
        "id": "hC205xKsp4h3"
      },
      "execution_count": null,
      "outputs": []
    },
    {
      "cell_type": "code",
      "source": [],
      "metadata": {
        "id": "TY9erKORxJ1s"
      },
      "execution_count": null,
      "outputs": []
    }
  ]
}