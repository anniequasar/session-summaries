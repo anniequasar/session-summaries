{
  "nbformat": 4,
  "nbformat_minor": 0,
  "metadata": {
    "colab": {
      "name": "Untitled20.ipynb",
      "provenance": [],
      "collapsed_sections": []
    },
    "kernelspec": {
      "name": "python3",
      "display_name": "Python 3"
    }
  },
  "cells": [
    {
      "cell_type": "code",
      "metadata": {
        "id": "EsF4BSLc4tDi"
      },
      "source": [
        "import torch\n",
        "import torch.nn.functional as F"
      ],
      "execution_count": null,
      "outputs": []
    },
    {
      "cell_type": "code",
      "metadata": {
        "id": "6ZGE7Jxf9o1Y"
      },
      "source": [
        "#0 - cat, 1- dog, 2-tiger\n",
        "actuals = torch.tensor([0,2,1])\n",
        "predictions = torch.tensor([[-2.5,-3.4,-5.5],[-2.6,-5.5,5.1],[-5.1,4.2,1.8]],dtype=torch.float)"
      ],
      "execution_count": null,
      "outputs": []
    },
    {
      "cell_type": "code",
      "metadata": {
        "id": "qsJG3txc-70l",
        "outputId": "b3596d57-e731-4f36-f65d-1652761282e9",
        "colab": {
          "base_uri": "https://localhost:8080/",
          "height": 69
        }
      },
      "source": [
        "torch.exp(predictions) / torch.exp(predictions).sum(dim=1,keepdim=True)"
      ],
      "execution_count": null,
      "outputs": [
        {
          "output_type": "execute_result",
          "data": {
            "text/plain": [
              "tensor([[6.8664e-01, 2.7917e-01, 3.4186e-02],\n",
              "        [4.5261e-04, 2.4904e-05, 9.9952e-01],\n",
              "        [8.3813e-05, 9.1675e-01, 8.3166e-02]])"
            ]
          },
          "metadata": {
            "tags": []
          },
          "execution_count": 45
        }
      ]
    },
    {
      "cell_type": "code",
      "metadata": {
        "id": "1y1Hwo4d_sFX",
        "outputId": "8f1118ec-e2ae-4e4a-97b8-818a8ccfef0e",
        "colab": {
          "base_uri": "https://localhost:8080/",
          "height": 69
        }
      },
      "source": [
        "prediction_softmax = torch.exp(predictions) / torch.exp(predictions).sum(dim=1,keepdim=True)\n",
        "prediction_softmax"
      ],
      "execution_count": null,
      "outputs": [
        {
          "output_type": "execute_result",
          "data": {
            "text/plain": [
              "tensor([[9.9069e-01, 3.0071e-04, 9.0106e-03],\n",
              "        [4.5261e-04, 2.4904e-05, 9.9952e-01],\n",
              "        [8.3813e-05, 9.1675e-01, 8.3166e-02]])"
            ]
          },
          "metadata": {
            "tags": []
          },
          "execution_count": 15
        }
      ]
    },
    {
      "cell_type": "code",
      "metadata": {
        "id": "Uo_tRtWWAAIX",
        "outputId": "36608009-0460-4e01-c2f3-f80791393017",
        "colab": {
          "base_uri": "https://localhost:8080/",
          "height": 69
        }
      },
      "source": [
        "torch.softmax(predictions, dim=1)"
      ],
      "execution_count": null,
      "outputs": [
        {
          "output_type": "execute_result",
          "data": {
            "text/plain": [
              "tensor([[9.9069e-01, 3.0071e-04, 9.0106e-03],\n",
              "        [4.5261e-04, 2.4904e-05, 9.9952e-01],\n",
              "        [8.3813e-05, 9.1675e-01, 8.3166e-02]])"
            ]
          },
          "metadata": {
            "tags": []
          },
          "execution_count": 14
        }
      ]
    },
    {
      "cell_type": "code",
      "metadata": {
        "id": "PukJNIqGAKQG",
        "outputId": "9181f69d-4020-4ae4-ab4a-c763a625badc",
        "colab": {
          "base_uri": "https://localhost:8080/",
          "height": 35
        }
      },
      "source": [
        "-torch.log(prediction_softmax[[0,1,2],actuals])"
      ],
      "execution_count": null,
      "outputs": [
        {
          "output_type": "execute_result",
          "data": {
            "text/plain": [
              "tensor([0.0094, 0.0005, 0.0869])"
            ]
          },
          "metadata": {
            "tags": []
          },
          "execution_count": 17
        }
      ]
    },
    {
      "cell_type": "code",
      "metadata": {
        "id": "xfZ2XputAyHJ",
        "outputId": "dd8c7336-e2b1-4faa-f52b-550f406fa900",
        "colab": {
          "base_uri": "https://localhost:8080/",
          "height": 35
        }
      },
      "source": [
        "-torch.log(prediction_softmax[[0,1,2],actuals]).mean()"
      ],
      "execution_count": null,
      "outputs": [
        {
          "output_type": "execute_result",
          "data": {
            "text/plain": [
              "tensor(0.0323)"
            ]
          },
          "metadata": {
            "tags": []
          },
          "execution_count": 18
        }
      ]
    },
    {
      "cell_type": "code",
      "metadata": {
        "id": "7xY97PvSA2zW",
        "outputId": "84a9638c-2338-4917-8341-3a009116cd00",
        "colab": {
          "base_uri": "https://localhost:8080/",
          "height": 35
        }
      },
      "source": [
        "F.cross_entropy(predictions, actuals)"
      ],
      "execution_count": null,
      "outputs": [
        {
          "output_type": "execute_result",
          "data": {
            "text/plain": [
              "tensor(0.0323)"
            ]
          },
          "metadata": {
            "tags": []
          },
          "execution_count": 19
        }
      ]
    },
    {
      "cell_type": "code",
      "metadata": {
        "id": "xMTY0nIzA_c5"
      },
      "source": [
        "F.cross_entropy??"
      ],
      "execution_count": null,
      "outputs": []
    },
    {
      "cell_type": "code",
      "metadata": {
        "id": "oKTGoOeUBWGe",
        "outputId": "84c5d4c0-51a6-49bb-c94c-45e714740533",
        "colab": {
          "base_uri": "https://localhost:8080/",
          "height": 35
        }
      },
      "source": [
        "torch.exp(torch.tensor([9,6,3], dtype=torch.float))"
      ],
      "execution_count": null,
      "outputs": [
        {
          "output_type": "execute_result",
          "data": {
            "text/plain": [
              "tensor([8103.0840,  403.4288,   20.0855])"
            ]
          },
          "metadata": {
            "tags": []
          },
          "execution_count": 23
        }
      ]
    },
    {
      "cell_type": "code",
      "metadata": {
        "id": "VJ3LQc2TCgBk",
        "outputId": "c6e03c38-b3e2-4256-86d0-54dc9f0dfb80",
        "colab": {
          "base_uri": "https://localhost:8080/",
          "height": 69
        }
      },
      "source": [
        "F.log_softmax(predictions,dim=1)"
      ],
      "execution_count": null,
      "outputs": [
        {
          "output_type": "execute_result",
          "data": {
            "text/plain": [
              "tensor([[-9.3549e-03, -8.1094e+00, -4.7094e+00],\n",
              "        [-7.7005e+00, -1.0600e+01, -4.7768e-04],\n",
              "        [-9.3869e+00, -8.6920e-02, -2.4869e+00]])"
            ]
          },
          "metadata": {
            "tags": []
          },
          "execution_count": 24
        }
      ]
    },
    {
      "cell_type": "code",
      "metadata": {
        "id": "D4bqt1O5Dlb5",
        "outputId": "f1be7503-0c48-4349-ee2f-6407cf62c6d9",
        "colab": {
          "base_uri": "https://localhost:8080/",
          "height": 35
        }
      },
      "source": [
        "F.nll_loss(F.log_softmax(predictions,dim=1),actuals)"
      ],
      "execution_count": null,
      "outputs": [
        {
          "output_type": "execute_result",
          "data": {
            "text/plain": [
              "tensor(0.0323)"
            ]
          },
          "metadata": {
            "tags": []
          },
          "execution_count": 25
        }
      ]
    },
    {
      "cell_type": "markdown",
      "metadata": {
        "id": "fcrIUeMSGm23"
      },
      "source": [
        "Binary Cross Entropy, Multilabel classification problems"
      ]
    },
    {
      "cell_type": "code",
      "metadata": {
        "id": "M5hL8UqVDleV"
      },
      "source": [
        "actuals = torch.tensor([[0,1,1],[1,1,0],[0,0,1]],dtype=torch.float)\n",
        "predictions = torch.tensor([[-2.,-8.,-5.3],[4.4,5.5,-2.],[-4.,-3.3,5.]],dtype=torch.float)"
      ],
      "execution_count": null,
      "outputs": []
    },
    {
      "cell_type": "code",
      "metadata": {
        "id": "1GeqTSnODlZu",
        "outputId": "89a6ac67-83db-49a3-d437-166129c8a149",
        "colab": {
          "base_uri": "https://localhost:8080/",
          "height": 69
        }
      },
      "source": [
        "1/ (1+ torch.exp(-predictions))"
      ],
      "execution_count": null,
      "outputs": [
        {
          "output_type": "execute_result",
          "data": {
            "text/plain": [
              "tensor([[1.1920e-01, 3.3535e-04, 4.9668e-03],\n",
              "        [9.8787e-01, 9.9593e-01, 1.1920e-01],\n",
              "        [1.7986e-02, 3.5571e-02, 9.9331e-01]])"
            ]
          },
          "metadata": {
            "tags": []
          },
          "execution_count": 43
        }
      ]
    },
    {
      "cell_type": "code",
      "metadata": {
        "id": "bldbN4gBHRPm",
        "outputId": "5f7ab10b-07c8-4134-b2ef-6891080f2048",
        "colab": {
          "base_uri": "https://localhost:8080/",
          "height": 69
        }
      },
      "source": [
        "prediction_sigmoid = torch.sigmoid(predictions)\n",
        "prediction_sigmoid"
      ],
      "execution_count": null,
      "outputs": [
        {
          "output_type": "execute_result",
          "data": {
            "text/plain": [
              "tensor([[0.8808, 0.9997, 0.9950],\n",
              "        [0.9879, 0.9959, 0.1192],\n",
              "        [0.0180, 0.0356, 0.9933]])"
            ]
          },
          "metadata": {
            "tags": []
          },
          "execution_count": 38
        }
      ]
    },
    {
      "cell_type": "code",
      "metadata": {
        "id": "o4c6yFxzIkGc",
        "outputId": "054102cc-fb16-4018-f4d9-cd056e2c7783",
        "colab": {
          "base_uri": "https://localhost:8080/",
          "height": 35
        }
      },
      "source": [
        "-torch.log(torch.where(actuals==1, prediction_sigmoid, 1-prediction_sigmoid)).mean()"
      ],
      "execution_count": null,
      "outputs": [
        {
          "output_type": "execute_result",
          "data": {
            "text/plain": [
              "tensor(0.2596)"
            ]
          },
          "metadata": {
            "tags": []
          },
          "execution_count": 40
        }
      ]
    },
    {
      "cell_type": "code",
      "metadata": {
        "id": "VDMsBv9cIkED",
        "outputId": "89c8d19a-f6f4-4800-b71b-734cdb1333c5",
        "colab": {
          "base_uri": "https://localhost:8080/",
          "height": 35
        }
      },
      "source": [
        "F.binary_cross_entropy_with_logits(predictions, actuals)"
      ],
      "execution_count": null,
      "outputs": [
        {
          "output_type": "execute_result",
          "data": {
            "text/plain": [
              "tensor(0.2596)"
            ]
          },
          "metadata": {
            "tags": []
          },
          "execution_count": 41
        }
      ]
    },
    {
      "cell_type": "code",
      "metadata": {
        "id": "zy4rvfq0Hogx",
        "outputId": "b16fe8e3-2924-4329-f6ac-621e131092be",
        "colab": {
          "base_uri": "https://localhost:8080/",
          "height": 35
        }
      },
      "source": [
        "-torch.log(torch.tensor(0.12))"
      ],
      "execution_count": null,
      "outputs": [
        {
          "output_type": "execute_result",
          "data": {
            "text/plain": [
              "tensor(2.1203)"
            ]
          },
          "metadata": {
            "tags": []
          },
          "execution_count": 36
        }
      ]
    },
    {
      "cell_type": "code",
      "metadata": {
        "id": "eeTmibCXIF2S"
      },
      "source": [
        "actuals = torch.tensor([10.,20.,5.,3.],dtype=torch.float)\n",
        "predictions = torch.tensor([8,18,2,1],dtype=torch.float)\n",
        "\n",
        "worst_predictions = torch.tensor([500,-200,130,6])\n",
        "avg_predictions = torch.tensor([9.5,9.5,9.5,9.5])"
      ],
      "execution_count": null,
      "outputs": []
    },
    {
      "cell_type": "code",
      "metadata": {
        "id": "pwy4Uqo6MGMx",
        "outputId": "b00d71ef-40d4-4fe5-cbb3-cf7a43cccb1f",
        "colab": {
          "base_uri": "https://localhost:8080/",
          "height": 35
        }
      },
      "source": [
        "((actuals-avg_predictions)**2).sum()"
      ],
      "execution_count": null,
      "outputs": [
        {
          "output_type": "execute_result",
          "data": {
            "text/plain": [
              "tensor(173.)"
            ]
          },
          "metadata": {
            "tags": []
          },
          "execution_count": 69
        }
      ]
    },
    {
      "cell_type": "code",
      "metadata": {
        "id": "Gu5HeK1rMOZX",
        "outputId": "739a2dea-d106-4808-d472-4b1ee0277eb1",
        "colab": {
          "base_uri": "https://localhost:8080/",
          "height": 35
        }
      },
      "source": [
        "((actuals - 9.5)**2).sum()"
      ],
      "execution_count": null,
      "outputs": [
        {
          "output_type": "execute_result",
          "data": {
            "text/plain": [
              "tensor(173.)"
            ]
          },
          "metadata": {
            "tags": []
          },
          "execution_count": 68
        }
      ]
    },
    {
      "cell_type": "code",
      "metadata": {
        "id": "dbmshMXdMOO5",
        "outputId": "781608cb-fcaf-4a50-e185-d3f306df6729",
        "colab": {
          "base_uri": "https://localhost:8080/",
          "height": 35
        }
      },
      "source": [
        "1 - 173/173"
      ],
      "execution_count": null,
      "outputs": [
        {
          "output_type": "execute_result",
          "data": {
            "text/plain": [
              "0.0"
            ]
          },
          "metadata": {
            "tags": []
          },
          "execution_count": 70
        }
      ]
    }
  ]
}